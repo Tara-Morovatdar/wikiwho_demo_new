{
 "cells": [
  {
   "cell_type": "code",
   "execution_count": 17,
   "metadata": {
    "hide_input": true,
    "init_cell": true
   },
   "outputs": [
    {
     "name": "stdout",
     "output_type": "stream",
     "text": [
      "The autoreload extension is already loaded. To reload it, use:\n",
      "  %reload_ext autoreload\n"
     ]
    },
    {
     "data": {
      "application/javascript": [
       "IPython.notebook.execute_cells_below()"
      ],
      "text/plain": [
       "<IPython.core.display.Javascript object>"
      ]
     },
     "metadata": {},
     "output_type": "display_data"
    }
   ],
   "source": [
    "from IPython.display import display, Javascript\n",
    "\n",
    "%load_ext autoreload\n",
    "%autoreload 2\n",
    "\n",
    "%store -r the_page\n",
    "%store -r the_editor\n",
    "%store -r agg_actions\n",
    "%store -r editor_inputname\n",
    "%store -r calculator\n",
    "%store -r editors_conflicts\n",
    "\n",
    "if ('the_page' not in locals() or \n",
    "    'the_editor' not in locals() or \n",
    "    'agg_actions' not in locals() or \n",
    "    'editor_inputname' not in locals() or \n",
    "    'calculator' not in locals() or \n",
    "    'editors_conflicts' not in locals()):\n",
    "    \n",
    "    import pickle\n",
    "    print(\"Loading default data...\")\n",
    "    the_page = pickle.load(open(\"data/the_page.p\",'rb'))\n",
    "    the_editor = pickle.load(open(\"data/the_editor.p\",'rb'))\n",
    "    agg_actions = pickle.load(open(\"data/agg_actions.p\",'rb'))\n",
    "    editor_inputname = pickle.load(open(\"data/editor_inputname.p\",'rb'))\n",
    "    calculator = pickle.load(open(\"data/calculator.p\",'rb'))\n",
    "    editors_conflicts = pickle.load(open(\"data/editors_conflicts.p\",'rb'))\n",
    "\n",
    "display(Javascript('IPython.notebook.execute_cells_below()'))"
   ]
  },
  {
   "cell_type": "markdown",
   "metadata": {
    "solution2": "hidden",
    "solution2_first": true
   },
   "source": [
    "### <span style=\"color:green\"> Modules Imported </span>"
   ]
  },
  {
   "cell_type": "code",
   "execution_count": 3,
   "metadata": {
    "solution2": "hidden"
   },
   "outputs": [],
   "source": [
    "## Modules Imported ##\n",
    "\n",
    "# Display\n",
    "from IPython.display import display, Markdown as md, clear_output, Javascript\n",
    "from datetime import datetime, date\n",
    "\n",
    "# APIs\n",
    "from external.wikipedia import WikipediaDV, WikipediaAPI\n",
    "\n",
    "# Load and process data.\n",
    "import pickle\n",
    "\n",
    "# Visualization\n",
    "import qgrid\n",
    "from visualization.calculator_listener import ConflictCalculatorListener\n",
    "from visualization.actions_listener import ActionsListener\n",
    "from visualization.wordcloud_listener import WCListener\n",
    "\n",
    "from utils.notebooks import get_date_slider_from_datetime\n",
    "\n",
    "from ipywidgets import interact, Output, widgets, Layout\n",
    "from ipywidgets.widgets import Dropdown\n",
    "\n",
    "# Load the variables stored in the last notebook\n",
    "%store -r the_page\n",
    "%store -r total_actions\n",
    "%store -r conflict_calculator\n",
    "%store -r conflicts_by_editors\n",
    "%store -r editor_info\n",
    "%store -r editor_input_id\n",
    "\n",
    "# Check them if in the namespace, otherwise load the default data.\n",
    "if ('the_page' not in locals() or \n",
    "    'total_actions' not in locals() or \n",
    "    'conflict_calculator' not in locals() or \n",
    "    'conflicts_by_editors' not in locals() or\n",
    "    'editor_info' not in locals() or\n",
    "    'editor_input_id' not in locals()):\n",
    "    \n",
    "    print(\"Loading default data...\")\n",
    "    the_page = pickle.load(open(\"data/the_page.p\",'rb'))\n",
    "    total_actions = pickle.load(open(\"data/agg_actions.p\",'rb'))\n",
    "    conflict_calculator = pickle.load(open(\"data/calculator.p\",'rb'))\n",
    "    conflicts_by_editors = pickle.load(open(\"data/editors_conflicts.p\",'rb'))\n",
    "    editor_info = pickle.load(open(\"data/the_editor.p\",'rb'))\n",
    "    editor_input_id = pickle.load(open(\"data/editor_inputname.p\",'rb'))"
   ]
  },
  {
   "cell_type": "markdown",
   "metadata": {},
   "source": [
    "---\n",
    "\n",
    "# A.  Select an editor to analyze their conflicting editors"
   ]
  },
  {
   "cell_type": "code",
   "execution_count": 4,
   "metadata": {
    "hide_input": true
   },
   "outputs": [
    {
     "data": {
      "text/markdown": [
       "***Page: The Camp of the Saints***"
      ],
      "text/plain": [
       "<IPython.core.display.Markdown object>"
      ]
     },
     "metadata": {},
     "output_type": "display_data"
    }
   ],
   "source": [
    "display(md(f\"***Page: {the_page['title']}***\"))"
   ]
  },
  {
   "cell_type": "markdown",
   "metadata": {},
   "source": [
    "The table below presents the conflict score and other related  metrics per editor \n",
    "(*editor_id* and *editor* column). Select one editor to analyze the editors that enter into \n",
    "conflict with her:\n",
    "\n",
    "- **conflict_n**: the total number of conflicts\n",
    "- **conflict**: the sum of conflict scores of all actions (without division)\n",
    "- **actions**: the total number of actions performed by the editor\n",
    "- **conflict_score**: the sum of conflict scores of all actions divided by the number of elegible actions\n",
    "- **conflict_ratio**: the count of all conflicts divided by the number of elegible actions"
   ]
  },
  {
   "cell_type": "code",
   "execution_count": 5,
   "metadata": {
    "hide_input": true,
    "scrolled": false
   },
   "outputs": [
    {
     "data": {
      "text/markdown": [
       "### Select one editor (row) to continue the demo:"
      ],
      "text/plain": [
       "<IPython.core.display.Markdown object>"
      ]
     },
     "metadata": {},
     "output_type": "display_data"
    },
    {
     "data": {
      "text/markdown": [
       "**Recomendation:** select an editor with *many conflicts* and *mid-high conflict score*"
      ],
      "text/plain": [
       "<IPython.core.display.Markdown object>"
      ]
     },
     "metadata": {},
     "output_type": "display_data"
    },
    {
     "data": {
      "application/vnd.jupyter.widget-view+json": {
       "model_id": "e627acc2f1a84758bbf738005bb5b061",
       "version_major": 2,
       "version_minor": 0
      },
      "text/plain": [
       "QgridWidget(grid_options={'fullWidthRows': True, 'syncColumnCellResize': True, 'forceFitColumns': True, 'defau…"
      ]
     },
     "metadata": {},
     "output_type": "display_data"
    },
    {
     "data": {
      "application/vnd.jupyter.widget-view+json": {
       "model_id": "bb35e81b2c6a483d8dedef4606765562",
       "version_major": 2,
       "version_minor": 0
      },
      "text/plain": [
       "Output()"
      ]
     },
     "metadata": {},
     "output_type": "display_data"
    }
   ],
   "source": [
    "def display_conflict_score(eleg_actions):\n",
    "    global listener\n",
    "    \n",
    "    \n",
    "    listener = ConflictCalculatorListener(eleg_actions)\n",
    "\n",
    "    metrics = ['Conflict Score', 'Absolute Conflict Score', \n",
    "               'Conflict Ratio',  'Number of Conflicts', \n",
    "               'Total Elegible Actions', \n",
    "               'Total Conflict Time', 'Total Elegible Time', \n",
    "               'Time per Conflict Action', 'Time per Elegible Action']\n",
    "\n",
    "    display(md(f'*Total Page conflict score: {calculator.get_page_conflict_score()}*'))\n",
    "\n",
    "    # Visualization\n",
    "\n",
    "    interact(listener.listen,\n",
    "             _range = get_date_slider_from_datetime(eleg_actions['rev_time']),\n",
    "             granularity=Dropdown(options=['Yearly', 'Monthly', 'Daily'], value='Daily'),\n",
    "             black=Dropdown(options=metrics, value='Conflict Score'),\n",
    "             red=Dropdown(options= ['None'] + metrics, value='None'))\n",
    "\n",
    "def select_editor(editor):\n",
    "    global editor_df\n",
    "    global the_editor\n",
    "    global editor_inputname\n",
    "\n",
    "    editor_inputname=editor\n",
    "    \n",
    "    wikipedia_dv = WikipediaDV(WikipediaAPI(domain='en.wikipedia.org'))\n",
    "    try:\n",
    "        the_editor = wikipedia_dv.get_editor(int(editor_inputname))\n",
    "    except:\n",
    "        the_editor = wikipedia_dv.get_editor(editor_inputname[2:])\n",
    "\n",
    "    with out:\n",
    "        %store the_editor\n",
    "        %store editor_inputname\n",
    "\n",
    "        clear_output()\n",
    "        display(md(\"### Current Selection:\"))\n",
    "        \n",
    "        url = f'{wikipedia_dv.api.base}action=query&list=users&ususerids={editor_inputname}&usprop=blockinfo|editcount|registration|gender&format=json'\n",
    "        print(\"Editor's data can be found in:\")\n",
    "        print(url)\n",
    "        if 'invalid' in the_editor:\n",
    "            display(f\"The editor {editor_inputname} was not found, try a different editor\")\n",
    "        else:\n",
    "            # display the data that will be passed to the next notebook\n",
    "            display(the_editor.to_frame('values'))\n",
    "            display(md(f\"#### Evolution of the Conflict Score of *{the_editor['name']}*\"))\n",
    "\n",
    "            editor_df = calculator.elegible_actions[\n",
    "                calculator.elegible_actions['editor'] == str(editor_inputname)].copy()\n",
    "\n",
    "\n",
    "            display_conflict_score(editor_df)\n",
    "\n",
    "\n",
    "def on_selection_change(change):\n",
    "\n",
    "    try:\n",
    "        select_editor(qg_obj.get_selected_df().iloc[0].name)\n",
    "    except:\n",
    "        print('Problem parsing the name. Execute the cell again and try a different editor.')\n",
    "\n",
    "\n",
    "qgrid.set_grid_option('maxVisibleRows', 5)\n",
    "qg_obj = qgrid.show_grid(editors_conflicts)\n",
    "qg_obj.observe(on_selection_change, names=['_selected_rows'])\n",
    "                       \n",
    "display(md(\"### Select one editor (row) to continue the demo:\"))\n",
    "display(md('**Recomendation:** select an editor with *many conflicts* and *mid-high conflict score*'))\n",
    "display(qg_obj)\n",
    "out = Output()\n",
    "display(out)\n",
    "\n",
    "select_editor(editor_inputname)"
   ]
  },
  {
   "cell_type": "markdown",
   "metadata": {},
   "source": [
    "In the above graph you can select the *date range* and *granularity* (yearly, montly) \n",
    "of the timeline (X-axis), and plot any of the following counts in the black and red lines:\n",
    "   \n",
    "- **Conflict Score**: the sum of conflict scores of all actions divided by the number of elegible actions\n",
    "- **Absolute Conflict Score**: the sum of conflict scores of all actions (without division)\n",
    "- **Conflict Ratio**: the count of all conflicts divided by the number of elegible actions\n",
    "- **Number of Conflicts**: the total number of conflicts\n",
    "- **Total Elegible Actions**: the total number of elegible actions\n",
    "- **Total Conflict Time**: the sum of all the times (*time_diff_secs*) that has been taken by conflict actions\n",
    "- **Total Elegible Time**: the sum of all the times (*time_diff_secs*) that has been taken by elegible actions\n",
    "- **Time per Conflict Action**: average time of conflict actions\n",
    "- **Time per Elegible Action**: average time of elegible actions"
   ]
  },
  {
   "cell_type": "markdown",
   "metadata": {
    "solution2": "hidden",
    "solution2_first": true
   },
   "source": [
    "### <span style=\"color:green\"> TRY YOURSELF! THIS IS WHAT WILL HAPPEN WHEN YOU SELECT AN EDITOR </span>"
   ]
  },
  {
   "cell_type": "code",
   "execution_count": 6,
   "metadata": {
    "solution2": "hidden"
   },
   "outputs": [
    {
     "name": "stdout",
     "output_type": "stream",
     "text": [
      "The page that is being used: The Camp of the Saints\n"
     ]
    },
    {
     "data": {
      "application/vnd.jupyter.widget-view+json": {
       "model_id": "ddf7bab07b4c4987b17ef1beee70bc40",
       "version_major": 2,
       "version_minor": 0
      },
      "text/plain": [
       "QgridWidget(grid_options={'fullWidthRows': True, 'syncColumnCellResize': True, 'forceFitColumns': True, 'defau…"
      ]
     },
     "metadata": {},
     "output_type": "display_data"
    },
    {
     "name": "stdout",
     "output_type": "stream",
     "text": [
      "Stored 'editor_input_id' (int)\n",
      "Stored 'editor_info' (Series)\n",
      "Editor's data can be found in:\n",
      "https://en.wikipedia.org/w/api.php?action=query&list=users&ususerids=44846&usprop=blockinfo|editcount|registration|gender&format=json\n"
     ]
    },
    {
     "data": {
      "text/markdown": [
       "### Current Selection:"
      ],
      "text/plain": [
       "<IPython.core.display.Markdown object>"
      ]
     },
     "metadata": {},
     "output_type": "display_data"
    },
    {
     "data": {
      "text/html": [
       "<div>\n",
       "<style scoped>\n",
       "    .dataframe tbody tr th:only-of-type {\n",
       "        vertical-align: middle;\n",
       "    }\n",
       "\n",
       "    .dataframe tbody tr th {\n",
       "        vertical-align: top;\n",
       "    }\n",
       "\n",
       "    .dataframe thead th {\n",
       "        text-align: right;\n",
       "    }\n",
       "</style>\n",
       "<table border=\"1\" class=\"dataframe\">\n",
       "  <thead>\n",
       "    <tr style=\"text-align: right;\">\n",
       "      <th></th>\n",
       "      <th>values</th>\n",
       "    </tr>\n",
       "  </thead>\n",
       "  <tbody>\n",
       "    <tr>\n",
       "      <th>userid</th>\n",
       "      <td>44846</td>\n",
       "    </tr>\n",
       "    <tr>\n",
       "      <th>name</th>\n",
       "      <td>Gamaliel</td>\n",
       "    </tr>\n",
       "    <tr>\n",
       "      <th>editcount</th>\n",
       "      <td>80067</td>\n",
       "    </tr>\n",
       "    <tr>\n",
       "      <th>registration</th>\n",
       "      <td>2004-02-17T08:21:53Z</td>\n",
       "    </tr>\n",
       "    <tr>\n",
       "      <th>gender</th>\n",
       "      <td>male</td>\n",
       "    </tr>\n",
       "  </tbody>\n",
       "</table>\n",
       "</div>"
      ],
      "text/plain": [
       "                            values\n",
       "userid                       44846\n",
       "name                      Gamaliel\n",
       "editcount                    80067\n",
       "registration  2004-02-17T08:21:53Z\n",
       "gender                        male"
      ]
     },
     "metadata": {},
     "output_type": "display_data"
    },
    {
     "data": {
      "text/markdown": [
       "#### Evolution of the Conflict Score of *Gamaliel*"
      ],
      "text/plain": [
       "<IPython.core.display.Markdown object>"
      ]
     },
     "metadata": {},
     "output_type": "display_data"
    },
    {
     "name": "stdout",
     "output_type": "stream",
     "text": [
      "Time range from 2005-03-01 to 2019-06-01\n",
      "Total Page conflict score: 0.8699373285742629\n"
     ]
    },
    {
     "data": {
      "text/html": [
       "        <script type=\"text/javascript\">\n",
       "        window.PlotlyConfig = {MathJaxConfig: 'local'};\n",
       "        if (window.MathJax) {MathJax.Hub.Config({SVG: {font: \"STIX-Web\"}});}\n",
       "        if (typeof require !== 'undefined') {\n",
       "        require.undef(\"plotly\");\n",
       "        requirejs.config({\n",
       "            paths: {\n",
       "                'plotly': ['https://cdn.plot.ly/plotly-latest.min']\n",
       "            }\n",
       "        });\n",
       "        require(['plotly'], function(Plotly) {\n",
       "            window._Plotly = Plotly;\n",
       "        });\n",
       "        }\n",
       "        </script>\n",
       "        "
      ]
     },
     "metadata": {},
     "output_type": "display_data"
    },
    {
     "data": {
      "application/vnd.plotly.v1+json": {
       "config": {
        "linkText": "Export to plot.ly",
        "plotlyServerURL": "https://plot.ly",
        "showLink": false
       },
       "data": [
        {
         "marker": {
          "color": "rgba(0, 0, 0, 1)"
         },
         "name": "Conflict Score",
         "type": "scatter",
         "x": [
          "2018-03-28T00:00:00+00:00",
          "2018-03-29T00:00:00+00:00",
          "2018-06-24T00:00:00+00:00",
          "2018-06-25T00:00:00+00:00",
          "2018-07-20T00:00:00+00:00",
          "2018-07-23T00:00:00+00:00",
          "2018-07-24T00:00:00+00:00",
          "2018-12-07T00:00:00+00:00"
         ],
         "y": [
          0.5839458646453203,
          1.0675011591822514,
          0.8823844011388966,
          1.031569362118381,
          0.6130031779274656,
          0.8967648328457373,
          1.0359744732529692,
          0.5426493071311209
         ]
        }
       ],
       "layout": {
        "barmode": "group",
        "hovermode": "closest",
        "legend": {
         "x": 0.5,
         "y": 1.2
        },
        "showlegend": true,
        "template": {
         "data": {
          "bar": [
           {
            "error_x": {
             "color": "#2a3f5f"
            },
            "error_y": {
             "color": "#2a3f5f"
            },
            "marker": {
             "line": {
              "color": "#E5ECF6",
              "width": 0.5
             }
            },
            "type": "bar"
           }
          ],
          "barpolar": [
           {
            "marker": {
             "line": {
              "color": "#E5ECF6",
              "width": 0.5
             }
            },
            "type": "barpolar"
           }
          ],
          "carpet": [
           {
            "aaxis": {
             "endlinecolor": "#2a3f5f",
             "gridcolor": "white",
             "linecolor": "white",
             "minorgridcolor": "white",
             "startlinecolor": "#2a3f5f"
            },
            "baxis": {
             "endlinecolor": "#2a3f5f",
             "gridcolor": "white",
             "linecolor": "white",
             "minorgridcolor": "white",
             "startlinecolor": "#2a3f5f"
            },
            "type": "carpet"
           }
          ],
          "choropleth": [
           {
            "colorbar": {
             "outlinewidth": 0,
             "ticks": ""
            },
            "type": "choropleth"
           }
          ],
          "contour": [
           {
            "colorbar": {
             "outlinewidth": 0,
             "ticks": ""
            },
            "colorscale": [
             [
              0,
              "#0d0887"
             ],
             [
              0.1111111111111111,
              "#46039f"
             ],
             [
              0.2222222222222222,
              "#7201a8"
             ],
             [
              0.3333333333333333,
              "#9c179e"
             ],
             [
              0.4444444444444444,
              "#bd3786"
             ],
             [
              0.5555555555555556,
              "#d8576b"
             ],
             [
              0.6666666666666666,
              "#ed7953"
             ],
             [
              0.7777777777777778,
              "#fb9f3a"
             ],
             [
              0.8888888888888888,
              "#fdca26"
             ],
             [
              1,
              "#f0f921"
             ]
            ],
            "type": "contour"
           }
          ],
          "contourcarpet": [
           {
            "colorbar": {
             "outlinewidth": 0,
             "ticks": ""
            },
            "type": "contourcarpet"
           }
          ],
          "heatmap": [
           {
            "colorbar": {
             "outlinewidth": 0,
             "ticks": ""
            },
            "colorscale": [
             [
              0,
              "#0d0887"
             ],
             [
              0.1111111111111111,
              "#46039f"
             ],
             [
              0.2222222222222222,
              "#7201a8"
             ],
             [
              0.3333333333333333,
              "#9c179e"
             ],
             [
              0.4444444444444444,
              "#bd3786"
             ],
             [
              0.5555555555555556,
              "#d8576b"
             ],
             [
              0.6666666666666666,
              "#ed7953"
             ],
             [
              0.7777777777777778,
              "#fb9f3a"
             ],
             [
              0.8888888888888888,
              "#fdca26"
             ],
             [
              1,
              "#f0f921"
             ]
            ],
            "type": "heatmap"
           }
          ],
          "heatmapgl": [
           {
            "colorbar": {
             "outlinewidth": 0,
             "ticks": ""
            },
            "colorscale": [
             [
              0,
              "#0d0887"
             ],
             [
              0.1111111111111111,
              "#46039f"
             ],
             [
              0.2222222222222222,
              "#7201a8"
             ],
             [
              0.3333333333333333,
              "#9c179e"
             ],
             [
              0.4444444444444444,
              "#bd3786"
             ],
             [
              0.5555555555555556,
              "#d8576b"
             ],
             [
              0.6666666666666666,
              "#ed7953"
             ],
             [
              0.7777777777777778,
              "#fb9f3a"
             ],
             [
              0.8888888888888888,
              "#fdca26"
             ],
             [
              1,
              "#f0f921"
             ]
            ],
            "type": "heatmapgl"
           }
          ],
          "histogram": [
           {
            "marker": {
             "colorbar": {
              "outlinewidth": 0,
              "ticks": ""
             }
            },
            "type": "histogram"
           }
          ],
          "histogram2d": [
           {
            "colorbar": {
             "outlinewidth": 0,
             "ticks": ""
            },
            "colorscale": [
             [
              0,
              "#0d0887"
             ],
             [
              0.1111111111111111,
              "#46039f"
             ],
             [
              0.2222222222222222,
              "#7201a8"
             ],
             [
              0.3333333333333333,
              "#9c179e"
             ],
             [
              0.4444444444444444,
              "#bd3786"
             ],
             [
              0.5555555555555556,
              "#d8576b"
             ],
             [
              0.6666666666666666,
              "#ed7953"
             ],
             [
              0.7777777777777778,
              "#fb9f3a"
             ],
             [
              0.8888888888888888,
              "#fdca26"
             ],
             [
              1,
              "#f0f921"
             ]
            ],
            "type": "histogram2d"
           }
          ],
          "histogram2dcontour": [
           {
            "colorbar": {
             "outlinewidth": 0,
             "ticks": ""
            },
            "colorscale": [
             [
              0,
              "#0d0887"
             ],
             [
              0.1111111111111111,
              "#46039f"
             ],
             [
              0.2222222222222222,
              "#7201a8"
             ],
             [
              0.3333333333333333,
              "#9c179e"
             ],
             [
              0.4444444444444444,
              "#bd3786"
             ],
             [
              0.5555555555555556,
              "#d8576b"
             ],
             [
              0.6666666666666666,
              "#ed7953"
             ],
             [
              0.7777777777777778,
              "#fb9f3a"
             ],
             [
              0.8888888888888888,
              "#fdca26"
             ],
             [
              1,
              "#f0f921"
             ]
            ],
            "type": "histogram2dcontour"
           }
          ],
          "mesh3d": [
           {
            "colorbar": {
             "outlinewidth": 0,
             "ticks": ""
            },
            "type": "mesh3d"
           }
          ],
          "parcoords": [
           {
            "line": {
             "colorbar": {
              "outlinewidth": 0,
              "ticks": ""
             }
            },
            "type": "parcoords"
           }
          ],
          "pie": [
           {
            "automargin": true,
            "type": "pie"
           }
          ],
          "scatter": [
           {
            "marker": {
             "colorbar": {
              "outlinewidth": 0,
              "ticks": ""
             }
            },
            "type": "scatter"
           }
          ],
          "scatter3d": [
           {
            "line": {
             "colorbar": {
              "outlinewidth": 0,
              "ticks": ""
             }
            },
            "marker": {
             "colorbar": {
              "outlinewidth": 0,
              "ticks": ""
             }
            },
            "type": "scatter3d"
           }
          ],
          "scattercarpet": [
           {
            "marker": {
             "colorbar": {
              "outlinewidth": 0,
              "ticks": ""
             }
            },
            "type": "scattercarpet"
           }
          ],
          "scattergeo": [
           {
            "marker": {
             "colorbar": {
              "outlinewidth": 0,
              "ticks": ""
             }
            },
            "type": "scattergeo"
           }
          ],
          "scattergl": [
           {
            "marker": {
             "colorbar": {
              "outlinewidth": 0,
              "ticks": ""
             }
            },
            "type": "scattergl"
           }
          ],
          "scattermapbox": [
           {
            "marker": {
             "colorbar": {
              "outlinewidth": 0,
              "ticks": ""
             }
            },
            "type": "scattermapbox"
           }
          ],
          "scatterpolar": [
           {
            "marker": {
             "colorbar": {
              "outlinewidth": 0,
              "ticks": ""
             }
            },
            "type": "scatterpolar"
           }
          ],
          "scatterpolargl": [
           {
            "marker": {
             "colorbar": {
              "outlinewidth": 0,
              "ticks": ""
             }
            },
            "type": "scatterpolargl"
           }
          ],
          "scatterternary": [
           {
            "marker": {
             "colorbar": {
              "outlinewidth": 0,
              "ticks": ""
             }
            },
            "type": "scatterternary"
           }
          ],
          "surface": [
           {
            "colorbar": {
             "outlinewidth": 0,
             "ticks": ""
            },
            "colorscale": [
             [
              0,
              "#0d0887"
             ],
             [
              0.1111111111111111,
              "#46039f"
             ],
             [
              0.2222222222222222,
              "#7201a8"
             ],
             [
              0.3333333333333333,
              "#9c179e"
             ],
             [
              0.4444444444444444,
              "#bd3786"
             ],
             [
              0.5555555555555556,
              "#d8576b"
             ],
             [
              0.6666666666666666,
              "#ed7953"
             ],
             [
              0.7777777777777778,
              "#fb9f3a"
             ],
             [
              0.8888888888888888,
              "#fdca26"
             ],
             [
              1,
              "#f0f921"
             ]
            ],
            "type": "surface"
           }
          ],
          "table": [
           {
            "cells": {
             "fill": {
              "color": "#EBF0F8"
             },
             "line": {
              "color": "white"
             }
            },
            "header": {
             "fill": {
              "color": "#C8D4E3"
             },
             "line": {
              "color": "white"
             }
            },
            "type": "table"
           }
          ]
         },
         "layout": {
          "annotationdefaults": {
           "arrowcolor": "#2a3f5f",
           "arrowhead": 0,
           "arrowwidth": 1
          },
          "coloraxis": {
           "colorbar": {
            "outlinewidth": 0,
            "ticks": ""
           }
          },
          "colorscale": {
           "diverging": [
            [
             0,
             "#8e0152"
            ],
            [
             0.1,
             "#c51b7d"
            ],
            [
             0.2,
             "#de77ae"
            ],
            [
             0.3,
             "#f1b6da"
            ],
            [
             0.4,
             "#fde0ef"
            ],
            [
             0.5,
             "#f7f7f7"
            ],
            [
             0.6,
             "#e6f5d0"
            ],
            [
             0.7,
             "#b8e186"
            ],
            [
             0.8,
             "#7fbc41"
            ],
            [
             0.9,
             "#4d9221"
            ],
            [
             1,
             "#276419"
            ]
           ],
           "sequential": [
            [
             0,
             "#0d0887"
            ],
            [
             0.1111111111111111,
             "#46039f"
            ],
            [
             0.2222222222222222,
             "#7201a8"
            ],
            [
             0.3333333333333333,
             "#9c179e"
            ],
            [
             0.4444444444444444,
             "#bd3786"
            ],
            [
             0.5555555555555556,
             "#d8576b"
            ],
            [
             0.6666666666666666,
             "#ed7953"
            ],
            [
             0.7777777777777778,
             "#fb9f3a"
            ],
            [
             0.8888888888888888,
             "#fdca26"
            ],
            [
             1,
             "#f0f921"
            ]
           ],
           "sequentialminus": [
            [
             0,
             "#0d0887"
            ],
            [
             0.1111111111111111,
             "#46039f"
            ],
            [
             0.2222222222222222,
             "#7201a8"
            ],
            [
             0.3333333333333333,
             "#9c179e"
            ],
            [
             0.4444444444444444,
             "#bd3786"
            ],
            [
             0.5555555555555556,
             "#d8576b"
            ],
            [
             0.6666666666666666,
             "#ed7953"
            ],
            [
             0.7777777777777778,
             "#fb9f3a"
            ],
            [
             0.8888888888888888,
             "#fdca26"
            ],
            [
             1,
             "#f0f921"
            ]
           ]
          },
          "colorway": [
           "#636efa",
           "#EF553B",
           "#00cc96",
           "#ab63fa",
           "#FFA15A",
           "#19d3f3",
           "#FF6692",
           "#B6E880",
           "#FF97FF",
           "#FECB52"
          ],
          "font": {
           "color": "#2a3f5f"
          },
          "geo": {
           "bgcolor": "white",
           "lakecolor": "white",
           "landcolor": "#E5ECF6",
           "showlakes": true,
           "showland": true,
           "subunitcolor": "white"
          },
          "hoverlabel": {
           "align": "left"
          },
          "hovermode": "closest",
          "mapbox": {
           "style": "light"
          },
          "paper_bgcolor": "white",
          "plot_bgcolor": "#E5ECF6",
          "polar": {
           "angularaxis": {
            "gridcolor": "white",
            "linecolor": "white",
            "ticks": ""
           },
           "bgcolor": "#E5ECF6",
           "radialaxis": {
            "gridcolor": "white",
            "linecolor": "white",
            "ticks": ""
           }
          },
          "scene": {
           "xaxis": {
            "backgroundcolor": "#E5ECF6",
            "gridcolor": "white",
            "gridwidth": 2,
            "linecolor": "white",
            "showbackground": true,
            "ticks": "",
            "zerolinecolor": "white"
           },
           "yaxis": {
            "backgroundcolor": "#E5ECF6",
            "gridcolor": "white",
            "gridwidth": 2,
            "linecolor": "white",
            "showbackground": true,
            "ticks": "",
            "zerolinecolor": "white"
           },
           "zaxis": {
            "backgroundcolor": "#E5ECF6",
            "gridcolor": "white",
            "gridwidth": 2,
            "linecolor": "white",
            "showbackground": true,
            "ticks": "",
            "zerolinecolor": "white"
           }
          },
          "shapedefaults": {
           "line": {
            "color": "#2a3f5f"
           }
          },
          "ternary": {
           "aaxis": {
            "gridcolor": "white",
            "linecolor": "white",
            "ticks": ""
           },
           "baxis": {
            "gridcolor": "white",
            "linecolor": "white",
            "ticks": ""
           },
           "bgcolor": "#E5ECF6",
           "caxis": {
            "gridcolor": "white",
            "linecolor": "white",
            "ticks": ""
           }
          },
          "title": {
           "x": 0.05
          },
          "xaxis": {
           "automargin": true,
           "gridcolor": "white",
           "linecolor": "white",
           "ticks": "",
           "title": {
            "standoff": 15
           },
           "zerolinecolor": "white",
           "zerolinewidth": 2
          },
          "yaxis": {
           "automargin": true,
           "gridcolor": "white",
           "linecolor": "white",
           "ticks": "",
           "title": {
            "standoff": 15
           },
           "zerolinecolor": "white",
           "zerolinewidth": 2
          }
         }
        },
        "xaxis": {
         "gridwidth": 2,
         "ticklen": 5,
         "title": {
          "text": "Daily"
         },
         "zeroline": true
        },
        "yaxis": {
         "gridwidth": 2,
         "ticklen": 5
        }
       }
      },
      "text/html": [
       "<div>\n",
       "        \n",
       "        \n",
       "            <div id=\"a5e85156-820c-46ae-907a-83fd81edf0c8\" class=\"plotly-graph-div\" style=\"height:525px; width:100%;\"></div>\n",
       "            <script type=\"text/javascript\">\n",
       "                require([\"plotly\"], function(Plotly) {\n",
       "                    window.PLOTLYENV=window.PLOTLYENV || {};\n",
       "                    \n",
       "                if (document.getElementById(\"a5e85156-820c-46ae-907a-83fd81edf0c8\")) {\n",
       "                    Plotly.newPlot(\n",
       "                        'a5e85156-820c-46ae-907a-83fd81edf0c8',\n",
       "                        [{\"marker\": {\"color\": \"rgba(0, 0, 0, 1)\"}, \"name\": \"Conflict Score\", \"type\": \"scatter\", \"x\": [\"2018-03-28T00:00:00+00:00\", \"2018-03-29T00:00:00+00:00\", \"2018-06-24T00:00:00+00:00\", \"2018-06-25T00:00:00+00:00\", \"2018-07-20T00:00:00+00:00\", \"2018-07-23T00:00:00+00:00\", \"2018-07-24T00:00:00+00:00\", \"2018-12-07T00:00:00+00:00\"], \"y\": [0.5839458646453203, 1.0675011591822514, 0.8823844011388966, 1.031569362118381, 0.6130031779274656, 0.8967648328457373, 1.0359744732529692, 0.5426493071311209]}],\n",
       "                        {\"barmode\": \"group\", \"hovermode\": \"closest\", \"legend\": {\"x\": 0.5, \"y\": 1.2}, \"showlegend\": true, \"template\": {\"data\": {\"bar\": [{\"error_x\": {\"color\": \"#2a3f5f\"}, \"error_y\": {\"color\": \"#2a3f5f\"}, \"marker\": {\"line\": {\"color\": \"#E5ECF6\", \"width\": 0.5}}, \"type\": \"bar\"}], \"barpolar\": [{\"marker\": {\"line\": {\"color\": \"#E5ECF6\", \"width\": 0.5}}, \"type\": \"barpolar\"}], \"carpet\": [{\"aaxis\": {\"endlinecolor\": \"#2a3f5f\", \"gridcolor\": \"white\", \"linecolor\": \"white\", \"minorgridcolor\": \"white\", \"startlinecolor\": \"#2a3f5f\"}, \"baxis\": {\"endlinecolor\": \"#2a3f5f\", \"gridcolor\": \"white\", \"linecolor\": \"white\", \"minorgridcolor\": \"white\", \"startlinecolor\": \"#2a3f5f\"}, \"type\": \"carpet\"}], \"choropleth\": [{\"colorbar\": {\"outlinewidth\": 0, \"ticks\": \"\"}, \"type\": \"choropleth\"}], \"contour\": [{\"colorbar\": {\"outlinewidth\": 0, \"ticks\": \"\"}, \"colorscale\": [[0.0, \"#0d0887\"], [0.1111111111111111, \"#46039f\"], [0.2222222222222222, \"#7201a8\"], [0.3333333333333333, \"#9c179e\"], [0.4444444444444444, \"#bd3786\"], [0.5555555555555556, \"#d8576b\"], [0.6666666666666666, \"#ed7953\"], [0.7777777777777778, \"#fb9f3a\"], [0.8888888888888888, \"#fdca26\"], [1.0, \"#f0f921\"]], \"type\": \"contour\"}], \"contourcarpet\": [{\"colorbar\": {\"outlinewidth\": 0, \"ticks\": \"\"}, \"type\": \"contourcarpet\"}], \"heatmap\": [{\"colorbar\": {\"outlinewidth\": 0, \"ticks\": \"\"}, \"colorscale\": [[0.0, \"#0d0887\"], [0.1111111111111111, \"#46039f\"], [0.2222222222222222, \"#7201a8\"], [0.3333333333333333, \"#9c179e\"], [0.4444444444444444, \"#bd3786\"], [0.5555555555555556, \"#d8576b\"], [0.6666666666666666, \"#ed7953\"], [0.7777777777777778, \"#fb9f3a\"], [0.8888888888888888, \"#fdca26\"], [1.0, \"#f0f921\"]], \"type\": \"heatmap\"}], \"heatmapgl\": [{\"colorbar\": {\"outlinewidth\": 0, \"ticks\": \"\"}, \"colorscale\": [[0.0, \"#0d0887\"], [0.1111111111111111, \"#46039f\"], [0.2222222222222222, \"#7201a8\"], [0.3333333333333333, \"#9c179e\"], [0.4444444444444444, \"#bd3786\"], [0.5555555555555556, \"#d8576b\"], [0.6666666666666666, \"#ed7953\"], [0.7777777777777778, \"#fb9f3a\"], [0.8888888888888888, \"#fdca26\"], [1.0, \"#f0f921\"]], \"type\": \"heatmapgl\"}], \"histogram\": [{\"marker\": {\"colorbar\": {\"outlinewidth\": 0, \"ticks\": \"\"}}, \"type\": \"histogram\"}], \"histogram2d\": [{\"colorbar\": {\"outlinewidth\": 0, \"ticks\": \"\"}, \"colorscale\": [[0.0, \"#0d0887\"], [0.1111111111111111, \"#46039f\"], [0.2222222222222222, \"#7201a8\"], [0.3333333333333333, \"#9c179e\"], [0.4444444444444444, \"#bd3786\"], [0.5555555555555556, \"#d8576b\"], [0.6666666666666666, \"#ed7953\"], [0.7777777777777778, \"#fb9f3a\"], [0.8888888888888888, \"#fdca26\"], [1.0, \"#f0f921\"]], \"type\": \"histogram2d\"}], \"histogram2dcontour\": [{\"colorbar\": {\"outlinewidth\": 0, \"ticks\": \"\"}, \"colorscale\": [[0.0, \"#0d0887\"], [0.1111111111111111, \"#46039f\"], [0.2222222222222222, \"#7201a8\"], [0.3333333333333333, \"#9c179e\"], [0.4444444444444444, \"#bd3786\"], [0.5555555555555556, \"#d8576b\"], [0.6666666666666666, \"#ed7953\"], [0.7777777777777778, \"#fb9f3a\"], [0.8888888888888888, \"#fdca26\"], [1.0, \"#f0f921\"]], \"type\": \"histogram2dcontour\"}], \"mesh3d\": [{\"colorbar\": {\"outlinewidth\": 0, \"ticks\": \"\"}, \"type\": \"mesh3d\"}], \"parcoords\": [{\"line\": {\"colorbar\": {\"outlinewidth\": 0, \"ticks\": \"\"}}, \"type\": \"parcoords\"}], \"pie\": [{\"automargin\": true, \"type\": \"pie\"}], \"scatter\": [{\"marker\": {\"colorbar\": {\"outlinewidth\": 0, \"ticks\": \"\"}}, \"type\": \"scatter\"}], \"scatter3d\": [{\"line\": {\"colorbar\": {\"outlinewidth\": 0, \"ticks\": \"\"}}, \"marker\": {\"colorbar\": {\"outlinewidth\": 0, \"ticks\": \"\"}}, \"type\": \"scatter3d\"}], \"scattercarpet\": [{\"marker\": {\"colorbar\": {\"outlinewidth\": 0, \"ticks\": \"\"}}, \"type\": \"scattercarpet\"}], \"scattergeo\": [{\"marker\": {\"colorbar\": {\"outlinewidth\": 0, \"ticks\": \"\"}}, \"type\": \"scattergeo\"}], \"scattergl\": [{\"marker\": {\"colorbar\": {\"outlinewidth\": 0, \"ticks\": \"\"}}, \"type\": \"scattergl\"}], \"scattermapbox\": [{\"marker\": {\"colorbar\": {\"outlinewidth\": 0, \"ticks\": \"\"}}, \"type\": \"scattermapbox\"}], \"scatterpolar\": [{\"marker\": {\"colorbar\": {\"outlinewidth\": 0, \"ticks\": \"\"}}, \"type\": \"scatterpolar\"}], \"scatterpolargl\": [{\"marker\": {\"colorbar\": {\"outlinewidth\": 0, \"ticks\": \"\"}}, \"type\": \"scatterpolargl\"}], \"scatterternary\": [{\"marker\": {\"colorbar\": {\"outlinewidth\": 0, \"ticks\": \"\"}}, \"type\": \"scatterternary\"}], \"surface\": [{\"colorbar\": {\"outlinewidth\": 0, \"ticks\": \"\"}, \"colorscale\": [[0.0, \"#0d0887\"], [0.1111111111111111, \"#46039f\"], [0.2222222222222222, \"#7201a8\"], [0.3333333333333333, \"#9c179e\"], [0.4444444444444444, \"#bd3786\"], [0.5555555555555556, \"#d8576b\"], [0.6666666666666666, \"#ed7953\"], [0.7777777777777778, \"#fb9f3a\"], [0.8888888888888888, \"#fdca26\"], [1.0, \"#f0f921\"]], \"type\": \"surface\"}], \"table\": [{\"cells\": {\"fill\": {\"color\": \"#EBF0F8\"}, \"line\": {\"color\": \"white\"}}, \"header\": {\"fill\": {\"color\": \"#C8D4E3\"}, \"line\": {\"color\": \"white\"}}, \"type\": \"table\"}]}, \"layout\": {\"annotationdefaults\": {\"arrowcolor\": \"#2a3f5f\", \"arrowhead\": 0, \"arrowwidth\": 1}, \"coloraxis\": {\"colorbar\": {\"outlinewidth\": 0, \"ticks\": \"\"}}, \"colorscale\": {\"diverging\": [[0, \"#8e0152\"], [0.1, \"#c51b7d\"], [0.2, \"#de77ae\"], [0.3, \"#f1b6da\"], [0.4, \"#fde0ef\"], [0.5, \"#f7f7f7\"], [0.6, \"#e6f5d0\"], [0.7, \"#b8e186\"], [0.8, \"#7fbc41\"], [0.9, \"#4d9221\"], [1, \"#276419\"]], \"sequential\": [[0.0, \"#0d0887\"], [0.1111111111111111, \"#46039f\"], [0.2222222222222222, \"#7201a8\"], [0.3333333333333333, \"#9c179e\"], [0.4444444444444444, \"#bd3786\"], [0.5555555555555556, \"#d8576b\"], [0.6666666666666666, \"#ed7953\"], [0.7777777777777778, \"#fb9f3a\"], [0.8888888888888888, \"#fdca26\"], [1.0, \"#f0f921\"]], \"sequentialminus\": [[0.0, \"#0d0887\"], [0.1111111111111111, \"#46039f\"], [0.2222222222222222, \"#7201a8\"], [0.3333333333333333, \"#9c179e\"], [0.4444444444444444, \"#bd3786\"], [0.5555555555555556, \"#d8576b\"], [0.6666666666666666, \"#ed7953\"], [0.7777777777777778, \"#fb9f3a\"], [0.8888888888888888, \"#fdca26\"], [1.0, \"#f0f921\"]]}, \"colorway\": [\"#636efa\", \"#EF553B\", \"#00cc96\", \"#ab63fa\", \"#FFA15A\", \"#19d3f3\", \"#FF6692\", \"#B6E880\", \"#FF97FF\", \"#FECB52\"], \"font\": {\"color\": \"#2a3f5f\"}, \"geo\": {\"bgcolor\": \"white\", \"lakecolor\": \"white\", \"landcolor\": \"#E5ECF6\", \"showlakes\": true, \"showland\": true, \"subunitcolor\": \"white\"}, \"hoverlabel\": {\"align\": \"left\"}, \"hovermode\": \"closest\", \"mapbox\": {\"style\": \"light\"}, \"paper_bgcolor\": \"white\", \"plot_bgcolor\": \"#E5ECF6\", \"polar\": {\"angularaxis\": {\"gridcolor\": \"white\", \"linecolor\": \"white\", \"ticks\": \"\"}, \"bgcolor\": \"#E5ECF6\", \"radialaxis\": {\"gridcolor\": \"white\", \"linecolor\": \"white\", \"ticks\": \"\"}}, \"scene\": {\"xaxis\": {\"backgroundcolor\": \"#E5ECF6\", \"gridcolor\": \"white\", \"gridwidth\": 2, \"linecolor\": \"white\", \"showbackground\": true, \"ticks\": \"\", \"zerolinecolor\": \"white\"}, \"yaxis\": {\"backgroundcolor\": \"#E5ECF6\", \"gridcolor\": \"white\", \"gridwidth\": 2, \"linecolor\": \"white\", \"showbackground\": true, \"ticks\": \"\", \"zerolinecolor\": \"white\"}, \"zaxis\": {\"backgroundcolor\": \"#E5ECF6\", \"gridcolor\": \"white\", \"gridwidth\": 2, \"linecolor\": \"white\", \"showbackground\": true, \"ticks\": \"\", \"zerolinecolor\": \"white\"}}, \"shapedefaults\": {\"line\": {\"color\": \"#2a3f5f\"}}, \"ternary\": {\"aaxis\": {\"gridcolor\": \"white\", \"linecolor\": \"white\", \"ticks\": \"\"}, \"baxis\": {\"gridcolor\": \"white\", \"linecolor\": \"white\", \"ticks\": \"\"}, \"bgcolor\": \"#E5ECF6\", \"caxis\": {\"gridcolor\": \"white\", \"linecolor\": \"white\", \"ticks\": \"\"}}, \"title\": {\"x\": 0.05}, \"xaxis\": {\"automargin\": true, \"gridcolor\": \"white\", \"linecolor\": \"white\", \"ticks\": \"\", \"title\": {\"standoff\": 15}, \"zerolinecolor\": \"white\", \"zerolinewidth\": 2}, \"yaxis\": {\"automargin\": true, \"gridcolor\": \"white\", \"linecolor\": \"white\", \"ticks\": \"\", \"title\": {\"standoff\": 15}, \"zerolinecolor\": \"white\", \"zerolinewidth\": 2}}}, \"xaxis\": {\"gridwidth\": 2, \"ticklen\": 5, \"title\": {\"text\": \"Daily\"}, \"zeroline\": true}, \"yaxis\": {\"gridwidth\": 2, \"ticklen\": 5}},\n",
       "                        {\"responsive\": true}\n",
       "                    ).then(function(){\n",
       "                            \n",
       "var gd = document.getElementById('a5e85156-820c-46ae-907a-83fd81edf0c8');\n",
       "var x = new MutationObserver(function (mutations, observer) {{\n",
       "        var display = window.getComputedStyle(gd).display;\n",
       "        if (!display || display === 'none') {{\n",
       "            console.log([gd, 'removed!']);\n",
       "            Plotly.purge(gd);\n",
       "            observer.disconnect();\n",
       "        }}\n",
       "}});\n",
       "\n",
       "// Listen for the removal of the full notebook cells\n",
       "var notebookContainer = gd.closest('#notebook-container');\n",
       "if (notebookContainer) {{\n",
       "    x.observe(notebookContainer, {childList: true});\n",
       "}}\n",
       "\n",
       "// Listen for the clearing of the current output cell\n",
       "var outputEl = gd.closest('.output');\n",
       "if (outputEl) {{\n",
       "    x.observe(outputEl, {childList: true});\n",
       "}}\n",
       "\n",
       "                        })\n",
       "                };\n",
       "                });\n",
       "            </script>\n",
       "        </div>"
      ]
     },
     "metadata": {},
     "output_type": "display_data"
    }
   ],
   "source": [
    "### ----------------------------------------------------------------------------------- ###\n",
    "### TRY YOURSELF! THIS IS WHAT WILL HAPPEN WHEN YOU SELECT AN EDITOR                    ###\n",
    "### ----------------------------------------------------------------------------------- ###\n",
    "\n",
    "## This is the page you used ##\n",
    "print('The page that is being used:', the_page['title'])\n",
    "\n",
    "## Use the variable from the last notebook: conflicts_by_editors (pd.DataFrame)        ##\n",
    "## Display the dataframe using interactive grid, you could learn more through the doc: ##\n",
    "## https://qgrid.readthedocs.io/en/latest/                                             ##\n",
    "qgrid.set_grid_option('maxVisibleRows', 5)\n",
    "qgrid_init = qgrid.show_grid(conflicts_by_editors)\n",
    "display(qgrid_init)\n",
    "\n",
    "## Get the editor info with Wikipedia API (get_editor() method), more details you could check: ##\n",
    "## https://github.com/gesiscss/wikiwho_demo/blob/master/external/api.py                        ##\n",
    "## https://github.com/gesiscss/wikiwho_demo/blob/master/external/wikipedia.py                  ##\n",
    "wikipedia_dv = WikipediaDV(WikipediaAPI(domain='en.wikipedia.org'))\n",
    "\n",
    "# This is an example editor index. You could change it manully by typing in a new index from\n",
    "# the above grid, e.g. 737021\n",
    "editor_input_id = 44846\n",
    "\n",
    "# store the editor_input_id for the usage in next notebook\n",
    "%store editor_input_id\n",
    "\n",
    "# Get the editor's information in the form of pd.DataFrame\n",
    "editor_info = wikipedia_dv.get_editor(int(editor_input_id))\n",
    "\n",
    "# store editor_info for the usage in next notebook\n",
    "%store editor_info\n",
    "\n",
    "## Display the basic information of the selected editor ##\n",
    "editor_url = f'{wikipedia_dv.api.base}action=query&list=users&ususerids={editor_input_id}&usprop=blockinfo|editcount|registration|gender&format=json'\n",
    "print(\"Editor's data can be found in:\")\n",
    "print(editor_url)\n",
    "display(md(\"### Current Selection:\"))\n",
    "display(editor_info.to_frame('values'))\n",
    "\n",
    "## Interactive evolution of conflict score of this editor, using ConflictCalculatorListener, more details see ##\n",
    "## https://github.com/gesiscss/wikiwho_demo/blob/master/visualization/calculator_listener.py                  ##\n",
    "display(md(f\"#### Evolution of the Conflict Score of *{editor_info['name']}*\"))\n",
    "\n",
    "# Dataframe containing the info for interactive\n",
    "editor_df = conflict_calculator.elegible_actions[conflict_calculator.elegible_actions['editor'] == str(editor_input_id)].copy()\n",
    "           \n",
    "# Create a ConflictCalculatorListener instance.\n",
    "conflicts_cal_listener = ConflictCalculatorListener(editor_df)\n",
    "\n",
    "# Set parameters\n",
    "begin_date = date(2005, 3, 1)\n",
    "end_date = date(2019, 6, 1)\n",
    "frequency = 'Daily' # 'Monthly', 'Daily'\n",
    "\n",
    "# The metrics we need:\n",
    "# ['Conflict Score', 'Absolute Conflict Score', 'Conflict Ratio', 'Number of Conflicts',\n",
    "#  'Total Elegible Actions', 'Total Conflict Time', 'Total Elegible Time', \n",
    "# 'Time per Conflict Action', 'Time per Elegible Action', ('None')]\n",
    "# Note: only 'red_line' has 'None' option.\n",
    "black_line = 'Conflict Score'\n",
    "red_line = 'None'\n",
    "           \n",
    "print('Time range from', begin_date.strftime(\"%Y-%m-%d\"), 'to', end_date.strftime(\"%Y-%m-%d\"))\n",
    "print('Total Page conflict score:', conflict_calculator.get_page_conflict_score())\n",
    "           \n",
    "conflicts_cal_listener.listen(\n",
    "    _range = (begin_date, end_date),\n",
    "    granularity = frequency,\n",
    "    black = black_line,\n",
    "    red = red_line\n",
    ")"
   ]
  },
  {
   "cell_type": "markdown",
   "metadata": {},
   "source": [
    "---\n",
    "\n",
    "# B. Detecting conflicting editors"
   ]
  },
  {
   "cell_type": "code",
   "execution_count": 7,
   "metadata": {
    "hide_input": true,
    "scrolled": true
   },
   "outputs": [
    {
     "data": {
      "text/markdown": [
       "***Page: The Camp of the Saints***"
      ],
      "text/plain": [
       "<IPython.core.display.Markdown object>"
      ]
     },
     "metadata": {},
     "output_type": "display_data"
    },
    {
     "data": {
      "text/markdown": [
       "If editor P4k undo and action of editor B, editor B is called \n",
       "a conflicting editor. The following table shows the conflicting editors of P4k \n",
       "including their conflict score and other related metrics (see section A)."
      ],
      "text/plain": [
       "<IPython.core.display.Markdown object>"
      ]
     },
     "metadata": {},
     "output_type": "display_data"
    }
   ],
   "source": [
    "display(md(f\"***Page: {the_page['title']}***\"))\n",
    "display(md(f\"\"\"If editor {the_editor['name']} undo and action of editor B, editor B is called \n",
    "a conflicting editor. The following table shows the conflicting editors of {the_editor['name']} \n",
    "including their conflict score and other related metrics (see section A).\"\"\"))"
   ]
  },
  {
   "cell_type": "code",
   "execution_count": 8,
   "metadata": {
    "hide_input": true,
    "scrolled": true
   },
   "outputs": [
    {
     "data": {
      "application/vnd.jupyter.widget-view+json": {
       "model_id": "009adcd4e214463da8449a0715ec3263",
       "version_major": 2,
       "version_minor": 0
      },
      "text/plain": [
       "Button(description='Show Detected Editors', layout=Layout(width='160px'), style=ButtonStyle())"
      ]
     },
     "metadata": {},
     "output_type": "display_data"
    },
    {
     "data": {
      "application/vnd.jupyter.widget-view+json": {
       "model_id": "1f6625e9f0494dbe884d843f8fc77421",
       "version_major": 2,
       "version_minor": 0
      },
      "text/plain": [
       "Output()"
      ]
     },
     "metadata": {},
     "output_type": "display_data"
    }
   ],
   "source": [
    "# create and display the button\n",
    "button1 = widgets.Button(description=\"Show Detected Editors\", layout=Layout(width='160px'))\n",
    "display(button1)\n",
    "\n",
    "def on_click_detect(b):\n",
    "    global editors\n",
    "    global conflicting_actions\n",
    "    with out1:\n",
    "        clear_output()\n",
    "        display(md(f\"***Editor: {the_editor['name']}***\"))\n",
    "\n",
    "        conflicting_actions = calculator.get_conflicting_actions(str(editor_inputname))\n",
    "\n",
    "        wikipedia_dv = WikipediaDV(WikipediaAPI(domain='en.wikipedia.org'))\n",
    "\n",
    "        conflicting_editors = conflicting_actions['editor'].unique().tolist()\n",
    "\n",
    "        editors = wikipedia_dv.get_editors([int(x) for x in conflicting_editors if x[:2] != '0|'])\n",
    "        if len(editors) == 0:\n",
    "            print('There is no other registered conflicting editor. Please try another one!')\n",
    "        else:\n",
    "            editors['userid'] = editors['userid'].astype('str')\n",
    "            full_editors_conflicts = calculator.get_conflict_score_per_editor()\n",
    "            display(editors[['userid','name','registration']].merge( full_editors_conflicts, \n",
    "                            right_index=True, left_on='userid',how='left').set_index('userid'))\n",
    "                   \n",
    "                   \n",
    "out1 = Output()\n",
    "display(out1)\n",
    "\n",
    "# set the event\n",
    "button1.on_click(on_click_detect)\n",
    "\n",
    "# trigger the event with the default value\n",
    "on_click_detect(button1)"
   ]
  },
  {
   "cell_type": "markdown",
   "metadata": {
    "solution2": "hidden",
    "solution2_first": true
   },
   "source": [
    "### <span style=\"color:green\"> TRY YOURSELF! THIS IS WHAT WILL HAPPEN WHEN YOU CLICK 'Show Detected Editors' Button </span>"
   ]
  },
  {
   "cell_type": "code",
   "execution_count": 9,
   "metadata": {
    "solution2": "hidden"
   },
   "outputs": [
    {
     "name": "stdout",
     "output_type": "stream",
     "text": [
      "The page that is being used: The Camp of the Saints\n",
      "Selected editor: Gamaliel\n"
     ]
    },
    {
     "data": {
      "text/html": [
       "<div>\n",
       "<style scoped>\n",
       "    .dataframe tbody tr th:only-of-type {\n",
       "        vertical-align: middle;\n",
       "    }\n",
       "\n",
       "    .dataframe tbody tr th {\n",
       "        vertical-align: top;\n",
       "    }\n",
       "\n",
       "    .dataframe thead th {\n",
       "        text-align: right;\n",
       "    }\n",
       "</style>\n",
       "<table border=\"1\" class=\"dataframe\">\n",
       "  <thead>\n",
       "    <tr style=\"text-align: right;\">\n",
       "      <th></th>\n",
       "      <th>name</th>\n",
       "      <th>registration</th>\n",
       "      <th>conflict_n</th>\n",
       "      <th>conflict</th>\n",
       "      <th>action</th>\n",
       "      <th>conflict_score</th>\n",
       "      <th>conflict_ratio</th>\n",
       "    </tr>\n",
       "    <tr>\n",
       "      <th>userid</th>\n",
       "      <th></th>\n",
       "      <th></th>\n",
       "      <th></th>\n",
       "      <th></th>\n",
       "      <th></th>\n",
       "      <th></th>\n",
       "      <th></th>\n",
       "    </tr>\n",
       "  </thead>\n",
       "  <tbody>\n",
       "    <tr>\n",
       "      <th>28921814</th>\n",
       "      <td>NPalgan2</td>\n",
       "      <td>2016-08-09T02:06:23Z</td>\n",
       "      <td>311</td>\n",
       "      <td>259.503412</td>\n",
       "      <td>499</td>\n",
       "      <td>0.520047</td>\n",
       "      <td>0.623246</td>\n",
       "    </tr>\n",
       "    <tr>\n",
       "      <th>22888068</th>\n",
       "      <td>XavierItzm</td>\n",
       "      <td>2014-10-18T13:31:16Z</td>\n",
       "      <td>256</td>\n",
       "      <td>197.726186</td>\n",
       "      <td>256</td>\n",
       "      <td>0.772368</td>\n",
       "      <td>1.000000</td>\n",
       "    </tr>\n",
       "    <tr>\n",
       "      <th>35457216</th>\n",
       "      <td>Ishbiliyya</td>\n",
       "      <td>2018-12-24T23:19:58Z</td>\n",
       "      <td>20</td>\n",
       "      <td>9.874442</td>\n",
       "      <td>20</td>\n",
       "      <td>0.493722</td>\n",
       "      <td>1.000000</td>\n",
       "    </tr>\n",
       "    <tr>\n",
       "      <th>3002016</th>\n",
       "      <td>Black Kite</td>\n",
       "      <td>2006-12-12T00:51:40Z</td>\n",
       "      <td>48</td>\n",
       "      <td>75.150336</td>\n",
       "      <td>48</td>\n",
       "      <td>1.565632</td>\n",
       "      <td>1.000000</td>\n",
       "    </tr>\n",
       "    <tr>\n",
       "      <th>55582</th>\n",
       "      <td>Geni</td>\n",
       "      <td>2004-03-30T14:36:04Z</td>\n",
       "      <td>32</td>\n",
       "      <td>26.403502</td>\n",
       "      <td>32</td>\n",
       "      <td>0.825109</td>\n",
       "      <td>1.000000</td>\n",
       "    </tr>\n",
       "  </tbody>\n",
       "</table>\n",
       "</div>"
      ],
      "text/plain": [
       "                name          registration  conflict_n    conflict  action  \\\n",
       "userid                                                                       \n",
       "28921814    NPalgan2  2016-08-09T02:06:23Z         311  259.503412     499   \n",
       "22888068  XavierItzm  2014-10-18T13:31:16Z         256  197.726186     256   \n",
       "35457216  Ishbiliyya  2018-12-24T23:19:58Z          20    9.874442      20   \n",
       "3002016   Black Kite  2006-12-12T00:51:40Z          48   75.150336      48   \n",
       "55582           Geni  2004-03-30T14:36:04Z          32   26.403502      32   \n",
       "\n",
       "          conflict_score  conflict_ratio  \n",
       "userid                                    \n",
       "28921814        0.520047        0.623246  \n",
       "22888068        0.772368        1.000000  \n",
       "35457216        0.493722        1.000000  \n",
       "3002016         1.565632        1.000000  \n",
       "55582           0.825109        1.000000  "
      ]
     },
     "metadata": {},
     "output_type": "display_data"
    }
   ],
   "source": [
    "### ------------------------------------------------------------------------------------- ###\n",
    "### TRY YOURSELF! THIS IS WHAT WILL HAPPEN WHEN YOU CLICK 'Show Detected Editors' BUTTON  ###\n",
    "### ------------------------------------------------------------------------------------- ###\n",
    "\n",
    "## This is the page you used and the editor you select in the above grid. ##\n",
    "print('The page that is being used:', the_page['title'])\n",
    "print('Selected editor:', editor_info['name'])\n",
    "\n",
    "## Get the conflicting editors ##\n",
    "# Get all conflcting actions of all editors through the previous instance 'conflict_calculator'\n",
    "all_conflict_actions = conflict_calculator.get_conflicting_actions(str(editor_input_id))\n",
    "\n",
    "# Get a list of conflicting editors.\n",
    "all_conflict_editors = all_conflict_actions['editor'].unique().tolist()\n",
    "\n",
    "# Eliminate those unregistered editors\n",
    "final_editors = wikipedia_dv.get_editors([int(x) for x in all_conflict_editors if x[:2] != '0|'])\n",
    "\n",
    "# Check if the list is empty.\n",
    "if len(final_editors) == 0:\n",
    "    print('There is no other registered conflicting editor. Please try another one!')\n",
    "else:\n",
    "    final_editors['userid'] = final_editors['userid'].astype('str')\n",
    "    \n",
    "    # Conflict score for every editor.\n",
    "    all_editors_conflicts = conflict_calculator.get_conflict_score_per_editor()\n",
    "    \n",
    "    # Include conflict information into table.\n",
    "    display(final_editors[['userid','name','registration']].merge(all_editors_conflicts, \n",
    "                             right_index=True, left_on='userid', how='left').set_index('userid'))"
   ]
  },
  {
   "cell_type": "markdown",
   "metadata": {},
   "source": [
    "---\n",
    "\n",
    "# C. Activity of conflicting editors"
   ]
  },
  {
   "cell_type": "code",
   "execution_count": 10,
   "metadata": {
    "hide_input": true,
    "scrolled": false
   },
   "outputs": [
    {
     "data": {
      "text/markdown": [
       "***Page: The Camp of the Saints***"
      ],
      "text/plain": [
       "<IPython.core.display.Markdown object>"
      ]
     },
     "metadata": {},
     "output_type": "display_data"
    }
   ],
   "source": [
    "display(md(f\"***Page: {the_page['title']}***\"))"
   ]
  },
  {
   "cell_type": "markdown",
   "metadata": {},
   "source": [
    "In the following graph you can select the conflicting *editor*, *date range* and \n",
    "*granularity* (yearly, montly) of the timeline (X-axis), and plot any of the follow counts in \n",
    "the black, red, blue and green lines:\n",
    "   \n",
    "- **adds**: number of first-time insertions\n",
    "- **adds_surv_48h**: number of insertions for the first time that survived at least 48 hours\n",
    "- **adds_persistent**:  number of insertions for the first time that survived until, at least, the end of the month\n",
    "- **adds_stopword_count**:  number of insertions that were stop words\n",
    "- **dels**: number of deletions\n",
    "- **dels_surv_48h**: number of deletions that were not resinserted in the next 48 hours\n",
    "- **dels_persistent**: number of deletions that were not resinserted until, at least, the end of the month\n",
    "- **dels_stopword_count**: number of deletions that were stop words\n",
    "- **reins**: number of reinsertions\n",
    "- **reins_surv_48h**: number of reinsertionsthat survived at least 48 hours\n",
    "- **reins_persistent**: number of reinsertionsthat survived until the end of the month\n",
    "- **reins_stopword_count**: number of reinsertionsthat were stop words"
   ]
  },
  {
   "cell_type": "code",
   "execution_count": 11,
   "metadata": {
    "hide_input": true,
    "scrolled": false
   },
   "outputs": [
    {
     "data": {
      "application/vnd.jupyter.widget-view+json": {
       "model_id": "8e6be97e7ff6453d85707299d5b0918d",
       "version_major": 2,
       "version_minor": 0
      },
      "text/plain": [
       "Button(description='Conflicting Editors Activity', layout=Layout(width='180px'), style=ButtonStyle())"
      ]
     },
     "metadata": {},
     "output_type": "display_data"
    },
    {
     "data": {
      "application/vnd.jupyter.widget-view+json": {
       "model_id": "389439b95d804fdeb361c07343dc5f38",
       "version_major": 2,
       "version_minor": 0
      },
      "text/plain": [
       "Output()"
      ]
     },
     "metadata": {},
     "output_type": "display_data"
    }
   ],
   "source": [
    "# create and display the button\n",
    "button2 = widgets.Button(description=\"Conflicting Editors Activity\", layout=Layout(width='180px'))\n",
    "display(button2)\n",
    "\n",
    "def on_click_con_editor_act(b):\n",
    "    global editors\n",
    "    with out2:\n",
    "        clear_output()\n",
    "        if len(editors) == 0:\n",
    "            print('There is no other registered conflicting editor. Please try another one!')\n",
    "        else:\n",
    "            editors['userid'] = editors['userid'].astype('int')\n",
    "            conf_editor_agg_actions = editors[['userid','name','registration']].merge(agg_actions, \n",
    "                     left_on='userid', right_on='editor_id', how='left').set_index('userid')\n",
    "\n",
    "            # Listener\n",
    "            listener = ActionsListener(conf_editor_agg_actions)\n",
    "            actions = (conf_editor_agg_actions.loc[:,'total':'total_stopword_count'].columns.append(\n",
    "                conf_editor_agg_actions.loc[:,'adds':'reins_stopword_count'].columns)).values.tolist()\n",
    "\n",
    "            # Visualization\n",
    "            interact(listener.listen, \n",
    "                     _range = get_date_slider_from_datetime(conf_editor_agg_actions['year_month']),\n",
    "                     editor=Dropdown(options=['All'] + editors['name'].values.tolist(), value='All'),\n",
    "                     granularity=Dropdown(options=['Yearly', 'Monthly'], value='Monthly'),\n",
    "                     black=Dropdown(options=actions, value='total'), \n",
    "                     red=Dropdown(options= ['None'] + actions, value='total_surv_48h'),\n",
    "                     green=Dropdown(options= ['None'] + actions, value='None'), \n",
    "                     blue=Dropdown(options= ['None'] + actions, value='None'))\n",
    "\n",
    "out2 = Output()\n",
    "display(out2)\n",
    "\n",
    "# set the event\n",
    "button2.on_click(on_click_con_editor_act)\n",
    "\n",
    "# trigger the event with the default value\n",
    "on_click_con_editor_act(button2)"
   ]
  },
  {
   "cell_type": "markdown",
   "metadata": {
    "solution2": "hidden",
    "solution2_first": true
   },
   "source": [
    "### <span style=\"color:green\"> TRY YOURSELF! THIS IS WHAT WILL HAPPEN WHEN YOU CLICK 'Conflicting Editors Activity' Button </span>"
   ]
  },
  {
   "cell_type": "code",
   "execution_count": 20,
   "metadata": {
    "solution2": "hidden"
   },
   "outputs": [
    {
     "name": "stdout",
     "output_type": "stream",
     "text": [
      "The page that is being used: The Camp of the Saints\n",
      "Selected editor: Gamaliel\n",
      "Available Conflicting Editors: ['NPalgan2', 'XavierItzm', 'Ishbiliyya', 'Black Kite', 'Geni']\n",
      "Time range from 2002-03-01 to 2019-04-01\n",
      "Current editor's name is All\n"
     ]
    },
    {
     "data": {
      "text/html": [
       "        <script type=\"text/javascript\">\n",
       "        window.PlotlyConfig = {MathJaxConfig: 'local'};\n",
       "        if (window.MathJax) {MathJax.Hub.Config({SVG: {font: \"STIX-Web\"}});}\n",
       "        if (typeof require !== 'undefined') {\n",
       "        require.undef(\"plotly\");\n",
       "        requirejs.config({\n",
       "            paths: {\n",
       "                'plotly': ['https://cdn.plot.ly/plotly-latest.min']\n",
       "            }\n",
       "        });\n",
       "        require(['plotly'], function(Plotly) {\n",
       "            window._Plotly = Plotly;\n",
       "        });\n",
       "        }\n",
       "        </script>\n",
       "        "
      ]
     },
     "metadata": {},
     "output_type": "display_data"
    },
    {
     "data": {
      "application/vnd.plotly.v1+json": {
       "config": {
        "linkText": "Export to plot.ly",
        "plotlyServerURL": "https://plot.ly",
        "showLink": false
       },
       "data": [
        {
         "marker": {
          "color": "rgba(0, 0, 0, 1)"
         },
         "name": "adds",
         "type": "scatter",
         "x": [
          "2017-03-31T00:00:00",
          "2017-04-30T00:00:00",
          "2017-05-31T00:00:00",
          "2017-06-30T00:00:00",
          "2017-07-31T00:00:00",
          "2017-08-31T00:00:00",
          "2017-09-30T00:00:00",
          "2017-10-31T00:00:00",
          "2017-11-30T00:00:00",
          "2017-12-31T00:00:00",
          "2018-01-31T00:00:00",
          "2018-02-28T00:00:00",
          "2018-03-31T00:00:00",
          "2018-04-30T00:00:00",
          "2018-05-31T00:00:00",
          "2018-06-30T00:00:00",
          "2018-07-31T00:00:00",
          "2018-08-31T00:00:00",
          "2018-09-30T00:00:00",
          "2018-10-31T00:00:00",
          "2018-11-30T00:00:00",
          "2018-12-31T00:00:00",
          "2019-01-31T00:00:00"
         ],
         "y": [
          215,
          0,
          0,
          0,
          0,
          108,
          0,
          251,
          0,
          0,
          0,
          41,
          257,
          62,
          0,
          232,
          306,
          0,
          0,
          111,
          0,
          0,
          7
         ]
        },
        {
         "marker": {
          "color": "rgba(255, 0, 0, .8)"
         },
         "name": "dels",
         "type": "scatter",
         "x": [
          "2017-03-31T00:00:00",
          "2017-04-30T00:00:00",
          "2017-05-31T00:00:00",
          "2017-06-30T00:00:00",
          "2017-07-31T00:00:00",
          "2017-08-31T00:00:00",
          "2017-09-30T00:00:00",
          "2017-10-31T00:00:00",
          "2017-11-30T00:00:00",
          "2017-12-31T00:00:00",
          "2018-01-31T00:00:00",
          "2018-02-28T00:00:00",
          "2018-03-31T00:00:00",
          "2018-04-30T00:00:00",
          "2018-05-31T00:00:00",
          "2018-06-30T00:00:00",
          "2018-07-31T00:00:00",
          "2018-08-31T00:00:00",
          "2018-09-30T00:00:00",
          "2018-10-31T00:00:00",
          "2018-11-30T00:00:00",
          "2018-12-31T00:00:00",
          "2019-01-31T00:00:00"
         ],
         "y": [
          2,
          0,
          0,
          0,
          0,
          2,
          0,
          0,
          0,
          0,
          0,
          49,
          69,
          28,
          9,
          74,
          336,
          0,
          0,
          116,
          0,
          0,
          19
         ]
        }
       ],
       "layout": {
        "barmode": "group",
        "hovermode": "closest",
        "legend": {
         "x": 0.5,
         "y": 1.2
        },
        "showlegend": true,
        "template": {
         "data": {
          "bar": [
           {
            "error_x": {
             "color": "#2a3f5f"
            },
            "error_y": {
             "color": "#2a3f5f"
            },
            "marker": {
             "line": {
              "color": "#E5ECF6",
              "width": 0.5
             }
            },
            "type": "bar"
           }
          ],
          "barpolar": [
           {
            "marker": {
             "line": {
              "color": "#E5ECF6",
              "width": 0.5
             }
            },
            "type": "barpolar"
           }
          ],
          "carpet": [
           {
            "aaxis": {
             "endlinecolor": "#2a3f5f",
             "gridcolor": "white",
             "linecolor": "white",
             "minorgridcolor": "white",
             "startlinecolor": "#2a3f5f"
            },
            "baxis": {
             "endlinecolor": "#2a3f5f",
             "gridcolor": "white",
             "linecolor": "white",
             "minorgridcolor": "white",
             "startlinecolor": "#2a3f5f"
            },
            "type": "carpet"
           }
          ],
          "choropleth": [
           {
            "colorbar": {
             "outlinewidth": 0,
             "ticks": ""
            },
            "type": "choropleth"
           }
          ],
          "contour": [
           {
            "colorbar": {
             "outlinewidth": 0,
             "ticks": ""
            },
            "colorscale": [
             [
              0,
              "#0d0887"
             ],
             [
              0.1111111111111111,
              "#46039f"
             ],
             [
              0.2222222222222222,
              "#7201a8"
             ],
             [
              0.3333333333333333,
              "#9c179e"
             ],
             [
              0.4444444444444444,
              "#bd3786"
             ],
             [
              0.5555555555555556,
              "#d8576b"
             ],
             [
              0.6666666666666666,
              "#ed7953"
             ],
             [
              0.7777777777777778,
              "#fb9f3a"
             ],
             [
              0.8888888888888888,
              "#fdca26"
             ],
             [
              1,
              "#f0f921"
             ]
            ],
            "type": "contour"
           }
          ],
          "contourcarpet": [
           {
            "colorbar": {
             "outlinewidth": 0,
             "ticks": ""
            },
            "type": "contourcarpet"
           }
          ],
          "heatmap": [
           {
            "colorbar": {
             "outlinewidth": 0,
             "ticks": ""
            },
            "colorscale": [
             [
              0,
              "#0d0887"
             ],
             [
              0.1111111111111111,
              "#46039f"
             ],
             [
              0.2222222222222222,
              "#7201a8"
             ],
             [
              0.3333333333333333,
              "#9c179e"
             ],
             [
              0.4444444444444444,
              "#bd3786"
             ],
             [
              0.5555555555555556,
              "#d8576b"
             ],
             [
              0.6666666666666666,
              "#ed7953"
             ],
             [
              0.7777777777777778,
              "#fb9f3a"
             ],
             [
              0.8888888888888888,
              "#fdca26"
             ],
             [
              1,
              "#f0f921"
             ]
            ],
            "type": "heatmap"
           }
          ],
          "heatmapgl": [
           {
            "colorbar": {
             "outlinewidth": 0,
             "ticks": ""
            },
            "colorscale": [
             [
              0,
              "#0d0887"
             ],
             [
              0.1111111111111111,
              "#46039f"
             ],
             [
              0.2222222222222222,
              "#7201a8"
             ],
             [
              0.3333333333333333,
              "#9c179e"
             ],
             [
              0.4444444444444444,
              "#bd3786"
             ],
             [
              0.5555555555555556,
              "#d8576b"
             ],
             [
              0.6666666666666666,
              "#ed7953"
             ],
             [
              0.7777777777777778,
              "#fb9f3a"
             ],
             [
              0.8888888888888888,
              "#fdca26"
             ],
             [
              1,
              "#f0f921"
             ]
            ],
            "type": "heatmapgl"
           }
          ],
          "histogram": [
           {
            "marker": {
             "colorbar": {
              "outlinewidth": 0,
              "ticks": ""
             }
            },
            "type": "histogram"
           }
          ],
          "histogram2d": [
           {
            "colorbar": {
             "outlinewidth": 0,
             "ticks": ""
            },
            "colorscale": [
             [
              0,
              "#0d0887"
             ],
             [
              0.1111111111111111,
              "#46039f"
             ],
             [
              0.2222222222222222,
              "#7201a8"
             ],
             [
              0.3333333333333333,
              "#9c179e"
             ],
             [
              0.4444444444444444,
              "#bd3786"
             ],
             [
              0.5555555555555556,
              "#d8576b"
             ],
             [
              0.6666666666666666,
              "#ed7953"
             ],
             [
              0.7777777777777778,
              "#fb9f3a"
             ],
             [
              0.8888888888888888,
              "#fdca26"
             ],
             [
              1,
              "#f0f921"
             ]
            ],
            "type": "histogram2d"
           }
          ],
          "histogram2dcontour": [
           {
            "colorbar": {
             "outlinewidth": 0,
             "ticks": ""
            },
            "colorscale": [
             [
              0,
              "#0d0887"
             ],
             [
              0.1111111111111111,
              "#46039f"
             ],
             [
              0.2222222222222222,
              "#7201a8"
             ],
             [
              0.3333333333333333,
              "#9c179e"
             ],
             [
              0.4444444444444444,
              "#bd3786"
             ],
             [
              0.5555555555555556,
              "#d8576b"
             ],
             [
              0.6666666666666666,
              "#ed7953"
             ],
             [
              0.7777777777777778,
              "#fb9f3a"
             ],
             [
              0.8888888888888888,
              "#fdca26"
             ],
             [
              1,
              "#f0f921"
             ]
            ],
            "type": "histogram2dcontour"
           }
          ],
          "mesh3d": [
           {
            "colorbar": {
             "outlinewidth": 0,
             "ticks": ""
            },
            "type": "mesh3d"
           }
          ],
          "parcoords": [
           {
            "line": {
             "colorbar": {
              "outlinewidth": 0,
              "ticks": ""
             }
            },
            "type": "parcoords"
           }
          ],
          "pie": [
           {
            "automargin": true,
            "type": "pie"
           }
          ],
          "scatter": [
           {
            "marker": {
             "colorbar": {
              "outlinewidth": 0,
              "ticks": ""
             }
            },
            "type": "scatter"
           }
          ],
          "scatter3d": [
           {
            "line": {
             "colorbar": {
              "outlinewidth": 0,
              "ticks": ""
             }
            },
            "marker": {
             "colorbar": {
              "outlinewidth": 0,
              "ticks": ""
             }
            },
            "type": "scatter3d"
           }
          ],
          "scattercarpet": [
           {
            "marker": {
             "colorbar": {
              "outlinewidth": 0,
              "ticks": ""
             }
            },
            "type": "scattercarpet"
           }
          ],
          "scattergeo": [
           {
            "marker": {
             "colorbar": {
              "outlinewidth": 0,
              "ticks": ""
             }
            },
            "type": "scattergeo"
           }
          ],
          "scattergl": [
           {
            "marker": {
             "colorbar": {
              "outlinewidth": 0,
              "ticks": ""
             }
            },
            "type": "scattergl"
           }
          ],
          "scattermapbox": [
           {
            "marker": {
             "colorbar": {
              "outlinewidth": 0,
              "ticks": ""
             }
            },
            "type": "scattermapbox"
           }
          ],
          "scatterpolar": [
           {
            "marker": {
             "colorbar": {
              "outlinewidth": 0,
              "ticks": ""
             }
            },
            "type": "scatterpolar"
           }
          ],
          "scatterpolargl": [
           {
            "marker": {
             "colorbar": {
              "outlinewidth": 0,
              "ticks": ""
             }
            },
            "type": "scatterpolargl"
           }
          ],
          "scatterternary": [
           {
            "marker": {
             "colorbar": {
              "outlinewidth": 0,
              "ticks": ""
             }
            },
            "type": "scatterternary"
           }
          ],
          "surface": [
           {
            "colorbar": {
             "outlinewidth": 0,
             "ticks": ""
            },
            "colorscale": [
             [
              0,
              "#0d0887"
             ],
             [
              0.1111111111111111,
              "#46039f"
             ],
             [
              0.2222222222222222,
              "#7201a8"
             ],
             [
              0.3333333333333333,
              "#9c179e"
             ],
             [
              0.4444444444444444,
              "#bd3786"
             ],
             [
              0.5555555555555556,
              "#d8576b"
             ],
             [
              0.6666666666666666,
              "#ed7953"
             ],
             [
              0.7777777777777778,
              "#fb9f3a"
             ],
             [
              0.8888888888888888,
              "#fdca26"
             ],
             [
              1,
              "#f0f921"
             ]
            ],
            "type": "surface"
           }
          ],
          "table": [
           {
            "cells": {
             "fill": {
              "color": "#EBF0F8"
             },
             "line": {
              "color": "white"
             }
            },
            "header": {
             "fill": {
              "color": "#C8D4E3"
             },
             "line": {
              "color": "white"
             }
            },
            "type": "table"
           }
          ]
         },
         "layout": {
          "annotationdefaults": {
           "arrowcolor": "#2a3f5f",
           "arrowhead": 0,
           "arrowwidth": 1
          },
          "coloraxis": {
           "colorbar": {
            "outlinewidth": 0,
            "ticks": ""
           }
          },
          "colorscale": {
           "diverging": [
            [
             0,
             "#8e0152"
            ],
            [
             0.1,
             "#c51b7d"
            ],
            [
             0.2,
             "#de77ae"
            ],
            [
             0.3,
             "#f1b6da"
            ],
            [
             0.4,
             "#fde0ef"
            ],
            [
             0.5,
             "#f7f7f7"
            ],
            [
             0.6,
             "#e6f5d0"
            ],
            [
             0.7,
             "#b8e186"
            ],
            [
             0.8,
             "#7fbc41"
            ],
            [
             0.9,
             "#4d9221"
            ],
            [
             1,
             "#276419"
            ]
           ],
           "sequential": [
            [
             0,
             "#0d0887"
            ],
            [
             0.1111111111111111,
             "#46039f"
            ],
            [
             0.2222222222222222,
             "#7201a8"
            ],
            [
             0.3333333333333333,
             "#9c179e"
            ],
            [
             0.4444444444444444,
             "#bd3786"
            ],
            [
             0.5555555555555556,
             "#d8576b"
            ],
            [
             0.6666666666666666,
             "#ed7953"
            ],
            [
             0.7777777777777778,
             "#fb9f3a"
            ],
            [
             0.8888888888888888,
             "#fdca26"
            ],
            [
             1,
             "#f0f921"
            ]
           ],
           "sequentialminus": [
            [
             0,
             "#0d0887"
            ],
            [
             0.1111111111111111,
             "#46039f"
            ],
            [
             0.2222222222222222,
             "#7201a8"
            ],
            [
             0.3333333333333333,
             "#9c179e"
            ],
            [
             0.4444444444444444,
             "#bd3786"
            ],
            [
             0.5555555555555556,
             "#d8576b"
            ],
            [
             0.6666666666666666,
             "#ed7953"
            ],
            [
             0.7777777777777778,
             "#fb9f3a"
            ],
            [
             0.8888888888888888,
             "#fdca26"
            ],
            [
             1,
             "#f0f921"
            ]
           ]
          },
          "colorway": [
           "#636efa",
           "#EF553B",
           "#00cc96",
           "#ab63fa",
           "#FFA15A",
           "#19d3f3",
           "#FF6692",
           "#B6E880",
           "#FF97FF",
           "#FECB52"
          ],
          "font": {
           "color": "#2a3f5f"
          },
          "geo": {
           "bgcolor": "white",
           "lakecolor": "white",
           "landcolor": "#E5ECF6",
           "showlakes": true,
           "showland": true,
           "subunitcolor": "white"
          },
          "hoverlabel": {
           "align": "left"
          },
          "hovermode": "closest",
          "mapbox": {
           "style": "light"
          },
          "paper_bgcolor": "white",
          "plot_bgcolor": "#E5ECF6",
          "polar": {
           "angularaxis": {
            "gridcolor": "white",
            "linecolor": "white",
            "ticks": ""
           },
           "bgcolor": "#E5ECF6",
           "radialaxis": {
            "gridcolor": "white",
            "linecolor": "white",
            "ticks": ""
           }
          },
          "scene": {
           "xaxis": {
            "backgroundcolor": "#E5ECF6",
            "gridcolor": "white",
            "gridwidth": 2,
            "linecolor": "white",
            "showbackground": true,
            "ticks": "",
            "zerolinecolor": "white"
           },
           "yaxis": {
            "backgroundcolor": "#E5ECF6",
            "gridcolor": "white",
            "gridwidth": 2,
            "linecolor": "white",
            "showbackground": true,
            "ticks": "",
            "zerolinecolor": "white"
           },
           "zaxis": {
            "backgroundcolor": "#E5ECF6",
            "gridcolor": "white",
            "gridwidth": 2,
            "linecolor": "white",
            "showbackground": true,
            "ticks": "",
            "zerolinecolor": "white"
           }
          },
          "shapedefaults": {
           "line": {
            "color": "#2a3f5f"
           }
          },
          "ternary": {
           "aaxis": {
            "gridcolor": "white",
            "linecolor": "white",
            "ticks": ""
           },
           "baxis": {
            "gridcolor": "white",
            "linecolor": "white",
            "ticks": ""
           },
           "bgcolor": "#E5ECF6",
           "caxis": {
            "gridcolor": "white",
            "linecolor": "white",
            "ticks": ""
           }
          },
          "title": {
           "x": 0.05
          },
          "xaxis": {
           "automargin": true,
           "gridcolor": "white",
           "linecolor": "white",
           "ticks": "",
           "title": {
            "standoff": 15
           },
           "zerolinecolor": "white",
           "zerolinewidth": 2
          },
          "yaxis": {
           "automargin": true,
           "gridcolor": "white",
           "linecolor": "white",
           "ticks": "",
           "title": {
            "standoff": 15
           },
           "zerolinecolor": "white",
           "zerolinewidth": 2
          }
         }
        },
        "xaxis": {
         "gridwidth": 2,
         "ticklen": 5,
         "title": {
          "text": "Monthly"
         },
         "zeroline": true
        },
        "yaxis": {
         "gridwidth": 2,
         "ticklen": 5,
         "title": {
          "text": "Actions"
         }
        }
       }
      },
      "text/html": [
       "<div>\n",
       "        \n",
       "        \n",
       "            <div id=\"949c8498-bb36-4f10-99f2-796b79291607\" class=\"plotly-graph-div\" style=\"height:525px; width:100%;\"></div>\n",
       "            <script type=\"text/javascript\">\n",
       "                require([\"plotly\"], function(Plotly) {\n",
       "                    window.PLOTLYENV=window.PLOTLYENV || {};\n",
       "                    \n",
       "                if (document.getElementById(\"949c8498-bb36-4f10-99f2-796b79291607\")) {\n",
       "                    Plotly.newPlot(\n",
       "                        '949c8498-bb36-4f10-99f2-796b79291607',\n",
       "                        [{\"marker\": {\"color\": \"rgba(0, 0, 0, 1)\"}, \"name\": \"adds\", \"type\": \"scatter\", \"x\": [\"2017-03-31T00:00:00\", \"2017-04-30T00:00:00\", \"2017-05-31T00:00:00\", \"2017-06-30T00:00:00\", \"2017-07-31T00:00:00\", \"2017-08-31T00:00:00\", \"2017-09-30T00:00:00\", \"2017-10-31T00:00:00\", \"2017-11-30T00:00:00\", \"2017-12-31T00:00:00\", \"2018-01-31T00:00:00\", \"2018-02-28T00:00:00\", \"2018-03-31T00:00:00\", \"2018-04-30T00:00:00\", \"2018-05-31T00:00:00\", \"2018-06-30T00:00:00\", \"2018-07-31T00:00:00\", \"2018-08-31T00:00:00\", \"2018-09-30T00:00:00\", \"2018-10-31T00:00:00\", \"2018-11-30T00:00:00\", \"2018-12-31T00:00:00\", \"2019-01-31T00:00:00\"], \"y\": [215, 0, 0, 0, 0, 108, 0, 251, 0, 0, 0, 41, 257, 62, 0, 232, 306, 0, 0, 111, 0, 0, 7]}, {\"marker\": {\"color\": \"rgba(255, 0, 0, .8)\"}, \"name\": \"dels\", \"type\": \"scatter\", \"x\": [\"2017-03-31T00:00:00\", \"2017-04-30T00:00:00\", \"2017-05-31T00:00:00\", \"2017-06-30T00:00:00\", \"2017-07-31T00:00:00\", \"2017-08-31T00:00:00\", \"2017-09-30T00:00:00\", \"2017-10-31T00:00:00\", \"2017-11-30T00:00:00\", \"2017-12-31T00:00:00\", \"2018-01-31T00:00:00\", \"2018-02-28T00:00:00\", \"2018-03-31T00:00:00\", \"2018-04-30T00:00:00\", \"2018-05-31T00:00:00\", \"2018-06-30T00:00:00\", \"2018-07-31T00:00:00\", \"2018-08-31T00:00:00\", \"2018-09-30T00:00:00\", \"2018-10-31T00:00:00\", \"2018-11-30T00:00:00\", \"2018-12-31T00:00:00\", \"2019-01-31T00:00:00\"], \"y\": [2, 0, 0, 0, 0, 2, 0, 0, 0, 0, 0, 49, 69, 28, 9, 74, 336, 0, 0, 116, 0, 0, 19]}],\n",
       "                        {\"barmode\": \"group\", \"hovermode\": \"closest\", \"legend\": {\"x\": 0.5, \"y\": 1.2}, \"showlegend\": true, \"template\": {\"data\": {\"bar\": [{\"error_x\": {\"color\": \"#2a3f5f\"}, \"error_y\": {\"color\": \"#2a3f5f\"}, \"marker\": {\"line\": {\"color\": \"#E5ECF6\", \"width\": 0.5}}, \"type\": \"bar\"}], \"barpolar\": [{\"marker\": {\"line\": {\"color\": \"#E5ECF6\", \"width\": 0.5}}, \"type\": \"barpolar\"}], \"carpet\": [{\"aaxis\": {\"endlinecolor\": \"#2a3f5f\", \"gridcolor\": \"white\", \"linecolor\": \"white\", \"minorgridcolor\": \"white\", \"startlinecolor\": \"#2a3f5f\"}, \"baxis\": {\"endlinecolor\": \"#2a3f5f\", \"gridcolor\": \"white\", \"linecolor\": \"white\", \"minorgridcolor\": \"white\", \"startlinecolor\": \"#2a3f5f\"}, \"type\": \"carpet\"}], \"choropleth\": [{\"colorbar\": {\"outlinewidth\": 0, \"ticks\": \"\"}, \"type\": \"choropleth\"}], \"contour\": [{\"colorbar\": {\"outlinewidth\": 0, \"ticks\": \"\"}, \"colorscale\": [[0.0, \"#0d0887\"], [0.1111111111111111, \"#46039f\"], [0.2222222222222222, \"#7201a8\"], [0.3333333333333333, \"#9c179e\"], [0.4444444444444444, \"#bd3786\"], [0.5555555555555556, \"#d8576b\"], [0.6666666666666666, \"#ed7953\"], [0.7777777777777778, \"#fb9f3a\"], [0.8888888888888888, \"#fdca26\"], [1.0, \"#f0f921\"]], \"type\": \"contour\"}], \"contourcarpet\": [{\"colorbar\": {\"outlinewidth\": 0, \"ticks\": \"\"}, \"type\": \"contourcarpet\"}], \"heatmap\": [{\"colorbar\": {\"outlinewidth\": 0, \"ticks\": \"\"}, \"colorscale\": [[0.0, \"#0d0887\"], [0.1111111111111111, \"#46039f\"], [0.2222222222222222, \"#7201a8\"], [0.3333333333333333, \"#9c179e\"], [0.4444444444444444, \"#bd3786\"], [0.5555555555555556, \"#d8576b\"], [0.6666666666666666, \"#ed7953\"], [0.7777777777777778, \"#fb9f3a\"], [0.8888888888888888, \"#fdca26\"], [1.0, \"#f0f921\"]], \"type\": \"heatmap\"}], \"heatmapgl\": [{\"colorbar\": {\"outlinewidth\": 0, \"ticks\": \"\"}, \"colorscale\": [[0.0, \"#0d0887\"], [0.1111111111111111, \"#46039f\"], [0.2222222222222222, \"#7201a8\"], [0.3333333333333333, \"#9c179e\"], [0.4444444444444444, \"#bd3786\"], [0.5555555555555556, \"#d8576b\"], [0.6666666666666666, \"#ed7953\"], [0.7777777777777778, \"#fb9f3a\"], [0.8888888888888888, \"#fdca26\"], [1.0, \"#f0f921\"]], \"type\": \"heatmapgl\"}], \"histogram\": [{\"marker\": {\"colorbar\": {\"outlinewidth\": 0, \"ticks\": \"\"}}, \"type\": \"histogram\"}], \"histogram2d\": [{\"colorbar\": {\"outlinewidth\": 0, \"ticks\": \"\"}, \"colorscale\": [[0.0, \"#0d0887\"], [0.1111111111111111, \"#46039f\"], [0.2222222222222222, \"#7201a8\"], [0.3333333333333333, \"#9c179e\"], [0.4444444444444444, \"#bd3786\"], [0.5555555555555556, \"#d8576b\"], [0.6666666666666666, \"#ed7953\"], [0.7777777777777778, \"#fb9f3a\"], [0.8888888888888888, \"#fdca26\"], [1.0, \"#f0f921\"]], \"type\": \"histogram2d\"}], \"histogram2dcontour\": [{\"colorbar\": {\"outlinewidth\": 0, \"ticks\": \"\"}, \"colorscale\": [[0.0, \"#0d0887\"], [0.1111111111111111, \"#46039f\"], [0.2222222222222222, \"#7201a8\"], [0.3333333333333333, \"#9c179e\"], [0.4444444444444444, \"#bd3786\"], [0.5555555555555556, \"#d8576b\"], [0.6666666666666666, \"#ed7953\"], [0.7777777777777778, \"#fb9f3a\"], [0.8888888888888888, \"#fdca26\"], [1.0, \"#f0f921\"]], \"type\": \"histogram2dcontour\"}], \"mesh3d\": [{\"colorbar\": {\"outlinewidth\": 0, \"ticks\": \"\"}, \"type\": \"mesh3d\"}], \"parcoords\": [{\"line\": {\"colorbar\": {\"outlinewidth\": 0, \"ticks\": \"\"}}, \"type\": \"parcoords\"}], \"pie\": [{\"automargin\": true, \"type\": \"pie\"}], \"scatter\": [{\"marker\": {\"colorbar\": {\"outlinewidth\": 0, \"ticks\": \"\"}}, \"type\": \"scatter\"}], \"scatter3d\": [{\"line\": {\"colorbar\": {\"outlinewidth\": 0, \"ticks\": \"\"}}, \"marker\": {\"colorbar\": {\"outlinewidth\": 0, \"ticks\": \"\"}}, \"type\": \"scatter3d\"}], \"scattercarpet\": [{\"marker\": {\"colorbar\": {\"outlinewidth\": 0, \"ticks\": \"\"}}, \"type\": \"scattercarpet\"}], \"scattergeo\": [{\"marker\": {\"colorbar\": {\"outlinewidth\": 0, \"ticks\": \"\"}}, \"type\": \"scattergeo\"}], \"scattergl\": [{\"marker\": {\"colorbar\": {\"outlinewidth\": 0, \"ticks\": \"\"}}, \"type\": \"scattergl\"}], \"scattermapbox\": [{\"marker\": {\"colorbar\": {\"outlinewidth\": 0, \"ticks\": \"\"}}, \"type\": \"scattermapbox\"}], \"scatterpolar\": [{\"marker\": {\"colorbar\": {\"outlinewidth\": 0, \"ticks\": \"\"}}, \"type\": \"scatterpolar\"}], \"scatterpolargl\": [{\"marker\": {\"colorbar\": {\"outlinewidth\": 0, \"ticks\": \"\"}}, \"type\": \"scatterpolargl\"}], \"scatterternary\": [{\"marker\": {\"colorbar\": {\"outlinewidth\": 0, \"ticks\": \"\"}}, \"type\": \"scatterternary\"}], \"surface\": [{\"colorbar\": {\"outlinewidth\": 0, \"ticks\": \"\"}, \"colorscale\": [[0.0, \"#0d0887\"], [0.1111111111111111, \"#46039f\"], [0.2222222222222222, \"#7201a8\"], [0.3333333333333333, \"#9c179e\"], [0.4444444444444444, \"#bd3786\"], [0.5555555555555556, \"#d8576b\"], [0.6666666666666666, \"#ed7953\"], [0.7777777777777778, \"#fb9f3a\"], [0.8888888888888888, \"#fdca26\"], [1.0, \"#f0f921\"]], \"type\": \"surface\"}], \"table\": [{\"cells\": {\"fill\": {\"color\": \"#EBF0F8\"}, \"line\": {\"color\": \"white\"}}, \"header\": {\"fill\": {\"color\": \"#C8D4E3\"}, \"line\": {\"color\": \"white\"}}, \"type\": \"table\"}]}, \"layout\": {\"annotationdefaults\": {\"arrowcolor\": \"#2a3f5f\", \"arrowhead\": 0, \"arrowwidth\": 1}, \"coloraxis\": {\"colorbar\": {\"outlinewidth\": 0, \"ticks\": \"\"}}, \"colorscale\": {\"diverging\": [[0, \"#8e0152\"], [0.1, \"#c51b7d\"], [0.2, \"#de77ae\"], [0.3, \"#f1b6da\"], [0.4, \"#fde0ef\"], [0.5, \"#f7f7f7\"], [0.6, \"#e6f5d0\"], [0.7, \"#b8e186\"], [0.8, \"#7fbc41\"], [0.9, \"#4d9221\"], [1, \"#276419\"]], \"sequential\": [[0.0, \"#0d0887\"], [0.1111111111111111, \"#46039f\"], [0.2222222222222222, \"#7201a8\"], [0.3333333333333333, \"#9c179e\"], [0.4444444444444444, \"#bd3786\"], [0.5555555555555556, \"#d8576b\"], [0.6666666666666666, \"#ed7953\"], [0.7777777777777778, \"#fb9f3a\"], [0.8888888888888888, \"#fdca26\"], [1.0, \"#f0f921\"]], \"sequentialminus\": [[0.0, \"#0d0887\"], [0.1111111111111111, \"#46039f\"], [0.2222222222222222, \"#7201a8\"], [0.3333333333333333, \"#9c179e\"], [0.4444444444444444, \"#bd3786\"], [0.5555555555555556, \"#d8576b\"], [0.6666666666666666, \"#ed7953\"], [0.7777777777777778, \"#fb9f3a\"], [0.8888888888888888, \"#fdca26\"], [1.0, \"#f0f921\"]]}, \"colorway\": [\"#636efa\", \"#EF553B\", \"#00cc96\", \"#ab63fa\", \"#FFA15A\", \"#19d3f3\", \"#FF6692\", \"#B6E880\", \"#FF97FF\", \"#FECB52\"], \"font\": {\"color\": \"#2a3f5f\"}, \"geo\": {\"bgcolor\": \"white\", \"lakecolor\": \"white\", \"landcolor\": \"#E5ECF6\", \"showlakes\": true, \"showland\": true, \"subunitcolor\": \"white\"}, \"hoverlabel\": {\"align\": \"left\"}, \"hovermode\": \"closest\", \"mapbox\": {\"style\": \"light\"}, \"paper_bgcolor\": \"white\", \"plot_bgcolor\": \"#E5ECF6\", \"polar\": {\"angularaxis\": {\"gridcolor\": \"white\", \"linecolor\": \"white\", \"ticks\": \"\"}, \"bgcolor\": \"#E5ECF6\", \"radialaxis\": {\"gridcolor\": \"white\", \"linecolor\": \"white\", \"ticks\": \"\"}}, \"scene\": {\"xaxis\": {\"backgroundcolor\": \"#E5ECF6\", \"gridcolor\": \"white\", \"gridwidth\": 2, \"linecolor\": \"white\", \"showbackground\": true, \"ticks\": \"\", \"zerolinecolor\": \"white\"}, \"yaxis\": {\"backgroundcolor\": \"#E5ECF6\", \"gridcolor\": \"white\", \"gridwidth\": 2, \"linecolor\": \"white\", \"showbackground\": true, \"ticks\": \"\", \"zerolinecolor\": \"white\"}, \"zaxis\": {\"backgroundcolor\": \"#E5ECF6\", \"gridcolor\": \"white\", \"gridwidth\": 2, \"linecolor\": \"white\", \"showbackground\": true, \"ticks\": \"\", \"zerolinecolor\": \"white\"}}, \"shapedefaults\": {\"line\": {\"color\": \"#2a3f5f\"}}, \"ternary\": {\"aaxis\": {\"gridcolor\": \"white\", \"linecolor\": \"white\", \"ticks\": \"\"}, \"baxis\": {\"gridcolor\": \"white\", \"linecolor\": \"white\", \"ticks\": \"\"}, \"bgcolor\": \"#E5ECF6\", \"caxis\": {\"gridcolor\": \"white\", \"linecolor\": \"white\", \"ticks\": \"\"}}, \"title\": {\"x\": 0.05}, \"xaxis\": {\"automargin\": true, \"gridcolor\": \"white\", \"linecolor\": \"white\", \"ticks\": \"\", \"title\": {\"standoff\": 15}, \"zerolinecolor\": \"white\", \"zerolinewidth\": 2}, \"yaxis\": {\"automargin\": true, \"gridcolor\": \"white\", \"linecolor\": \"white\", \"ticks\": \"\", \"title\": {\"standoff\": 15}, \"zerolinecolor\": \"white\", \"zerolinewidth\": 2}}}, \"xaxis\": {\"gridwidth\": 2, \"ticklen\": 5, \"title\": {\"text\": \"Monthly\"}, \"zeroline\": true}, \"yaxis\": {\"gridwidth\": 2, \"ticklen\": 5, \"title\": {\"text\": \"Actions\"}}},\n",
       "                        {\"responsive\": true}\n",
       "                    ).then(function(){\n",
       "                            \n",
       "var gd = document.getElementById('949c8498-bb36-4f10-99f2-796b79291607');\n",
       "var x = new MutationObserver(function (mutations, observer) {{\n",
       "        var display = window.getComputedStyle(gd).display;\n",
       "        if (!display || display === 'none') {{\n",
       "            console.log([gd, 'removed!']);\n",
       "            Plotly.purge(gd);\n",
       "            observer.disconnect();\n",
       "        }}\n",
       "}});\n",
       "\n",
       "// Listen for the removal of the full notebook cells\n",
       "var notebookContainer = gd.closest('#notebook-container');\n",
       "if (notebookContainer) {{\n",
       "    x.observe(notebookContainer, {childList: true});\n",
       "}}\n",
       "\n",
       "// Listen for the clearing of the current output cell\n",
       "var outputEl = gd.closest('.output');\n",
       "if (outputEl) {{\n",
       "    x.observe(outputEl, {childList: true});\n",
       "}}\n",
       "\n",
       "                        })\n",
       "                };\n",
       "                });\n",
       "            </script>\n",
       "        </div>"
      ]
     },
     "metadata": {},
     "output_type": "display_data"
    }
   ],
   "source": [
    "### ------------------------------------------------------------------------------------------- ###\n",
    "### TRY YOURSELF! THIS IS WHAT WILL HAPPEN WHEN YOU CLICK 'Conflicting Editors Activity' BUTTON ###\n",
    "### ------------------------------------------------------------------------------------------- ###\n",
    "\n",
    "## This is the page you used and the editor you select in the above grid. ##\n",
    "print('The page that is being used:', the_page['title'])\n",
    "print('Selected editor:', editor_info['name'])\n",
    "print('Available Conflicting Editors:', final_editors['name'].tolist())\n",
    "\n",
    "## First check if the list is empty. ##\n",
    "if len(final_editors) == 0:\n",
    "    print('There is no other registered conflicting editor. Please try another one!')\n",
    "else:\n",
    "    ## Merge editors' all actions information into 'final_editors' table. ##\n",
    "    final_editors['userid'] = final_editors['userid'].astype('int')\n",
    "    conf_editor_total_actions = final_editors[['userid','name','registration']].merge(total_actions, \n",
    "                                             left_on='userid', right_on='editor_id', how='left').set_index('userid')\n",
    "    \n",
    "    ## Visualization, core visual code lies in ActionsListener, then the interact function    ##\n",
    "    ## make it interactive, mode details see:                                                 ##\n",
    "    ## https://github.com/gesiscss/wikiwho_demo/blob/master/visualization/actions_listener.py ##\n",
    "    \n",
    "    # Create an ActionsListener instance.\n",
    "    actionslistener = ActionsListener(conf_editor_total_actions)\n",
    "    \n",
    "    # What types do those actions have?\n",
    "    actions_types = (conf_editor_total_actions.loc[:,'total':'total_stopword_count'].columns.append(\n",
    "                        conf_editor_total_actions.loc[:,'adds':'reins_stopword_count'].columns)).values.tolist()\n",
    "    \n",
    "    # Visualization: try yourself by coding!\n",
    "    begin_date = date(2002, 3, 1)\n",
    "    end_date = date(2019, 4, 1)\n",
    "    editor_name = 'All' # Select one conflicting name from the above list, or 'All'!\n",
    "    frequency = 'Monthly' # 'Yearly', 'Monthly'\n",
    "    black_line = 'adds' # Choose one from 'actions_types'. Note that 'black_line doesn't have 'None' option but others have.\n",
    "    red_line = 'dels'\n",
    "    blue_line = 'None'\n",
    "    green_line = 'None'\n",
    "    \n",
    "    print('Time range from', begin_date.strftime(\"%Y-%m-%d\"), 'to', end_date.strftime(\"%Y-%m-%d\"))\n",
    "    print(\"Current editor's name is\", editor_name)\n",
    "    \n",
    "    actionslistener.listen(\n",
    "        _range = (begin_date, end_date),\n",
    "        editor = editor_name,\n",
    "        granularity = frequency,\n",
    "        black = black_line,\n",
    "        red = red_line,\n",
    "        blue = blue_line,\n",
    "        green = green_line)"
   ]
  },
  {
   "cell_type": "markdown",
   "metadata": {},
   "source": [
    "---\n",
    "\n",
    "# D. Tokens of conflicting editors"
   ]
  },
  {
   "cell_type": "code",
   "execution_count": 13,
   "metadata": {
    "hide_input": true
   },
   "outputs": [
    {
     "data": {
      "text/markdown": [
       "***Page: The Camp of the Saints***"
      ],
      "text/plain": [
       "<IPython.core.display.Markdown object>"
      ]
     },
     "metadata": {},
     "output_type": "display_data"
    }
   ],
   "source": [
    "display(md(f\"***Page: {the_page['title']}***\"))"
   ]
  },
  {
   "cell_type": "markdown",
   "metadata": {},
   "source": [
    "The WordCloud displays the most common token strings (words) that a particular editor \n",
    "inserted or deleted and that enter into conflict with other editors. The size of the token string in \n",
    "the WordCloud indicates frequency of actions.\n",
    "\n",
    "In the controls, you can select the conflicting *editor*, the *date range*, the type of *action* \n",
    "(insertion or deletion), and the *source*. The *source* can be any of the following:\n",
    "\n",
    "-   **Only Conflicts**: use only the actions that are in conflict\n",
    "-   **All Undos**: use all actions that involve and undo"
   ]
  },
  {
   "cell_type": "code",
   "execution_count": 14,
   "metadata": {
    "hide_input": true,
    "scrolled": false
   },
   "outputs": [
    {
     "data": {
      "application/vnd.jupyter.widget-view+json": {
       "model_id": "999688f589ca4b169e17db7076a29c7c",
       "version_major": 2,
       "version_minor": 0
      },
      "text/plain": [
       "Button(description='Tokens of Conflicting Editors', layout=Layout(width='190px'), style=ButtonStyle())"
      ]
     },
     "metadata": {},
     "output_type": "display_data"
    },
    {
     "data": {
      "application/vnd.jupyter.widget-view+json": {
       "model_id": "7c01c6b8759c4b359419a6c88e6709f6",
       "version_major": 2,
       "version_minor": 0
      },
      "text/plain": [
       "Output()"
      ]
     },
     "metadata": {},
     "output_type": "display_data"
    }
   ],
   "source": [
    "# create and display the button\n",
    "button3 = widgets.Button(description=\"Tokens of Conflicting Editors\", layout=Layout(width='190px'))\n",
    "display(button3)\n",
    "\n",
    "def on_click_token_conflict(b):\n",
    "    with out3:\n",
    "        clear_output()\n",
    "        display(md(f\"***Editor: {the_editor['name']}***\"))\n",
    "        \n",
    "        if len(editors) == 0:\n",
    "           print('Thallere is no other registered conflicting editor. Please try another one!')\n",
    "        else:      \n",
    "            editors['userid'] = editors['userid'].astype('str')\n",
    "            editor_conflicts = editors[['userid','name','registration']].merge(conflicting_actions, \n",
    "                     left_on='userid', right_on='editor', how='left').set_index('userid')\n",
    "            sources = {\n",
    "                f'Elegible Actions': editor_conflicts,\n",
    "                f'Only Conflicts': editor_conflicts[~editor_conflicts['conflict'].isnull()]\n",
    "            }\n",
    "\n",
    "            # listener\n",
    "            listener = WCListener(sources)\n",
    "\n",
    "            # visualization\n",
    "            interact(listener.listen, \n",
    "                     _range=get_date_slider_from_datetime(editor_conflicts['rev_time']),\n",
    "                     editor=Dropdown(options=['All']  + editors['name'].values.tolist(), value='All', layout={'width': '400px'}),\n",
    "                     source=Dropdown(options=list(listener.sources.keys()), value= f'Elegible Actions', layout={'width': '400px'}),\n",
    "                     action=Dropdown(options=['Both', 'Just Insertions', 'Just Deletions'], value='Both', layout={'width': '400px'}))\n",
    "\n",
    "out3 = Output()\n",
    "display(out3)\n",
    "\n",
    "# set the event\n",
    "button3.on_click(on_click_token_conflict)\n",
    "\n",
    "# trigger the event with the default value\n",
    "on_click_token_conflict(button3)"
   ]
  },
  {
   "cell_type": "markdown",
   "metadata": {
    "solution2": "hidden",
    "solution2_first": true
   },
   "source": [
    "### <span style=\"color:green\"> TRY YOURSELF! THIS IS WHAT WILL HAPPEN WHEN YOU CLICK 'Tokens of Conflicting Editors' Button </span>"
   ]
  },
  {
   "cell_type": "code",
   "execution_count": 22,
   "metadata": {
    "solution2": "hidden"
   },
   "outputs": [
    {
     "name": "stdout",
     "output_type": "stream",
     "text": [
      "The page that is being used: The Camp of the Saints\n",
      "Selected editor: Gamaliel\n",
      "Available Conflicting Editors: ['NPalgan2', 'XavierItzm', 'Ishbiliyya', 'Black Kite', 'Geni']\n",
      "Time range from 2005-03-01 to 2019-07-04\n",
      "Current editor's name is All\n"
     ]
    },
    {
     "data": {
      "text/markdown": [
       "**Only top 100 most frequent words displayed.**"
      ],
      "text/plain": [
       "<IPython.core.display.Markdown object>"
      ]
     },
     "metadata": {},
     "output_type": "display_data"
    },
    {
     "data": {
      "text/markdown": [
       "### The below token conflicts ocurred in a total of 10 revisions:"
      ],
      "text/plain": [
       "<IPython.core.display.Markdown object>"
      ]
     },
     "metadata": {},
     "output_type": "display_data"
    },
    {
     "data": {
      "image/png": "[encoded data removed]",
      "text/plain": [
       "<Figure size 1008x504 with 1 Axes>"
      ]
     },
     "metadata": {
      "needs_background": "light"
     },
     "output_type": "display_data"
    }
   ],
   "source": [
    "### -------------------------------------------------------------------------------------------- ###\n",
    "### TRY YOURSELF! THIS IS WHAT WILL HAPPEN WHEN YOU CLICK 'Tokens of Conflicting Editors' BUTTON ###\n",
    "### -------------------------------------------------------------------------------------------- ###\n",
    "\n",
    "## This is the page you used and the editor you select in the above grid. ##\n",
    "print('The page that is being used:', the_page['title'])\n",
    "print('Selected editor:', editor_info['name'])\n",
    "print('Available Conflicting Editors:', final_editors['name'].tolist())\n",
    "\n",
    "## First check if the list is empty. ##\n",
    "if len(final_editors) == 0:\n",
    "    print('There is no other registered conflicting editor. Please try another one!')\n",
    "else:\n",
    "    ## Include conflict token info into editors' basic information table. ##\n",
    "    final_editors['userid'] = final_editors['userid'].astype('str')\n",
    "    editor_in_conflicts = final_editors[['userid','name','registration']].merge(all_conflict_actions, \n",
    "                             left_on='userid', right_on='editor', how='left').set_index('userid')\n",
    "    \n",
    "    ## WordCloud, core visual code lies in WCListener, then the interact function               ##\n",
    "    ## make it interactive, mode details see:                                                   ##\n",
    "    ## https://github.com/gesiscss/wikiwho_demo/blob/master/visualization/wordcloud_listener.py ##\n",
    "    \n",
    "    # Define the token sources.\n",
    "    wcsources = {\n",
    "    f'Elegible Actions': editor_in_conflicts,\n",
    "    f'Only Conflicts': editor_in_conflicts[~editor_in_conflicts['conflict'].isnull()]}\n",
    "\n",
    "    # Create a WCListener instance\n",
    "    wclistener = WCListener(wcsources)\n",
    "    \n",
    "    # Visualization: you could also perform it by coding!\n",
    "    begin_date = date(2005, 3, 1)\n",
    "    end_date = date(2019, 7, 4)\n",
    "    editor='All' # Select one conflicting name from the above list, or 'All'!\n",
    "    actions_source='Only Conflicts' # 'Elegible Actions', 'Only Conflicts'\n",
    "    action_type='Both' # 'Just Insertions', 'Just Deletions', 'Both'\n",
    "    \n",
    "\n",
    "    print('Time range from', begin_date.strftime(\"%Y-%m-%d\"), 'to', end_date.strftime(\"%Y-%m-%d\"))\n",
    "    print(\"Current editor's name is\", editor)\n",
    "    wclistener.listen(\n",
    "         _range=(begin_date, end_date),\n",
    "         source=actions_source,\n",
    "         action=action_type,\n",
    "         editor=editor)"
   ]
  },
  {
   "cell_type": "code",
   "execution_count": 18,
   "metadata": {
    "hide_input": true
   },
   "outputs": [
    {
     "data": {
      "text/html": [
       "<a href=\"5. Using Wikiwho to explore the history of an editor.ipynb\" target=\"_blank\">Go to next workbook</a>"
      ],
      "text/plain": [
       "<IPython.core.display.HTML object>"
      ]
     },
     "metadata": {},
     "output_type": "display_data"
    }
   ],
   "source": [
    "from IPython.display import HTML\n",
    "from utils.notebooks import get_next_notebook\n",
    "\n",
    "display(HTML(f'<a href=\"{get_next_notebook()}\" target=\"_blank\">Go to next workbook</a>'))\n"
   ]
  }
 ],
 "metadata": {
  "hide_input": false,
  "kernelspec": {
   "display_name": "Python 3",
   "language": "python",
   "name": "python3"
  },
  "language_info": {
   "codemirror_mode": {
    "name": "ipython",
    "version": 3
   },
   "file_extension": ".py",
   "mimetype": "text/x-python",
   "name": "python",
   "nbconvert_exporter": "python",
   "pygments_lexer": "ipython3",
   "version": "3.8.1"
  }
 },
 "nbformat": 4,
 "nbformat_minor": 2
}
