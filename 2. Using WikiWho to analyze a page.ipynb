{
 "cells": [
  {
   "cell_type": "code",
   "execution_count": 2,
   "metadata": {
    "hide_input": true,
    "init_cell": true,
    "scrolled": false
   },
   "outputs": [
    {
     "data": {
      "application/javascript": [
       "IPython.notebook.execute_cells_below()"
      ],
      "text/plain": [
       "<IPython.core.display.Javascript object>"
      ]
     },
     "metadata": {},
     "output_type": "display_data"
    }
   ],
   "source": [
    "from IPython.display import display, Javascript, HTML, clear_output\n",
    "from ipywidgets import widgets, Output, interact, fixed\n",
    "from ipywidgets.widgets import Dropdown, interactive_output, VBox\n",
    "from urllib.parse import quote_plus\n",
    "from utils.notebooks import get_date_slider_from_datetime\n",
    "\n",
    "from toggle import hide_toggle, hide_toggle2, hide_cell, show_all\n",
    "\n",
    "display(Javascript('IPython.notebook.execute_cells_below()'))"
   ]
  },
  {
   "cell_type": "code",
   "execution_count": 3,
   "metadata": {
    "hide_input": true
   },
   "outputs": [],
   "source": [
    "%%capture\n",
    "## Some Extensions ##\n",
    "%load_ext autoreload\n",
    "%autoreload 2\n",
    "%store -r the_page\n",
    "\n",
    "if 'the_page' not in locals():\n",
    "    import pickle\n",
    "    print(\"Loading default data...\")\n",
    "    the_page = pickle.load(open(\"data/the_page.p\",'rb'))"
   ]
  },
  {
   "cell_type": "markdown",
   "metadata": {
    "hide_input": false,
    "solution2": "hidden",
    "solution2_first": true
   },
   "source": [
    "### <span style=\"color:green\"> Modules Imported </span>"
   ]
  },
  {
   "cell_type": "code",
   "execution_count": 4,
   "metadata": {
    "hide_input": false,
    "scrolled": true,
    "solution2": "hidden"
   },
   "outputs": [],
   "source": [
    "## Modules Imported ##\n",
    "\n",
    "# Display\n",
    "from IPython.display import display, Markdown as md, clear_output, HTML, Javascript\n",
    "from datetime import datetime, date\n",
    "from ipywidgets import Layout\n",
    "\n",
    "# APIs\n",
    "from wikiwho_wrapper import WikiWho\n",
    "from external.wikipedia import WikipediaDV, WikipediaAPI\n",
    "\n",
    "# Data Processing\n",
    "import pandas as pd\n",
    "\n",
    "# Visualization\n",
    "import qgrid\n",
    "from visualization.actions_listener import ActionsListener\n",
    "from visualization.conflicts_listener import ConflictsListener\n",
    "from visualization.wordcloud_listener import WCListener\n",
    "\n",
    "from metrics.conflict import ConflictManager\n",
    "from utils.notebooks import get_next_notebook, get_previous_notebook"
   ]
  },
  {
   "cell_type": "code",
   "execution_count": 5,
   "metadata": {
    "hide_input": true,
    "scrolled": true
   },
   "outputs": [
    {
     "data": {
      "application/vnd.jupyter.widget-view+json": {
       "model_id": "41057820d7f64a71bb88d2e17c27fc7b",
       "version_major": 2,
       "version_minor": 0
      },
      "text/plain": [
       "Text(value='Train station', description='Page title:')"
      ]
     },
     "metadata": {},
     "output_type": "display_data"
    },
    {
     "data": {
      "application/vnd.jupyter.widget-view+json": {
       "model_id": "1a12147049934bf78c3678597de21109",
       "version_major": 2,
       "version_minor": 0
      },
      "text/plain": [
       "Button(description='Search', style=ButtonStyle())"
      ]
     },
     "metadata": {},
     "output_type": "display_data"
    },
    {
     "data": {
      "application/vnd.jupyter.widget-view+json": {
       "model_id": "3e327f33f13e4dd49a5928c245e559d1",
       "version_major": 2,
       "version_minor": 0
      },
      "text/plain": [
       "Output()"
      ]
     },
     "metadata": {},
     "output_type": "display_data"
    }
   ],
   "source": [
    "wikipedia_dv = WikipediaDV(WikipediaAPI(domain='en.wikipedia.org'))\n",
    "\n",
    "# the method that listens to the click event\n",
    "def on_button_clicked(b):\n",
    "    global the_page\n",
    "    \n",
    "    # use the out widget so the output is overwritten when two or more\n",
    "    # searches are performed\n",
    "    with out0:\n",
    "        try:\n",
    "            # query wikipedia\n",
    "            search_result = wikipedia_dv.search_page(searchTerm.value)\n",
    "            the_page = wikipedia_dv.get_page(search_result)\n",
    "            %store the_page\n",
    "            clear_output()\n",
    "            display(md(f\"The page that was found: **{the_page['title']}**\"))\n",
    "            display(md(f\"Page id: **{the_page['page_id']}**\"))\n",
    "\n",
    "        except:\n",
    "            clear_output()\n",
    "            display(md(f'The page title *\"{searchTerm.value}\"* was not found'))\n",
    "\n",
    "# by default display the last search\n",
    "try:\n",
    "    searchTerm = widgets.Text(the_page['title'], description='Page title:')\n",
    "except:\n",
    "    searchTerm = widgets.Text(\"The Camp of the Saints\", description='Page title:')\n",
    "\n",
    "display(searchTerm)\n",
    "\n",
    "# create and display the button    \n",
    "button = widgets.Button(description=\"Search\")\n",
    "display(button)\n",
    "\n",
    "# the output widget is used to remove the output after the search field\n",
    "out0 = Output()\n",
    "display(out0)\n",
    "\n",
    "# set the event\n",
    "button.on_click(on_button_clicked)\n",
    "\n",
    "# trigger the event with the default value\n",
    "on_button_clicked(button)"
   ]
  },
  {
   "cell_type": "markdown",
   "metadata": {},
   "source": [
    "If you have input another page title and still want to use these variables in the next 4 notebooks, please refresh!"
   ]
  },
  {
   "cell_type": "code",
   "execution_count": 6,
   "metadata": {
    "hide_input": true,
    "scrolled": true
   },
   "outputs": [
    {
     "data": {
      "application/vnd.jupyter.widget-view+json": {
       "model_id": "2771312de7af47deb38cb2bf12710001",
       "version_major": 2,
       "version_minor": 0
      },
      "text/plain": [
       "Button(button_style='info', description='Refresh All Variables', style=ButtonStyle())"
      ]
     },
     "metadata": {},
     "output_type": "display_data"
    }
   ],
   "source": [
    "def run_below(ev):\n",
    "    display(Javascript('IPython.notebook.execute_cells_below()'))\n",
    "\n",
    "button = widgets.Button(description=\"Refresh All Variables\", button_style='info', min_width=500)\n",
    "button.on_click(run_below)\n",
    "display(button)"
   ]
  },
  {
   "cell_type": "markdown",
   "metadata": {},
   "source": [
    "---\n",
    "\n",
    "# A. Article actions and conflict\n",
    "\n",
    "The [WikiWho API](https://www.wikiwho.net/en/api/v1.0.0-beta/) tracks the changes to every token (words or special characters) on a Wikipedia page with at least 95% accuracy. It distinguishes every token in the document even when the string appears several times. E.g. \"and\" at the beginning of an article is a different token then \"and\" at the end of the article. See also [this figure](https://www.wikiwho.net/#technical_details).\n",
    "\n",
    "That means that **not only edits** are counted, which can contain changes many different tokens, but *every single action to every single token* is recorded. Two actions can perfomed per token: i.e. **insertions** and **deletions** (a character change in a word, e.g. \"dog\" -> \"dogs\", is modeled as deletion of \"dog\" and the insertion of \"dogs\", two separate tokens). An **insertion** is also considered a **re-insertion** if the insertion has occured before; the only insertion of a token that is not a re-insertion is the first one. Similarly, a **deletion** is also considered a **re-deletion** if \n",
    "the deletion has occured before.\n",
    "\n",
    "Formally, the token history can represented by a time-ordered sequence of actions \n",
    "*(a<sub>0</sub>, ..., a<sub>n</sub>)*; note that *a<sub>0+2i</sub>* is always an insertion and \n",
    "*a<sub>1+2i</sub>* is always a deletion for i ∈ ℕ.\n",
    "\n",
    "---\n",
    "\n",
    "***IMPORTANT:*** For articles with a long revision history, \n",
    "please allow for some time to load (see cog wheel symbol right of 'edit app') \n",
    "before interacting with the controls too often."
   ]
  },
  {
   "cell_type": "markdown",
   "metadata": {},
   "source": [
    "## A.1 Total actions per month and editor"
   ]
  },
  {
   "cell_type": "markdown",
   "metadata": {},
   "source": [
    "**Columns description:**\n",
    "- **total**: total number of actions (insertions, and deletions)\n",
    "- **total_surv_48h**: total number of actions that survived at least 48 hours\n",
    "- **total_persistent**:  total number of actions that survived until, at least, the end of the month\n",
    "- **total_stopword_count**:  total number of actions that were performed in stop words"
   ]
  },
  {
   "cell_type": "code",
   "execution_count": 7,
   "metadata": {
    "hide_input": true,
    "scrolled": false
   },
   "outputs": [
    {
     "data": {
      "application/vnd.jupyter.widget-view+json": {
       "model_id": "2bab6fe8376044a2969babfb958b31b6",
       "version_major": 2,
       "version_minor": 0
      },
      "text/plain": [
       "Button(description='Show Total Actions', layout=Layout(width='160px'), style=ButtonStyle())"
      ]
     },
     "metadata": {},
     "output_type": "display_data"
    },
    {
     "data": {
      "application/vnd.jupyter.widget-view+json": {
       "model_id": "76a9db78c2fb45488eee0c52458b79fd",
       "version_major": 2,
       "version_minor": 0
      },
      "text/plain": [
       "Output()"
      ]
     },
     "metadata": {},
     "output_type": "display_data"
    }
   ],
   "source": [
    "# create and display the button\n",
    "button2 = widgets.Button(description=\"Show Total Actions\", layout=Layout(width='160px'))\n",
    "display(button2)\n",
    "\n",
    "# set the default max number of rows to 10 so the larger DataFrame we render don't take up to much space \n",
    "qgrid.set_grid_option('maxVisibleRows', 5)\n",
    "\n",
    "def total_actions(b):\n",
    "    global agg_actions\n",
    "    global editors\n",
    "    \n",
    "    with out2:\n",
    "        wikiwho = WikiWho(lng='en')\n",
    "        agg_actions = wikiwho.dv.edit_persistence(the_page.page_id)\n",
    "\n",
    "        # define total columns\n",
    "        total_columns = ['total', 'total_surv_48h', 'total_persistent', 'total_stopword_count']\n",
    "\n",
    "        # add columns with the total actions\n",
    "        agg_actions = agg_actions.join(pd.DataFrame(\n",
    "            agg_actions.loc[:,'adds':'adds_stopword_count'].values +\\\n",
    "            agg_actions.loc[:,'dels':'dels_stopword_count'].values +\\\n",
    "            agg_actions.loc[:,'reins':'reins_stopword_count'].values, \n",
    "            index=agg_actions.index, \n",
    "            columns=total_columns\n",
    "        ))\n",
    "\n",
    "        # the output widget is used to update the qgrid\n",
    "        print(\"Downloading editor usernames (i.e. *editor* column)...\")\n",
    "        \n",
    "        clear_output()\n",
    "        # Grab user names from wikipedia and merge them to the editors_conflict dataframe\n",
    "        wikipedia_dv = WikipediaDV(WikipediaAPI(domain='en.wikipedia.org'))\n",
    "        editors = wikipedia_dv.get_editors(agg_actions['editor_id'].unique()).rename(columns = {\n",
    "            'userid': 'editor_id'})\n",
    "\n",
    "        # Merge the names of the editors to the aggregate actions dataframe\n",
    "        display(md(f\"***Page: {the_page['title']}***\"))\n",
    "        agg_actions = agg_actions.merge(editors[['editor_id', 'name']], on='editor_id')\n",
    "        agg_actions.insert(3, 'editor', agg_actions['name'])\n",
    "        agg_actions = agg_actions.drop(columns=['name'])\n",
    "        agg_actions['editor'] = agg_actions['editor'].fillna(\"Unregistered\")\n",
    "       \n",
    "        # url\n",
    "        url_a = wikiwho.dv.api.base_editor + f'/page/{the_page.page_id}'\n",
    "        display(md(f\"Actions data can be found in:\"))\n",
    "        print(url_a)\n",
    "                   \n",
    "        display(qgrid.show_grid(agg_actions[['year_month', 'editor_id', 'editor'] + total_columns]))\n",
    "        #display(Javascript('Jupyter.notebook.execute_cells([11])'))\n",
    "\n",
    "out2 = Output()\n",
    "display(out2)\n",
    "\n",
    "# set the event\n",
    "button2.on_click(total_actions)\n",
    "\n",
    "# trigger the event with the default value\n",
    "total_actions(button2)"
   ]
  },
  {
   "cell_type": "markdown",
   "metadata": {
    "solution2": "hidden",
    "solution2_first": true
   },
   "source": [
    "### <span style=\"color:green\"> TRY YOURSELF! THIS IS WHAT WILL HAPPEN WHEN YOU CLICK 'Reresh Total Actions' BUTTON </span>"
   ]
  },
  {
   "cell_type": "code",
   "execution_count": 8,
   "metadata": {
    "scrolled": true,
    "solution2": "hidden"
   },
   "outputs": [
    {
     "name": "stdout",
     "output_type": "stream",
     "text": [
      "The page that is being used: Train station\n",
      "Actions data can be found in: https://api.wikiwho.net/en/edit_persistence/v1.0.0-beta/page/26161590\n"
     ]
    },
    {
     "data": {
      "application/vnd.jupyter.widget-view+json": {
       "model_id": "6d1776b717e046839273f92c97878c5f",
       "version_major": 2,
       "version_minor": 0
      },
      "text/plain": [
       "QgridWidget(grid_options={'fullWidthRows': True, 'syncColumnCellResize': True, 'forceFitColumns': True, 'defau…"
      ]
     },
     "metadata": {},
     "output_type": "display_data"
    }
   ],
   "source": [
    "### ----------------------------------------------------------------------------------- ###\n",
    "### TRY YOURSELF! THIS IS WHAT WILL HAPPEN WHEN YOU CLICK 'Get Total Actions' BUTTON ###\n",
    "### ----------------------------------------------------------------------------------- ###\n",
    "\n",
    "## This is the page you used ##\n",
    "print('The page that is being used:', the_page['title'])\n",
    "\n",
    "## Create a WikiWho instance, which is an API; and use 'edit_persistence' method to get ##\n",
    "## monthly editons for given page id; more details see:                                 ##\n",
    "## https://github.com/gesiscss/wikiwho_wrapper/blob/master/wikiwho_wrapper/api.py       ##\n",
    "## https://github.com/gesiscss/wikiwho_wrapper/blob/master/wikiwho_wrapper/wikiwho.py   ##\n",
    "wikiwho_api = WikiWho(lng='en')\n",
    "total_actions = wikiwho_api.dv.edit_persistence(the_page['page_id'])\n",
    "\n",
    "## url ##\n",
    "url_actions = wikiwho_api.dv.api.base_editor + f'/page/{the_page.page_id}'\n",
    "print(\"Actions data can be found in:\", url_actions)\n",
    "\n",
    "## Convert some columns' names to what we could understand ##\n",
    "total_columns_names = ['total', 'total_surv_48h', 'total_persistent', 'total_stopword_count']\n",
    "\n",
    "## Add all actions together and merge them into one aggregation dataframe.\n",
    "total_actions = total_actions.join(pd.DataFrame(\n",
    "    total_actions.loc[:,'adds':'adds_stopword_count'].values +\\\n",
    "    total_actions.loc[:,'dels':'dels_stopword_count'].values +\\\n",
    "    total_actions.loc[:,'reins':'reins_stopword_count'].values, \n",
    "    index=total_actions.index, \n",
    "    columns=total_columns_names\n",
    "))\n",
    "\n",
    "## Only editors id? No, we still want to know their names. Use WikipediaAPI to achieve ##\n",
    "## this. More details see:                                                             ##\n",
    "## https://github.com/gesiscss/wikiwho_demo/blob/master/external/wikipedia.py          ##\n",
    "wikipediadv_instance = WikipediaDV(WikipediaAPI(domain='en.wikipedia.org'))\n",
    "\n",
    "# Unique editor's id for getting their names\n",
    "unique_ids = total_actions['editor_id'].unique()\n",
    "\n",
    "# Grab editors' names\n",
    "grabbed_names = wikipediadv_instance.get_editors(unique_ids).rename(columns = {'userid': 'editor_id'})\n",
    "\n",
    "## Merge the names of editors to the total actions dataframe ##\n",
    "\n",
    "# Merge on editors ids\n",
    "total_actions = total_actions.merge(grabbed_names[['editor_id', 'name']], on='editor_id')\n",
    "\n",
    "# Adjust the column position and fill NaN by 'Unregistered'\n",
    "total_actions.insert(3, 'editor', total_actions['name'])\n",
    "total_actions = total_actions.drop(columns=['name'])\n",
    "total_actions['editor'] = total_actions['editor'].fillna(\"Unregistered\")\n",
    "\n",
    "## Display the dataframe using interactive grid, you could learn more through the doc: ##\n",
    "## https://qgrid.readthedocs.io/en/latest/                                             ##\n",
    "display(qgrid.show_grid(total_actions[['year_month', 'editor_id', 'editor'] + total_columns_names]))"
   ]
  },
  {
   "cell_type": "markdown",
   "metadata": {},
   "source": [
    "## A.2. Visualization of actions per month"
   ]
  },
  {
   "cell_type": "markdown",
   "metadata": {},
   "source": [
    "In the following graph you can select the *date range* and *granularity* (yearly, montly) \n",
    "of the timeline (X-axis), and plot any of the follow counts in the black, red, blue and green lines:\n",
    "   \n",
    "- **adds**: number of first-time insertions\n",
    "- **adds_surv_48h**: number of insertions for the first time that survived at least 48 hours\n",
    "- **adds_persistent**:  number of insertions for the first time that survived until, at least, the end of the month\n",
    "- **adds_stopword_count**:  number of insertions that were stop words\n",
    "- **dels**: number of deletions\n",
    "- **dels_surv_48h**: number of deletions that were not resinserted in the next 48 hours\n",
    "- **dels_persistent**: number of deletions that were not resinserted until, at least, the end of the month\n",
    "- **dels_stopword_count**: number of deletions that were stop words\n",
    "- **reins**: number of reinsertions\n",
    "- **reins_surv_48h**: number of reinsertions that survived at least 48 hours\n",
    "- **reins_persistent**: number of reinsertionsthat survived until the end of the month\n",
    "- **reins_stopword_count**: number of reinsertionsthat were stop words\n",
    "\n",
    "**What do these actions/counts mean?** For instance, if you see 10 \"adds\" in a month, but only 4 \"adds_surv_48h\", 10 completely new tokens/words have been added to the article, but only 4 of them stayed in the article for more than 2 days, which usually means the other 6 are gone for good. If \"dels\" are performed and don't survive, that means that these deletions have been undone, i.e., the deleted tokens have been put back. I.e., these are measurements of the longevity and stability of edit actions done to the article. "
   ]
  },
  {
   "cell_type": "code",
   "execution_count": 9,
   "metadata": {
    "hide_input": true,
    "scrolled": false
   },
   "outputs": [
    {
     "data": {
      "application/vnd.jupyter.widget-view+json": {
       "model_id": "98ffa9143a8e4675ad4769ce106cd7d9",
       "version_major": 2,
       "version_minor": 0
      },
      "text/plain": [
       "Button(description='Show Actions Details', layout=Layout(width='160px'), style=ButtonStyle())"
      ]
     },
     "metadata": {},
     "output_type": "display_data"
    },
    {
     "data": {
      "application/vnd.jupyter.widget-view+json": {
       "model_id": "8272bd2dcff44f17a8491e8d4f72d6ad",
       "version_major": 2,
       "version_minor": 0
      },
      "text/plain": [
       "Output()"
      ]
     },
     "metadata": {},
     "output_type": "display_data"
    }
   ],
   "source": [
    "# create and display the button\n",
    "button2 = widgets.Button(description=\"Show Actions Details\", layout=Layout(width='160px'))\n",
    "display(button2)\n",
    "\n",
    "def on_click_details(b):\n",
    "    with out4:\n",
    "        clear_output()\n",
    "        display(md(f\"***Page: {the_page['title']}***\"))\n",
    "        # Convert to datetime\n",
    "        agg_actions['year_month'] = pd.to_datetime(agg_actions['year_month'])\n",
    "\n",
    "        # Group the data by year month and page (drop the editor information)\n",
    "        agg_actions.drop('editor_id', axis=1).groupby(['year_month','page_id']).sum().reset_index()\n",
    "\n",
    "        # Listener\n",
    "        listener = ActionsListener(agg_actions)\n",
    "        action_types = (agg_actions.columns[4:16]).values.tolist()\n",
    "\n",
    "        # Visualization\n",
    "        interact(listener.listen,\n",
    "                 _range = get_date_slider_from_datetime(agg_actions['year_month']),\n",
    "                 editor=fixed('All'),\n",
    "                 granularity=Dropdown(options=['Yearly', 'Monthly'], value='Yearly'),\n",
    "                 black=Dropdown(options=action_types, value='adds'), \n",
    "                 red=Dropdown(options= ['None'] + action_types, value='dels'),\n",
    "                 green=Dropdown(options= ['None'] + action_types, value='None'), \n",
    "                 blue=Dropdown(options= ['None'] + action_types, value='None'))\n",
    "\n",
    "        #display(Javascript('Jupyter.notebook.execute_cells([15])'))\n",
    "    \n",
    "out4 = Output()\n",
    "display(out4)\n",
    "\n",
    "# set the event\n",
    "button2.on_click(on_click_details)\n",
    "\n",
    "# trigger the event with the default value\n",
    "on_click_details(button2)"
   ]
  },
  {
   "cell_type": "markdown",
   "metadata": {
    "solution2": "hidden",
    "solution2_first": true
   },
   "source": [
    "### <span style=\"color:green\"> TRY YOURSELF! THIS IS WHAT WILL HAPPEN WHEN YOU CLICK 'Refresh Actions Details' BUTTON </span>"
   ]
  },
  {
   "cell_type": "code",
   "execution_count": 10,
   "metadata": {
    "hide_input": false,
    "scrolled": false,
    "solution2": "hidden"
   },
   "outputs": [
    {
     "name": "stdout",
     "output_type": "stream",
     "text": [
      "The page that is being used: Train station\n"
     ]
    },
    {
     "data": {
      "text/html": [
       "        <script type=\"text/javascript\">\n",
       "        window.PlotlyConfig = {MathJaxConfig: 'local'};\n",
       "        if (window.MathJax) {MathJax.Hub.Config({SVG: {font: \"STIX-Web\"}});}\n",
       "        if (typeof require !== 'undefined') {\n",
       "        require.undef(\"plotly\");\n",
       "        requirejs.config({\n",
       "            paths: {\n",
       "                'plotly': ['https://cdn.plot.ly/plotly-latest.min']\n",
       "            }\n",
       "        });\n",
       "        require(['plotly'], function(Plotly) {\n",
       "            window._Plotly = Plotly;\n",
       "        });\n",
       "        }\n",
       "        </script>\n",
       "        "
      ]
     },
     "metadata": {},
     "output_type": "display_data"
    },
    {
     "data": {
      "application/vnd.plotly.v1+json": {
       "config": {
        "linkText": "Export to plot.ly",
        "plotlyServerURL": "https://plot.ly",
        "showLink": false
       },
       "data": [
        {
         "marker": {
          "color": "rgba(0, 0, 0, 1)"
         },
         "name": "adds",
         "type": "scatter",
         "x": [
          "2002-12-31T00:00:00",
          "2003-12-31T00:00:00",
          "2004-12-31T00:00:00",
          "2005-12-31T00:00:00",
          "2006-12-31T00:00:00",
          "2007-12-31T00:00:00",
          "2008-12-31T00:00:00",
          "2009-12-31T00:00:00",
          "2010-12-31T00:00:00",
          "2011-12-31T00:00:00",
          "2012-12-31T00:00:00",
          "2013-12-31T00:00:00",
          "2014-12-31T00:00:00",
          "2015-12-31T00:00:00",
          "2016-12-31T00:00:00",
          "2017-12-31T00:00:00",
          "2018-12-31T00:00:00",
          "2019-12-31T00:00:00"
         ],
         "y": [
          525,
          1314,
          2759,
          593,
          1039,
          3340,
          3454,
          2383,
          1940,
          1714,
          4278,
          915,
          1881,
          2187,
          2438,
          1044,
          1875,
          206
         ]
        },
        {
         "marker": {
          "color": "rgba(255, 0, 0, .8)"
         },
         "name": "dels",
         "type": "scatter",
         "x": [
          "2002-12-31T00:00:00",
          "2003-12-31T00:00:00",
          "2004-12-31T00:00:00",
          "2005-12-31T00:00:00",
          "2006-12-31T00:00:00",
          "2007-12-31T00:00:00",
          "2008-12-31T00:00:00",
          "2009-12-31T00:00:00",
          "2010-12-31T00:00:00",
          "2011-12-31T00:00:00",
          "2012-12-31T00:00:00",
          "2013-12-31T00:00:00",
          "2014-12-31T00:00:00",
          "2015-12-31T00:00:00",
          "2016-12-31T00:00:00",
          "2017-12-31T00:00:00",
          "2018-12-31T00:00:00",
          "2019-12-31T00:00:00"
         ],
         "y": [
          95,
          153,
          2391,
          511,
          591,
          2214,
          1800,
          4481,
          4084,
          2379,
          9591,
          6387,
          1556,
          1958,
          2957,
          2292,
          2982,
          601
         ]
        }
       ],
       "layout": {
        "barmode": "group",
        "hovermode": "closest",
        "legend": {
         "x": 0.5,
         "y": 1.2
        },
        "showlegend": true,
        "template": {
         "data": {
          "bar": [
           {
            "error_x": {
             "color": "#2a3f5f"
            },
            "error_y": {
             "color": "#2a3f5f"
            },
            "marker": {
             "line": {
              "color": "#E5ECF6",
              "width": 0.5
             }
            },
            "type": "bar"
           }
          ],
          "barpolar": [
           {
            "marker": {
             "line": {
              "color": "#E5ECF6",
              "width": 0.5
             }
            },
            "type": "barpolar"
           }
          ],
          "carpet": [
           {
            "aaxis": {
             "endlinecolor": "#2a3f5f",
             "gridcolor": "white",
             "linecolor": "white",
             "minorgridcolor": "white",
             "startlinecolor": "#2a3f5f"
            },
            "baxis": {
             "endlinecolor": "#2a3f5f",
             "gridcolor": "white",
             "linecolor": "white",
             "minorgridcolor": "white",
             "startlinecolor": "#2a3f5f"
            },
            "type": "carpet"
           }
          ],
          "choropleth": [
           {
            "colorbar": {
             "outlinewidth": 0,
             "ticks": ""
            },
            "type": "choropleth"
           }
          ],
          "contour": [
           {
            "colorbar": {
             "outlinewidth": 0,
             "ticks": ""
            },
            "colorscale": [
             [
              0,
              "#0d0887"
             ],
             [
              0.1111111111111111,
              "#46039f"
             ],
             [
              0.2222222222222222,
              "#7201a8"
             ],
             [
              0.3333333333333333,
              "#9c179e"
             ],
             [
              0.4444444444444444,
              "#bd3786"
             ],
             [
              0.5555555555555556,
              "#d8576b"
             ],
             [
              0.6666666666666666,
              "#ed7953"
             ],
             [
              0.7777777777777778,
              "#fb9f3a"
             ],
             [
              0.8888888888888888,
              "#fdca26"
             ],
             [
              1,
              "#f0f921"
             ]
            ],
            "type": "contour"
           }
          ],
          "contourcarpet": [
           {
            "colorbar": {
             "outlinewidth": 0,
             "ticks": ""
            },
            "type": "contourcarpet"
           }
          ],
          "heatmap": [
           {
            "colorbar": {
             "outlinewidth": 0,
             "ticks": ""
            },
            "colorscale": [
             [
              0,
              "#0d0887"
             ],
             [
              0.1111111111111111,
              "#46039f"
             ],
             [
              0.2222222222222222,
              "#7201a8"
             ],
             [
              0.3333333333333333,
              "#9c179e"
             ],
             [
              0.4444444444444444,
              "#bd3786"
             ],
             [
              0.5555555555555556,
              "#d8576b"
             ],
             [
              0.6666666666666666,
              "#ed7953"
             ],
             [
              0.7777777777777778,
              "#fb9f3a"
             ],
             [
              0.8888888888888888,
              "#fdca26"
             ],
             [
              1,
              "#f0f921"
             ]
            ],
            "type": "heatmap"
           }
          ],
          "heatmapgl": [
           {
            "colorbar": {
             "outlinewidth": 0,
             "ticks": ""
            },
            "colorscale": [
             [
              0,
              "#0d0887"
             ],
             [
              0.1111111111111111,
              "#46039f"
             ],
             [
              0.2222222222222222,
              "#7201a8"
             ],
             [
              0.3333333333333333,
              "#9c179e"
             ],
             [
              0.4444444444444444,
              "#bd3786"
             ],
             [
              0.5555555555555556,
              "#d8576b"
             ],
             [
              0.6666666666666666,
              "#ed7953"
             ],
             [
              0.7777777777777778,
              "#fb9f3a"
             ],
             [
              0.8888888888888888,
              "#fdca26"
             ],
             [
              1,
              "#f0f921"
             ]
            ],
            "type": "heatmapgl"
           }
          ],
          "histogram": [
           {
            "marker": {
             "colorbar": {
              "outlinewidth": 0,
              "ticks": ""
             }
            },
            "type": "histogram"
           }
          ],
          "histogram2d": [
           {
            "colorbar": {
             "outlinewidth": 0,
             "ticks": ""
            },
            "colorscale": [
             [
              0,
              "#0d0887"
             ],
             [
              0.1111111111111111,
              "#46039f"
             ],
             [
              0.2222222222222222,
              "#7201a8"
             ],
             [
              0.3333333333333333,
              "#9c179e"
             ],
             [
              0.4444444444444444,
              "#bd3786"
             ],
             [
              0.5555555555555556,
              "#d8576b"
             ],
             [
              0.6666666666666666,
              "#ed7953"
             ],
             [
              0.7777777777777778,
              "#fb9f3a"
             ],
             [
              0.8888888888888888,
              "#fdca26"
             ],
             [
              1,
              "#f0f921"
             ]
            ],
            "type": "histogram2d"
           }
          ],
          "histogram2dcontour": [
           {
            "colorbar": {
             "outlinewidth": 0,
             "ticks": ""
            },
            "colorscale": [
             [
              0,
              "#0d0887"
             ],
             [
              0.1111111111111111,
              "#46039f"
             ],
             [
              0.2222222222222222,
              "#7201a8"
             ],
             [
              0.3333333333333333,
              "#9c179e"
             ],
             [
              0.4444444444444444,
              "#bd3786"
             ],
             [
              0.5555555555555556,
              "#d8576b"
             ],
             [
              0.6666666666666666,
              "#ed7953"
             ],
             [
              0.7777777777777778,
              "#fb9f3a"
             ],
             [
              0.8888888888888888,
              "#fdca26"
             ],
             [
              1,
              "#f0f921"
             ]
            ],
            "type": "histogram2dcontour"
           }
          ],
          "mesh3d": [
           {
            "colorbar": {
             "outlinewidth": 0,
             "ticks": ""
            },
            "type": "mesh3d"
           }
          ],
          "parcoords": [
           {
            "line": {
             "colorbar": {
              "outlinewidth": 0,
              "ticks": ""
             }
            },
            "type": "parcoords"
           }
          ],
          "pie": [
           {
            "automargin": true,
            "type": "pie"
           }
          ],
          "scatter": [
           {
            "marker": {
             "colorbar": {
              "outlinewidth": 0,
              "ticks": ""
             }
            },
            "type": "scatter"
           }
          ],
          "scatter3d": [
           {
            "line": {
             "colorbar": {
              "outlinewidth": 0,
              "ticks": ""
             }
            },
            "marker": {
             "colorbar": {
              "outlinewidth": 0,
              "ticks": ""
             }
            },
            "type": "scatter3d"
           }
          ],
          "scattercarpet": [
           {
            "marker": {
             "colorbar": {
              "outlinewidth": 0,
              "ticks": ""
             }
            },
            "type": "scattercarpet"
           }
          ],
          "scattergeo": [
           {
            "marker": {
             "colorbar": {
              "outlinewidth": 0,
              "ticks": ""
             }
            },
            "type": "scattergeo"
           }
          ],
          "scattergl": [
           {
            "marker": {
             "colorbar": {
              "outlinewidth": 0,
              "ticks": ""
             }
            },
            "type": "scattergl"
           }
          ],
          "scattermapbox": [
           {
            "marker": {
             "colorbar": {
              "outlinewidth": 0,
              "ticks": ""
             }
            },
            "type": "scattermapbox"
           }
          ],
          "scatterpolar": [
           {
            "marker": {
             "colorbar": {
              "outlinewidth": 0,
              "ticks": ""
             }
            },
            "type": "scatterpolar"
           }
          ],
          "scatterpolargl": [
           {
            "marker": {
             "colorbar": {
              "outlinewidth": 0,
              "ticks": ""
             }
            },
            "type": "scatterpolargl"
           }
          ],
          "scatterternary": [
           {
            "marker": {
             "colorbar": {
              "outlinewidth": 0,
              "ticks": ""
             }
            },
            "type": "scatterternary"
           }
          ],
          "surface": [
           {
            "colorbar": {
             "outlinewidth": 0,
             "ticks": ""
            },
            "colorscale": [
             [
              0,
              "#0d0887"
             ],
             [
              0.1111111111111111,
              "#46039f"
             ],
             [
              0.2222222222222222,
              "#7201a8"
             ],
             [
              0.3333333333333333,
              "#9c179e"
             ],
             [
              0.4444444444444444,
              "#bd3786"
             ],
             [
              0.5555555555555556,
              "#d8576b"
             ],
             [
              0.6666666666666666,
              "#ed7953"
             ],
             [
              0.7777777777777778,
              "#fb9f3a"
             ],
             [
              0.8888888888888888,
              "#fdca26"
             ],
             [
              1,
              "#f0f921"
             ]
            ],
            "type": "surface"
           }
          ],
          "table": [
           {
            "cells": {
             "fill": {
              "color": "#EBF0F8"
             },
             "line": {
              "color": "white"
             }
            },
            "header": {
             "fill": {
              "color": "#C8D4E3"
             },
             "line": {
              "color": "white"
             }
            },
            "type": "table"
           }
          ]
         },
         "layout": {
          "annotationdefaults": {
           "arrowcolor": "#2a3f5f",
           "arrowhead": 0,
           "arrowwidth": 1
          },
          "coloraxis": {
           "colorbar": {
            "outlinewidth": 0,
            "ticks": ""
           }
          },
          "colorscale": {
           "diverging": [
            [
             0,
             "#8e0152"
            ],
            [
             0.1,
             "#c51b7d"
            ],
            [
             0.2,
             "#de77ae"
            ],
            [
             0.3,
             "#f1b6da"
            ],
            [
             0.4,
             "#fde0ef"
            ],
            [
             0.5,
             "#f7f7f7"
            ],
            [
             0.6,
             "#e6f5d0"
            ],
            [
             0.7,
             "#b8e186"
            ],
            [
             0.8,
             "#7fbc41"
            ],
            [
             0.9,
             "#4d9221"
            ],
            [
             1,
             "#276419"
            ]
           ],
           "sequential": [
            [
             0,
             "#0d0887"
            ],
            [
             0.1111111111111111,
             "#46039f"
            ],
            [
             0.2222222222222222,
             "#7201a8"
            ],
            [
             0.3333333333333333,
             "#9c179e"
            ],
            [
             0.4444444444444444,
             "#bd3786"
            ],
            [
             0.5555555555555556,
             "#d8576b"
            ],
            [
             0.6666666666666666,
             "#ed7953"
            ],
            [
             0.7777777777777778,
             "#fb9f3a"
            ],
            [
             0.8888888888888888,
             "#fdca26"
            ],
            [
             1,
             "#f0f921"
            ]
           ],
           "sequentialminus": [
            [
             0,
             "#0d0887"
            ],
            [
             0.1111111111111111,
             "#46039f"
            ],
            [
             0.2222222222222222,
             "#7201a8"
            ],
            [
             0.3333333333333333,
             "#9c179e"
            ],
            [
             0.4444444444444444,
             "#bd3786"
            ],
            [
             0.5555555555555556,
             "#d8576b"
            ],
            [
             0.6666666666666666,
             "#ed7953"
            ],
            [
             0.7777777777777778,
             "#fb9f3a"
            ],
            [
             0.8888888888888888,
             "#fdca26"
            ],
            [
             1,
             "#f0f921"
            ]
           ]
          },
          "colorway": [
           "#636efa",
           "#EF553B",
           "#00cc96",
           "#ab63fa",
           "#FFA15A",
           "#19d3f3",
           "#FF6692",
           "#B6E880",
           "#FF97FF",
           "#FECB52"
          ],
          "font": {
           "color": "#2a3f5f"
          },
          "geo": {
           "bgcolor": "white",
           "lakecolor": "white",
           "landcolor": "#E5ECF6",
           "showlakes": true,
           "showland": true,
           "subunitcolor": "white"
          },
          "hoverlabel": {
           "align": "left"
          },
          "hovermode": "closest",
          "mapbox": {
           "style": "light"
          },
          "paper_bgcolor": "white",
          "plot_bgcolor": "#E5ECF6",
          "polar": {
           "angularaxis": {
            "gridcolor": "white",
            "linecolor": "white",
            "ticks": ""
           },
           "bgcolor": "#E5ECF6",
           "radialaxis": {
            "gridcolor": "white",
            "linecolor": "white",
            "ticks": ""
           }
          },
          "scene": {
           "xaxis": {
            "backgroundcolor": "#E5ECF6",
            "gridcolor": "white",
            "gridwidth": 2,
            "linecolor": "white",
            "showbackground": true,
            "ticks": "",
            "zerolinecolor": "white"
           },
           "yaxis": {
            "backgroundcolor": "#E5ECF6",
            "gridcolor": "white",
            "gridwidth": 2,
            "linecolor": "white",
            "showbackground": true,
            "ticks": "",
            "zerolinecolor": "white"
           },
           "zaxis": {
            "backgroundcolor": "#E5ECF6",
            "gridcolor": "white",
            "gridwidth": 2,
            "linecolor": "white",
            "showbackground": true,
            "ticks": "",
            "zerolinecolor": "white"
           }
          },
          "shapedefaults": {
           "line": {
            "color": "#2a3f5f"
           }
          },
          "ternary": {
           "aaxis": {
            "gridcolor": "white",
            "linecolor": "white",
            "ticks": ""
           },
           "baxis": {
            "gridcolor": "white",
            "linecolor": "white",
            "ticks": ""
           },
           "bgcolor": "#E5ECF6",
           "caxis": {
            "gridcolor": "white",
            "linecolor": "white",
            "ticks": ""
           }
          },
          "title": {
           "x": 0.05
          },
          "xaxis": {
           "automargin": true,
           "gridcolor": "white",
           "linecolor": "white",
           "ticks": "",
           "title": {
            "standoff": 15
           },
           "zerolinecolor": "white",
           "zerolinewidth": 2
          },
          "yaxis": {
           "automargin": true,
           "gridcolor": "white",
           "linecolor": "white",
           "ticks": "",
           "title": {
            "standoff": 15
           },
           "zerolinecolor": "white",
           "zerolinewidth": 2
          }
         }
        },
        "xaxis": {
         "gridwidth": 2,
         "ticklen": 5,
         "title": {
          "text": "Yearly"
         },
         "zeroline": true
        },
        "yaxis": {
         "gridwidth": 2,
         "ticklen": 5,
         "title": {
          "text": "Actions"
         }
        }
       }
      },
      "text/html": [
       "<div>\n",
       "        \n",
       "        \n",
       "            <div id=\"4076bf24-c165-4337-8a44-18e7dfe07d64\" class=\"plotly-graph-div\" style=\"height:525px; width:100%;\"></div>\n",
       "            <script type=\"text/javascript\">\n",
       "                require([\"plotly\"], function(Plotly) {\n",
       "                    window.PLOTLYENV=window.PLOTLYENV || {};\n",
       "                    \n",
       "                if (document.getElementById(\"4076bf24-c165-4337-8a44-18e7dfe07d64\")) {\n",
       "                    Plotly.newPlot(\n",
       "                        '4076bf24-c165-4337-8a44-18e7dfe07d64',\n",
       "                        [{\"marker\": {\"color\": \"rgba(0, 0, 0, 1)\"}, \"name\": \"adds\", \"type\": \"scatter\", \"x\": [\"2002-12-31T00:00:00\", \"2003-12-31T00:00:00\", \"2004-12-31T00:00:00\", \"2005-12-31T00:00:00\", \"2006-12-31T00:00:00\", \"2007-12-31T00:00:00\", \"2008-12-31T00:00:00\", \"2009-12-31T00:00:00\", \"2010-12-31T00:00:00\", \"2011-12-31T00:00:00\", \"2012-12-31T00:00:00\", \"2013-12-31T00:00:00\", \"2014-12-31T00:00:00\", \"2015-12-31T00:00:00\", \"2016-12-31T00:00:00\", \"2017-12-31T00:00:00\", \"2018-12-31T00:00:00\", \"2019-12-31T00:00:00\"], \"y\": [525, 1314, 2759, 593, 1039, 3340, 3454, 2383, 1940, 1714, 4278, 915, 1881, 2187, 2438, 1044, 1875, 206]}, {\"marker\": {\"color\": \"rgba(255, 0, 0, .8)\"}, \"name\": \"dels\", \"type\": \"scatter\", \"x\": [\"2002-12-31T00:00:00\", \"2003-12-31T00:00:00\", \"2004-12-31T00:00:00\", \"2005-12-31T00:00:00\", \"2006-12-31T00:00:00\", \"2007-12-31T00:00:00\", \"2008-12-31T00:00:00\", \"2009-12-31T00:00:00\", \"2010-12-31T00:00:00\", \"2011-12-31T00:00:00\", \"2012-12-31T00:00:00\", \"2013-12-31T00:00:00\", \"2014-12-31T00:00:00\", \"2015-12-31T00:00:00\", \"2016-12-31T00:00:00\", \"2017-12-31T00:00:00\", \"2018-12-31T00:00:00\", \"2019-12-31T00:00:00\"], \"y\": [95, 153, 2391, 511, 591, 2214, 1800, 4481, 4084, 2379, 9591, 6387, 1556, 1958, 2957, 2292, 2982, 601]}],\n",
       "                        {\"barmode\": \"group\", \"hovermode\": \"closest\", \"legend\": {\"x\": 0.5, \"y\": 1.2}, \"showlegend\": true, \"template\": {\"data\": {\"bar\": [{\"error_x\": {\"color\": \"#2a3f5f\"}, \"error_y\": {\"color\": \"#2a3f5f\"}, \"marker\": {\"line\": {\"color\": \"#E5ECF6\", \"width\": 0.5}}, \"type\": \"bar\"}], \"barpolar\": [{\"marker\": {\"line\": {\"color\": \"#E5ECF6\", \"width\": 0.5}}, \"type\": \"barpolar\"}], \"carpet\": [{\"aaxis\": {\"endlinecolor\": \"#2a3f5f\", \"gridcolor\": \"white\", \"linecolor\": \"white\", \"minorgridcolor\": \"white\", \"startlinecolor\": \"#2a3f5f\"}, \"baxis\": {\"endlinecolor\": \"#2a3f5f\", \"gridcolor\": \"white\", \"linecolor\": \"white\", \"minorgridcolor\": \"white\", \"startlinecolor\": \"#2a3f5f\"}, \"type\": \"carpet\"}], \"choropleth\": [{\"colorbar\": {\"outlinewidth\": 0, \"ticks\": \"\"}, \"type\": \"choropleth\"}], \"contour\": [{\"colorbar\": {\"outlinewidth\": 0, \"ticks\": \"\"}, \"colorscale\": [[0.0, \"#0d0887\"], [0.1111111111111111, \"#46039f\"], [0.2222222222222222, \"#7201a8\"], [0.3333333333333333, \"#9c179e\"], [0.4444444444444444, \"#bd3786\"], [0.5555555555555556, \"#d8576b\"], [0.6666666666666666, \"#ed7953\"], [0.7777777777777778, \"#fb9f3a\"], [0.8888888888888888, \"#fdca26\"], [1.0, \"#f0f921\"]], \"type\": \"contour\"}], \"contourcarpet\": [{\"colorbar\": {\"outlinewidth\": 0, \"ticks\": \"\"}, \"type\": \"contourcarpet\"}], \"heatmap\": [{\"colorbar\": {\"outlinewidth\": 0, \"ticks\": \"\"}, \"colorscale\": [[0.0, \"#0d0887\"], [0.1111111111111111, \"#46039f\"], [0.2222222222222222, \"#7201a8\"], [0.3333333333333333, \"#9c179e\"], [0.4444444444444444, \"#bd3786\"], [0.5555555555555556, \"#d8576b\"], [0.6666666666666666, \"#ed7953\"], [0.7777777777777778, \"#fb9f3a\"], [0.8888888888888888, \"#fdca26\"], [1.0, \"#f0f921\"]], \"type\": \"heatmap\"}], \"heatmapgl\": [{\"colorbar\": {\"outlinewidth\": 0, \"ticks\": \"\"}, \"colorscale\": [[0.0, \"#0d0887\"], [0.1111111111111111, \"#46039f\"], [0.2222222222222222, \"#7201a8\"], [0.3333333333333333, \"#9c179e\"], [0.4444444444444444, \"#bd3786\"], [0.5555555555555556, \"#d8576b\"], [0.6666666666666666, \"#ed7953\"], [0.7777777777777778, \"#fb9f3a\"], [0.8888888888888888, \"#fdca26\"], [1.0, \"#f0f921\"]], \"type\": \"heatmapgl\"}], \"histogram\": [{\"marker\": {\"colorbar\": {\"outlinewidth\": 0, \"ticks\": \"\"}}, \"type\": \"histogram\"}], \"histogram2d\": [{\"colorbar\": {\"outlinewidth\": 0, \"ticks\": \"\"}, \"colorscale\": [[0.0, \"#0d0887\"], [0.1111111111111111, \"#46039f\"], [0.2222222222222222, \"#7201a8\"], [0.3333333333333333, \"#9c179e\"], [0.4444444444444444, \"#bd3786\"], [0.5555555555555556, \"#d8576b\"], [0.6666666666666666, \"#ed7953\"], [0.7777777777777778, \"#fb9f3a\"], [0.8888888888888888, \"#fdca26\"], [1.0, \"#f0f921\"]], \"type\": \"histogram2d\"}], \"histogram2dcontour\": [{\"colorbar\": {\"outlinewidth\": 0, \"ticks\": \"\"}, \"colorscale\": [[0.0, \"#0d0887\"], [0.1111111111111111, \"#46039f\"], [0.2222222222222222, \"#7201a8\"], [0.3333333333333333, \"#9c179e\"], [0.4444444444444444, \"#bd3786\"], [0.5555555555555556, \"#d8576b\"], [0.6666666666666666, \"#ed7953\"], [0.7777777777777778, \"#fb9f3a\"], [0.8888888888888888, \"#fdca26\"], [1.0, \"#f0f921\"]], \"type\": \"histogram2dcontour\"}], \"mesh3d\": [{\"colorbar\": {\"outlinewidth\": 0, \"ticks\": \"\"}, \"type\": \"mesh3d\"}], \"parcoords\": [{\"line\": {\"colorbar\": {\"outlinewidth\": 0, \"ticks\": \"\"}}, \"type\": \"parcoords\"}], \"pie\": [{\"automargin\": true, \"type\": \"pie\"}], \"scatter\": [{\"marker\": {\"colorbar\": {\"outlinewidth\": 0, \"ticks\": \"\"}}, \"type\": \"scatter\"}], \"scatter3d\": [{\"line\": {\"colorbar\": {\"outlinewidth\": 0, \"ticks\": \"\"}}, \"marker\": {\"colorbar\": {\"outlinewidth\": 0, \"ticks\": \"\"}}, \"type\": \"scatter3d\"}], \"scattercarpet\": [{\"marker\": {\"colorbar\": {\"outlinewidth\": 0, \"ticks\": \"\"}}, \"type\": \"scattercarpet\"}], \"scattergeo\": [{\"marker\": {\"colorbar\": {\"outlinewidth\": 0, \"ticks\": \"\"}}, \"type\": \"scattergeo\"}], \"scattergl\": [{\"marker\": {\"colorbar\": {\"outlinewidth\": 0, \"ticks\": \"\"}}, \"type\": \"scattergl\"}], \"scattermapbox\": [{\"marker\": {\"colorbar\": {\"outlinewidth\": 0, \"ticks\": \"\"}}, \"type\": \"scattermapbox\"}], \"scatterpolar\": [{\"marker\": {\"colorbar\": {\"outlinewidth\": 0, \"ticks\": \"\"}}, \"type\": \"scatterpolar\"}], \"scatterpolargl\": [{\"marker\": {\"colorbar\": {\"outlinewidth\": 0, \"ticks\": \"\"}}, \"type\": \"scatterpolargl\"}], \"scatterternary\": [{\"marker\": {\"colorbar\": {\"outlinewidth\": 0, \"ticks\": \"\"}}, \"type\": \"scatterternary\"}], \"surface\": [{\"colorbar\": {\"outlinewidth\": 0, \"ticks\": \"\"}, \"colorscale\": [[0.0, \"#0d0887\"], [0.1111111111111111, \"#46039f\"], [0.2222222222222222, \"#7201a8\"], [0.3333333333333333, \"#9c179e\"], [0.4444444444444444, \"#bd3786\"], [0.5555555555555556, \"#d8576b\"], [0.6666666666666666, \"#ed7953\"], [0.7777777777777778, \"#fb9f3a\"], [0.8888888888888888, \"#fdca26\"], [1.0, \"#f0f921\"]], \"type\": \"surface\"}], \"table\": [{\"cells\": {\"fill\": {\"color\": \"#EBF0F8\"}, \"line\": {\"color\": \"white\"}}, \"header\": {\"fill\": {\"color\": \"#C8D4E3\"}, \"line\": {\"color\": \"white\"}}, \"type\": \"table\"}]}, \"layout\": {\"annotationdefaults\": {\"arrowcolor\": \"#2a3f5f\", \"arrowhead\": 0, \"arrowwidth\": 1}, \"coloraxis\": {\"colorbar\": {\"outlinewidth\": 0, \"ticks\": \"\"}}, \"colorscale\": {\"diverging\": [[0, \"#8e0152\"], [0.1, \"#c51b7d\"], [0.2, \"#de77ae\"], [0.3, \"#f1b6da\"], [0.4, \"#fde0ef\"], [0.5, \"#f7f7f7\"], [0.6, \"#e6f5d0\"], [0.7, \"#b8e186\"], [0.8, \"#7fbc41\"], [0.9, \"#4d9221\"], [1, \"#276419\"]], \"sequential\": [[0.0, \"#0d0887\"], [0.1111111111111111, \"#46039f\"], [0.2222222222222222, \"#7201a8\"], [0.3333333333333333, \"#9c179e\"], [0.4444444444444444, \"#bd3786\"], [0.5555555555555556, \"#d8576b\"], [0.6666666666666666, \"#ed7953\"], [0.7777777777777778, \"#fb9f3a\"], [0.8888888888888888, \"#fdca26\"], [1.0, \"#f0f921\"]], \"sequentialminus\": [[0.0, \"#0d0887\"], [0.1111111111111111, \"#46039f\"], [0.2222222222222222, \"#7201a8\"], [0.3333333333333333, \"#9c179e\"], [0.4444444444444444, \"#bd3786\"], [0.5555555555555556, \"#d8576b\"], [0.6666666666666666, \"#ed7953\"], [0.7777777777777778, \"#fb9f3a\"], [0.8888888888888888, \"#fdca26\"], [1.0, \"#f0f921\"]]}, \"colorway\": [\"#636efa\", \"#EF553B\", \"#00cc96\", \"#ab63fa\", \"#FFA15A\", \"#19d3f3\", \"#FF6692\", \"#B6E880\", \"#FF97FF\", \"#FECB52\"], \"font\": {\"color\": \"#2a3f5f\"}, \"geo\": {\"bgcolor\": \"white\", \"lakecolor\": \"white\", \"landcolor\": \"#E5ECF6\", \"showlakes\": true, \"showland\": true, \"subunitcolor\": \"white\"}, \"hoverlabel\": {\"align\": \"left\"}, \"hovermode\": \"closest\", \"mapbox\": {\"style\": \"light\"}, \"paper_bgcolor\": \"white\", \"plot_bgcolor\": \"#E5ECF6\", \"polar\": {\"angularaxis\": {\"gridcolor\": \"white\", \"linecolor\": \"white\", \"ticks\": \"\"}, \"bgcolor\": \"#E5ECF6\", \"radialaxis\": {\"gridcolor\": \"white\", \"linecolor\": \"white\", \"ticks\": \"\"}}, \"scene\": {\"xaxis\": {\"backgroundcolor\": \"#E5ECF6\", \"gridcolor\": \"white\", \"gridwidth\": 2, \"linecolor\": \"white\", \"showbackground\": true, \"ticks\": \"\", \"zerolinecolor\": \"white\"}, \"yaxis\": {\"backgroundcolor\": \"#E5ECF6\", \"gridcolor\": \"white\", \"gridwidth\": 2, \"linecolor\": \"white\", \"showbackground\": true, \"ticks\": \"\", \"zerolinecolor\": \"white\"}, \"zaxis\": {\"backgroundcolor\": \"#E5ECF6\", \"gridcolor\": \"white\", \"gridwidth\": 2, \"linecolor\": \"white\", \"showbackground\": true, \"ticks\": \"\", \"zerolinecolor\": \"white\"}}, \"shapedefaults\": {\"line\": {\"color\": \"#2a3f5f\"}}, \"ternary\": {\"aaxis\": {\"gridcolor\": \"white\", \"linecolor\": \"white\", \"ticks\": \"\"}, \"baxis\": {\"gridcolor\": \"white\", \"linecolor\": \"white\", \"ticks\": \"\"}, \"bgcolor\": \"#E5ECF6\", \"caxis\": {\"gridcolor\": \"white\", \"linecolor\": \"white\", \"ticks\": \"\"}}, \"title\": {\"x\": 0.05}, \"xaxis\": {\"automargin\": true, \"gridcolor\": \"white\", \"linecolor\": \"white\", \"ticks\": \"\", \"title\": {\"standoff\": 15}, \"zerolinecolor\": \"white\", \"zerolinewidth\": 2}, \"yaxis\": {\"automargin\": true, \"gridcolor\": \"white\", \"linecolor\": \"white\", \"ticks\": \"\", \"title\": {\"standoff\": 15}, \"zerolinecolor\": \"white\", \"zerolinewidth\": 2}}}, \"xaxis\": {\"gridwidth\": 2, \"ticklen\": 5, \"title\": {\"text\": \"Yearly\"}, \"zeroline\": true}, \"yaxis\": {\"gridwidth\": 2, \"ticklen\": 5, \"title\": {\"text\": \"Actions\"}}},\n",
       "                        {\"responsive\": true}\n",
       "                    ).then(function(){\n",
       "                            \n",
       "var gd = document.getElementById('4076bf24-c165-4337-8a44-18e7dfe07d64');\n",
       "var x = new MutationObserver(function (mutations, observer) {{\n",
       "        var display = window.getComputedStyle(gd).display;\n",
       "        if (!display || display === 'none') {{\n",
       "            console.log([gd, 'removed!']);\n",
       "            Plotly.purge(gd);\n",
       "            observer.disconnect();\n",
       "        }}\n",
       "}});\n",
       "\n",
       "// Listen for the removal of the full notebook cells\n",
       "var notebookContainer = gd.closest('#notebook-container');\n",
       "if (notebookContainer) {{\n",
       "    x.observe(notebookContainer, {childList: true});\n",
       "}}\n",
       "\n",
       "// Listen for the clearing of the current output cell\n",
       "var outputEl = gd.closest('.output');\n",
       "if (outputEl) {{\n",
       "    x.observe(outputEl, {childList: true});\n",
       "}}\n",
       "\n",
       "                        })\n",
       "                };\n",
       "                });\n",
       "            </script>\n",
       "        </div>"
      ]
     },
     "metadata": {},
     "output_type": "display_data"
    },
    {
     "name": "stdout",
     "output_type": "stream",
     "text": [
      "Stored 'total_actions' (DataFrame)\n"
     ]
    }
   ],
   "source": [
    "### ----------------------------------------------------------------------------------- ###\n",
    "### TRY YOURSELF! THIS IS WHAT WILL HAPPEN WHEN YOU CLICK 'Show Actions Details' BUTTON ###\n",
    "### ----------------------------------------------------------------------------------- ###\n",
    "\n",
    "## This is the page you used ##\n",
    "print('The page that is being used:', the_page['title'])\n",
    "\n",
    "## Continue to use our data from A.1; first convert the date to the type datetime ##\n",
    "total_actions['year_month'] = pd.to_datetime(total_actions['year_month'])\n",
    "\n",
    "## visualization, core visual code lies in ActionsListener, then the interact function    ##\n",
    "## make it interactive, mode details see:                                                 ##\n",
    "## https://github.com/gesiscss/wikiwho_demo/blob/master/visualization/actions_listener.py ##\n",
    "\n",
    "# Define a ActionsListener instance\n",
    "actions_listener = ActionsListener(total_actions)\n",
    "\n",
    "# Which types do those actions have?\n",
    "actions_types = (total_actions.columns[4:16]).values.tolist()\n",
    "\n",
    "# Visualization: try yourself by coding!\n",
    "begin_date = date(2002, 3, 1)\n",
    "end_date = date(2019, 4, 1)\n",
    "editor_name = 'All'\n",
    "frequency = 'Yearly' # 'Monthly'\n",
    "black_line = 'adds' # Choose one from 'actions_types'. Note that 'black_line doesn't have 'None' option but others have.\n",
    "red_line = 'dels'\n",
    "blue_line = 'None'\n",
    "green_line = 'None'\n",
    "\n",
    "actions_listener.listen(\n",
    "    _range = (begin_date, end_date),\n",
    "    editor = editor_name,\n",
    "    granularity = frequency,\n",
    "    black = black_line,\n",
    "    red = red_line,\n",
    "    blue = blue_line,\n",
    "    green = green_line\n",
    ")\n",
    "\n",
    "# Store the variable total_actions for the next notebooks.\n",
    "%store total_actions"
   ]
  },
  {
   "cell_type": "markdown",
   "metadata": {},
   "source": [
    "---\n",
    "\n",
    "## A.3 Page Conflict"
   ]
  },
  {
   "cell_type": "markdown",
   "metadata": {},
   "source": [
    "Our measurement of ***conflict*** for single tokens is taken from [Flöck et al.](https://arxiv.org/abs/1703.08244):\n",
    "\n",
    "\n",
    "* (1)  The main idea is to count how often a token  - after being created (added) the first time -  was being deleted, re-inserted, re-deleted, re-inserted, and so on; which would often happen in case two editors disagree on the token's justification to be in the text. \n",
    "* (2) Only the **re-**deletions and **re-**insertions are counted, since up to the first delete it could be a simple correction that didn't trigger a reponse - this wouldn't indicate conflict. \n",
    "* (3) The **\"re-\"** actions are only counted if they alternate between different editors and don't come from the same editor twice or more in a row - as the latter would simply indicate self-corrections. \n",
    "* (4) In a last step, each re-insertion/re-deletion interaction gets a higher weight the faster it occurs (see [Flöck et al.](https://arxiv.org/abs/1703.08244) for the exact formula).\n",
    "\n",
    "<mark style=\"color:red\"> The total conflict of a page is the sum of all the conflict scores of all actions with \n",
    "conflict (or conflict actions). </mark>\n",
    "\n",
    "<mark> *Question: What is the exact definition of conflict scores of actions?* </mark>\n",
    "\n",
    "This total conflict can be normalized if the sum is divided by the number of \n",
    "actions that could potentially be counted as conflict (elegible actions, i.e **\"re-\"** actions that have occurred at \n",
    "least twice).\n"
   ]
  },
  {
   "cell_type": "markdown",
   "metadata": {},
   "source": [
    "In the following graph you can select the *date range* and *granularity* (yearly, monthly) \n",
    "of the timeline (X-axis), and plot any of the following counts in the black and red lines:\n",
    "   \n",
    "- **Total**: total number of actions (insertions, and deletions)\n",
    "- **Total_surv_48h**: total number of actions that survived at least 48 hours\n",
    "- **Total_persistent**: total number of actions that survived until, at least, the end of the month\n",
    "- **Total_stopword_count**: total number of actions that were performed in stop words\n",
    "- **Total Elegible Actions**: the total number of elegible actions\n",
    "- **Number of Conflicts**: the total number of conflicts\n",
    "- **Number of Revisions**: the total number of revisions/edits\n",
    "- **Conflict Score**: the sum of conflict scores of all actions divided by the number of elegible actions\n",
    "- **Absolute Conflict Score**: the sum of conflict scores of all actions (without division)\n",
    "- **Conflict Ratio**: the count of all conflicts divided by the number of elegible actions"
   ]
  },
  {
   "cell_type": "code",
   "execution_count": 11,
   "metadata": {
    "hide_input": true,
    "scrolled": false
   },
   "outputs": [
    {
     "data": {
      "application/vnd.jupyter.widget-view+json": {
       "model_id": "3567d2195d5848d4a8fad883ddaf4590",
       "version_major": 2,
       "version_minor": 0
      },
      "text/plain": [
       "Button(description='Show Page Conflict', layout=Layout(width='160px'), style=ButtonStyle())"
      ]
     },
     "metadata": {},
     "output_type": "display_data"
    },
    {
     "data": {
      "application/vnd.jupyter.widget-view+json": {
       "model_id": "da18b09dddfc4bbfa2e29fb5a3de8cc9",
       "version_major": 2,
       "version_minor": 0
      },
      "text/plain": [
       "Output()"
      ]
     },
     "metadata": {},
     "output_type": "display_data"
    }
   ],
   "source": [
    "# create and display the button\n",
    "button2 = widgets.Button(description=\"Show Page Conflict\", layout=Layout(width='160px'))\n",
    "display(button2)\n",
    "\n",
    "def on_click_conflict(b):\n",
    "    with out6:\n",
    "        clear_output()\n",
    "        display(md(f\"***Page: {the_page['title']}***\"))\n",
    "        \n",
    "        # Visualization\n",
    "        listener = ConflictsListener(agg_actions)\n",
    "\n",
    "        metrics = ['Total', 'Total_surv_48h', 'Total_persistent', 'Total_stopword_count',\n",
    "                   'Total Elegible Actions', 'Number of Conflicts', 'Number of Revisions',\n",
    "                   'Conflict Score', 'Absolute Conflict Score', 'Conflict Ratio']\n",
    "        conflict_score = agg_actions.conflict.sum() / agg_actions.elegibles.sum()\n",
    "        display(md(f'**Page conflict score: {conflict_score}**'))\n",
    "\n",
    "        # Visualization\n",
    "        if (conflict_score != 0):\n",
    "            interact(listener.listen,\n",
    "                     _range = get_date_slider_from_datetime(agg_actions['year_month']),\n",
    "                     granularity=Dropdown(options=['Yearly', 'Monthly'], value='Monthly'),\n",
    "                     black=Dropdown(options=metrics, value='Conflict Score'),\n",
    "                     red=Dropdown(options= ['None'] + metrics, value='None'))\n",
    "        #display(Javascript('Jupyter.notebook.execute_cells([24])'))\n",
    "    \n",
    "\n",
    "out6 = Output()\n",
    "display(out6)\n",
    "\n",
    "# set the event\n",
    "button2.on_click(on_click_conflict)\n",
    "\n",
    "# trigger the event with the default value\n",
    "on_click_conflict(button2)"
   ]
  },
  {
   "cell_type": "markdown",
   "metadata": {
    "solution2": "hidden",
    "solution2_first": true
   },
   "source": [
    "### <span style=\"color:green\"> TRY YOURSELF! THIS IS WHAT WILL HAPPEN WHEN YOU CLICK 'Refresh Page Conflict' BUTTON </span>"
   ]
  },
  {
   "cell_type": "code",
   "execution_count": 12,
   "metadata": {
    "scrolled": true,
    "solution2": "hidden"
   },
   "outputs": [
    {
     "name": "stdout",
     "output_type": "stream",
     "text": [
      "The page that is being used: Train station\n",
      "Page conflict score is: 1.240421891911278\n"
     ]
    },
    {
     "data": {
      "text/html": [
       "        <script type=\"text/javascript\">\n",
       "        window.PlotlyConfig = {MathJaxConfig: 'local'};\n",
       "        if (window.MathJax) {MathJax.Hub.Config({SVG: {font: \"STIX-Web\"}});}\n",
       "        if (typeof require !== 'undefined') {\n",
       "        require.undef(\"plotly\");\n",
       "        requirejs.config({\n",
       "            paths: {\n",
       "                'plotly': ['https://cdn.plot.ly/plotly-latest.min']\n",
       "            }\n",
       "        });\n",
       "        require(['plotly'], function(Plotly) {\n",
       "            window._Plotly = Plotly;\n",
       "        });\n",
       "        }\n",
       "        </script>\n",
       "        "
      ]
     },
     "metadata": {},
     "output_type": "display_data"
    },
    {
     "data": {
      "application/vnd.plotly.v1+json": {
       "config": {
        "linkText": "Export to plot.ly",
        "plotlyServerURL": "https://plot.ly",
        "showLink": false
       },
       "data": [
        {
         "marker": {
          "color": "rgba(0, 0, 0, 1)"
         },
         "name": "Conflict Score",
         "type": "scatter",
         "x": [
          "2005-12-31T00:00:00",
          "2006-12-31T00:00:00",
          "2007-12-31T00:00:00",
          "2008-12-31T00:00:00",
          "2009-12-31T00:00:00",
          "2010-12-31T00:00:00",
          "2011-12-31T00:00:00",
          "2012-12-31T00:00:00",
          "2013-12-31T00:00:00",
          "2014-12-31T00:00:00",
          "2015-12-31T00:00:00",
          "2016-12-31T00:00:00",
          "2017-12-31T00:00:00",
          "2018-12-31T00:00:00",
          "2019-12-31T00:00:00"
         ],
         "y": [
          1.2241373414219239,
          0.8828917418105064,
          2.296901797354297,
          0.669845259940646,
          1.8128936052389555,
          0.994055569963202,
          1.4669335695731585,
          1.1739262551189011,
          1.4907618854375657,
          0.970625259033344,
          0.7018911619679689,
          0.8942316105563474,
          0.6482635911219273,
          1.3961416478293536,
          0.9761307632669174
         ]
        }
       ],
       "layout": {
        "barmode": "group",
        "hovermode": "closest",
        "legend": {
         "x": 0.5,
         "y": 1.2
        },
        "showlegend": true,
        "template": {
         "data": {
          "bar": [
           {
            "error_x": {
             "color": "#2a3f5f"
            },
            "error_y": {
             "color": "#2a3f5f"
            },
            "marker": {
             "line": {
              "color": "#E5ECF6",
              "width": 0.5
             }
            },
            "type": "bar"
           }
          ],
          "barpolar": [
           {
            "marker": {
             "line": {
              "color": "#E5ECF6",
              "width": 0.5
             }
            },
            "type": "barpolar"
           }
          ],
          "carpet": [
           {
            "aaxis": {
             "endlinecolor": "#2a3f5f",
             "gridcolor": "white",
             "linecolor": "white",
             "minorgridcolor": "white",
             "startlinecolor": "#2a3f5f"
            },
            "baxis": {
             "endlinecolor": "#2a3f5f",
             "gridcolor": "white",
             "linecolor": "white",
             "minorgridcolor": "white",
             "startlinecolor": "#2a3f5f"
            },
            "type": "carpet"
           }
          ],
          "choropleth": [
           {
            "colorbar": {
             "outlinewidth": 0,
             "ticks": ""
            },
            "type": "choropleth"
           }
          ],
          "contour": [
           {
            "colorbar": {
             "outlinewidth": 0,
             "ticks": ""
            },
            "colorscale": [
             [
              0,
              "#0d0887"
             ],
             [
              0.1111111111111111,
              "#46039f"
             ],
             [
              0.2222222222222222,
              "#7201a8"
             ],
             [
              0.3333333333333333,
              "#9c179e"
             ],
             [
              0.4444444444444444,
              "#bd3786"
             ],
             [
              0.5555555555555556,
              "#d8576b"
             ],
             [
              0.6666666666666666,
              "#ed7953"
             ],
             [
              0.7777777777777778,
              "#fb9f3a"
             ],
             [
              0.8888888888888888,
              "#fdca26"
             ],
             [
              1,
              "#f0f921"
             ]
            ],
            "type": "contour"
           }
          ],
          "contourcarpet": [
           {
            "colorbar": {
             "outlinewidth": 0,
             "ticks": ""
            },
            "type": "contourcarpet"
           }
          ],
          "heatmap": [
           {
            "colorbar": {
             "outlinewidth": 0,
             "ticks": ""
            },
            "colorscale": [
             [
              0,
              "#0d0887"
             ],
             [
              0.1111111111111111,
              "#46039f"
             ],
             [
              0.2222222222222222,
              "#7201a8"
             ],
             [
              0.3333333333333333,
              "#9c179e"
             ],
             [
              0.4444444444444444,
              "#bd3786"
             ],
             [
              0.5555555555555556,
              "#d8576b"
             ],
             [
              0.6666666666666666,
              "#ed7953"
             ],
             [
              0.7777777777777778,
              "#fb9f3a"
             ],
             [
              0.8888888888888888,
              "#fdca26"
             ],
             [
              1,
              "#f0f921"
             ]
            ],
            "type": "heatmap"
           }
          ],
          "heatmapgl": [
           {
            "colorbar": {
             "outlinewidth": 0,
             "ticks": ""
            },
            "colorscale": [
             [
              0,
              "#0d0887"
             ],
             [
              0.1111111111111111,
              "#46039f"
             ],
             [
              0.2222222222222222,
              "#7201a8"
             ],
             [
              0.3333333333333333,
              "#9c179e"
             ],
             [
              0.4444444444444444,
              "#bd3786"
             ],
             [
              0.5555555555555556,
              "#d8576b"
             ],
             [
              0.6666666666666666,
              "#ed7953"
             ],
             [
              0.7777777777777778,
              "#fb9f3a"
             ],
             [
              0.8888888888888888,
              "#fdca26"
             ],
             [
              1,
              "#f0f921"
             ]
            ],
            "type": "heatmapgl"
           }
          ],
          "histogram": [
           {
            "marker": {
             "colorbar": {
              "outlinewidth": 0,
              "ticks": ""
             }
            },
            "type": "histogram"
           }
          ],
          "histogram2d": [
           {
            "colorbar": {
             "outlinewidth": 0,
             "ticks": ""
            },
            "colorscale": [
             [
              0,
              "#0d0887"
             ],
             [
              0.1111111111111111,
              "#46039f"
             ],
             [
              0.2222222222222222,
              "#7201a8"
             ],
             [
              0.3333333333333333,
              "#9c179e"
             ],
             [
              0.4444444444444444,
              "#bd3786"
             ],
             [
              0.5555555555555556,
              "#d8576b"
             ],
             [
              0.6666666666666666,
              "#ed7953"
             ],
             [
              0.7777777777777778,
              "#fb9f3a"
             ],
             [
              0.8888888888888888,
              "#fdca26"
             ],
             [
              1,
              "#f0f921"
             ]
            ],
            "type": "histogram2d"
           }
          ],
          "histogram2dcontour": [
           {
            "colorbar": {
             "outlinewidth": 0,
             "ticks": ""
            },
            "colorscale": [
             [
              0,
              "#0d0887"
             ],
             [
              0.1111111111111111,
              "#46039f"
             ],
             [
              0.2222222222222222,
              "#7201a8"
             ],
             [
              0.3333333333333333,
              "#9c179e"
             ],
             [
              0.4444444444444444,
              "#bd3786"
             ],
             [
              0.5555555555555556,
              "#d8576b"
             ],
             [
              0.6666666666666666,
              "#ed7953"
             ],
             [
              0.7777777777777778,
              "#fb9f3a"
             ],
             [
              0.8888888888888888,
              "#fdca26"
             ],
             [
              1,
              "#f0f921"
             ]
            ],
            "type": "histogram2dcontour"
           }
          ],
          "mesh3d": [
           {
            "colorbar": {
             "outlinewidth": 0,
             "ticks": ""
            },
            "type": "mesh3d"
           }
          ],
          "parcoords": [
           {
            "line": {
             "colorbar": {
              "outlinewidth": 0,
              "ticks": ""
             }
            },
            "type": "parcoords"
           }
          ],
          "pie": [
           {
            "automargin": true,
            "type": "pie"
           }
          ],
          "scatter": [
           {
            "marker": {
             "colorbar": {
              "outlinewidth": 0,
              "ticks": ""
             }
            },
            "type": "scatter"
           }
          ],
          "scatter3d": [
           {
            "line": {
             "colorbar": {
              "outlinewidth": 0,
              "ticks": ""
             }
            },
            "marker": {
             "colorbar": {
              "outlinewidth": 0,
              "ticks": ""
             }
            },
            "type": "scatter3d"
           }
          ],
          "scattercarpet": [
           {
            "marker": {
             "colorbar": {
              "outlinewidth": 0,
              "ticks": ""
             }
            },
            "type": "scattercarpet"
           }
          ],
          "scattergeo": [
           {
            "marker": {
             "colorbar": {
              "outlinewidth": 0,
              "ticks": ""
             }
            },
            "type": "scattergeo"
           }
          ],
          "scattergl": [
           {
            "marker": {
             "colorbar": {
              "outlinewidth": 0,
              "ticks": ""
             }
            },
            "type": "scattergl"
           }
          ],
          "scattermapbox": [
           {
            "marker": {
             "colorbar": {
              "outlinewidth": 0,
              "ticks": ""
             }
            },
            "type": "scattermapbox"
           }
          ],
          "scatterpolar": [
           {
            "marker": {
             "colorbar": {
              "outlinewidth": 0,
              "ticks": ""
             }
            },
            "type": "scatterpolar"
           }
          ],
          "scatterpolargl": [
           {
            "marker": {
             "colorbar": {
              "outlinewidth": 0,
              "ticks": ""
             }
            },
            "type": "scatterpolargl"
           }
          ],
          "scatterternary": [
           {
            "marker": {
             "colorbar": {
              "outlinewidth": 0,
              "ticks": ""
             }
            },
            "type": "scatterternary"
           }
          ],
          "surface": [
           {
            "colorbar": {
             "outlinewidth": 0,
             "ticks": ""
            },
            "colorscale": [
             [
              0,
              "#0d0887"
             ],
             [
              0.1111111111111111,
              "#46039f"
             ],
             [
              0.2222222222222222,
              "#7201a8"
             ],
             [
              0.3333333333333333,
              "#9c179e"
             ],
             [
              0.4444444444444444,
              "#bd3786"
             ],
             [
              0.5555555555555556,
              "#d8576b"
             ],
             [
              0.6666666666666666,
              "#ed7953"
             ],
             [
              0.7777777777777778,
              "#fb9f3a"
             ],
             [
              0.8888888888888888,
              "#fdca26"
             ],
             [
              1,
              "#f0f921"
             ]
            ],
            "type": "surface"
           }
          ],
          "table": [
           {
            "cells": {
             "fill": {
              "color": "#EBF0F8"
             },
             "line": {
              "color": "white"
             }
            },
            "header": {
             "fill": {
              "color": "#C8D4E3"
             },
             "line": {
              "color": "white"
             }
            },
            "type": "table"
           }
          ]
         },
         "layout": {
          "annotationdefaults": {
           "arrowcolor": "#2a3f5f",
           "arrowhead": 0,
           "arrowwidth": 1
          },
          "coloraxis": {
           "colorbar": {
            "outlinewidth": 0,
            "ticks": ""
           }
          },
          "colorscale": {
           "diverging": [
            [
             0,
             "#8e0152"
            ],
            [
             0.1,
             "#c51b7d"
            ],
            [
             0.2,
             "#de77ae"
            ],
            [
             0.3,
             "#f1b6da"
            ],
            [
             0.4,
             "#fde0ef"
            ],
            [
             0.5,
             "#f7f7f7"
            ],
            [
             0.6,
             "#e6f5d0"
            ],
            [
             0.7,
             "#b8e186"
            ],
            [
             0.8,
             "#7fbc41"
            ],
            [
             0.9,
             "#4d9221"
            ],
            [
             1,
             "#276419"
            ]
           ],
           "sequential": [
            [
             0,
             "#0d0887"
            ],
            [
             0.1111111111111111,
             "#46039f"
            ],
            [
             0.2222222222222222,
             "#7201a8"
            ],
            [
             0.3333333333333333,
             "#9c179e"
            ],
            [
             0.4444444444444444,
             "#bd3786"
            ],
            [
             0.5555555555555556,
             "#d8576b"
            ],
            [
             0.6666666666666666,
             "#ed7953"
            ],
            [
             0.7777777777777778,
             "#fb9f3a"
            ],
            [
             0.8888888888888888,
             "#fdca26"
            ],
            [
             1,
             "#f0f921"
            ]
           ],
           "sequentialminus": [
            [
             0,
             "#0d0887"
            ],
            [
             0.1111111111111111,
             "#46039f"
            ],
            [
             0.2222222222222222,
             "#7201a8"
            ],
            [
             0.3333333333333333,
             "#9c179e"
            ],
            [
             0.4444444444444444,
             "#bd3786"
            ],
            [
             0.5555555555555556,
             "#d8576b"
            ],
            [
             0.6666666666666666,
             "#ed7953"
            ],
            [
             0.7777777777777778,
             "#fb9f3a"
            ],
            [
             0.8888888888888888,
             "#fdca26"
            ],
            [
             1,
             "#f0f921"
            ]
           ]
          },
          "colorway": [
           "#636efa",
           "#EF553B",
           "#00cc96",
           "#ab63fa",
           "#FFA15A",
           "#19d3f3",
           "#FF6692",
           "#B6E880",
           "#FF97FF",
           "#FECB52"
          ],
          "font": {
           "color": "#2a3f5f"
          },
          "geo": {
           "bgcolor": "white",
           "lakecolor": "white",
           "landcolor": "#E5ECF6",
           "showlakes": true,
           "showland": true,
           "subunitcolor": "white"
          },
          "hoverlabel": {
           "align": "left"
          },
          "hovermode": "closest",
          "mapbox": {
           "style": "light"
          },
          "paper_bgcolor": "white",
          "plot_bgcolor": "#E5ECF6",
          "polar": {
           "angularaxis": {
            "gridcolor": "white",
            "linecolor": "white",
            "ticks": ""
           },
           "bgcolor": "#E5ECF6",
           "radialaxis": {
            "gridcolor": "white",
            "linecolor": "white",
            "ticks": ""
           }
          },
          "scene": {
           "xaxis": {
            "backgroundcolor": "#E5ECF6",
            "gridcolor": "white",
            "gridwidth": 2,
            "linecolor": "white",
            "showbackground": true,
            "ticks": "",
            "zerolinecolor": "white"
           },
           "yaxis": {
            "backgroundcolor": "#E5ECF6",
            "gridcolor": "white",
            "gridwidth": 2,
            "linecolor": "white",
            "showbackground": true,
            "ticks": "",
            "zerolinecolor": "white"
           },
           "zaxis": {
            "backgroundcolor": "#E5ECF6",
            "gridcolor": "white",
            "gridwidth": 2,
            "linecolor": "white",
            "showbackground": true,
            "ticks": "",
            "zerolinecolor": "white"
           }
          },
          "shapedefaults": {
           "line": {
            "color": "#2a3f5f"
           }
          },
          "ternary": {
           "aaxis": {
            "gridcolor": "white",
            "linecolor": "white",
            "ticks": ""
           },
           "baxis": {
            "gridcolor": "white",
            "linecolor": "white",
            "ticks": ""
           },
           "bgcolor": "#E5ECF6",
           "caxis": {
            "gridcolor": "white",
            "linecolor": "white",
            "ticks": ""
           }
          },
          "title": {
           "x": 0.05
          },
          "xaxis": {
           "automargin": true,
           "gridcolor": "white",
           "linecolor": "white",
           "ticks": "",
           "title": {
            "standoff": 15
           },
           "zerolinecolor": "white",
           "zerolinewidth": 2
          },
          "yaxis": {
           "automargin": true,
           "gridcolor": "white",
           "linecolor": "white",
           "ticks": "",
           "title": {
            "standoff": 15
           },
           "zerolinecolor": "white",
           "zerolinewidth": 2
          }
         }
        },
        "xaxis": {
         "gridwidth": 2,
         "ticklen": 5,
         "title": {
          "text": "Yearly"
         },
         "zeroline": true
        },
        "yaxis": {
         "gridwidth": 2,
         "ticklen": 5
        }
       }
      },
      "text/html": [
       "<div>\n",
       "        \n",
       "        \n",
       "            <div id=\"cdb94a44-e1e2-4556-9c5e-8f78ffc3abdd\" class=\"plotly-graph-div\" style=\"height:525px; width:100%;\"></div>\n",
       "            <script type=\"text/javascript\">\n",
       "                require([\"plotly\"], function(Plotly) {\n",
       "                    window.PLOTLYENV=window.PLOTLYENV || {};\n",
       "                    \n",
       "                if (document.getElementById(\"cdb94a44-e1e2-4556-9c5e-8f78ffc3abdd\")) {\n",
       "                    Plotly.newPlot(\n",
       "                        'cdb94a44-e1e2-4556-9c5e-8f78ffc3abdd',\n",
       "                        [{\"marker\": {\"color\": \"rgba(0, 0, 0, 1)\"}, \"name\": \"Conflict Score\", \"type\": \"scatter\", \"x\": [\"2005-12-31T00:00:00\", \"2006-12-31T00:00:00\", \"2007-12-31T00:00:00\", \"2008-12-31T00:00:00\", \"2009-12-31T00:00:00\", \"2010-12-31T00:00:00\", \"2011-12-31T00:00:00\", \"2012-12-31T00:00:00\", \"2013-12-31T00:00:00\", \"2014-12-31T00:00:00\", \"2015-12-31T00:00:00\", \"2016-12-31T00:00:00\", \"2017-12-31T00:00:00\", \"2018-12-31T00:00:00\", \"2019-12-31T00:00:00\"], \"y\": [1.2241373414219239, 0.8828917418105064, 2.296901797354297, 0.669845259940646, 1.8128936052389555, 0.994055569963202, 1.4669335695731585, 1.1739262551189011, 1.4907618854375657, 0.970625259033344, 0.7018911619679689, 0.8942316105563474, 0.6482635911219273, 1.3961416478293536, 0.9761307632669174]}],\n",
       "                        {\"barmode\": \"group\", \"hovermode\": \"closest\", \"legend\": {\"x\": 0.5, \"y\": 1.2}, \"showlegend\": true, \"template\": {\"data\": {\"bar\": [{\"error_x\": {\"color\": \"#2a3f5f\"}, \"error_y\": {\"color\": \"#2a3f5f\"}, \"marker\": {\"line\": {\"color\": \"#E5ECF6\", \"width\": 0.5}}, \"type\": \"bar\"}], \"barpolar\": [{\"marker\": {\"line\": {\"color\": \"#E5ECF6\", \"width\": 0.5}}, \"type\": \"barpolar\"}], \"carpet\": [{\"aaxis\": {\"endlinecolor\": \"#2a3f5f\", \"gridcolor\": \"white\", \"linecolor\": \"white\", \"minorgridcolor\": \"white\", \"startlinecolor\": \"#2a3f5f\"}, \"baxis\": {\"endlinecolor\": \"#2a3f5f\", \"gridcolor\": \"white\", \"linecolor\": \"white\", \"minorgridcolor\": \"white\", \"startlinecolor\": \"#2a3f5f\"}, \"type\": \"carpet\"}], \"choropleth\": [{\"colorbar\": {\"outlinewidth\": 0, \"ticks\": \"\"}, \"type\": \"choropleth\"}], \"contour\": [{\"colorbar\": {\"outlinewidth\": 0, \"ticks\": \"\"}, \"colorscale\": [[0.0, \"#0d0887\"], [0.1111111111111111, \"#46039f\"], [0.2222222222222222, \"#7201a8\"], [0.3333333333333333, \"#9c179e\"], [0.4444444444444444, \"#bd3786\"], [0.5555555555555556, \"#d8576b\"], [0.6666666666666666, \"#ed7953\"], [0.7777777777777778, \"#fb9f3a\"], [0.8888888888888888, \"#fdca26\"], [1.0, \"#f0f921\"]], \"type\": \"contour\"}], \"contourcarpet\": [{\"colorbar\": {\"outlinewidth\": 0, \"ticks\": \"\"}, \"type\": \"contourcarpet\"}], \"heatmap\": [{\"colorbar\": {\"outlinewidth\": 0, \"ticks\": \"\"}, \"colorscale\": [[0.0, \"#0d0887\"], [0.1111111111111111, \"#46039f\"], [0.2222222222222222, \"#7201a8\"], [0.3333333333333333, \"#9c179e\"], [0.4444444444444444, \"#bd3786\"], [0.5555555555555556, \"#d8576b\"], [0.6666666666666666, \"#ed7953\"], [0.7777777777777778, \"#fb9f3a\"], [0.8888888888888888, \"#fdca26\"], [1.0, \"#f0f921\"]], \"type\": \"heatmap\"}], \"heatmapgl\": [{\"colorbar\": {\"outlinewidth\": 0, \"ticks\": \"\"}, \"colorscale\": [[0.0, \"#0d0887\"], [0.1111111111111111, \"#46039f\"], [0.2222222222222222, \"#7201a8\"], [0.3333333333333333, \"#9c179e\"], [0.4444444444444444, \"#bd3786\"], [0.5555555555555556, \"#d8576b\"], [0.6666666666666666, \"#ed7953\"], [0.7777777777777778, \"#fb9f3a\"], [0.8888888888888888, \"#fdca26\"], [1.0, \"#f0f921\"]], \"type\": \"heatmapgl\"}], \"histogram\": [{\"marker\": {\"colorbar\": {\"outlinewidth\": 0, \"ticks\": \"\"}}, \"type\": \"histogram\"}], \"histogram2d\": [{\"colorbar\": {\"outlinewidth\": 0, \"ticks\": \"\"}, \"colorscale\": [[0.0, \"#0d0887\"], [0.1111111111111111, \"#46039f\"], [0.2222222222222222, \"#7201a8\"], [0.3333333333333333, \"#9c179e\"], [0.4444444444444444, \"#bd3786\"], [0.5555555555555556, \"#d8576b\"], [0.6666666666666666, \"#ed7953\"], [0.7777777777777778, \"#fb9f3a\"], [0.8888888888888888, \"#fdca26\"], [1.0, \"#f0f921\"]], \"type\": \"histogram2d\"}], \"histogram2dcontour\": [{\"colorbar\": {\"outlinewidth\": 0, \"ticks\": \"\"}, \"colorscale\": [[0.0, \"#0d0887\"], [0.1111111111111111, \"#46039f\"], [0.2222222222222222, \"#7201a8\"], [0.3333333333333333, \"#9c179e\"], [0.4444444444444444, \"#bd3786\"], [0.5555555555555556, \"#d8576b\"], [0.6666666666666666, \"#ed7953\"], [0.7777777777777778, \"#fb9f3a\"], [0.8888888888888888, \"#fdca26\"], [1.0, \"#f0f921\"]], \"type\": \"histogram2dcontour\"}], \"mesh3d\": [{\"colorbar\": {\"outlinewidth\": 0, \"ticks\": \"\"}, \"type\": \"mesh3d\"}], \"parcoords\": [{\"line\": {\"colorbar\": {\"outlinewidth\": 0, \"ticks\": \"\"}}, \"type\": \"parcoords\"}], \"pie\": [{\"automargin\": true, \"type\": \"pie\"}], \"scatter\": [{\"marker\": {\"colorbar\": {\"outlinewidth\": 0, \"ticks\": \"\"}}, \"type\": \"scatter\"}], \"scatter3d\": [{\"line\": {\"colorbar\": {\"outlinewidth\": 0, \"ticks\": \"\"}}, \"marker\": {\"colorbar\": {\"outlinewidth\": 0, \"ticks\": \"\"}}, \"type\": \"scatter3d\"}], \"scattercarpet\": [{\"marker\": {\"colorbar\": {\"outlinewidth\": 0, \"ticks\": \"\"}}, \"type\": \"scattercarpet\"}], \"scattergeo\": [{\"marker\": {\"colorbar\": {\"outlinewidth\": 0, \"ticks\": \"\"}}, \"type\": \"scattergeo\"}], \"scattergl\": [{\"marker\": {\"colorbar\": {\"outlinewidth\": 0, \"ticks\": \"\"}}, \"type\": \"scattergl\"}], \"scattermapbox\": [{\"marker\": {\"colorbar\": {\"outlinewidth\": 0, \"ticks\": \"\"}}, \"type\": \"scattermapbox\"}], \"scatterpolar\": [{\"marker\": {\"colorbar\": {\"outlinewidth\": 0, \"ticks\": \"\"}}, \"type\": \"scatterpolar\"}], \"scatterpolargl\": [{\"marker\": {\"colorbar\": {\"outlinewidth\": 0, \"ticks\": \"\"}}, \"type\": \"scatterpolargl\"}], \"scatterternary\": [{\"marker\": {\"colorbar\": {\"outlinewidth\": 0, \"ticks\": \"\"}}, \"type\": \"scatterternary\"}], \"surface\": [{\"colorbar\": {\"outlinewidth\": 0, \"ticks\": \"\"}, \"colorscale\": [[0.0, \"#0d0887\"], [0.1111111111111111, \"#46039f\"], [0.2222222222222222, \"#7201a8\"], [0.3333333333333333, \"#9c179e\"], [0.4444444444444444, \"#bd3786\"], [0.5555555555555556, \"#d8576b\"], [0.6666666666666666, \"#ed7953\"], [0.7777777777777778, \"#fb9f3a\"], [0.8888888888888888, \"#fdca26\"], [1.0, \"#f0f921\"]], \"type\": \"surface\"}], \"table\": [{\"cells\": {\"fill\": {\"color\": \"#EBF0F8\"}, \"line\": {\"color\": \"white\"}}, \"header\": {\"fill\": {\"color\": \"#C8D4E3\"}, \"line\": {\"color\": \"white\"}}, \"type\": \"table\"}]}, \"layout\": {\"annotationdefaults\": {\"arrowcolor\": \"#2a3f5f\", \"arrowhead\": 0, \"arrowwidth\": 1}, \"coloraxis\": {\"colorbar\": {\"outlinewidth\": 0, \"ticks\": \"\"}}, \"colorscale\": {\"diverging\": [[0, \"#8e0152\"], [0.1, \"#c51b7d\"], [0.2, \"#de77ae\"], [0.3, \"#f1b6da\"], [0.4, \"#fde0ef\"], [0.5, \"#f7f7f7\"], [0.6, \"#e6f5d0\"], [0.7, \"#b8e186\"], [0.8, \"#7fbc41\"], [0.9, \"#4d9221\"], [1, \"#276419\"]], \"sequential\": [[0.0, \"#0d0887\"], [0.1111111111111111, \"#46039f\"], [0.2222222222222222, \"#7201a8\"], [0.3333333333333333, \"#9c179e\"], [0.4444444444444444, \"#bd3786\"], [0.5555555555555556, \"#d8576b\"], [0.6666666666666666, \"#ed7953\"], [0.7777777777777778, \"#fb9f3a\"], [0.8888888888888888, \"#fdca26\"], [1.0, \"#f0f921\"]], \"sequentialminus\": [[0.0, \"#0d0887\"], [0.1111111111111111, \"#46039f\"], [0.2222222222222222, \"#7201a8\"], [0.3333333333333333, \"#9c179e\"], [0.4444444444444444, \"#bd3786\"], [0.5555555555555556, \"#d8576b\"], [0.6666666666666666, \"#ed7953\"], [0.7777777777777778, \"#fb9f3a\"], [0.8888888888888888, \"#fdca26\"], [1.0, \"#f0f921\"]]}, \"colorway\": [\"#636efa\", \"#EF553B\", \"#00cc96\", \"#ab63fa\", \"#FFA15A\", \"#19d3f3\", \"#FF6692\", \"#B6E880\", \"#FF97FF\", \"#FECB52\"], \"font\": {\"color\": \"#2a3f5f\"}, \"geo\": {\"bgcolor\": \"white\", \"lakecolor\": \"white\", \"landcolor\": \"#E5ECF6\", \"showlakes\": true, \"showland\": true, \"subunitcolor\": \"white\"}, \"hoverlabel\": {\"align\": \"left\"}, \"hovermode\": \"closest\", \"mapbox\": {\"style\": \"light\"}, \"paper_bgcolor\": \"white\", \"plot_bgcolor\": \"#E5ECF6\", \"polar\": {\"angularaxis\": {\"gridcolor\": \"white\", \"linecolor\": \"white\", \"ticks\": \"\"}, \"bgcolor\": \"#E5ECF6\", \"radialaxis\": {\"gridcolor\": \"white\", \"linecolor\": \"white\", \"ticks\": \"\"}}, \"scene\": {\"xaxis\": {\"backgroundcolor\": \"#E5ECF6\", \"gridcolor\": \"white\", \"gridwidth\": 2, \"linecolor\": \"white\", \"showbackground\": true, \"ticks\": \"\", \"zerolinecolor\": \"white\"}, \"yaxis\": {\"backgroundcolor\": \"#E5ECF6\", \"gridcolor\": \"white\", \"gridwidth\": 2, \"linecolor\": \"white\", \"showbackground\": true, \"ticks\": \"\", \"zerolinecolor\": \"white\"}, \"zaxis\": {\"backgroundcolor\": \"#E5ECF6\", \"gridcolor\": \"white\", \"gridwidth\": 2, \"linecolor\": \"white\", \"showbackground\": true, \"ticks\": \"\", \"zerolinecolor\": \"white\"}}, \"shapedefaults\": {\"line\": {\"color\": \"#2a3f5f\"}}, \"ternary\": {\"aaxis\": {\"gridcolor\": \"white\", \"linecolor\": \"white\", \"ticks\": \"\"}, \"baxis\": {\"gridcolor\": \"white\", \"linecolor\": \"white\", \"ticks\": \"\"}, \"bgcolor\": \"#E5ECF6\", \"caxis\": {\"gridcolor\": \"white\", \"linecolor\": \"white\", \"ticks\": \"\"}}, \"title\": {\"x\": 0.05}, \"xaxis\": {\"automargin\": true, \"gridcolor\": \"white\", \"linecolor\": \"white\", \"ticks\": \"\", \"title\": {\"standoff\": 15}, \"zerolinecolor\": \"white\", \"zerolinewidth\": 2}, \"yaxis\": {\"automargin\": true, \"gridcolor\": \"white\", \"linecolor\": \"white\", \"ticks\": \"\", \"title\": {\"standoff\": 15}, \"zerolinecolor\": \"white\", \"zerolinewidth\": 2}}}, \"xaxis\": {\"gridwidth\": 2, \"ticklen\": 5, \"title\": {\"text\": \"Yearly\"}, \"zeroline\": true}, \"yaxis\": {\"gridwidth\": 2, \"ticklen\": 5}},\n",
       "                        {\"responsive\": true}\n",
       "                    ).then(function(){\n",
       "                            \n",
       "var gd = document.getElementById('cdb94a44-e1e2-4556-9c5e-8f78ffc3abdd');\n",
       "var x = new MutationObserver(function (mutations, observer) {{\n",
       "        var display = window.getComputedStyle(gd).display;\n",
       "        if (!display || display === 'none') {{\n",
       "            console.log([gd, 'removed!']);\n",
       "            Plotly.purge(gd);\n",
       "            observer.disconnect();\n",
       "        }}\n",
       "}});\n",
       "\n",
       "// Listen for the removal of the full notebook cells\n",
       "var notebookContainer = gd.closest('#notebook-container');\n",
       "if (notebookContainer) {{\n",
       "    x.observe(notebookContainer, {childList: true});\n",
       "}}\n",
       "\n",
       "// Listen for the clearing of the current output cell\n",
       "var outputEl = gd.closest('.output');\n",
       "if (outputEl) {{\n",
       "    x.observe(outputEl, {childList: true});\n",
       "}}\n",
       "\n",
       "                        })\n",
       "                };\n",
       "                });\n",
       "            </script>\n",
       "        </div>"
      ]
     },
     "metadata": {},
     "output_type": "display_data"
    }
   ],
   "source": [
    "### ----------------------------------------------------------------------------------- ###\n",
    "### TRY YOURSELF! THIS IS WHAT WILL HAPPEN WHEN YOU CLICK 'Show Page Conflict' BUTTON   ###\n",
    "### ----------------------------------------------------------------------------------- ###\n",
    "\n",
    "## This is the page you used ##\n",
    "print('The page that is being used:', the_page['title'])\n",
    "\n",
    "## Continue to use our data from A.2; calculate the Conflict Score definded as above ##\n",
    "conflict_sc = total_actions.conflict.sum() / total_actions.elegibles.sum()\n",
    "print('Page conflict score is:', conflict_sc)\n",
    "\n",
    "## visualization, core visual code lies in ConflictsListener, then the interact function    ##\n",
    "## make it interactive, mode details see:                                                   ##\n",
    "## https://github.com/gesiscss/wikiwho_demo/blob/master/visualization/conflicts_listener.py ##\n",
    "\n",
    "# First check whether the page conflict score is zero\n",
    "if conflict_sc != 0:\n",
    "    # Define a ConflictsListener instance\n",
    "    conflicts_listener = ConflictsListener(total_actions)\n",
    "\n",
    "    # Set parameters\n",
    "    begin_date = date(2005, 3, 1)\n",
    "    end_date = date(2019, 6, 1)\n",
    "    frequency = 'Yearly' # 'Monthly'\n",
    "    \n",
    "    # The metrics we need:\n",
    "    # ['Total', 'Total_surv_48h', 'Total_persistent', 'Total_stopword_count',\n",
    "    #  'Total Elegible Actions', 'Number of Conflicts', 'Number of Revisions',\n",
    "    #  'Conflict Score', 'Absolute Conflict Score', 'Conflict Ratio', ('None')]\n",
    "    # Note: only 'red_line' has 'None' option.\n",
    "    black_line = 'Conflict Score'\n",
    "    red_line = 'None'\n",
    "    \n",
    "    conflicts_listener.listen(\n",
    "        _range = (begin_date, end_date),\n",
    "        granularity = frequency,\n",
    "        black = black_line,\n",
    "        red = red_line\n",
    "    )"
   ]
  },
  {
   "cell_type": "markdown",
   "metadata": {},
   "source": [
    "---\n",
    "\n",
    "## A.4 Editor Conflict Score"
   ]
  },
  {
   "cell_type": "markdown",
   "metadata": {},
   "source": [
    "We can also calculate the conflict score for each individual editor. The\n",
    "table below presents the conflict score and other related  metrics per editor (*editor_id* and *editor*\n",
    "column):\n",
    "\n",
    "- **conflicts**: the total number of conflicts\n",
    "- **elegibles**: the total number of elegible actions performed by the editor\n",
    "- **conflict**: the sum of conflict scores of all actions divided by the number of elegible actions"
   ]
  },
  {
   "cell_type": "code",
   "execution_count": 13,
   "metadata": {
    "hide_input": true,
    "scrolled": false
   },
   "outputs": [
    {
     "data": {
      "application/vnd.jupyter.widget-view+json": {
       "model_id": "7d7ddd7f197943cb921d6cfce9b92fcb",
       "version_major": 2,
       "version_minor": 0
      },
      "text/plain": [
       "Button(description=\"Show Editor's Conflicts\", layout=Layout(width='160px'), style=ButtonStyle())"
      ]
     },
     "metadata": {},
     "output_type": "display_data"
    },
    {
     "data": {
      "application/vnd.jupyter.widget-view+json": {
       "model_id": "424c49d4c7a34df68b3f4ef519f6514a",
       "version_major": 2,
       "version_minor": 0
      },
      "text/plain": [
       "Output()"
      ]
     },
     "metadata": {},
     "output_type": "display_data"
    }
   ],
   "source": [
    "# create and display the button\n",
    "button2 = widgets.Button(description=\"Show Editor's Conflicts\", layout=Layout(width='160px'))\n",
    "display(button2)\n",
    "\n",
    "def on_click_editor(b):\n",
    "    global editors_conflicts\n",
    "    with out7:\n",
    "        clear_output()\n",
    "        display(md(f\"***Page: {the_page['title']}***\"))\n",
    "                   \n",
    "        editors_conflicts = agg_actions.groupby(pd.Grouper(\n",
    "                    key='editor_id')).agg({'conflicts': 'sum', 'elegibles': 'sum', 'conflict': 'sum'}).reset_index()\n",
    "        editors_conflicts['conflict'] = (editors_conflicts['conflict']/editors_conflicts['elegibles'])\n",
    "        if len(editors_conflicts) > 0:\n",
    "            editors_conflicts = editors[['editor_id', 'name']].merge(editors_conflicts.dropna(), \n",
    "                                                        right_index=True, on='editor_id').set_index('editor_id')\n",
    "            qg_obj = qgrid.show_grid(editors_conflicts.dropna())\n",
    "            display(qg_obj)\n",
    "            #display(Javascript('Jupyter.notebook.execute_cells([28])'))\n",
    "                   \n",
    "        else:\n",
    "            display(md(f'**There is no Conflict Scores**')) \n",
    "            editors_conflicts = None\n",
    "            \n",
    "out7 = Output()\n",
    "display(out7)\n",
    "\n",
    "# set the event\n",
    "button2.on_click(on_click_editor)\n",
    "\n",
    "# trigger the event with the default value\n",
    "on_click_editor(button2)"
   ]
  },
  {
   "cell_type": "markdown",
   "metadata": {
    "solution2": "hidden",
    "solution2_first": true
   },
   "source": [
    "### <span style=\"color:green\"> TRY YOURSELF! THIS IS WHAT WILL HAPPEN WHEN YOU CLICK 'Refresh Editor's Conflict' BUTTON </span>"
   ]
  },
  {
   "cell_type": "code",
   "execution_count": 14,
   "metadata": {
    "scrolled": false,
    "solution2": "hidden"
   },
   "outputs": [
    {
     "name": "stdout",
     "output_type": "stream",
     "text": [
      "The page that is being used: Train station\n"
     ]
    },
    {
     "data": {
      "application/vnd.jupyter.widget-view+json": {
       "model_id": "3234a638127147f79574086dce337b43",
       "version_major": 2,
       "version_minor": 0
      },
      "text/plain": [
       "QgridWidget(grid_options={'fullWidthRows': True, 'syncColumnCellResize': True, 'forceFitColumns': True, 'defau…"
      ]
     },
     "metadata": {},
     "output_type": "display_data"
    },
    {
     "name": "stdout",
     "output_type": "stream",
     "text": [
      "Stored 'conflicts_by_editors' (DataFrame)\n"
     ]
    }
   ],
   "source": [
    "### ----------------------------------------------------------------------------------- ###\n",
    "### TRY YOURSELF! THIS IS WHAT WILL HAPPEN WHEN YOU CLICK 'Conflict By Editor' BUTTON   ###\n",
    "### ----------------------------------------------------------------------------------- ###\n",
    "\n",
    "## This is the page you used ##\n",
    "print('The page that is being used:', the_page['title'])\n",
    "\n",
    "## Continue to use our data from A.2; sum 'conflicts', 'elegibles' and 'conflict' (absolute) up by editors ##\n",
    "conflicts_by_editors = total_actions.groupby(pd.Grouper(\n",
    "                            key='editor_id')).agg({'conflicts': 'sum', 'elegibles': 'sum', 'conflict': 'sum'}).reset_index()\n",
    "\n",
    "## Convert 'conflict' (absolute) to conflict ##\n",
    "conflicts_by_editors['conflict'] = (conflicts_by_editors['conflict'] / conflicts_by_editors['elegibles'])\n",
    "\n",
    "## If there are conflicts, then display it using qgrid ##\n",
    "if len(conflicts_by_editors) > 0:\n",
    "    conflicts_by_editors = grabbed_names[['editor_id', 'name']].merge(conflicts_by_editors.dropna(), \n",
    "                                                    right_index=True, on='editor_id').set_index('editor_id')\n",
    "    qg_obj = qgrid.show_grid(conflicts_by_editors.dropna())\n",
    "    display(qg_obj)\n",
    "else:\n",
    "    display(md(f'**There is no Conflict Scores**')) \n",
    "    conflicts_by_editors = None\n",
    "\n",
    "## Store the variable for the next notebook. ##\n",
    "%store conflicts_by_editors"
   ]
  },
  {
   "cell_type": "markdown",
   "metadata": {},
   "source": [
    "## B.1 Conflict score of each singular action"
   ]
  },
  {
   "cell_type": "markdown",
   "metadata": {},
   "source": [
    "In the following table, all the actions that are in conflict are presented, and a conflict score\n",
    "is presented per action. The importance of the conflict can be meassure by considering the seconds t that \n",
    "have passed since the last action on the same token has occured (`time_diff_secs` column). A score to \n",
    "meassure conflict is calculated based on t with the following formula: 1 / log<sub>3600</sub>(t+2). \n",
    "Thus, *undo* actions are weighted higher than the original time in seconds when the *t* is less than an hour.\n",
    "For details, please refer to [Flöck et al, 2017](https://arxiv.org/abs/1703.08244).\n",
    "**Columns description:**\n",
    "- **token**: the string of the token that is being tracked\n",
    "- **token_id**: the id of the token that is being tracked\n",
    "- **rev_id**: the revision id in which the action (insertion or deletion) happen\n",
    "- **editor_id**: the id of the editor that inserted the token (if starts with **0|**, it means that\n",
    "the editor is not registered, and the ip is displayed instead\n",
    "- **time_diff_secs**: seconds that have passed since the last action on the same token has occured\n",
    "- **conflict**: a score to meassure conflict that is calculated based on the `time_diff_secs` \n",
    "with the following formula: *1 / log<sub>3600</sub>(time_diff_secs + 2)*. For details, please refer to \n",
    "[Flöck et al, 2017](https://arxiv.org/abs/1703.08244)\n",
    "\n",
    "<mark> *Question: Should explain -1 in the rev_id column?* </mark>"
   ]
  },
  {
   "cell_type": "code",
   "execution_count": 15,
   "metadata": {
    "hide_input": true,
    "scrolled": false
   },
   "outputs": [
    {
     "data": {
      "application/vnd.jupyter.widget-view+json": {
       "model_id": "4f5e622110454a029d016216b4135dc7",
       "version_major": 2,
       "version_minor": 0
      },
      "text/plain": [
       "Button(description='Show Conflict Score of Each Action', layout=Layout(width='250px'), style=ButtonStyle())"
      ]
     },
     "metadata": {},
     "output_type": "display_data"
    },
    {
     "data": {
      "application/vnd.jupyter.widget-view+json": {
       "model_id": "803d1a681eab4fcb8d0d9bb71c5b816a",
       "version_major": 2,
       "version_minor": 0
      },
      "text/plain": [
       "Output()"
      ]
     },
     "metadata": {},
     "output_type": "display_data"
    }
   ],
   "source": [
    "# create and display the button\n",
    "button2 = widgets.Button(description=\"Show Conflict Score of Each Action\", layout=Layout(width='250px'))\n",
    "display(button2)\n",
    "\n",
    "def on_click_actions(b):\n",
    "    global calculator\n",
    "    with out9:\n",
    "        clear_output()\n",
    "        # create the api\n",
    "        wikiwho = WikiWho(lng='en')\n",
    "\n",
    "        # Get the content and revisions from the wikiwho api\n",
    "        display(md(\"Downloading all_content from the WikiWhoApi...\"))\n",
    "        all_content = wikiwho.dv.all_content(the_page['page_id'])\n",
    "\n",
    "        display(md(\"Downloading revisions from the WikiWhoApi...\"))\n",
    "        revisions = wikiwho.dv.rev_ids_of_article(the_page['page_id'])\n",
    "\n",
    "        clear_output()\n",
    "\n",
    "        # call the calculator\n",
    "        calculator = ConflictManager(all_content, revisions)\n",
    "        calculator.calculate()\n",
    "        clear_output()\n",
    "\n",
    "        display(md(f\"***Page: {the_page['title']}***\"))\n",
    "        # display the tokens, the difference in seconds and its corresponding conflict score\n",
    "        conflicts = calculator.conflicts.copy()\n",
    "        conflicts['time_diff_secs'] = conflicts['time_diff'].dt.total_seconds()\n",
    "\n",
    "        if len(conflicts) > 0:\n",
    "            display(qgrid.show_grid(conflicts[[\n",
    "                'action', 'token', 'token_id', 'rev_id', \n",
    "                'editor', 'time_diff_secs', 'conflict']].rename(columns={\n",
    "                'editor': 'editor_id'}).sort_values('conflict', ascending=False)))\n",
    "        else:\n",
    "            display(md(f'**There are no conflicting tokens in this page.**'))\n",
    "            display(HTML(f'<a href=\"{get_previous_notebook()}\" target=\"_blank\">Go back to the previous workbook</a>'))\n",
    "                   \n",
    "        #display(Javascript('Jupyter.notebook.execute_cells([34])'))\n",
    "                   \n",
    "out9 = Output()\n",
    "display(out9)\n",
    "\n",
    "# set the event\n",
    "button2.on_click(on_click_actions)\n",
    "\n",
    "# trigger the event with the default value\n",
    "on_click_actions(button2)"
   ]
  },
  {
   "cell_type": "markdown",
   "metadata": {
    "hide_input": false,
    "solution2": "hidden",
    "solution2_first": true
   },
   "source": [
    "### <span style=\"color:green\"> TRY YOURSELF! THIS IS WHAT WILL HAPPEN WHEN YOU CLICK 'Refresh Conflict Score of Each Action' BUTTON </span>"
   ]
  },
  {
   "cell_type": "code",
   "execution_count": 16,
   "metadata": {
    "scrolled": true,
    "solution2": "hidden"
   },
   "outputs": [
    {
     "name": "stdout",
     "output_type": "stream",
     "text": [
      "The page that is being used: Train station\n"
     ]
    },
    {
     "data": {
      "application/vnd.jupyter.widget-view+json": {
       "model_id": "c72621e42bf04c3abe476eb36b98b330",
       "version_major": 2,
       "version_minor": 0
      },
      "text/plain": [
       "QgridWidget(grid_options={'fullWidthRows': True, 'syncColumnCellResize': True, 'forceFitColumns': True, 'defau…"
      ]
     },
     "metadata": {},
     "output_type": "display_data"
    },
    {
     "name": "stdout",
     "output_type": "stream",
     "text": [
      "Stored 'conflict_calculator' (ConflictManager)\n"
     ]
    }
   ],
   "source": [
    "### ----------------------------------------------------------------------------------- ###\n",
    "### TRY YOURSELF! THIS IS WHAT WILL HAPPEN WHEN YOU CLICK 'Conflict By Action' BUTTON   ###\n",
    "### ----------------------------------------------------------------------------------- ###\n",
    "\n",
    "## Get the content and revisions from the wikiwho api ##\n",
    "page_content = wikiwho_api.dv.all_content(the_page['page_id'])\n",
    "page_revisions = wikiwho_api.dv.rev_ids_of_article(the_page['page_id'])\n",
    "\n",
    "## Call the calculator, you could learn more about it through               ##\n",
    "## https://github.com/gesiscss/wikiwho_demo/blob/master/metrics/conflict.py ##\n",
    "conflict_calculator = ConflictManager(page_content, page_revisions)\n",
    "conflict_calculator.calculate()\n",
    "clear_output()\n",
    "\n",
    "## This is the page you used ##\n",
    "print('The page that is being used:', the_page['title'])\n",
    "\n",
    "## Display the tokens, the difference in seconds and its corresponding conflict score                 ##\n",
    "## Pandas.Series.dt: https://pandas.pydata.org/pandas-docs/stable/reference/api/pandas.Series.dt.html ##\n",
    "token_conflicts = conflict_calculator.conflicts.copy()\n",
    "token_conflicts['time_diff_secs'] = token_conflicts['time_diff'].dt.total_seconds()\n",
    "\n",
    "## Display using qgrid ##\n",
    "if len(token_conflicts) > 0:\n",
    "    display(qgrid.show_grid(token_conflicts[[\n",
    "        'action', 'token', 'token_id', 'rev_id', \n",
    "        'editor', 'time_diff_secs', 'conflict']].rename(columns={\n",
    "        'editor': 'editor_id'}).sort_values('conflict', ascending=False)))\n",
    "else:\n",
    "    display(md(f'**There are no conflicting tokens in this page.**'))\n",
    "    display(HTML(f'<a href=\"{get_previous_notebook()}\" target=\"_blank\">Go back to the previous workbook</a>'))\n",
    "    \n",
    "# Store the variable for the next notebook.\n",
    "%store conflict_calculator"
   ]
  },
  {
   "cell_type": "markdown",
   "metadata": {},
   "source": [
    "---\n",
    "\n",
    "## B.2 Most frequent conflicting token strings"
   ]
  },
  {
   "cell_type": "markdown",
   "metadata": {},
   "source": [
    "The WordCloud displays the most common conflicting token strings, i.e. words (token strings) \n",
    "with the most actions that have conflict. The size of the token string in the WordCloud indicates frequency \n",
    "of actions.\n",
    "In the controls you can select the *date range*, the type of *action* (insertion or deletion), and the \n",
    "*source*. The *source* can be any of the following:\n",
    "-   **Only Conflicts**: use only the actions that are in conflict.\n",
    "-   **Elegible Actions**: use only the actions that can potentially enter into conflict, i.e. actions \n",
    "that have occurred at least twice, e.g. the token x has been inserted twice (which necessarily implies \n",
    "it was remove once), the token x has been deleted twice (which necessarily implies it was inserted twice) \n",
    "-   **All Actions**: use all tokens regardles conflict"
   ]
  },
  {
   "cell_type": "code",
   "execution_count": 17,
   "metadata": {
    "hide_input": true,
    "scrolled": false
   },
   "outputs": [
    {
     "data": {
      "application/vnd.jupyter.widget-view+json": {
       "model_id": "785dd8b1cdcc4abd840efaf6cf5ac107",
       "version_major": 2,
       "version_minor": 0
      },
      "text/plain": [
       "Button(description='Show WordCloud', style=ButtonStyle())"
      ]
     },
     "metadata": {},
     "output_type": "display_data"
    },
    {
     "data": {
      "application/vnd.jupyter.widget-view+json": {
       "model_id": "c316713f2c204df1995a1818b5334fba",
       "version_major": 2,
       "version_minor": 0
      },
      "text/plain": [
       "Output()"
      ]
     },
     "metadata": {},
     "output_type": "display_data"
    }
   ],
   "source": [
    "# create and display the button\n",
    "button2 = widgets.Button(description=\"Show WordCloud\")\n",
    "display(button2)\n",
    "\n",
    "def on_click_wc(b):\n",
    "    with out11:\n",
    "        clear_output()\n",
    "        display(md(f\"***Page: {the_page['title']}***\"))\n",
    "        # listener\n",
    "        listener = WCListener(sources = {\n",
    "            'All actions': calculator.all_actions,\n",
    "            'Elegible Actions': calculator.elegible_actions,\n",
    "            'Only Conflicts': calculator.conflicts\n",
    "        })\n",
    "\n",
    "        # visualization\n",
    "        _range=get_date_slider_from_datetime(calculator.all_actions['rev_time'])\n",
    "        source=Dropdown(options=list(listener.sources.keys()), value='Only Conflicts', description='Source (*)')\n",
    "        action=Dropdown(options=['Both', 'Just Insertions', 'Just Deletions'], value='Both', description='Action')\n",
    "        editor=fixed('All')\n",
    "\n",
    "        out = interactive_output(listener.listen, {\n",
    "                 '_range': _range,\n",
    "                 'source': source,\n",
    "                 'action': action,\n",
    "                 'editor': editor})\n",
    "\n",
    "        display(VBox([_range, action, source, out]))\n",
    "        #display(Javascript('Jupyter.notebook.execute_cells([40])'))\n",
    "\n",
    "out11 = Output()\n",
    "display(out11)\n",
    "\n",
    "# set the event\n",
    "button2.on_click(on_click_wc)\n",
    "\n",
    "# trigger the event with the default value\n",
    "on_click_wc(button2)"
   ]
  },
  {
   "cell_type": "markdown",
   "metadata": {
    "solution2": "hidden",
    "solution2_first": true
   },
   "source": [
    "### <span style=\"color:green\"> TRY YOURSELF! THIS IS WHAT WILL HAPPEN WHEN YOU CLICK 'Refresh WordCloud' BUTTON </span>"
   ]
  },
  {
   "cell_type": "code",
   "execution_count": 18,
   "metadata": {
    "scrolled": true,
    "solution2": "hidden"
   },
   "outputs": [
    {
     "name": "stdout",
     "output_type": "stream",
     "text": [
      "The page that is being used: Train station\n",
      "Time range from 2005-03-01 to 2015-07-04\n"
     ]
    },
    {
     "data": {
      "text/markdown": [
       "**Only top 100 most frequent words displayed.**"
      ],
      "text/plain": [
       "<IPython.core.display.Markdown object>"
      ]
     },
     "metadata": {},
     "output_type": "display_data"
    },
    {
     "data": {
      "text/markdown": [
       "### The below token conflicts ocurred in a total of 345 revisions:"
      ],
      "text/plain": [
       "<IPython.core.display.Markdown object>"
      ]
     },
     "metadata": {},
     "output_type": "display_data"
    },
    {
     "data": {
      "image/png": "[encoded data removed]",
      "text/plain": [
       "<Figure size 1008x504 with 1 Axes>"
      ]
     },
     "metadata": {
      "needs_background": "light"
     },
     "output_type": "display_data"
    }
   ],
   "source": [
    "### ----------------------------------------------------------------------------------- ###\n",
    "### TRY YOURSELF! THIS IS WHAT WILL HAPPEN WHEN YOU CLICK 'Show WordCloud' BUTTON       ###\n",
    "### ----------------------------------------------------------------------------------- ###\n",
    "\n",
    "## This is the page you used ##\n",
    "print('The page that is being used:', the_page['title'])\n",
    "\n",
    "## WordCloud, core visual code lies in WCListener, then the interact function               ##\n",
    "## make it interactive, mode details see:                                                   ##\n",
    "## https://github.com/gesiscss/wikiwho_demo/blob/master/visualization/wordcloud_listener.py ##\n",
    "\n",
    "# Create a WCListener instance, continue to use our data from B.1;\n",
    "wclistener = WCListener(sources = {\n",
    "    'All actions': conflict_calculator.all_actions,\n",
    "    'Elegible Actions': conflict_calculator.elegible_actions,\n",
    "    'Only Conflicts': conflict_calculator.conflicts\n",
    "})\n",
    "\n",
    "# visualization: you could also perform it by coding!\n",
    "begin_date = date(2005, 3, 1)\n",
    "end_date = date(2015, 7, 4)\n",
    "actions_source='Only Conflicts' # 'Elegible Actions', 'All actions'\n",
    "action_type='Both' # 'Just Insertions', 'Just Deletions'\n",
    "editor='All'\n",
    "\n",
    "print('Time range from', begin_date.strftime(\"%Y-%m-%d\"), 'to', end_date.strftime(\"%Y-%m-%d\"))\n",
    "\n",
    "wclistener.listen(\n",
    "     _range=(begin_date, end_date),\n",
    "     source=actions_source,\n",
    "     action=action_type,\n",
    "     editor=editor)"
   ]
  },
  {
   "cell_type": "code",
   "execution_count": 20,
   "metadata": {
    "hide_input": true,
    "scrolled": false
   },
   "outputs": [
    {
     "data": {
      "text/html": [
       "<a href=\"3. Using WikiWho to analyze an editor in the context of a page.ipynb\" target=\"_blank\">Go to next workbook</a>"
      ],
      "text/plain": [
       "<IPython.core.display.HTML object>"
      ]
     },
     "metadata": {},
     "output_type": "display_data"
    },
    {
     "data": {
      "text/html": [
       "\n",
       "<script>\n",
       "document.getElementById('notebook').scrollIntoView();\n",
       "</script>\n"
      ],
      "text/plain": [
       "<IPython.core.display.HTML object>"
      ]
     },
     "metadata": {},
     "output_type": "display_data"
    }
   ],
   "source": [
    "%store agg_actions\n",
    "%store calculator\n",
    "%store editors_conflicts\n",
    "\n",
    "clear_output()\n",
    "if len(editors_conflicts) > 0:\n",
    "    display(HTML(f'<a href=\"{get_next_notebook()}\" target=\"_blank\">Go to next workbook</a>'))\n",
    "else:\n",
    "    display(HTML(f'<a href=\"{get_previous_notebook()}\" target=\"_blank\">Go back to the previous workbook</a>'))\n",
    "\n",
    "scroll_to_top = \"\"\"\n",
    "<script>\n",
    "document.getElementById('notebook').scrollIntoView();\n",
    "</script>\n",
    "\"\"\"\n",
    "display(HTML(scroll_to_top))"
   ]
  }
 ],
 "metadata": {
  "hide_input": false,
  "kernel_info": {
   "name": "python3"
  },
  "kernelspec": {
   "display_name": "Python 3",
   "language": "python",
   "name": "python3"
  },
  "language_info": {
   "codemirror_mode": {
    "name": "ipython",
    "version": 3
   },
   "file_extension": ".py",
   "mimetype": "text/x-python",
   "name": "python",
   "nbconvert_exporter": "python",
   "pygments_lexer": "ipython3",
   "version": "3.8.1"
  },
  "nteract": {
   "version": "0.14.4"
  }
 },
 "nbformat": 4,
 "nbformat_minor": 2
}
