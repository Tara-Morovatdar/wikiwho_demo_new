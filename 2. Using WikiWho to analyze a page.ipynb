{
 "cells": [
  {
   "cell_type": "code",
   "execution_count": 2,
   "metadata": {
    "hide_input": true,
    "init_cell": true
   },
   "outputs": [
    {
     "data": {
      "application/javascript": [
       "IPython.notebook.execute_cells_below()"
      ],
      "text/plain": [
       "<IPython.core.display.Javascript object>"
      ]
     },
     "metadata": {},
     "output_type": "display_data"
    },
    {
     "data": {
      "application/javascript": [
       "IPython.notebook.execute_cells_below()"
      ],
      "text/plain": [
       "<IPython.core.display.Javascript object>"
      ]
     },
     "metadata": {},
     "output_type": "display_data"
    }
   ],
   "source": [
    "import json\n",
    "from IPython.display import display, Javascript, HTML, clear_output\n",
    "from ipywidgets import widgets, Output, interact, fixed, Layout\n",
    "from ipywidgets.widgets import Dropdown, interactive_output, VBox, HBox\n",
    "from datetime import datetime, timedelta\n",
    "from urllib.parse import quote_plus\n",
    "from utils.notebooks import get_date_slider_from_datetime, get_next_notebook, get_previous_notebook\n",
    "\n",
    "display(Javascript('IPython.notebook.execute_cells_below()'))"
   ]
  },
  {
   "cell_type": "code",
   "execution_count": 3,
   "metadata": {
    "hide_input": true
   },
   "outputs": [
    {
     "data": {
      "text/html": [
       "<style>\n",
       "summary{\n",
       "    display:list-item;\n",
       "}\n",
       "\n",
       ".widget-radio-box{\n",
       "    flex-direction: row;\n",
       "}\n",
       "\n",
       ".widget-radio-box input{\n",
       "    margin:0 6px 0 5px\n",
       "}\n",
       "</style>\n"
      ],
      "text/plain": [
       "<IPython.core.display.HTML object>"
      ]
     },
     "metadata": {},
     "output_type": "display_data"
    }
   ],
   "source": [
    "%%html\n",
    "<style>\n",
    "summary{\n",
    "    display:list-item;\n",
    "}\n",
    "\n",
    ".widget-radio-box{\n",
    "    flex-direction: row;\n",
    "}\n",
    "\n",
    ".widget-radio-box input{\n",
    "    margin:0 6px 0 5px\n",
    "}\n",
    "</style>"
   ]
  },
  {
   "cell_type": "code",
   "execution_count": 4,
   "metadata": {
    "hide_input": true
   },
   "outputs": [],
   "source": [
    "%%capture\n",
    "## Some Extensions ##\n",
    "%load_ext autoreload\n",
    "%autoreload 2\n",
    "%store -r the_page\n",
    "\n",
    "if 'the_page' not in locals():\n",
    "    import pickle\n",
    "    print(\"Loading default data...\")\n",
    "    the_page = pickle.load(open(\"data/the_page.p\",'rb'))"
   ]
  },
  {
   "cell_type": "markdown",
   "metadata": {
    "hide_input": true,
    "solution2": "hidden",
    "solution2_first": true
   },
   "source": [
    "### <span style=\"color:green\"> Modules Imported </span>"
   ]
  },
  {
   "cell_type": "code",
   "execution_count": 5,
   "metadata": {
    "hide_input": false,
    "solution2": "hidden"
   },
   "outputs": [],
   "source": [
    "## Modules Imported ##\n",
    "\n",
    "# Display\n",
    "from IPython.display import display, Markdown as md, clear_output\n",
    "from datetime import date\n",
    "import urllib\n",
    "\n",
    "# APIs\n",
    "from wikiwho_wrapper import WikiWho\n",
    "from external.wikipedia import WikipediaDV, WikipediaAPI\n",
    "from external.wikimedia import WikiMediaDV, WikiMediaAPI\n",
    "from external.xtools import XtoolsAPI, XtoolsDV\n",
    "\n",
    "# Data Processing\n",
    "import pickle\n",
    "import pandas as pd\n",
    "import numpy as np\n",
    "\n",
    "# Visualization tools\n",
    "import qgrid\n",
    "import matplotlib.pyplot as plt\n",
    "\n",
    "# Page views timeline\n",
    "from visualization.views_listener import ViewsListener\n",
    "\n",
    "# Change actions timeline\n",
    "from visualization.actions_listener import ActionsListener\n",
    "\n",
    "# Conflicts visualization\n",
    "from visualization.conflicts_listener import ConflictsListener, ConflictsActionListener, ConflictsEditorListener\n",
    "from visualization.calculator_listener import ConflictCalculatorListener\n",
    "\n",
    "# Word cloud visualization\n",
    "from visualization.wordcloud_listener import WCListener, WCActionsListener\n",
    "from visualization.wordclouder import WordClouder\n",
    "\n",
    "# Wikipedia talk pages visualization\n",
    "from visualization.talks_listener import TalksListener\n",
    "from visualization.topics_listener import TopicsListener\n",
    "\n",
    "# Tokens ownership visualization\n",
    "from visualization.owned_listener import OwnedListener\n",
    "\n",
    "# Metrics management\n",
    "from metrics.conflict import ConflictManager\n",
    "from metrics.token import TokensManager\n",
    "\n",
    "# For language selection\n",
    "from utils.lngselection import abbreviation, lng_listener"
   ]
  },
  {
   "cell_type": "code",
   "execution_count": 6,
   "metadata": {
    "hide_input": true
   },
   "outputs": [
    {
     "data": {
      "application/vnd.jupyter.widget-view+json": {
       "model_id": "e796a8fb0f154ef690fd183e417d5ad1",
       "version_major": 2,
       "version_minor": 0
      },
      "text/plain": [
       "Dropdown(description='Language:', options=('English', 'Deutsch', 'Español', 'Türkçe', 'Euskara'), value='Engli…"
      ]
     },
     "metadata": {},
     "output_type": "display_data"
    },
    {
     "data": {
      "application/vnd.jupyter.widget-view+json": {
       "model_id": "54d42cb861114114a37a33292d3b46ec",
       "version_major": 2,
       "version_minor": 0
      },
      "text/plain": [
       "Text(value='Coronavirus disease 2019', description='Page title:')"
      ]
     },
     "metadata": {},
     "output_type": "display_data"
    },
    {
     "data": {
      "application/vnd.jupyter.widget-view+json": {
       "model_id": "1ca554bb0a8a40828a24cf89e893e88a",
       "version_major": 2,
       "version_minor": 0
      },
      "text/plain": [
       "Button(description='Search', style=ButtonStyle())"
      ]
     },
     "metadata": {},
     "output_type": "display_data"
    },
    {
     "data": {
      "application/vnd.jupyter.widget-view+json": {
       "model_id": "7f23dd258724462aadd9ab3509964068",
       "version_major": 2,
       "version_minor": 0
      },
      "text/plain": [
       "Output()"
      ]
     },
     "metadata": {},
     "output_type": "display_data"
    }
   ],
   "source": [
    "# the method that listens to the click event\n",
    "def on_button_clicked(b):\n",
    "    global the_page, the_talk_page\n",
    "    \n",
    "    # use the out widget so the output is overwritten when two or more\n",
    "    # searches are performed\n",
    "    with out0:\n",
    "        try:\n",
    "            # query wikipedia\n",
    "            wikipedia_dv = WikipediaDV(WikipediaAPI(lng=abbreviation(languageSelection.value)))\n",
    "            search_result = wikipedia_dv.search_page(searchTerm.value)\n",
    "            the_page = wikipedia_dv.get_page(search_result)\n",
    "            the_talk_page = wikipedia_dv.get_page(\"Talk:\"+search_result)\n",
    "            %store the_page\n",
    "            clear_output()\n",
    "            display(md(f\"The page that was found: **{the_page['title']}**\"))\n",
    "            display(md(f\"Page id: **{the_page['page_id']}**\"))\n",
    "\n",
    "        except:\n",
    "            clear_output()\n",
    "            display(md(f'The page title *\"{searchTerm.value}\"* was not found'))\n",
    "\n",
    "# Load the selection from NB1\n",
    "with open('utils/language.json', 'r') as file:\n",
    "    json_selection = json.load(file)\n",
    "    lng_nb1 = json_selection['lng']\n",
    "    title_nb1 = json_selection['search_term']\n",
    "\n",
    "# Language selection.\n",
    "languageSelection = Dropdown(options=['English', 'Deutsch', 'Español', 'Türkçe', 'Euskara'], value=lng_nb1, description='Language:')            \n",
    "\n",
    "# by default display the last search\n",
    "try:\n",
    "    searchTerm = widgets.Text(the_page['title'], description='Page title:')\n",
    "except:\n",
    "    searchTerm = widgets.Text(title_nb1, description='Page title:')\n",
    "\n",
    "second_select = widgets.interactive(lng_listener, lng=languageSelection, search_term=searchTerm)\n",
    "display(second_select.children[0])\n",
    "display(second_select.children[1])\n",
    "\n",
    "# create and display the button    \n",
    "button = widgets.Button(description=\"Search\")\n",
    "display(button)\n",
    "\n",
    "# the output widget is used to remove the output after the search field\n",
    "out0 = Output()\n",
    "display(out0)\n",
    "\n",
    "# set the event\n",
    "button.on_click(on_button_clicked)\n",
    "\n",
    "# trigger the event with the default value\n",
    "on_button_clicked(button)"
   ]
  },
  {
   "cell_type": "markdown",
   "metadata": {},
   "source": [
    "If you have input another page title and still want to use these variables in the next 4 notebooks, please refresh!"
   ]
  },
  {
   "cell_type": "code",
   "execution_count": 7,
   "metadata": {
    "hide_input": true
   },
   "outputs": [
    {
     "data": {
      "application/vnd.jupyter.widget-view+json": {
       "model_id": "48027994da274137a52a25996218920f",
       "version_major": 2,
       "version_minor": 0
      },
      "text/plain": [
       "Button(button_style='info', description='Refresh All Variables', style=ButtonStyle())"
      ]
     },
     "metadata": {},
     "output_type": "display_data"
    }
   ],
   "source": [
    "def run_below(ev):\n",
    "    display(Javascript('IPython.notebook.execute_cells_below()'))\n",
    "\n",
    "button = widgets.Button(description=\"Refresh All Variables\", button_style='info', min_width=500)\n",
    "button.on_click(run_below)\n",
    "display(button)"
   ]
  },
  {
   "cell_type": "markdown",
   "metadata": {},
   "source": [
    "---\n",
    "\n",
    "# A. Change actions\n",
    "\n",
    "**The dynamics of individual changes** to each word (and each special character) in the article are extracted by the [WikiWho API](https://www.wikiwho.net/en/api/v1.0.0-beta/). \n",
    "\n",
    "Below, you find several metrics for such change dynamics such as unsucessful/reverted changes and conflict. \n",
    "\n",
    "<br>\n",
    "<details>    \n",
    "    <summary style=\"cursor: pointer;font-weight:bold\">More information about WikiWho's method</summary>\n",
    "\n",
    "\n",
    "The [WikiWho API](https://www.wikiwho.net/en/api/v1.0.0-beta/) tracks the changes to every token (words or special characters) on a Wikipedia page with at least 95% accuracy, for live Wikipedia articles. It distinguishes every token in the document even when the string appears several times. E.g. \"and\" at the beginning of an article is a different token then \"and\" at the end of the article. See also [this figure](https://www.wikiwho.net/#technical_details).\n",
    "\n",
    "That means that *not only edits* (== whole revisions) are counted, which can contain changes of many different tokens, but *every single action to every single token* is recorded. \n",
    " <br>   \n",
    "   The two most basic actions that can perfomed per token are **insertions** and **deletions**. A character change in a word, e.g. \"dog\" -> \"dogs\", is modeled as deletion of \"dog\" and the insertion of \"dogs\", two separate tokens.\n",
    " <br>   \n",
    "    An **insertion** is also considered a **re-insertion** if the insertion has occured before; the only insertion of a token that is not a re-insertion is the first one (original addition of the token). Similarly, a **deletion** is also considered a **re-deletion** if the deletion has occured before.\n",
    "\n",
    "Formally, the token history can represented by a time-ordered sequence of actions \n",
    "*(a<sub>0</sub>, ..., a<sub>n</sub>)*; note that *a<sub>0+2i</sub>* is always an insertion and \n",
    "*a<sub>1+2i</sub>* is always a deletion for i ∈ ℕ.\n",
    "</details> \n",
    "\n",
    "\n",
    "---\n",
    "\n",
    "*IMPORTANT:* For articles with a long revision history, please allow for some time to load, \n",
    "before interacting with the controls too often."
   ]
  },
  {
   "cell_type": "markdown",
   "metadata": {},
   "source": [
    "## A.1 When did certain change actions happen?"
   ]
  },
  {
   "cell_type": "markdown",
   "metadata": {},
   "source": [
    "In the following graph you can\n",
    "* select the *date range* and *granularity* (yearly, monthly) of the timeline (X-axis), and \n",
    "* plot any of the following *change action types* in the black, red, blue and green lines. \n",
    "\n",
    "<br>\n",
    "\n",
    "\n",
    "<details>    \n",
    "    <summary style=\"cursor: pointer;font-weight:bold\">Explanation of the change action types</summary>\n",
    "\n",
    "   \n",
    "- **adds**: number of first-time insertions / additions\n",
    "- **adds_surv_48h**: number of adds that survived at least 48 hours (after 48h, the risk of being removed is negligible on avg.)\n",
    "- **adds_stopword_count**:  number of insertions that were only [stop words](https://github.com/gesiscss/wikiwho_demo_new/blob/master/data/stopword_list.txt)\n",
    "<br>\n",
    "\n",
    "- **dels**: number of deletions\n",
    "- **dels_surv_48h**: number of deletions that were not resinserted in the next 48 hours \n",
    "- **dels_stopword_count**: number of deletions that were only [stop words](https://github.com/gesiscss/wikiwho_demo_new/blob/master/data/stopword_list.txt)\n",
    "<br>\n",
    "\n",
    "- **reins**: number of reinsertions\n",
    "- **reins_surv_48h**: number of reinsertions that survived at least 48 hours\n",
    "- **reins_stopword_count**: number of reinsertions that were only [stop words](https://github.com/gesiscss/wikiwho_demo_new/blob/master/data/stopword_list.txt)\n",
    "</details>\n",
    "<br>\n",
    "\n",
    "\n",
    "<details>    \n",
    "    <summary style=\"cursor: pointer;font-weight:bold\">Example</summary>\n",
    "\n",
    "For instance, if you see 10 \"adds\" in a month, but only 4 \"adds_surv_48h\", 10 completely new tokens/words have been added to the article, but only 4 of them stayed in the article for more than 2 days, which usually means the other 6 are gone for good. If \"dels\" are performed and don't survive, that means that these deletions have been undone, i.e., the deleted tokens have been put back. I.e., these are measurements of the longevity and stability of edit actions done to the article.\n",
    "</details>"
   ]
  },
  {
   "cell_type": "code",
   "execution_count": 8,
   "metadata": {
    "hide_input": true,
    "scrolled": false
   },
   "outputs": [
    {
     "data": {
      "application/vnd.jupyter.widget-view+json": {
       "model_id": "93efda5730c84b7f927d2f664b85e38e",
       "version_major": 2,
       "version_minor": 0
      },
      "text/plain": [
       "Button(description='Load Actions', layout=Layout(width='160px'), style=ButtonStyle())"
      ]
     },
     "metadata": {},
     "output_type": "display_data"
    },
    {
     "data": {
      "application/vnd.jupyter.widget-view+json": {
       "model_id": "d5c66d452a3e4635884f625ef620a770",
       "version_major": 2,
       "version_minor": 0
      },
      "text/plain": [
       "Output()"
      ]
     },
     "metadata": {},
     "output_type": "display_data"
    }
   ],
   "source": [
    "# create and display the button\n",
    "button2 = widgets.Button(description=\"Load Actions\", layout=Layout(width='160px'))\n",
    "display(button2)\n",
    "\n",
    "def str2int(string):\n",
    "    try:\n",
    "        integer = int(string)\n",
    "    except:\n",
    "        integer = 0\n",
    "\n",
    "    return integer\n",
    "\n",
    "def on_click_details(b):\n",
    "    global agg_actions\n",
    "    global editors\n",
    "    global action_types\n",
    "    global sources    \n",
    "    global actions_inc_stop\n",
    "    global actions_exc_stop\n",
    "    global con_manager_all\n",
    "    global con_manager\n",
    "    global all_content\n",
    "    global revisions\n",
    "    with out4:\n",
    "        clear_output()\n",
    "       \n",
    "        # Preparetory works\n",
    "        wikiwho = WikiWho(lng=abbreviation(languageSelection.value))\n",
    "        display(md(\"Downloading all_content from the WikiWhoApi...\"))\n",
    "        all_content = wikiwho.dv.all_content(the_page['page_id'])\n",
    "        display(md(\"Downloading revisions from the WikiWhoApi...\"))\n",
    "        revisions = wikiwho.dv.rev_ids_of_article(the_page['page_id'])\n",
    "        clear_output()\n",
    "        \n",
    "        con_manager_all = ConflictManager(all_content.copy(), \n",
    "                                           revisions.copy(), \n",
    "                                           lng=abbreviation(languageSelection.value), \n",
    "                                           include_stopwords=True)\n",
    "\n",
    "        con_manager = ConflictManager(all_content.copy(), \n",
    "                                       revisions.copy(), \n",
    "                                       lng=abbreviation(languageSelection.value), \n",
    "                                       include_stopwords=False)\n",
    "        con_manager_all.calculate()\n",
    "        con_manager.calculate()\n",
    "        clear_output()\n",
    "               \n",
    "        token_all = con_manager_all.all_actions.copy()\n",
    "        token = con_manager.all_actions.copy()\n",
    "        token_elegible = con_manager.elegible_actions.copy()\n",
    "        \n",
    "        sources = {\"tokens_all\": token_all, \"tokens\": token, \"elegibles\": token_elegible}\n",
    "        \n",
    "        listener = ActionsListener(sources)\n",
    "        init_agg_actions, actions_inc_stop, actions_exc_stop = listener.get_aggregation()\n",
    "        tokens_stop = listener\n",
    "        clear_output()\n",
    "        \n",
    "        # Visualization\n",
    "        agg_actions = init_agg_actions.copy()\n",
    "\n",
    "        # define total columns\n",
    "        total_columns = ['total', 'total_surv_48h', 'total_stopword_count']\n",
    "\n",
    "        # add columns with the total actions\n",
    "        agg_actions = agg_actions.join(pd.DataFrame(\n",
    "            agg_actions.loc[:,'adds':'adds_stopword_count'].values +\\\n",
    "            agg_actions.loc[:,'dels':'dels_stopword_count'].values +\\\n",
    "            agg_actions.loc[:,'reins':'reins_stopword_count'].values, \n",
    "            index=agg_actions.index, \n",
    "            columns=total_columns\n",
    "        ))\n",
    "\n",
    "        # the output widget is used to update the qgrid\n",
    "        print(\"Downloading editor usernames (i.e. *editor* column)...\")\n",
    "\n",
    "        clear_output()\n",
    "        # Grab user names from wikipedia and merge them to the editors_conflict dataframe\n",
    "        wikipedia_dv = WikipediaDV(WikipediaAPI(lng=abbreviation(languageSelection.value)))\n",
    "\n",
    "        agg_actions[\"editor\"] = agg_actions[\"editor\"].apply(lambda x: str2int(x))\n",
    "        agg_actions = agg_actions.rename({\"editor\": \"editor_id\"}, axis=1)\n",
    "        editors = wikipedia_dv.get_editors(agg_actions['editor_id'].unique()).rename(columns = {\n",
    "            'userid': 'editor_id'})\n",
    "\n",
    "        # Merge the names of the editors to the aggregate actions dataframe\n",
    "        display(md(f\"***Page: {the_page['title']} ({abbreviation(languageSelection.value).upper()})***\"))\n",
    "        agg_actions = agg_actions.merge(editors[['editor_id', 'name']], on='editor_id')\n",
    "        agg_actions.insert(2, 'editor', agg_actions['name'])\n",
    "        agg_actions = agg_actions.drop(columns=['name'])\n",
    "        agg_actions['editor'] = agg_actions['editor'].fillna(\"Unregistered\")\n",
    "\n",
    "        # Convert to datetime\n",
    "        agg_actions['rev_time'] = pd.to_datetime(agg_actions['rev_time'])\n",
    "\n",
    "        # Group the data by year month and page (drop the editor information)\n",
    "        agg_actions.drop('editor_id', axis=1).groupby(['rev_time', 'page_id']).sum().reset_index()\n",
    "\n",
    "        # Listener\n",
    "        action_types = (agg_actions.columns[4:13]).values.tolist()\n",
    "\n",
    "        # Visualization\n",
    "        datepicker_from = widgets.DatePicker(description='Date starts', value=agg_actions['rev_time'].iloc[0], layout=Layout(width='25%'))\n",
    "        datepicker_to = widgets.DatePicker(description='Date ends', value=agg_actions['rev_time'].iloc[-1], layout=Layout(width='25%'))\n",
    "\n",
    "        listener.prelisten(agg_actions)\n",
    "        interact(listener.listen,\n",
    "                 _range1 = datepicker_from,\n",
    "                 _range2 = datepicker_to,\n",
    "                 editor=fixed('All'),\n",
    "                 granularity=Dropdown(options=['Yearly', 'Monthly', 'Daily'], value='Yearly'),\n",
    "                 black=Dropdown(options=action_types, value='adds'), \n",
    "                 red=Dropdown(options= ['None'] + action_types, value='dels'),\n",
    "                 green=Dropdown(options= ['None'] + action_types, value='None'), \n",
    "                 blue=Dropdown(options= ['None'] + action_types, value='None'))\n",
    "\n",
    "    \n",
    "out4 = Output()\n",
    "display(out4)\n",
    "\n",
    "# set the event\n",
    "button2.on_click(on_click_details)\n",
    "\n",
    "# trigger the event with the default value\n",
    "on_click_details(button2)"
   ]
  },
  {
   "cell_type": "markdown",
   "metadata": {
    "hide_input": false,
    "solution2": "hidden",
    "solution2_first": true
   },
   "source": [
    "<span style=\"color: #626262\"> Try yourself! This is what will happen when you click 'Load Actions' button: </span>"
   ]
  },
  {
   "cell_type": "code",
   "execution_count": 9,
   "metadata": {
    "hide_input": false,
    "solution2": "hidden"
   },
   "outputs": [
    {
     "name": "stdout",
     "output_type": "stream",
     "text": [
      "The page that is being used: Coronavirus disease 2019 (EN)\n"
     ]
    },
    {
     "data": {
      "text/html": [
       "        <script type=\"text/javascript\">\n",
       "        window.PlotlyConfig = {MathJaxConfig: 'local'};\n",
       "        if (window.MathJax) {MathJax.Hub.Config({SVG: {font: \"STIX-Web\"}});}\n",
       "        if (typeof require !== 'undefined') {\n",
       "        require.undef(\"plotly\");\n",
       "        requirejs.config({\n",
       "            paths: {\n",
       "                'plotly': ['https://cdn.plot.ly/plotly-latest.min']\n",
       "            }\n",
       "        });\n",
       "        require(['plotly'], function(Plotly) {\n",
       "            window._Plotly = Plotly;\n",
       "        });\n",
       "        }\n",
       "        </script>\n",
       "        "
      ]
     },
     "metadata": {},
     "output_type": "display_data"
    },
    {
     "data": {
      "application/vnd.plotly.v1+json": {
       "config": {
        "linkText": "Export to plot.ly",
        "plotlyServerURL": "https://plot.ly",
        "showLink": false
       },
       "data": [
        {
         "marker": {
          "color": "rgba(0, 0, 0, 1)"
         },
         "name": "adds",
         "type": "scatter",
         "x": [],
         "y": []
        },
        {
         "marker": {
          "color": "rgba(255, 0, 0, .8)"
         },
         "name": "dels",
         "type": "scatter",
         "x": [],
         "y": []
        }
       ],
       "layout": {
        "barmode": "group",
        "hovermode": "closest",
        "legend": {
         "x": 0.5,
         "y": 1.2
        },
        "showlegend": true,
        "template": {
         "data": {
          "bar": [
           {
            "error_x": {
             "color": "#2a3f5f"
            },
            "error_y": {
             "color": "#2a3f5f"
            },
            "marker": {
             "line": {
              "color": "#E5ECF6",
              "width": 0.5
             }
            },
            "type": "bar"
           }
          ],
          "barpolar": [
           {
            "marker": {
             "line": {
              "color": "#E5ECF6",
              "width": 0.5
             }
            },
            "type": "barpolar"
           }
          ],
          "carpet": [
           {
            "aaxis": {
             "endlinecolor": "#2a3f5f",
             "gridcolor": "white",
             "linecolor": "white",
             "minorgridcolor": "white",
             "startlinecolor": "#2a3f5f"
            },
            "baxis": {
             "endlinecolor": "#2a3f5f",
             "gridcolor": "white",
             "linecolor": "white",
             "minorgridcolor": "white",
             "startlinecolor": "#2a3f5f"
            },
            "type": "carpet"
           }
          ],
          "choropleth": [
           {
            "colorbar": {
             "outlinewidth": 0,
             "ticks": ""
            },
            "type": "choropleth"
           }
          ],
          "contour": [
           {
            "colorbar": {
             "outlinewidth": 0,
             "ticks": ""
            },
            "colorscale": [
             [
              0,
              "#0d0887"
             ],
             [
              0.1111111111111111,
              "#46039f"
             ],
             [
              0.2222222222222222,
              "#7201a8"
             ],
             [
              0.3333333333333333,
              "#9c179e"
             ],
             [
              0.4444444444444444,
              "#bd3786"
             ],
             [
              0.5555555555555556,
              "#d8576b"
             ],
             [
              0.6666666666666666,
              "#ed7953"
             ],
             [
              0.7777777777777778,
              "#fb9f3a"
             ],
             [
              0.8888888888888888,
              "#fdca26"
             ],
             [
              1,
              "#f0f921"
             ]
            ],
            "type": "contour"
           }
          ],
          "contourcarpet": [
           {
            "colorbar": {
             "outlinewidth": 0,
             "ticks": ""
            },
            "type": "contourcarpet"
           }
          ],
          "heatmap": [
           {
            "colorbar": {
             "outlinewidth": 0,
             "ticks": ""
            },
            "colorscale": [
             [
              0,
              "#0d0887"
             ],
             [
              0.1111111111111111,
              "#46039f"
             ],
             [
              0.2222222222222222,
              "#7201a8"
             ],
             [
              0.3333333333333333,
              "#9c179e"
             ],
             [
              0.4444444444444444,
              "#bd3786"
             ],
             [
              0.5555555555555556,
              "#d8576b"
             ],
             [
              0.6666666666666666,
              "#ed7953"
             ],
             [
              0.7777777777777778,
              "#fb9f3a"
             ],
             [
              0.8888888888888888,
              "#fdca26"
             ],
             [
              1,
              "#f0f921"
             ]
            ],
            "type": "heatmap"
           }
          ],
          "heatmapgl": [
           {
            "colorbar": {
             "outlinewidth": 0,
             "ticks": ""
            },
            "colorscale": [
             [
              0,
              "#0d0887"
             ],
             [
              0.1111111111111111,
              "#46039f"
             ],
             [
              0.2222222222222222,
              "#7201a8"
             ],
             [
              0.3333333333333333,
              "#9c179e"
             ],
             [
              0.4444444444444444,
              "#bd3786"
             ],
             [
              0.5555555555555556,
              "#d8576b"
             ],
             [
              0.6666666666666666,
              "#ed7953"
             ],
             [
              0.7777777777777778,
              "#fb9f3a"
             ],
             [
              0.8888888888888888,
              "#fdca26"
             ],
             [
              1,
              "#f0f921"
             ]
            ],
            "type": "heatmapgl"
           }
          ],
          "histogram": [
           {
            "marker": {
             "colorbar": {
              "outlinewidth": 0,
              "ticks": ""
             }
            },
            "type": "histogram"
           }
          ],
          "histogram2d": [
           {
            "colorbar": {
             "outlinewidth": 0,
             "ticks": ""
            },
            "colorscale": [
             [
              0,
              "#0d0887"
             ],
             [
              0.1111111111111111,
              "#46039f"
             ],
             [
              0.2222222222222222,
              "#7201a8"
             ],
             [
              0.3333333333333333,
              "#9c179e"
             ],
             [
              0.4444444444444444,
              "#bd3786"
             ],
             [
              0.5555555555555556,
              "#d8576b"
             ],
             [
              0.6666666666666666,
              "#ed7953"
             ],
             [
              0.7777777777777778,
              "#fb9f3a"
             ],
             [
              0.8888888888888888,
              "#fdca26"
             ],
             [
              1,
              "#f0f921"
             ]
            ],
            "type": "histogram2d"
           }
          ],
          "histogram2dcontour": [
           {
            "colorbar": {
             "outlinewidth": 0,
             "ticks": ""
            },
            "colorscale": [
             [
              0,
              "#0d0887"
             ],
             [
              0.1111111111111111,
              "#46039f"
             ],
             [
              0.2222222222222222,
              "#7201a8"
             ],
             [
              0.3333333333333333,
              "#9c179e"
             ],
             [
              0.4444444444444444,
              "#bd3786"
             ],
             [
              0.5555555555555556,
              "#d8576b"
             ],
             [
              0.6666666666666666,
              "#ed7953"
             ],
             [
              0.7777777777777778,
              "#fb9f3a"
             ],
             [
              0.8888888888888888,
              "#fdca26"
             ],
             [
              1,
              "#f0f921"
             ]
            ],
            "type": "histogram2dcontour"
           }
          ],
          "mesh3d": [
           {
            "colorbar": {
             "outlinewidth": 0,
             "ticks": ""
            },
            "type": "mesh3d"
           }
          ],
          "parcoords": [
           {
            "line": {
             "colorbar": {
              "outlinewidth": 0,
              "ticks": ""
             }
            },
            "type": "parcoords"
           }
          ],
          "pie": [
           {
            "automargin": true,
            "type": "pie"
           }
          ],
          "scatter": [
           {
            "marker": {
             "colorbar": {
              "outlinewidth": 0,
              "ticks": ""
             }
            },
            "type": "scatter"
           }
          ],
          "scatter3d": [
           {
            "line": {
             "colorbar": {
              "outlinewidth": 0,
              "ticks": ""
             }
            },
            "marker": {
             "colorbar": {
              "outlinewidth": 0,
              "ticks": ""
             }
            },
            "type": "scatter3d"
           }
          ],
          "scattercarpet": [
           {
            "marker": {
             "colorbar": {
              "outlinewidth": 0,
              "ticks": ""
             }
            },
            "type": "scattercarpet"
           }
          ],
          "scattergeo": [
           {
            "marker": {
             "colorbar": {
              "outlinewidth": 0,
              "ticks": ""
             }
            },
            "type": "scattergeo"
           }
          ],
          "scattergl": [
           {
            "marker": {
             "colorbar": {
              "outlinewidth": 0,
              "ticks": ""
             }
            },
            "type": "scattergl"
           }
          ],
          "scattermapbox": [
           {
            "marker": {
             "colorbar": {
              "outlinewidth": 0,
              "ticks": ""
             }
            },
            "type": "scattermapbox"
           }
          ],
          "scatterpolar": [
           {
            "marker": {
             "colorbar": {
              "outlinewidth": 0,
              "ticks": ""
             }
            },
            "type": "scatterpolar"
           }
          ],
          "scatterpolargl": [
           {
            "marker": {
             "colorbar": {
              "outlinewidth": 0,
              "ticks": ""
             }
            },
            "type": "scatterpolargl"
           }
          ],
          "scatterternary": [
           {
            "marker": {
             "colorbar": {
              "outlinewidth": 0,
              "ticks": ""
             }
            },
            "type": "scatterternary"
           }
          ],
          "surface": [
           {
            "colorbar": {
             "outlinewidth": 0,
             "ticks": ""
            },
            "colorscale": [
             [
              0,
              "#0d0887"
             ],
             [
              0.1111111111111111,
              "#46039f"
             ],
             [
              0.2222222222222222,
              "#7201a8"
             ],
             [
              0.3333333333333333,
              "#9c179e"
             ],
             [
              0.4444444444444444,
              "#bd3786"
             ],
             [
              0.5555555555555556,
              "#d8576b"
             ],
             [
              0.6666666666666666,
              "#ed7953"
             ],
             [
              0.7777777777777778,
              "#fb9f3a"
             ],
             [
              0.8888888888888888,
              "#fdca26"
             ],
             [
              1,
              "#f0f921"
             ]
            ],
            "type": "surface"
           }
          ],
          "table": [
           {
            "cells": {
             "fill": {
              "color": "#EBF0F8"
             },
             "line": {
              "color": "white"
             }
            },
            "header": {
             "fill": {
              "color": "#C8D4E3"
             },
             "line": {
              "color": "white"
             }
            },
            "type": "table"
           }
          ]
         },
         "layout": {
          "annotationdefaults": {
           "arrowcolor": "#2a3f5f",
           "arrowhead": 0,
           "arrowwidth": 1
          },
          "coloraxis": {
           "colorbar": {
            "outlinewidth": 0,
            "ticks": ""
           }
          },
          "colorscale": {
           "diverging": [
            [
             0,
             "#8e0152"
            ],
            [
             0.1,
             "#c51b7d"
            ],
            [
             0.2,
             "#de77ae"
            ],
            [
             0.3,
             "#f1b6da"
            ],
            [
             0.4,
             "#fde0ef"
            ],
            [
             0.5,
             "#f7f7f7"
            ],
            [
             0.6,
             "#e6f5d0"
            ],
            [
             0.7,
             "#b8e186"
            ],
            [
             0.8,
             "#7fbc41"
            ],
            [
             0.9,
             "#4d9221"
            ],
            [
             1,
             "#276419"
            ]
           ],
           "sequential": [
            [
             0,
             "#0d0887"
            ],
            [
             0.1111111111111111,
             "#46039f"
            ],
            [
             0.2222222222222222,
             "#7201a8"
            ],
            [
             0.3333333333333333,
             "#9c179e"
            ],
            [
             0.4444444444444444,
             "#bd3786"
            ],
            [
             0.5555555555555556,
             "#d8576b"
            ],
            [
             0.6666666666666666,
             "#ed7953"
            ],
            [
             0.7777777777777778,
             "#fb9f3a"
            ],
            [
             0.8888888888888888,
             "#fdca26"
            ],
            [
             1,
             "#f0f921"
            ]
           ],
           "sequentialminus": [
            [
             0,
             "#0d0887"
            ],
            [
             0.1111111111111111,
             "#46039f"
            ],
            [
             0.2222222222222222,
             "#7201a8"
            ],
            [
             0.3333333333333333,
             "#9c179e"
            ],
            [
             0.4444444444444444,
             "#bd3786"
            ],
            [
             0.5555555555555556,
             "#d8576b"
            ],
            [
             0.6666666666666666,
             "#ed7953"
            ],
            [
             0.7777777777777778,
             "#fb9f3a"
            ],
            [
             0.8888888888888888,
             "#fdca26"
            ],
            [
             1,
             "#f0f921"
            ]
           ]
          },
          "colorway": [
           "#636efa",
           "#EF553B",
           "#00cc96",
           "#ab63fa",
           "#FFA15A",
           "#19d3f3",
           "#FF6692",
           "#B6E880",
           "#FF97FF",
           "#FECB52"
          ],
          "font": {
           "color": "#2a3f5f"
          },
          "geo": {
           "bgcolor": "white",
           "lakecolor": "white",
           "landcolor": "#E5ECF6",
           "showlakes": true,
           "showland": true,
           "subunitcolor": "white"
          },
          "hoverlabel": {
           "align": "left"
          },
          "hovermode": "closest",
          "mapbox": {
           "style": "light"
          },
          "paper_bgcolor": "white",
          "plot_bgcolor": "#E5ECF6",
          "polar": {
           "angularaxis": {
            "gridcolor": "white",
            "linecolor": "white",
            "ticks": ""
           },
           "bgcolor": "#E5ECF6",
           "radialaxis": {
            "gridcolor": "white",
            "linecolor": "white",
            "ticks": ""
           }
          },
          "scene": {
           "xaxis": {
            "backgroundcolor": "#E5ECF6",
            "gridcolor": "white",
            "gridwidth": 2,
            "linecolor": "white",
            "showbackground": true,
            "ticks": "",
            "zerolinecolor": "white"
           },
           "yaxis": {
            "backgroundcolor": "#E5ECF6",
            "gridcolor": "white",
            "gridwidth": 2,
            "linecolor": "white",
            "showbackground": true,
            "ticks": "",
            "zerolinecolor": "white"
           },
           "zaxis": {
            "backgroundcolor": "#E5ECF6",
            "gridcolor": "white",
            "gridwidth": 2,
            "linecolor": "white",
            "showbackground": true,
            "ticks": "",
            "zerolinecolor": "white"
           }
          },
          "shapedefaults": {
           "line": {
            "color": "#2a3f5f"
           }
          },
          "ternary": {
           "aaxis": {
            "gridcolor": "white",
            "linecolor": "white",
            "ticks": ""
           },
           "baxis": {
            "gridcolor": "white",
            "linecolor": "white",
            "ticks": ""
           },
           "bgcolor": "#E5ECF6",
           "caxis": {
            "gridcolor": "white",
            "linecolor": "white",
            "ticks": ""
           }
          },
          "title": {
           "x": 0.05
          },
          "xaxis": {
           "automargin": true,
           "gridcolor": "white",
           "linecolor": "white",
           "ticks": "",
           "title": {
            "standoff": 15
           },
           "zerolinecolor": "white",
           "zerolinewidth": 2
          },
          "yaxis": {
           "automargin": true,
           "gridcolor": "white",
           "linecolor": "white",
           "ticks": "",
           "title": {
            "standoff": 15
           },
           "zerolinecolor": "white",
           "zerolinewidth": 2
          }
         }
        },
        "xaxis": {
         "gridwidth": 2,
         "ticklen": 5,
         "title": {
          "text": "Monthly"
         },
         "zeroline": true
        },
        "yaxis": {
         "gridwidth": 2,
         "ticklen": 5,
         "title": {
          "text": "Actions"
         }
        }
       }
      },
      "text/html": [
       "<div>\n",
       "        \n",
       "        \n",
       "            <div id=\"729978d2-66d8-4513-a39a-39100f940529\" class=\"plotly-graph-div\" style=\"height:525px; width:100%;\"></div>\n",
       "            <script type=\"text/javascript\">\n",
       "                require([\"plotly\"], function(Plotly) {\n",
       "                    window.PLOTLYENV=window.PLOTLYENV || {};\n",
       "                    \n",
       "                if (document.getElementById(\"729978d2-66d8-4513-a39a-39100f940529\")) {\n",
       "                    Plotly.newPlot(\n",
       "                        '729978d2-66d8-4513-a39a-39100f940529',\n",
       "                        [{\"marker\": {\"color\": \"rgba(0, 0, 0, 1)\"}, \"name\": \"adds\", \"type\": \"scatter\", \"x\": [], \"y\": []}, {\"marker\": {\"color\": \"rgba(255, 0, 0, .8)\"}, \"name\": \"dels\", \"type\": \"scatter\", \"x\": [], \"y\": []}],\n",
       "                        {\"barmode\": \"group\", \"hovermode\": \"closest\", \"legend\": {\"x\": 0.5, \"y\": 1.2}, \"showlegend\": true, \"template\": {\"data\": {\"bar\": [{\"error_x\": {\"color\": \"#2a3f5f\"}, \"error_y\": {\"color\": \"#2a3f5f\"}, \"marker\": {\"line\": {\"color\": \"#E5ECF6\", \"width\": 0.5}}, \"type\": \"bar\"}], \"barpolar\": [{\"marker\": {\"line\": {\"color\": \"#E5ECF6\", \"width\": 0.5}}, \"type\": \"barpolar\"}], \"carpet\": [{\"aaxis\": {\"endlinecolor\": \"#2a3f5f\", \"gridcolor\": \"white\", \"linecolor\": \"white\", \"minorgridcolor\": \"white\", \"startlinecolor\": \"#2a3f5f\"}, \"baxis\": {\"endlinecolor\": \"#2a3f5f\", \"gridcolor\": \"white\", \"linecolor\": \"white\", \"minorgridcolor\": \"white\", \"startlinecolor\": \"#2a3f5f\"}, \"type\": \"carpet\"}], \"choropleth\": [{\"colorbar\": {\"outlinewidth\": 0, \"ticks\": \"\"}, \"type\": \"choropleth\"}], \"contour\": [{\"colorbar\": {\"outlinewidth\": 0, \"ticks\": \"\"}, \"colorscale\": [[0.0, \"#0d0887\"], [0.1111111111111111, \"#46039f\"], [0.2222222222222222, \"#7201a8\"], [0.3333333333333333, \"#9c179e\"], [0.4444444444444444, \"#bd3786\"], [0.5555555555555556, \"#d8576b\"], [0.6666666666666666, \"#ed7953\"], [0.7777777777777778, \"#fb9f3a\"], [0.8888888888888888, \"#fdca26\"], [1.0, \"#f0f921\"]], \"type\": \"contour\"}], \"contourcarpet\": [{\"colorbar\": {\"outlinewidth\": 0, \"ticks\": \"\"}, \"type\": \"contourcarpet\"}], \"heatmap\": [{\"colorbar\": {\"outlinewidth\": 0, \"ticks\": \"\"}, \"colorscale\": [[0.0, \"#0d0887\"], [0.1111111111111111, \"#46039f\"], [0.2222222222222222, \"#7201a8\"], [0.3333333333333333, \"#9c179e\"], [0.4444444444444444, \"#bd3786\"], [0.5555555555555556, \"#d8576b\"], [0.6666666666666666, \"#ed7953\"], [0.7777777777777778, \"#fb9f3a\"], [0.8888888888888888, \"#fdca26\"], [1.0, \"#f0f921\"]], \"type\": \"heatmap\"}], \"heatmapgl\": [{\"colorbar\": {\"outlinewidth\": 0, \"ticks\": \"\"}, \"colorscale\": [[0.0, \"#0d0887\"], [0.1111111111111111, \"#46039f\"], [0.2222222222222222, \"#7201a8\"], [0.3333333333333333, \"#9c179e\"], [0.4444444444444444, \"#bd3786\"], [0.5555555555555556, \"#d8576b\"], [0.6666666666666666, \"#ed7953\"], [0.7777777777777778, \"#fb9f3a\"], [0.8888888888888888, \"#fdca26\"], [1.0, \"#f0f921\"]], \"type\": \"heatmapgl\"}], \"histogram\": [{\"marker\": {\"colorbar\": {\"outlinewidth\": 0, \"ticks\": \"\"}}, \"type\": \"histogram\"}], \"histogram2d\": [{\"colorbar\": {\"outlinewidth\": 0, \"ticks\": \"\"}, \"colorscale\": [[0.0, \"#0d0887\"], [0.1111111111111111, \"#46039f\"], [0.2222222222222222, \"#7201a8\"], [0.3333333333333333, \"#9c179e\"], [0.4444444444444444, \"#bd3786\"], [0.5555555555555556, \"#d8576b\"], [0.6666666666666666, \"#ed7953\"], [0.7777777777777778, \"#fb9f3a\"], [0.8888888888888888, \"#fdca26\"], [1.0, \"#f0f921\"]], \"type\": \"histogram2d\"}], \"histogram2dcontour\": [{\"colorbar\": {\"outlinewidth\": 0, \"ticks\": \"\"}, \"colorscale\": [[0.0, \"#0d0887\"], [0.1111111111111111, \"#46039f\"], [0.2222222222222222, \"#7201a8\"], [0.3333333333333333, \"#9c179e\"], [0.4444444444444444, \"#bd3786\"], [0.5555555555555556, \"#d8576b\"], [0.6666666666666666, \"#ed7953\"], [0.7777777777777778, \"#fb9f3a\"], [0.8888888888888888, \"#fdca26\"], [1.0, \"#f0f921\"]], \"type\": \"histogram2dcontour\"}], \"mesh3d\": [{\"colorbar\": {\"outlinewidth\": 0, \"ticks\": \"\"}, \"type\": \"mesh3d\"}], \"parcoords\": [{\"line\": {\"colorbar\": {\"outlinewidth\": 0, \"ticks\": \"\"}}, \"type\": \"parcoords\"}], \"pie\": [{\"automargin\": true, \"type\": \"pie\"}], \"scatter\": [{\"marker\": {\"colorbar\": {\"outlinewidth\": 0, \"ticks\": \"\"}}, \"type\": \"scatter\"}], \"scatter3d\": [{\"line\": {\"colorbar\": {\"outlinewidth\": 0, \"ticks\": \"\"}}, \"marker\": {\"colorbar\": {\"outlinewidth\": 0, \"ticks\": \"\"}}, \"type\": \"scatter3d\"}], \"scattercarpet\": [{\"marker\": {\"colorbar\": {\"outlinewidth\": 0, \"ticks\": \"\"}}, \"type\": \"scattercarpet\"}], \"scattergeo\": [{\"marker\": {\"colorbar\": {\"outlinewidth\": 0, \"ticks\": \"\"}}, \"type\": \"scattergeo\"}], \"scattergl\": [{\"marker\": {\"colorbar\": {\"outlinewidth\": 0, \"ticks\": \"\"}}, \"type\": \"scattergl\"}], \"scattermapbox\": [{\"marker\": {\"colorbar\": {\"outlinewidth\": 0, \"ticks\": \"\"}}, \"type\": \"scattermapbox\"}], \"scatterpolar\": [{\"marker\": {\"colorbar\": {\"outlinewidth\": 0, \"ticks\": \"\"}}, \"type\": \"scatterpolar\"}], \"scatterpolargl\": [{\"marker\": {\"colorbar\": {\"outlinewidth\": 0, \"ticks\": \"\"}}, \"type\": \"scatterpolargl\"}], \"scatterternary\": [{\"marker\": {\"colorbar\": {\"outlinewidth\": 0, \"ticks\": \"\"}}, \"type\": \"scatterternary\"}], \"surface\": [{\"colorbar\": {\"outlinewidth\": 0, \"ticks\": \"\"}, \"colorscale\": [[0.0, \"#0d0887\"], [0.1111111111111111, \"#46039f\"], [0.2222222222222222, \"#7201a8\"], [0.3333333333333333, \"#9c179e\"], [0.4444444444444444, \"#bd3786\"], [0.5555555555555556, \"#d8576b\"], [0.6666666666666666, \"#ed7953\"], [0.7777777777777778, \"#fb9f3a\"], [0.8888888888888888, \"#fdca26\"], [1.0, \"#f0f921\"]], \"type\": \"surface\"}], \"table\": [{\"cells\": {\"fill\": {\"color\": \"#EBF0F8\"}, \"line\": {\"color\": \"white\"}}, \"header\": {\"fill\": {\"color\": \"#C8D4E3\"}, \"line\": {\"color\": \"white\"}}, \"type\": \"table\"}]}, \"layout\": {\"annotationdefaults\": {\"arrowcolor\": \"#2a3f5f\", \"arrowhead\": 0, \"arrowwidth\": 1}, \"coloraxis\": {\"colorbar\": {\"outlinewidth\": 0, \"ticks\": \"\"}}, \"colorscale\": {\"diverging\": [[0, \"#8e0152\"], [0.1, \"#c51b7d\"], [0.2, \"#de77ae\"], [0.3, \"#f1b6da\"], [0.4, \"#fde0ef\"], [0.5, \"#f7f7f7\"], [0.6, \"#e6f5d0\"], [0.7, \"#b8e186\"], [0.8, \"#7fbc41\"], [0.9, \"#4d9221\"], [1, \"#276419\"]], \"sequential\": [[0.0, \"#0d0887\"], [0.1111111111111111, \"#46039f\"], [0.2222222222222222, \"#7201a8\"], [0.3333333333333333, \"#9c179e\"], [0.4444444444444444, \"#bd3786\"], [0.5555555555555556, \"#d8576b\"], [0.6666666666666666, \"#ed7953\"], [0.7777777777777778, \"#fb9f3a\"], [0.8888888888888888, \"#fdca26\"], [1.0, \"#f0f921\"]], \"sequentialminus\": [[0.0, \"#0d0887\"], [0.1111111111111111, \"#46039f\"], [0.2222222222222222, \"#7201a8\"], [0.3333333333333333, \"#9c179e\"], [0.4444444444444444, \"#bd3786\"], [0.5555555555555556, \"#d8576b\"], [0.6666666666666666, \"#ed7953\"], [0.7777777777777778, \"#fb9f3a\"], [0.8888888888888888, \"#fdca26\"], [1.0, \"#f0f921\"]]}, \"colorway\": [\"#636efa\", \"#EF553B\", \"#00cc96\", \"#ab63fa\", \"#FFA15A\", \"#19d3f3\", \"#FF6692\", \"#B6E880\", \"#FF97FF\", \"#FECB52\"], \"font\": {\"color\": \"#2a3f5f\"}, \"geo\": {\"bgcolor\": \"white\", \"lakecolor\": \"white\", \"landcolor\": \"#E5ECF6\", \"showlakes\": true, \"showland\": true, \"subunitcolor\": \"white\"}, \"hoverlabel\": {\"align\": \"left\"}, \"hovermode\": \"closest\", \"mapbox\": {\"style\": \"light\"}, \"paper_bgcolor\": \"white\", \"plot_bgcolor\": \"#E5ECF6\", \"polar\": {\"angularaxis\": {\"gridcolor\": \"white\", \"linecolor\": \"white\", \"ticks\": \"\"}, \"bgcolor\": \"#E5ECF6\", \"radialaxis\": {\"gridcolor\": \"white\", \"linecolor\": \"white\", \"ticks\": \"\"}}, \"scene\": {\"xaxis\": {\"backgroundcolor\": \"#E5ECF6\", \"gridcolor\": \"white\", \"gridwidth\": 2, \"linecolor\": \"white\", \"showbackground\": true, \"ticks\": \"\", \"zerolinecolor\": \"white\"}, \"yaxis\": {\"backgroundcolor\": \"#E5ECF6\", \"gridcolor\": \"white\", \"gridwidth\": 2, \"linecolor\": \"white\", \"showbackground\": true, \"ticks\": \"\", \"zerolinecolor\": \"white\"}, \"zaxis\": {\"backgroundcolor\": \"#E5ECF6\", \"gridcolor\": \"white\", \"gridwidth\": 2, \"linecolor\": \"white\", \"showbackground\": true, \"ticks\": \"\", \"zerolinecolor\": \"white\"}}, \"shapedefaults\": {\"line\": {\"color\": \"#2a3f5f\"}}, \"ternary\": {\"aaxis\": {\"gridcolor\": \"white\", \"linecolor\": \"white\", \"ticks\": \"\"}, \"baxis\": {\"gridcolor\": \"white\", \"linecolor\": \"white\", \"ticks\": \"\"}, \"bgcolor\": \"#E5ECF6\", \"caxis\": {\"gridcolor\": \"white\", \"linecolor\": \"white\", \"ticks\": \"\"}}, \"title\": {\"x\": 0.05}, \"xaxis\": {\"automargin\": true, \"gridcolor\": \"white\", \"linecolor\": \"white\", \"ticks\": \"\", \"title\": {\"standoff\": 15}, \"zerolinecolor\": \"white\", \"zerolinewidth\": 2}, \"yaxis\": {\"automargin\": true, \"gridcolor\": \"white\", \"linecolor\": \"white\", \"ticks\": \"\", \"title\": {\"standoff\": 15}, \"zerolinecolor\": \"white\", \"zerolinewidth\": 2}}}, \"xaxis\": {\"gridwidth\": 2, \"ticklen\": 5, \"title\": {\"text\": \"Monthly\"}, \"zeroline\": true}, \"yaxis\": {\"gridwidth\": 2, \"ticklen\": 5, \"title\": {\"text\": \"Actions\"}}},\n",
       "                        {\"responsive\": true}\n",
       "                    ).then(function(){\n",
       "                            \n",
       "var gd = document.getElementById('729978d2-66d8-4513-a39a-39100f940529');\n",
       "var x = new MutationObserver(function (mutations, observer) {{\n",
       "        var display = window.getComputedStyle(gd).display;\n",
       "        if (!display || display === 'none') {{\n",
       "            console.log([gd, 'removed!']);\n",
       "            Plotly.purge(gd);\n",
       "            observer.disconnect();\n",
       "        }}\n",
       "}});\n",
       "\n",
       "// Listen for the removal of the full notebook cells\n",
       "var notebookContainer = gd.closest('#notebook-container');\n",
       "if (notebookContainer) {{\n",
       "    x.observe(notebookContainer, {childList: true});\n",
       "}}\n",
       "\n",
       "// Listen for the clearing of the current output cell\n",
       "var outputEl = gd.closest('.output');\n",
       "if (outputEl) {{\n",
       "    x.observe(outputEl, {childList: true});\n",
       "}}\n",
       "\n",
       "                        })\n",
       "                };\n",
       "                });\n",
       "            </script>\n",
       "        </div>"
      ]
     },
     "metadata": {},
     "output_type": "display_data"
    },
    {
     "name": "stdout",
     "output_type": "stream",
     "text": [
      "Stored 'total_actions' (DataFrame)\n"
     ]
    }
   ],
   "source": [
    "### --------------------------------------------------------------------------- ###\n",
    "### TRY YOURSELF! THIS IS WHAT WILL HAPPEN WHEN YOU CLICK 'Load Actions' BUTTON ###\n",
    "### --------------------------------------------------------------------------- ###\n",
    "\n",
    "## Create a WikiWho instance, which is an API; and use ConflictManager to get         ##\n",
    "## editons for given page id; more details see:                                       ##\n",
    "## https://github.com/gesiscss/wikiwho_wrapper/blob/master/wikiwho_wrapper/api.py     ##\n",
    "## https://github.com/gesiscss/wikiwho_wrapper/blob/master/wikiwho_wrapper/wikiwho.py ##\n",
    "## https://github.com/gesiscss/wikiwho_demo_new/blob/master/metrics/conflict.py       ##\n",
    "wikiwho_api = WikiWho(lng=abbreviation(languageSelection.value))\n",
    "print(\"Downloading all_content from the WikiWhoApi...\")\n",
    "all_content = wikiwho_api.dv.all_content(the_page['page_id'])\n",
    "print(\"Downloading revisions from the WikiWhoApi...\")\n",
    "all_revisions = wikiwho_api.dv.rev_ids_of_article(the_page['page_id'])\n",
    "clear_output()\n",
    "\n",
    "cm_inc = ConflictManager(all_content.copy(), \n",
    "                       all_revisions.copy(), \n",
    "                       lng=abbreviation(languageSelection.value), \n",
    "                       include_stopwords=True)\n",
    "\n",
    "cm_noinc = ConflictManager(all_content.copy(), \n",
    "                       all_revisions.copy(), \n",
    "                       lng=abbreviation(languageSelection.value), \n",
    "                       include_stopwords=False)\n",
    "cm_inc.calculate()\n",
    "cm_noinc.calculate()\n",
    "clear_output()\n",
    "\n",
    "tokens_inc = cm_inc.all_actions.copy()\n",
    "tokens_noinc = cm_noinc.all_actions.copy()\n",
    "elegibles_noinc = cm_noinc.elegible_actions.copy()\n",
    "token_sources = {\"tokens_all\": tokens_inc, \"tokens\": tokens_noinc, \"elegibles\": elegibles_noinc}\n",
    "\n",
    "## Create an ActionsListener instance to get aggregated actions. More details see:            ##\n",
    "## https://github.com/gesiscss/wikiwho_demo_new/blob/master/visualization/actions_listener.py ##\n",
    "\n",
    "actions_listener = ActionsListener(token_sources)\n",
    "get_agg_actions, actions_inc, actions_noinc = actions_listener.get_aggregation()\n",
    "clear_output()\n",
    "\n",
    "total_actions = get_agg_actions.copy()\n",
    "\n",
    "## Convert some columns' names to what we could understand ##\n",
    "total_columns_names = ['total', 'total_surv_48h', 'total_stopword_count']\n",
    "\n",
    "## Add all actions together and merge them into one aggregation dataframe.\n",
    "total_actions = total_actions.join(pd.DataFrame(\n",
    "    total_actions.loc[:,'adds':'adds_stopword_count'].values +\\\n",
    "    total_actions.loc[:,'dels':'dels_stopword_count'].values +\\\n",
    "    total_actions.loc[:,'reins':'reins_stopword_count'].values, \n",
    "    index=total_actions.index, \n",
    "    columns=total_columns_names\n",
    "))\n",
    "\n",
    "## Convert editor's ids to int64, in order to retrieve editors' names from API\n",
    "total_actions[\"editor\"] = total_actions[\"editor\"].apply(lambda x: str2int(x))\n",
    "total_actions = total_actions.rename({\"editor\": \"editor_id\"}, axis=1)\n",
    "\n",
    "## Only editors id? No, we still want to know their names. Use WikipediaAPI to achieve ##\n",
    "## this. More details see:                                                             ##\n",
    "## https://github.com/gesiscss/wikiwho_demo/blob/master/external/wikipedia.py          ##\n",
    "wikipediadv_instance = WikipediaDV(WikipediaAPI(lng=abbreviation(languageSelection.value)))\n",
    "\n",
    "# Unique editor's id for getting their names\n",
    "unique_ids = total_actions['editor_id'].unique()\n",
    "\n",
    "# Grab editors' names\n",
    "\n",
    "grabbed_names = wikipediadv_instance.get_editors(unique_ids).rename(columns = {'userid': 'editor_id'})\n",
    "\n",
    "## Merge the names of editors to the total actions dataframe ##\n",
    "\n",
    "# Merge on editors ids\n",
    "total_actions = total_actions.merge(grabbed_names[['editor_id', 'name']], on='editor_id')\n",
    "\n",
    "# Adjust the column position and fill NaN by 'Unregistered'\n",
    "total_actions.insert(2, 'editor', total_actions['name'])\n",
    "total_actions = total_actions.drop(columns=['name'])\n",
    "total_actions['editor'] = total_actions['editor'].fillna(\"Unregistered\")\n",
    "\n",
    "## Continue to use our data from A.1; first convert the date to the type datetime ##\n",
    "total_actions['rev_time'] = pd.to_datetime(total_actions['rev_time'])\n",
    "\n",
    "## visualization, core visual code lies in ActionsListener, then the interact function    ##\n",
    "## make it interactive, mode details see:                                                 ##\n",
    "## https://github.com/gesiscss/wikiwho_demo/blob/master/visualization/actions_listener.py ##\n",
    "\n",
    "## This is the page you used ##\n",
    "print('The page that is being used:', the_page['title'], f'({abbreviation(languageSelection.value).upper()})')\n",
    "\n",
    "# Which types do those actions have?\n",
    "actions_types = (total_actions.columns[4:13]).values.tolist()\n",
    "\n",
    "# Visualization: try yourself by coding!\n",
    "begin_date = date(2002, 3, 1)\n",
    "end_date = date(2019, 4, 1)\n",
    "editor_name = 'All'\n",
    "frequency = 'Monthly' # 'Monthly', 'Yearly', 'Daily'\n",
    "black_line = 'adds' # Choose one from 'actions_types'. Note that 'black_line doesn't have 'None' option but others have.\n",
    "red_line = 'dels'\n",
    "blue_line = 'None'\n",
    "green_line = 'None'\n",
    "\n",
    "actions_listener.prelisten(total_actions)\n",
    "actions_listener.listen(\n",
    "    _range1 = begin_date,\n",
    "    _range2 = end_date,\n",
    "    editor = editor_name,\n",
    "    granularity = frequency,\n",
    "    black = black_line,\n",
    "    red = red_line,\n",
    "    blue = blue_line,\n",
    "    green = green_line\n",
    ")\n",
    "\n",
    "# Store the variable total_actions for the next notebooks.\n",
    "%store total_actions"
   ]
  },
  {
   "cell_type": "markdown",
   "metadata": {},
   "source": [
    "## A.2 Who is responsible for these changes?\n",
    "\n",
    "If you want to track revision history **until** that day, select a rev_time (row) in the below table and a link to Wikipedia's revision history will be provided underneath the table."
   ]
  },
  {
   "cell_type": "code",
   "execution_count": 10,
   "metadata": {
    "hide_input": true
   },
   "outputs": [
    {
     "data": {
      "application/vnd.jupyter.widget-view+json": {
       "model_id": "5ee74e021720412aad8b8a1de402637d",
       "version_major": 2,
       "version_minor": 0
      },
      "text/plain": [
       "Button(description='Get Actions', layout=Layout(width='150px'), style=ButtonStyle())"
      ]
     },
     "metadata": {},
     "output_type": "display_data"
    },
    {
     "data": {
      "application/vnd.jupyter.widget-view+json": {
       "model_id": "e1448b7d397d423e8d7dfff32dfa5064",
       "version_major": 2,
       "version_minor": 0
      },
      "text/plain": [
       "Output()"
      ]
     },
     "metadata": {},
     "output_type": "display_data"
    },
    {
     "data": {
      "application/vnd.jupyter.widget-view+json": {
       "model_id": "0a554eed15ff4a4ca660eb5d266e790f",
       "version_major": 2,
       "version_minor": 0
      },
      "text/plain": [
       "Output()"
      ]
     },
     "metadata": {},
     "output_type": "display_data"
    }
   ],
   "source": [
    "# create and display the button\n",
    "button2 = widgets.Button(description=\"Get Actions\", layout=Layout(width='150px'))\n",
    "display(button2)\n",
    "\n",
    "# set the default max number of rows to 10 so the larger DataFrame we render don't take up to much space \n",
    "qgrid.set_grid_option('maxVisibleRows', 12)\n",
    "\n",
    "def on_selection_change(change):\n",
    "    with out21:\n",
    "        clear_output()\n",
    "        \n",
    "        # Extract the time selected and convert it to string.\n",
    "        time_selected = qgrid_obj.get_selected_df().reset_index()['rev_time'].iloc[0]        \n",
    "        date_for_search = pd.Series(time_selected).astype(str).iloc[0][0:10]\n",
    "        \n",
    "        # Print URL.\n",
    "        url = f\"https://{abbreviation(languageSelection.value)}.wikipedia.org/w/index.php?date-range-to={date_for_search}&tagfilter=&title={the_page['title'].replace(' ', '_')}&action=history\"\n",
    "        print(url)\n",
    "\n",
    "def click_total_actions(b):\n",
    "    global agg_actions\n",
    "    global qgrid_obj\n",
    "    with out2:\n",
    "        clear_output()\n",
    "        display(md(f\"***Page: {the_page['title']} ({abbreviation(languageSelection.value).upper()})***\"))\n",
    "        wikiwho = WikiWho(lng=abbreviation(languageSelection.value))\n",
    "\n",
    "        # define total columns\n",
    "        total_columns = ['total', 'total_surv_48h', 'total_stopword_count']\n",
    "       \n",
    "        # url\n",
    "        url_a = wikiwho.dv.api.base_editor + f'/page/{the_page.page_id}'\n",
    "        display(md(f\"Actions data can be found in:\"))\n",
    "        print(url_a)\n",
    "        \n",
    "        agg_actions[\"rev_time\"] = pd.to_datetime(agg_actions[\"rev_time\"].dt.date)\n",
    "        agg_actions = agg_actions.groupby([\"rev_time\", \"editor\", \"editor_id\"]).agg({key: \"sum\" for key in agg_actions.columns[4:]}).reset_index()\n",
    "        \n",
    "        qgrid_obj = qgrid.show_grid(agg_actions[['rev_time', \"editor\"] + action_types].set_index('rev_time').sort_index(ascending=False),\n",
    "                               grid_options={'forceFitColumns':False})\n",
    "        display(qgrid_obj)\n",
    "        \n",
    "        qgrid_obj.observe(on_selection_change, names=['_selected_rows'])\n",
    "        \n",
    "        out21.clear_output()\n",
    "\n",
    "out2 = Output()\n",
    "display(out2)\n",
    "out21 = Output()\n",
    "display(out21)\n",
    "\n",
    "# set the event\n",
    "button2.on_click(click_total_actions)\n",
    "\n",
    "# trigger the event with the default value\n",
    "click_total_actions(button2)"
   ]
  },
  {
   "cell_type": "markdown",
   "metadata": {
    "solution2": "hidden",
    "solution2_first": true
   },
   "source": [
    "<span style=\"color: #626262\"> Try yourself! This is what will happen when you click 'Get Actions' button: </span>"
   ]
  },
  {
   "cell_type": "code",
   "execution_count": 11,
   "metadata": {
    "solution2": "hidden"
   },
   "outputs": [
    {
     "name": "stdout",
     "output_type": "stream",
     "text": [
      "The page that is being used: Coronavirus disease 2019 (EN)\n",
      "Actions data can be found in: https://api.wikiwho.net/en/edit_persistence/v1.0.0-beta/page/63030231\n"
     ]
    },
    {
     "data": {
      "application/vnd.jupyter.widget-view+json": {
       "model_id": "3b28c5da0ce24073b0769637a706b2a4",
       "version_major": 2,
       "version_minor": 0
      },
      "text/plain": [
       "QgridWidget(grid_options={'fullWidthRows': True, 'syncColumnCellResize': True, 'forceFitColumns': False, 'defa…"
      ]
     },
     "metadata": {},
     "output_type": "display_data"
    },
    {
     "name": "stdout",
     "output_type": "stream",
     "text": [
      "Select one row with particular month then you can track all revision history until the end of this month on Wikipedia through a link.\n",
      "https://en.wikipedia.org/w/index.php?date-range-to=2018-07-01&tagfilter=&title=Coronavirus_disease_2019&action=history\n"
     ]
    }
   ],
   "source": [
    "### -------------------------------------------------------------------------- ###\n",
    "### TRY YOURSELF! THIS IS WHAT WILL HAPPEN WHEN YOU CLICK 'Get Actions' BUTTON ###\n",
    "### -------------------------------------------------------------------------- ###\n",
    "\n",
    "## This is the page you used ##\n",
    "print('The page that is being used:', the_page['title'], f'({abbreviation(languageSelection.value).upper()})')\n",
    "\n",
    "## url: use the previous wikiwho_api instance##\n",
    "url_actions = wikiwho_api.dv.api.base_editor + f'/page/{the_page.page_id}'\n",
    "print(\"Actions data can be found in:\", url_actions)\n",
    "\n",
    "## Display the dataframe using interactive grid, you could learn more through the doc: ##\n",
    "## https://qgrid.readthedocs.io/en/latest/                                             ##\n",
    "total_actions[\"rev_time\"] = pd.to_datetime(total_actions[\"rev_time\"].dt.date)\n",
    "total_actions = total_actions.groupby([\"rev_time\", \"editor\", \"editor_id\"]).agg({key: \"sum\" for key in total_actions.columns[4:]}).reset_index()\n",
    "\n",
    "display(qgrid.show_grid(total_actions[['rev_time', 'editor'] + actions_types].set_index('rev_time').sort_index(ascending=False),\n",
    "                       grid_options={'forceFitColumns': False}))\n",
    "\n",
    "## Select a month by coding and you can access all the revision history until this month through a link. ##\n",
    "select_month = '2018-07-01'  # Any yyyy-mm-dd value in 'rev_time' column.\n",
    "\n",
    "# Print url.\n",
    "url_revision_history = f\"https://{abbreviation(languageSelection.value)}.wikipedia.org/w/index.php?date-range-to={select_month}&tagfilter=&title={the_page['title'].replace(' ', '_')}&action=history\"\n",
    "print('Select one row with particular month then you can track all revision history until the end of this month on Wikipedia through a link.')\n",
    "print(url_revision_history)"
   ]
  },
  {
   "cell_type": "markdown",
   "metadata": {},
   "source": [
    "## A.3 Which words were changed?\n",
    "\n",
    "The following WordCloud and table present the most 100 popular token strings that are either **added** or **undone (deleted/reinserted)**. The table also presents the detailed actions of each token.\n",
    "\n",
    "<br>\n",
    "\n",
    "\n",
    "<details>    \n",
    "    <summary style=\"cursor: pointer;font-weight:bold\">Explanation of the change action types</summary>\n",
    "\n",
    "   \n",
    "- **adds**: number of first-time insertions (additions)\n",
    "- **adds_48h**: number of adds that survived at least 48 hours\n",
    "- **adds_48h_ratio**: adds_48h / adds\n",
    "<br>\n",
    "\n",
    "- **dels**: number of deletions\n",
    "- **dels_48h**: number of deletions that were not resinserted in the next 48 hours\n",
    "- **dels_48h_ratio**: dels_48h / dels\n",
    "<br>\n",
    "\n",
    "- **reins**: number of reinsertions\n",
    "- **reins_48h**: number of reinsertions that survived at least 48 hours\n",
    "- **reins_48h_ratio**: reins_48h / reins\n",
    "</details>\n",
    "\n",
    "In case you are insterested in a particular token, e.g. \"racist\", just click the token (row) in the table and another table containing all revision history of this token within the selected date range will appear beneath the first table. Furthermore, if you want to investigate one action implemented on that token, then click that action (revision row) and a link to Wikipedia will be provided below for comparing different revisions."
   ]
  },
  {
   "cell_type": "code",
   "execution_count": 12,
   "metadata": {
    "hide_input": true
   },
   "outputs": [
    {
     "data": {
      "application/vnd.jupyter.widget-view+json": {
       "model_id": "5712031fffa3408fb4bf9cd607e77d2a",
       "version_major": 2,
       "version_minor": 0
      },
      "text/plain": [
       "Button(description='Show WordCloud', style=ButtonStyle())"
      ]
     },
     "metadata": {},
     "output_type": "display_data"
    },
    {
     "data": {
      "application/vnd.jupyter.widget-view+json": {
       "model_id": "a9f5ab998e2747fd8c28659b8395f04e",
       "version_major": 2,
       "version_minor": 0
      },
      "text/plain": [
       "Output()"
      ]
     },
     "metadata": {},
     "output_type": "display_data"
    }
   ],
   "source": [
    "# create and display the button\n",
    "button3 = widgets.Button(description=\"Show WordCloud\")\n",
    "display(button3)\n",
    "\n",
    "def on_click_wc_action(b):\n",
    "    global listener\n",
    "    global _range1\n",
    "    with out12:\n",
    "        clear_output()\n",
    "        \n",
    "        listener = WCActionsListener(sources={\n",
    "            \"cm_inc_stop\": con_manager_all,\n",
    "            \"cm_exc_stop\": con_manager,\n",
    "            \"tokens_inc_stop\": actions_inc_stop,\n",
    "            \"tokens_exc_stop\": actions_exc_stop\n",
    "        }, lng=abbreviation(languageSelection.value))\n",
    "\n",
    "        # visualization\n",
    "        date_from = revisions['rev_time'].iloc[0]\n",
    "        date_to = revisions['rev_time'].iloc[-1]\n",
    "        datepicker_from = widgets.DatePicker(description='Date starts', value=date(int(date_from[:4]), int(date_from[5:7]), int(date_from[8:10])), layout=Layout(width='25%'))\n",
    "        datepicker_to = widgets.DatePicker(description='Date ends', value=date(int(date_to[:4]), int(date_to[5:7]), int(date_to[8:10])), layout=Layout(width='25%'))\n",
    "        \n",
    "        _range1=datepicker_from\n",
    "        _range2=datepicker_to\n",
    "        action=Dropdown(options=['All', 'adds', 'adds_48h', 'dels', 'dels_48h', 'reins', 'reins_48h'], value='All', description='Action')\n",
    "        stopwords = widgets.RadioButtons(options=['Not included', 'Included'], value='Not included', description='Stopwords', layout={'width': '50%'})\n",
    "\n",
    "        out = interactive_output(listener.listen, {'_range1': _range1, '_range2':_range2, 'action':action, 'stopwords':stopwords})\n",
    "        \n",
    "        display(md(f\"***Page: {the_page['title']} ({abbreviation(languageSelection.value).upper()})***\"))\n",
    "        #display(HBox([datepicker_from, datepicker_to]))\n",
    "        display(VBox([datepicker_from, datepicker_to, action, stopwords, out]))\n",
    "\n",
    "out12 = Output()\n",
    "display(out12)\n",
    "\n",
    "# set the event\n",
    "button3.on_click(on_click_wc_action)\n",
    "\n",
    "# trigger the event with the default value\n",
    "on_click_wc_action(button3)"
   ]
  },
  {
   "cell_type": "markdown",
   "metadata": {
    "solution2": "hidden",
    "solution2_first": true
   },
   "source": [
    "<span style=\"color: #626262\"> Try yourself! This is what will happen when you click 'Show WordCloud' button: </span>"
   ]
  },
  {
   "cell_type": "code",
   "execution_count": 13,
   "metadata": {
    "hide_input": false,
    "solution2": "hidden"
   },
   "outputs": [
    {
     "name": "stdout",
     "output_type": "stream",
     "text": [
      "The page that is being used:, Coronavirus disease 2019, (EN)\n",
      "Time ranges from 2005-03-01 to 2020-03-01\n",
      "Only top 100 most frequent words displayed.\n"
     ]
    },
    {
     "data": {
      "image/png": "[encoded data removed]",
      "text/plain": [
       "<Figure size 1008x504 with 1 Axes>"
      ]
     },
     "metadata": {
      "needs_background": "light"
     },
     "output_type": "display_data"
    },
    {
     "data": {
      "application/vnd.jupyter.widget-view+json": {
       "model_id": "46fced6df97a432e889457e8aabc7280",
       "version_major": 2,
       "version_minor": 0
      },
      "text/plain": [
       "QgridWidget(grid_options={'fullWidthRows': True, 'syncColumnCellResize': True, 'forceFitColumns': False, 'defa…"
      ]
     },
     "metadata": {},
     "output_type": "display_data"
    },
    {
     "name": "stdout",
     "output_type": "stream",
     "text": [
      "With token -, select one revision you want to investigate:\n"
     ]
    },
    {
     "data": {
      "application/vnd.jupyter.widget-view+json": {
       "model_id": "2d26819ca14a40a39e8b5a514c75359a",
       "version_major": 2,
       "version_minor": 0
      },
      "text/plain": [
       "QgridWidget(grid_options={'fullWidthRows': True, 'syncColumnCellResize': True, 'forceFitColumns': True, 'defau…"
      ]
     },
     "metadata": {},
     "output_type": "display_data"
    },
    {
     "name": "stdout",
     "output_type": "stream",
     "text": [
      "https://en.wikipedia.org/w/index.php?title=TITLEDOESNTMATTER&diff=939278372&diffmode=source\n"
     ]
    }
   ],
   "source": [
    "### ----------------------------------------------------------------------------- ###\n",
    "### TRY YOURSELF! THIS IS WHAT WILL HAPPEN WHEN YOU CLICK 'Show WordCloud' BUTTON ###\n",
    "### ----------------------------------------------------------------------------- ###\n",
    "\n",
    "## Visualization\n",
    "\n",
    "# Parameters\n",
    "date_start = date(2005, 3, 1)\n",
    "date_end = date(2020, 3, 1)\n",
    "action_type = 'All'  #'All', 'adds', 'adds_48h', 'dels', 'dels_48h', 'reins', 'reins_48h'\n",
    "include_stopwords = True # 'True', False\n",
    "maxwords = 100\n",
    "\n",
    "if include_stopwords:\n",
    "    token_source = cm_inc.all_actions.copy()\n",
    "    adds_actions = actions_inc[\"adds\"]\n",
    "    dels_actions = actions_inc[\"dels\"]\n",
    "    reins_actions = actions_inc[\"reins\"]\n",
    "else:\n",
    "    token_source = cm_noinc.all_actions.copy()\n",
    "    adds_actions = actions_noinc[\"adds\"]\n",
    "    dels_actions = actions_noinc[\"dels\"]\n",
    "    reins_actions = actions_noinc[\"reins\"]\n",
    "\n",
    "# Use 'token_survive()' method of TokensManager to obtain the 48h survival stats for 'adds', 'dels' and 'reins' actions, details can be found in\n",
    "# https://github.com/gesiscss/wikiwho_demo_new/blob/master/metrics/token.py\n",
    "tokensmanager = TokensManager(token_source)\n",
    "\n",
    "# Filter by time\n",
    "filtered_actions = [adds_actions, dels_actions, reins_actions, token_source]\n",
    "for loc, actions in enumerate(filtered_actions):   \n",
    "    filtered_actions[loc] = actions[(actions['rev_time'].dt.date >= date_start) & (actions['rev_time'].dt.date <= date_end)]\n",
    "adds_filtered, dels_filtered, reins_filtered, source_filterd = filtered_actions\n",
    "\n",
    "# Join the tables using 'get_all_tokens()' method of TokensManager, ratio=False denotes the number of survival tokens rather than\n",
    "# tokens survival rate.\n",
    "tokens_stats = tokensmanager.get_all_tokens(adds_filtered, dels_filtered, reins_filtered, maxwords=maxwords, ratio=False)\n",
    "tokens_stats.index = tokens_stats.index.rename(\"string\")\n",
    "\n",
    "# Draw WordCloud\n",
    "symbol_dict = {'adds': '+', 'adds_48h': '!', 'dels': '-', 'dels_48h': '@', 'reins': '*', 'reins_48h': '#'}\n",
    "if action_type == 'All':\n",
    "    long_list = []\n",
    "    tokens_for_wc = tokens_stats.rename(symbol_dict, axis=1)\n",
    "    for col in list(tokens_for_wc.columns):\n",
    "        tokens_for_wc[col].index = tokens_for_wc[col].index + f'{col}'  # Label actions\n",
    "        long_list.append(tokens_for_wc[col])\n",
    "    df = pd.concat(long_list)\n",
    "else:\n",
    "    symbol = symbol_dict[action]\n",
    "    tokens_for_wc = tokens_stats.rename({action: symbol}, axis=1)\n",
    "    tokens_for_wc[symbol].index = tokens_for_wc[symbol].index + symbol  # Label actions\n",
    "    df = tokens_for_wc[symbol]\n",
    "\n",
    "if len(df) == 0:\n",
    "    print(\"There are no words to build the word cloud.\")\n",
    "\n",
    "colors = {'+': '#003399', '!': '#0099ff', '-': '#CC3300', \n",
    "      '@': '#CC6633', '*': '#00ffcc', '#':'#00ff33'}\n",
    "\n",
    "# Create word cloud\n",
    "wc = WordClouder(df, colors, 5000)\n",
    "\n",
    "try:\n",
    "    wcr = wc.get_wordcloud()\n",
    "    print(f\"The page that is being used:, {the_page['title']}, ({abbreviation(languageSelection.value).upper()})\")\n",
    "    print(f\"Time ranges from {date_start} to {date_end}\")\n",
    "    print(f\"Only top {maxwords} most frequent words displayed.\")\n",
    "\n",
    "    # Plot\n",
    "    plt.figure(figsize=(14, 7))\n",
    "    plt.imshow(wcr, interpolation=\"bilinear\")\n",
    "    plt.axis(\"off\")\n",
    "    plt.show()\n",
    "\n",
    "except ValueError:\n",
    "    print(\"Cannot create the wordcloud, there were zero actions.\")\n",
    "    \n",
    "# Display changed tokens in the form of table. If you want use survival ratio, set ratio=True \n",
    "# in tokensmanager.get_all_tokens().\n",
    "table1 = qgrid.show_grid(tokens_stats,grid_options={'forceFitColumns':False})\n",
    "\n",
    "# Track revision history of a particular token.\n",
    "token_interest = tokens_stats.index[0]  # You can use any token you are interested in\n",
    "selected_token = source_filterd[source_filterd['token'] == token_interest]  \n",
    "df_selected_token = selected_token.drop(['page_id', 'o_editor', 'token', 'o_rev_id', 'article_title'], axis=1)\n",
    "new_cols = ['token_id', 'action', 'rev_time', 'editor', 'rev_id']\n",
    "df_selected_token = df_selected_token[new_cols].rename({'editor': 'editor_id'}, axis=1)\n",
    "df_selected_token['token_id'] = df_selected_token['token_id'].astype(str)\n",
    "df_selected_token['rev_id'] = df_selected_token['rev_id'].astype(str)\n",
    "df_selected_token.set_index('token_id', inplace=True)\n",
    "table2 = qgrid.show_grid(df_selected_token)\n",
    "\n",
    "display(table1)\n",
    "print(f'With token {token_interest}, select one revision you want to investigate:')\n",
    "display(table2)\n",
    "\n",
    "# Display revision diff url redirected to Wikipedia website.\n",
    "revision_id = df_selected_token['rev_id'][5]  # You can use any revision id you are interested in\n",
    "url_diff = f'https://{abbreviation(languageSelection.value)}.wikipedia.org/w/index.php?title=TITLEDOESNTMATTER&diff={revision_id}&diffmode=source'\n",
    "print(url_diff)"
   ]
  },
  {
   "cell_type": "markdown",
   "metadata": {},
   "source": [
    "---\n",
    "# B. Conflicts\n",
    "\n",
    "## B.1 When did conflicts happen?"
   ]
  },
  {
   "cell_type": "markdown",
   "metadata": {},
   "source": [
    "Our measurement of ***conflict*** for single tokens is taken from [Flöck et al.](https://arxiv.org/abs/1703.08244):\n",
    "\n",
    "\n",
    "* (1)  The main idea is to count how often a token  - after being created (added) the first time -  was being deleted, re-inserted, re-deleted, re-inserted, and so on; which would often happen in case two editors disagree on the token's justification to be in the text. \n",
    "* (2) Only the **re-**deletions and **re-**insertions are counted, since up to the first delete it could be a simple correction that didn't trigger a reponse - this wouldn't indicate conflict. \n",
    "* (3) The **\"re-\"** actions are only counted if they alternate between different editors and don't come from the same editor twice or more in a row - as the latter would simply indicate self-corrections. \n",
    "* (4) In a last step, each re-insertion/re-deletion interaction gets a higher weight the faster it occurs (see [Flöck et al.](https://arxiv.org/abs/1703.08244) for the exact formula).\n",
    "\n",
    "The total conflict of a page is the sum of all the conflict scores of all actions with \n",
    "conflict (or conflict actions).\n",
    "\n",
    "<mark> *Question: What is the exact definition of conflict scores of actions?* </mark>\n",
    "\n",
    "This total conflict can be normalized if the sum is divided by the number of \n",
    "actions that could potentially be counted as conflict (elegible actions, i.e **\"re-\"** actions that have occurred at \n",
    "least twice).\n",
    "\n",
    "The conflict scores in all notebooks are calculated based on the tokens excluding stopwords."
   ]
  },
  {
   "cell_type": "markdown",
   "metadata": {},
   "source": [
    "In the following graph you can select the *date range* and *granularity* (yearly, monthly) \n",
    "of the timeline (X-axis), and plot any of the following counts in the black and red lines:\n",
    "<details>    \n",
    "    <summary style=\"cursor: pointer;font-weight:bold\">Options description</summary>\n",
    "    \n",
    "- **Total**: total number of actions (insertions, and deletions)\n",
    "- **Total_surv_48h**: total number of actions that survived at least 48 hours\n",
    "- **Total_persistent**: total number of actions that survived until, at least, the end of the month\n",
    "- **Total_stopword_count**: total number of actions that were performed in stop words\n",
    "- **Total Elegible Actions**: the total number of elegible actions\n",
    "- **Number of Conflicts**: the total number of conflicts\n",
    "- **Number of Revisions**: the total number of revisions/edits\n",
    "- **Conflict Score**: the sum of conflict scores of all actions divided by the number of elegible actions\n",
    "- **Absolute Conflict Score**: the sum of conflict scores of all actions (without division)\n",
    "- **Conflict Ratio**: the count of all conflicts divided by the number of elegible actions\n",
    "</details>"
   ]
  },
  {
   "cell_type": "code",
   "execution_count": 14,
   "metadata": {
    "hide_input": true
   },
   "outputs": [
    {
     "data": {
      "application/vnd.jupyter.widget-view+json": {
       "model_id": "816fad2037d648fbadaefaf81c7fa2e8",
       "version_major": 2,
       "version_minor": 0
      },
      "text/plain": [
       "Button(description='Show Page Conflict', layout=Layout(width='160px'), style=ButtonStyle())"
      ]
     },
     "metadata": {},
     "output_type": "display_data"
    },
    {
     "data": {
      "application/vnd.jupyter.widget-view+json": {
       "model_id": "67ff00a74ef8403d8cd39cad02b63543",
       "version_major": 2,
       "version_minor": 0
      },
      "text/plain": [
       "Output()"
      ]
     },
     "metadata": {},
     "output_type": "display_data"
    }
   ],
   "source": [
    "# create and display the button\n",
    "button2 = widgets.Button(description=\"Show Page Conflict\", layout=Layout(width='160px'))\n",
    "display(button2)\n",
    "\n",
    "def on_click_conflict(b):\n",
    "    global datepicker_from\n",
    "    with out6:\n",
    "        clear_output()\n",
    "        display(md(f\"***Page: {the_page['title']} ({abbreviation(languageSelection.value).upper()})***\"))\n",
    "        \n",
    "        # Visualization\n",
    "        listener = ConflictsListener(agg_actions)\n",
    "\n",
    "        metrics = ['Conflict Score', 'Total Elegible Actions', 'Absolute Conflict Score']\n",
    "        conflict_score = agg_actions.conflict.sum() / agg_actions.elegibles.sum()\n",
    "        display(md(f'**Page conflict score: {conflict_score}**'))\n",
    "        \n",
    "        # Visualization\n",
    "        datepicker_from = widgets.DatePicker(description='Date starts', value=agg_actions['rev_time'].iloc[0], layout=Layout(width='25%'))\n",
    "        datepicker_to = widgets.DatePicker(description='Date ends', value=agg_actions['rev_time'].iloc[-1], layout=Layout(width='25%'))\n",
    "        if (conflict_score != 0):\n",
    "            interact(listener.listen,\n",
    "                     _range1 = datepicker_from,\n",
    "                     _range2 = datepicker_to,\n",
    "                     granularity=Dropdown(options=['Yearly', 'Monthly', 'Daily'], value='Monthly'),\n",
    "                     black=Dropdown(options=metrics, value='Conflict Score'),\n",
    "                     red=Dropdown(options= ['None'] + metrics, value='None'))\n",
    "    \n",
    "\n",
    "out6 = Output()\n",
    "display(out6)\n",
    "\n",
    "# set the event\n",
    "button2.on_click(on_click_conflict)\n",
    "\n",
    "# trigger the event with the default value\n",
    "on_click_conflict(button2)"
   ]
  },
  {
   "cell_type": "markdown",
   "metadata": {
    "solution2": "hidden",
    "solution2_first": true
   },
   "source": [
    "<span style=\"color: #626262\"> Try yourself! This is what will happen when you click 'Show Page Conflict' button: </span>"
   ]
  },
  {
   "cell_type": "code",
   "execution_count": 15,
   "metadata": {
    "solution2": "hidden"
   },
   "outputs": [
    {
     "name": "stdout",
     "output_type": "stream",
     "text": [
      "The page that is being used: Coronavirus disease 2019 (EN)\n",
      "Page conflict score is: 0.9862620622168304\n"
     ]
    },
    {
     "data": {
      "text/html": [
       "        <script type=\"text/javascript\">\n",
       "        window.PlotlyConfig = {MathJaxConfig: 'local'};\n",
       "        if (window.MathJax) {MathJax.Hub.Config({SVG: {font: \"STIX-Web\"}});}\n",
       "        if (typeof require !== 'undefined') {\n",
       "        require.undef(\"plotly\");\n",
       "        requirejs.config({\n",
       "            paths: {\n",
       "                'plotly': ['https://cdn.plot.ly/plotly-latest.min']\n",
       "            }\n",
       "        });\n",
       "        require(['plotly'], function(Plotly) {\n",
       "            window._Plotly = Plotly;\n",
       "        });\n",
       "        }\n",
       "        </script>\n",
       "        "
      ]
     },
     "metadata": {},
     "output_type": "display_data"
    },
    {
     "data": {
      "application/vnd.plotly.v1+json": {
       "config": {
        "linkText": "Export to plot.ly",
        "plotlyServerURL": "https://plot.ly",
        "showLink": false
       },
       "data": [
        {
         "marker": {
          "color": "rgba(0, 0, 0, 1)"
         },
         "name": "Conflict Score",
         "type": "bar",
         "x": [
          "2020-02-05T00:00:00",
          "2020-02-06T00:00:00",
          "2020-02-08T00:00:00",
          "2020-02-09T00:00:00",
          "2020-02-10T00:00:00",
          "2020-02-11T00:00:00",
          "2020-02-12T00:00:00",
          "2020-02-13T00:00:00",
          "2020-02-14T00:00:00",
          "2020-02-15T00:00:00",
          "2020-02-16T00:00:00",
          "2020-02-17T00:00:00",
          "2020-02-18T00:00:00",
          "2020-02-19T00:00:00",
          "2020-02-20T00:00:00",
          "2020-02-21T00:00:00",
          "2020-02-22T00:00:00",
          "2020-02-23T00:00:00",
          "2020-02-24T00:00:00",
          "2020-02-25T00:00:00",
          "2020-02-26T00:00:00",
          "2020-02-27T00:00:00",
          "2020-02-28T00:00:00",
          "2020-02-29T00:00:00",
          "2020-03-01T00:00:00",
          "2020-03-02T00:00:00",
          "2020-03-03T00:00:00",
          "2020-03-04T00:00:00",
          "2020-03-05T00:00:00",
          "2020-03-06T00:00:00",
          "2020-03-07T00:00:00",
          "2020-03-08T00:00:00",
          "2020-03-09T00:00:00",
          "2020-03-10T00:00:00",
          "2020-03-11T00:00:00",
          "2020-03-12T00:00:00",
          "2020-03-13T00:00:00",
          "2020-03-14T00:00:00",
          "2020-03-15T00:00:00",
          "2020-03-16T00:00:00",
          "2020-03-17T00:00:00",
          "2020-03-18T00:00:00",
          "2020-03-19T00:00:00",
          "2020-03-20T00:00:00",
          "2020-03-21T00:00:00",
          "2020-03-22T00:00:00",
          "2020-03-23T00:00:00",
          "2020-03-24T00:00:00",
          "2020-03-25T00:00:00",
          "2020-03-26T00:00:00",
          "2020-03-27T00:00:00",
          "2020-03-28T00:00:00",
          "2020-03-29T00:00:00",
          "2020-03-30T00:00:00",
          "2020-03-31T00:00:00",
          "2020-04-01T00:00:00",
          "2020-04-02T00:00:00",
          "2020-04-03T00:00:00",
          "2020-04-04T00:00:00",
          "2020-04-05T00:00:00",
          "2020-04-06T00:00:00",
          "2020-04-07T00:00:00",
          "2020-04-08T00:00:00",
          "2020-04-09T00:00:00",
          "2020-04-10T00:00:00",
          "2020-04-11T00:00:00",
          "2020-04-12T00:00:00",
          "2020-04-13T00:00:00",
          "2020-04-14T00:00:00",
          "2020-04-15T00:00:00",
          "2020-04-16T00:00:00",
          "2020-04-17T00:00:00",
          "2020-04-18T00:00:00",
          "2020-04-19T00:00:00",
          "2020-04-20T00:00:00",
          "2020-04-21T00:00:00",
          "2020-04-22T00:00:00",
          "2020-04-23T00:00:00",
          "2020-04-24T00:00:00",
          "2020-04-25T00:00:00",
          "2020-04-26T00:00:00",
          "2020-04-27T00:00:00",
          "2020-04-28T00:00:00",
          "2020-04-29T00:00:00",
          "2020-04-30T00:00:00",
          "2020-05-01T00:00:00",
          "2020-05-02T00:00:00",
          "2020-05-03T00:00:00",
          "2020-05-04T00:00:00",
          "2020-05-05T00:00:00",
          "2020-05-06T00:00:00",
          "2020-05-07T00:00:00",
          "2020-05-08T00:00:00",
          "2020-05-09T00:00:00",
          "2020-05-10T00:00:00",
          "2020-05-11T00:00:00",
          "2020-05-12T00:00:00",
          "2020-05-13T00:00:00",
          "2020-05-14T00:00:00",
          "2020-05-15T00:00:00",
          "2020-05-16T00:00:00",
          "2020-05-17T00:00:00",
          "2020-05-18T00:00:00",
          "2020-05-19T00:00:00",
          "2020-05-20T00:00:00",
          "2020-05-21T00:00:00",
          "2020-05-22T00:00:00",
          "2020-05-24T00:00:00",
          "2020-05-25T00:00:00"
         ],
         "y": [
          0.7257022334367002,
          0.9538052920956854,
          0.7781850222999541,
          0.2947251215994618,
          0.8302594504834118,
          1.2200072627872443,
          1.483553707695921,
          0.6448842000999723,
          1.2609188814177852,
          0.5329257934088656,
          0.7444287311856297,
          1.0432838123345234,
          0.6240736967678862,
          0.7880314973254032,
          0.5252208024878365,
          0.6131344569156957,
          0.8382638277818955,
          0.7653978183541829,
          0.9995851829951743,
          0.6809875624081987,
          3.6130950111544307,
          0.5970238319486674,
          0.6121421486239408,
          0.2559516154825447,
          0.5804943821794738,
          0.6111813097087585,
          0.2992536485816246,
          0.12678340342886346,
          0.6324935830853657,
          0.6171978176031963,
          0.6895360931727988,
          0.5821335286310864,
          0.7968479389102192,
          0.935649294137229,
          0.7038221460504867,
          1.3541352010958083,
          0.699016387194449,
          0.8351955538951894,
          0.3657815890567959,
          0.8369948621376153,
          0.5726281013672098,
          0.4609504231185899,
          0.5463898258111626,
          0.6890708763986273,
          0.7699479057405146,
          0.6381877262534076,
          1.0692469268181592,
          0.34774051600903944,
          0.29989778153968083,
          0.9857031271318661,
          0.8989721878222038,
          0.2237084212053453,
          1.0876283538784202,
          1.3314594691056938,
          0.472684012543937,
          0.6142904515883313,
          0.6831032384302385,
          0.6449629969086862,
          0.6816790937072678,
          0.6850654060634094,
          0.6179662194424151,
          0.6447719258608052,
          0.877393492882988,
          0.3672266738762353,
          0.678684209600782,
          0.7821085657157375,
          0.8734386507736658,
          0.7787268379146656,
          0.7386764704474333,
          0.3584359369329957,
          1.0182707658917214,
          0.6210923198808179,
          0.6454081924667089,
          0.6625242611334848,
          0.3575876148802577,
          0.6126033710062958,
          0.5567477041051295,
          0.5764410636171373,
          0.20912093112438682,
          0.6054415878054616,
          0.5270510061218906,
          0.8907196262355719,
          0.5916433640553151,
          0.36985123209772874,
          0.8681244353238207,
          0.20542152954449544,
          0.35659850364128737,
          0.6775444200999784,
          0.5578499913141396,
          0.2324697719296066,
          0.5623989604068097,
          0.6593524989614208,
          0.22055675500941058,
          0.5417304969504625,
          0.48382095772555544,
          0.6676569177892627,
          0.6306508153843561,
          0.520450665963563,
          0.5394618890535732,
          0.7667007345403426,
          0.7968296598195078,
          0.5387107532824764,
          0.662609916977763,
          0.6120542110094076,
          0.1664010109901255,
          0.17830546154867766,
          0.530688102502135,
          0.6260053274928403,
          0.53600432684516
         ]
        }
       ],
       "layout": {
        "bargap": 0.1,
        "barmode": "group",
        "hovermode": "closest",
        "legend": {
         "x": 0.5,
         "y": 1.2
        },
        "showlegend": true,
        "template": {
         "data": {
          "bar": [
           {
            "error_x": {
             "color": "#2a3f5f"
            },
            "error_y": {
             "color": "#2a3f5f"
            },
            "marker": {
             "line": {
              "color": "#E5ECF6",
              "width": 0.5
             }
            },
            "type": "bar"
           }
          ],
          "barpolar": [
           {
            "marker": {
             "line": {
              "color": "#E5ECF6",
              "width": 0.5
             }
            },
            "type": "barpolar"
           }
          ],
          "carpet": [
           {
            "aaxis": {
             "endlinecolor": "#2a3f5f",
             "gridcolor": "white",
             "linecolor": "white",
             "minorgridcolor": "white",
             "startlinecolor": "#2a3f5f"
            },
            "baxis": {
             "endlinecolor": "#2a3f5f",
             "gridcolor": "white",
             "linecolor": "white",
             "minorgridcolor": "white",
             "startlinecolor": "#2a3f5f"
            },
            "type": "carpet"
           }
          ],
          "choropleth": [
           {
            "colorbar": {
             "outlinewidth": 0,
             "ticks": ""
            },
            "type": "choropleth"
           }
          ],
          "contour": [
           {
            "colorbar": {
             "outlinewidth": 0,
             "ticks": ""
            },
            "colorscale": [
             [
              0,
              "#0d0887"
             ],
             [
              0.1111111111111111,
              "#46039f"
             ],
             [
              0.2222222222222222,
              "#7201a8"
             ],
             [
              0.3333333333333333,
              "#9c179e"
             ],
             [
              0.4444444444444444,
              "#bd3786"
             ],
             [
              0.5555555555555556,
              "#d8576b"
             ],
             [
              0.6666666666666666,
              "#ed7953"
             ],
             [
              0.7777777777777778,
              "#fb9f3a"
             ],
             [
              0.8888888888888888,
              "#fdca26"
             ],
             [
              1,
              "#f0f921"
             ]
            ],
            "type": "contour"
           }
          ],
          "contourcarpet": [
           {
            "colorbar": {
             "outlinewidth": 0,
             "ticks": ""
            },
            "type": "contourcarpet"
           }
          ],
          "heatmap": [
           {
            "colorbar": {
             "outlinewidth": 0,
             "ticks": ""
            },
            "colorscale": [
             [
              0,
              "#0d0887"
             ],
             [
              0.1111111111111111,
              "#46039f"
             ],
             [
              0.2222222222222222,
              "#7201a8"
             ],
             [
              0.3333333333333333,
              "#9c179e"
             ],
             [
              0.4444444444444444,
              "#bd3786"
             ],
             [
              0.5555555555555556,
              "#d8576b"
             ],
             [
              0.6666666666666666,
              "#ed7953"
             ],
             [
              0.7777777777777778,
              "#fb9f3a"
             ],
             [
              0.8888888888888888,
              "#fdca26"
             ],
             [
              1,
              "#f0f921"
             ]
            ],
            "type": "heatmap"
           }
          ],
          "heatmapgl": [
           {
            "colorbar": {
             "outlinewidth": 0,
             "ticks": ""
            },
            "colorscale": [
             [
              0,
              "#0d0887"
             ],
             [
              0.1111111111111111,
              "#46039f"
             ],
             [
              0.2222222222222222,
              "#7201a8"
             ],
             [
              0.3333333333333333,
              "#9c179e"
             ],
             [
              0.4444444444444444,
              "#bd3786"
             ],
             [
              0.5555555555555556,
              "#d8576b"
             ],
             [
              0.6666666666666666,
              "#ed7953"
             ],
             [
              0.7777777777777778,
              "#fb9f3a"
             ],
             [
              0.8888888888888888,
              "#fdca26"
             ],
             [
              1,
              "#f0f921"
             ]
            ],
            "type": "heatmapgl"
           }
          ],
          "histogram": [
           {
            "marker": {
             "colorbar": {
              "outlinewidth": 0,
              "ticks": ""
             }
            },
            "type": "histogram"
           }
          ],
          "histogram2d": [
           {
            "colorbar": {
             "outlinewidth": 0,
             "ticks": ""
            },
            "colorscale": [
             [
              0,
              "#0d0887"
             ],
             [
              0.1111111111111111,
              "#46039f"
             ],
             [
              0.2222222222222222,
              "#7201a8"
             ],
             [
              0.3333333333333333,
              "#9c179e"
             ],
             [
              0.4444444444444444,
              "#bd3786"
             ],
             [
              0.5555555555555556,
              "#d8576b"
             ],
             [
              0.6666666666666666,
              "#ed7953"
             ],
             [
              0.7777777777777778,
              "#fb9f3a"
             ],
             [
              0.8888888888888888,
              "#fdca26"
             ],
             [
              1,
              "#f0f921"
             ]
            ],
            "type": "histogram2d"
           }
          ],
          "histogram2dcontour": [
           {
            "colorbar": {
             "outlinewidth": 0,
             "ticks": ""
            },
            "colorscale": [
             [
              0,
              "#0d0887"
             ],
             [
              0.1111111111111111,
              "#46039f"
             ],
             [
              0.2222222222222222,
              "#7201a8"
             ],
             [
              0.3333333333333333,
              "#9c179e"
             ],
             [
              0.4444444444444444,
              "#bd3786"
             ],
             [
              0.5555555555555556,
              "#d8576b"
             ],
             [
              0.6666666666666666,
              "#ed7953"
             ],
             [
              0.7777777777777778,
              "#fb9f3a"
             ],
             [
              0.8888888888888888,
              "#fdca26"
             ],
             [
              1,
              "#f0f921"
             ]
            ],
            "type": "histogram2dcontour"
           }
          ],
          "mesh3d": [
           {
            "colorbar": {
             "outlinewidth": 0,
             "ticks": ""
            },
            "type": "mesh3d"
           }
          ],
          "parcoords": [
           {
            "line": {
             "colorbar": {
              "outlinewidth": 0,
              "ticks": ""
             }
            },
            "type": "parcoords"
           }
          ],
          "pie": [
           {
            "automargin": true,
            "type": "pie"
           }
          ],
          "scatter": [
           {
            "marker": {
             "colorbar": {
              "outlinewidth": 0,
              "ticks": ""
             }
            },
            "type": "scatter"
           }
          ],
          "scatter3d": [
           {
            "line": {
             "colorbar": {
              "outlinewidth": 0,
              "ticks": ""
             }
            },
            "marker": {
             "colorbar": {
              "outlinewidth": 0,
              "ticks": ""
             }
            },
            "type": "scatter3d"
           }
          ],
          "scattercarpet": [
           {
            "marker": {
             "colorbar": {
              "outlinewidth": 0,
              "ticks": ""
             }
            },
            "type": "scattercarpet"
           }
          ],
          "scattergeo": [
           {
            "marker": {
             "colorbar": {
              "outlinewidth": 0,
              "ticks": ""
             }
            },
            "type": "scattergeo"
           }
          ],
          "scattergl": [
           {
            "marker": {
             "colorbar": {
              "outlinewidth": 0,
              "ticks": ""
             }
            },
            "type": "scattergl"
           }
          ],
          "scattermapbox": [
           {
            "marker": {
             "colorbar": {
              "outlinewidth": 0,
              "ticks": ""
             }
            },
            "type": "scattermapbox"
           }
          ],
          "scatterpolar": [
           {
            "marker": {
             "colorbar": {
              "outlinewidth": 0,
              "ticks": ""
             }
            },
            "type": "scatterpolar"
           }
          ],
          "scatterpolargl": [
           {
            "marker": {
             "colorbar": {
              "outlinewidth": 0,
              "ticks": ""
             }
            },
            "type": "scatterpolargl"
           }
          ],
          "scatterternary": [
           {
            "marker": {
             "colorbar": {
              "outlinewidth": 0,
              "ticks": ""
             }
            },
            "type": "scatterternary"
           }
          ],
          "surface": [
           {
            "colorbar": {
             "outlinewidth": 0,
             "ticks": ""
            },
            "colorscale": [
             [
              0,
              "#0d0887"
             ],
             [
              0.1111111111111111,
              "#46039f"
             ],
             [
              0.2222222222222222,
              "#7201a8"
             ],
             [
              0.3333333333333333,
              "#9c179e"
             ],
             [
              0.4444444444444444,
              "#bd3786"
             ],
             [
              0.5555555555555556,
              "#d8576b"
             ],
             [
              0.6666666666666666,
              "#ed7953"
             ],
             [
              0.7777777777777778,
              "#fb9f3a"
             ],
             [
              0.8888888888888888,
              "#fdca26"
             ],
             [
              1,
              "#f0f921"
             ]
            ],
            "type": "surface"
           }
          ],
          "table": [
           {
            "cells": {
             "fill": {
              "color": "#EBF0F8"
             },
             "line": {
              "color": "white"
             }
            },
            "header": {
             "fill": {
              "color": "#C8D4E3"
             },
             "line": {
              "color": "white"
             }
            },
            "type": "table"
           }
          ]
         },
         "layout": {
          "annotationdefaults": {
           "arrowcolor": "#2a3f5f",
           "arrowhead": 0,
           "arrowwidth": 1
          },
          "coloraxis": {
           "colorbar": {
            "outlinewidth": 0,
            "ticks": ""
           }
          },
          "colorscale": {
           "diverging": [
            [
             0,
             "#8e0152"
            ],
            [
             0.1,
             "#c51b7d"
            ],
            [
             0.2,
             "#de77ae"
            ],
            [
             0.3,
             "#f1b6da"
            ],
            [
             0.4,
             "#fde0ef"
            ],
            [
             0.5,
             "#f7f7f7"
            ],
            [
             0.6,
             "#e6f5d0"
            ],
            [
             0.7,
             "#b8e186"
            ],
            [
             0.8,
             "#7fbc41"
            ],
            [
             0.9,
             "#4d9221"
            ],
            [
             1,
             "#276419"
            ]
           ],
           "sequential": [
            [
             0,
             "#0d0887"
            ],
            [
             0.1111111111111111,
             "#46039f"
            ],
            [
             0.2222222222222222,
             "#7201a8"
            ],
            [
             0.3333333333333333,
             "#9c179e"
            ],
            [
             0.4444444444444444,
             "#bd3786"
            ],
            [
             0.5555555555555556,
             "#d8576b"
            ],
            [
             0.6666666666666666,
             "#ed7953"
            ],
            [
             0.7777777777777778,
             "#fb9f3a"
            ],
            [
             0.8888888888888888,
             "#fdca26"
            ],
            [
             1,
             "#f0f921"
            ]
           ],
           "sequentialminus": [
            [
             0,
             "#0d0887"
            ],
            [
             0.1111111111111111,
             "#46039f"
            ],
            [
             0.2222222222222222,
             "#7201a8"
            ],
            [
             0.3333333333333333,
             "#9c179e"
            ],
            [
             0.4444444444444444,
             "#bd3786"
            ],
            [
             0.5555555555555556,
             "#d8576b"
            ],
            [
             0.6666666666666666,
             "#ed7953"
            ],
            [
             0.7777777777777778,
             "#fb9f3a"
            ],
            [
             0.8888888888888888,
             "#fdca26"
            ],
            [
             1,
             "#f0f921"
            ]
           ]
          },
          "colorway": [
           "#636efa",
           "#EF553B",
           "#00cc96",
           "#ab63fa",
           "#FFA15A",
           "#19d3f3",
           "#FF6692",
           "#B6E880",
           "#FF97FF",
           "#FECB52"
          ],
          "font": {
           "color": "#2a3f5f"
          },
          "geo": {
           "bgcolor": "white",
           "lakecolor": "white",
           "landcolor": "#E5ECF6",
           "showlakes": true,
           "showland": true,
           "subunitcolor": "white"
          },
          "hoverlabel": {
           "align": "left"
          },
          "hovermode": "closest",
          "mapbox": {
           "style": "light"
          },
          "paper_bgcolor": "white",
          "plot_bgcolor": "#E5ECF6",
          "polar": {
           "angularaxis": {
            "gridcolor": "white",
            "linecolor": "white",
            "ticks": ""
           },
           "bgcolor": "#E5ECF6",
           "radialaxis": {
            "gridcolor": "white",
            "linecolor": "white",
            "ticks": ""
           }
          },
          "scene": {
           "xaxis": {
            "backgroundcolor": "#E5ECF6",
            "gridcolor": "white",
            "gridwidth": 2,
            "linecolor": "white",
            "showbackground": true,
            "ticks": "",
            "zerolinecolor": "white"
           },
           "yaxis": {
            "backgroundcolor": "#E5ECF6",
            "gridcolor": "white",
            "gridwidth": 2,
            "linecolor": "white",
            "showbackground": true,
            "ticks": "",
            "zerolinecolor": "white"
           },
           "zaxis": {
            "backgroundcolor": "#E5ECF6",
            "gridcolor": "white",
            "gridwidth": 2,
            "linecolor": "white",
            "showbackground": true,
            "ticks": "",
            "zerolinecolor": "white"
           }
          },
          "shapedefaults": {
           "line": {
            "color": "#2a3f5f"
           }
          },
          "ternary": {
           "aaxis": {
            "gridcolor": "white",
            "linecolor": "white",
            "ticks": ""
           },
           "baxis": {
            "gridcolor": "white",
            "linecolor": "white",
            "ticks": ""
           },
           "bgcolor": "#E5ECF6",
           "caxis": {
            "gridcolor": "white",
            "linecolor": "white",
            "ticks": ""
           }
          },
          "title": {
           "x": 0.05
          },
          "xaxis": {
           "automargin": true,
           "gridcolor": "white",
           "linecolor": "white",
           "ticks": "",
           "title": {
            "standoff": 15
           },
           "zerolinecolor": "white",
           "zerolinewidth": 2
          },
          "yaxis": {
           "automargin": true,
           "gridcolor": "white",
           "linecolor": "white",
           "ticks": "",
           "title": {
            "standoff": 15
           },
           "zerolinecolor": "white",
           "zerolinewidth": 2
          }
         }
        },
        "xaxis": {
         "gridwidth": 2,
         "nticks": 15,
         "ticklen": 5,
         "tickmode": "auto",
         "title": {
          "text": "Daily"
         },
         "zeroline": true
        },
        "yaxis": {
         "gridwidth": 2,
         "ticklen": 5
        }
       }
      },
      "text/html": [
       "<div>\n",
       "        \n",
       "        \n",
       "            <div id=\"adf8d58f-aabd-43e4-9f91-425dab7dd9e0\" class=\"plotly-graph-div\" style=\"height:525px; width:100%;\"></div>\n",
       "            <script type=\"text/javascript\">\n",
       "                require([\"plotly\"], function(Plotly) {\n",
       "                    window.PLOTLYENV=window.PLOTLYENV || {};\n",
       "                    \n",
       "                if (document.getElementById(\"adf8d58f-aabd-43e4-9f91-425dab7dd9e0\")) {\n",
       "                    Plotly.newPlot(\n",
       "                        'adf8d58f-aabd-43e4-9f91-425dab7dd9e0',\n",
       "                        [{\"marker\": {\"color\": \"rgba(0, 0, 0, 1)\"}, \"name\": \"Conflict Score\", \"type\": \"bar\", \"x\": [\"2020-02-05T00:00:00\", \"2020-02-06T00:00:00\", \"2020-02-08T00:00:00\", \"2020-02-09T00:00:00\", \"2020-02-10T00:00:00\", \"2020-02-11T00:00:00\", \"2020-02-12T00:00:00\", \"2020-02-13T00:00:00\", \"2020-02-14T00:00:00\", \"2020-02-15T00:00:00\", \"2020-02-16T00:00:00\", \"2020-02-17T00:00:00\", \"2020-02-18T00:00:00\", \"2020-02-19T00:00:00\", \"2020-02-20T00:00:00\", \"2020-02-21T00:00:00\", \"2020-02-22T00:00:00\", \"2020-02-23T00:00:00\", \"2020-02-24T00:00:00\", \"2020-02-25T00:00:00\", \"2020-02-26T00:00:00\", \"2020-02-27T00:00:00\", \"2020-02-28T00:00:00\", \"2020-02-29T00:00:00\", \"2020-03-01T00:00:00\", \"2020-03-02T00:00:00\", \"2020-03-03T00:00:00\", \"2020-03-04T00:00:00\", \"2020-03-05T00:00:00\", \"2020-03-06T00:00:00\", \"2020-03-07T00:00:00\", \"2020-03-08T00:00:00\", \"2020-03-09T00:00:00\", \"2020-03-10T00:00:00\", \"2020-03-11T00:00:00\", \"2020-03-12T00:00:00\", \"2020-03-13T00:00:00\", \"2020-03-14T00:00:00\", \"2020-03-15T00:00:00\", \"2020-03-16T00:00:00\", \"2020-03-17T00:00:00\", \"2020-03-18T00:00:00\", \"2020-03-19T00:00:00\", \"2020-03-20T00:00:00\", \"2020-03-21T00:00:00\", \"2020-03-22T00:00:00\", \"2020-03-23T00:00:00\", \"2020-03-24T00:00:00\", \"2020-03-25T00:00:00\", \"2020-03-26T00:00:00\", \"2020-03-27T00:00:00\", \"2020-03-28T00:00:00\", \"2020-03-29T00:00:00\", \"2020-03-30T00:00:00\", \"2020-03-31T00:00:00\", \"2020-04-01T00:00:00\", \"2020-04-02T00:00:00\", \"2020-04-03T00:00:00\", \"2020-04-04T00:00:00\", \"2020-04-05T00:00:00\", \"2020-04-06T00:00:00\", \"2020-04-07T00:00:00\", \"2020-04-08T00:00:00\", \"2020-04-09T00:00:00\", \"2020-04-10T00:00:00\", \"2020-04-11T00:00:00\", \"2020-04-12T00:00:00\", \"2020-04-13T00:00:00\", \"2020-04-14T00:00:00\", \"2020-04-15T00:00:00\", \"2020-04-16T00:00:00\", \"2020-04-17T00:00:00\", \"2020-04-18T00:00:00\", \"2020-04-19T00:00:00\", \"2020-04-20T00:00:00\", \"2020-04-21T00:00:00\", \"2020-04-22T00:00:00\", \"2020-04-23T00:00:00\", \"2020-04-24T00:00:00\", \"2020-04-25T00:00:00\", \"2020-04-26T00:00:00\", \"2020-04-27T00:00:00\", \"2020-04-28T00:00:00\", \"2020-04-29T00:00:00\", \"2020-04-30T00:00:00\", \"2020-05-01T00:00:00\", \"2020-05-02T00:00:00\", \"2020-05-03T00:00:00\", \"2020-05-04T00:00:00\", \"2020-05-05T00:00:00\", \"2020-05-06T00:00:00\", \"2020-05-07T00:00:00\", \"2020-05-08T00:00:00\", \"2020-05-09T00:00:00\", \"2020-05-10T00:00:00\", \"2020-05-11T00:00:00\", \"2020-05-12T00:00:00\", \"2020-05-13T00:00:00\", \"2020-05-14T00:00:00\", \"2020-05-15T00:00:00\", \"2020-05-16T00:00:00\", \"2020-05-17T00:00:00\", \"2020-05-18T00:00:00\", \"2020-05-19T00:00:00\", \"2020-05-20T00:00:00\", \"2020-05-21T00:00:00\", \"2020-05-22T00:00:00\", \"2020-05-24T00:00:00\", \"2020-05-25T00:00:00\"], \"y\": [0.7257022334367002, 0.9538052920956854, 0.7781850222999541, 0.2947251215994618, 0.8302594504834118, 1.2200072627872443, 1.483553707695921, 0.6448842000999723, 1.2609188814177852, 0.5329257934088656, 0.7444287311856297, 1.0432838123345234, 0.6240736967678862, 0.7880314973254032, 0.5252208024878365, 0.6131344569156957, 0.8382638277818955, 0.7653978183541829, 0.9995851829951743, 0.6809875624081987, 3.6130950111544307, 0.5970238319486674, 0.6121421486239408, 0.2559516154825447, 0.5804943821794738, 0.6111813097087585, 0.2992536485816246, 0.12678340342886346, 0.6324935830853657, 0.6171978176031963, 0.6895360931727988, 0.5821335286310864, 0.7968479389102192, 0.935649294137229, 0.7038221460504867, 1.3541352010958083, 0.699016387194449, 0.8351955538951894, 0.3657815890567959, 0.8369948621376153, 0.5726281013672098, 0.4609504231185899, 0.5463898258111626, 0.6890708763986273, 0.7699479057405146, 0.6381877262534076, 1.0692469268181592, 0.34774051600903944, 0.29989778153968083, 0.9857031271318661, 0.8989721878222038, 0.2237084212053453, 1.0876283538784202, 1.3314594691056938, 0.472684012543937, 0.6142904515883313, 0.6831032384302385, 0.6449629969086862, 0.6816790937072678, 0.6850654060634094, 0.6179662194424151, 0.6447719258608052, 0.877393492882988, 0.3672266738762353, 0.678684209600782, 0.7821085657157375, 0.8734386507736658, 0.7787268379146656, 0.7386764704474333, 0.3584359369329957, 1.0182707658917214, 0.6210923198808179, 0.6454081924667089, 0.6625242611334848, 0.3575876148802577, 0.6126033710062958, 0.5567477041051295, 0.5764410636171373, 0.20912093112438682, 0.6054415878054616, 0.5270510061218906, 0.8907196262355719, 0.5916433640553151, 0.36985123209772874, 0.8681244353238207, 0.20542152954449544, 0.35659850364128737, 0.6775444200999784, 0.5578499913141396, 0.2324697719296066, 0.5623989604068097, 0.6593524989614208, 0.22055675500941058, 0.5417304969504625, 0.48382095772555544, 0.6676569177892627, 0.6306508153843561, 0.520450665963563, 0.5394618890535732, 0.7667007345403426, 0.7968296598195078, 0.5387107532824764, 0.662609916977763, 0.6120542110094076, 0.1664010109901255, 0.17830546154867766, 0.530688102502135, 0.6260053274928403, 0.53600432684516]}],\n",
       "                        {\"bargap\": 0.1, \"barmode\": \"group\", \"hovermode\": \"closest\", \"legend\": {\"x\": 0.5, \"y\": 1.2}, \"showlegend\": true, \"template\": {\"data\": {\"bar\": [{\"error_x\": {\"color\": \"#2a3f5f\"}, \"error_y\": {\"color\": \"#2a3f5f\"}, \"marker\": {\"line\": {\"color\": \"#E5ECF6\", \"width\": 0.5}}, \"type\": \"bar\"}], \"barpolar\": [{\"marker\": {\"line\": {\"color\": \"#E5ECF6\", \"width\": 0.5}}, \"type\": \"barpolar\"}], \"carpet\": [{\"aaxis\": {\"endlinecolor\": \"#2a3f5f\", \"gridcolor\": \"white\", \"linecolor\": \"white\", \"minorgridcolor\": \"white\", \"startlinecolor\": \"#2a3f5f\"}, \"baxis\": {\"endlinecolor\": \"#2a3f5f\", \"gridcolor\": \"white\", \"linecolor\": \"white\", \"minorgridcolor\": \"white\", \"startlinecolor\": \"#2a3f5f\"}, \"type\": \"carpet\"}], \"choropleth\": [{\"colorbar\": {\"outlinewidth\": 0, \"ticks\": \"\"}, \"type\": \"choropleth\"}], \"contour\": [{\"colorbar\": {\"outlinewidth\": 0, \"ticks\": \"\"}, \"colorscale\": [[0.0, \"#0d0887\"], [0.1111111111111111, \"#46039f\"], [0.2222222222222222, \"#7201a8\"], [0.3333333333333333, \"#9c179e\"], [0.4444444444444444, \"#bd3786\"], [0.5555555555555556, \"#d8576b\"], [0.6666666666666666, \"#ed7953\"], [0.7777777777777778, \"#fb9f3a\"], [0.8888888888888888, \"#fdca26\"], [1.0, \"#f0f921\"]], \"type\": \"contour\"}], \"contourcarpet\": [{\"colorbar\": {\"outlinewidth\": 0, \"ticks\": \"\"}, \"type\": \"contourcarpet\"}], \"heatmap\": [{\"colorbar\": {\"outlinewidth\": 0, \"ticks\": \"\"}, \"colorscale\": [[0.0, \"#0d0887\"], [0.1111111111111111, \"#46039f\"], [0.2222222222222222, \"#7201a8\"], [0.3333333333333333, \"#9c179e\"], [0.4444444444444444, \"#bd3786\"], [0.5555555555555556, \"#d8576b\"], [0.6666666666666666, \"#ed7953\"], [0.7777777777777778, \"#fb9f3a\"], [0.8888888888888888, \"#fdca26\"], [1.0, \"#f0f921\"]], \"type\": \"heatmap\"}], \"heatmapgl\": [{\"colorbar\": {\"outlinewidth\": 0, \"ticks\": \"\"}, \"colorscale\": [[0.0, \"#0d0887\"], [0.1111111111111111, \"#46039f\"], [0.2222222222222222, \"#7201a8\"], [0.3333333333333333, \"#9c179e\"], [0.4444444444444444, \"#bd3786\"], [0.5555555555555556, \"#d8576b\"], [0.6666666666666666, \"#ed7953\"], [0.7777777777777778, \"#fb9f3a\"], [0.8888888888888888, \"#fdca26\"], [1.0, \"#f0f921\"]], \"type\": \"heatmapgl\"}], \"histogram\": [{\"marker\": {\"colorbar\": {\"outlinewidth\": 0, \"ticks\": \"\"}}, \"type\": \"histogram\"}], \"histogram2d\": [{\"colorbar\": {\"outlinewidth\": 0, \"ticks\": \"\"}, \"colorscale\": [[0.0, \"#0d0887\"], [0.1111111111111111, \"#46039f\"], [0.2222222222222222, \"#7201a8\"], [0.3333333333333333, \"#9c179e\"], [0.4444444444444444, \"#bd3786\"], [0.5555555555555556, \"#d8576b\"], [0.6666666666666666, \"#ed7953\"], [0.7777777777777778, \"#fb9f3a\"], [0.8888888888888888, \"#fdca26\"], [1.0, \"#f0f921\"]], \"type\": \"histogram2d\"}], \"histogram2dcontour\": [{\"colorbar\": {\"outlinewidth\": 0, \"ticks\": \"\"}, \"colorscale\": [[0.0, \"#0d0887\"], [0.1111111111111111, \"#46039f\"], [0.2222222222222222, \"#7201a8\"], [0.3333333333333333, \"#9c179e\"], [0.4444444444444444, \"#bd3786\"], [0.5555555555555556, \"#d8576b\"], [0.6666666666666666, \"#ed7953\"], [0.7777777777777778, \"#fb9f3a\"], [0.8888888888888888, \"#fdca26\"], [1.0, \"#f0f921\"]], \"type\": \"histogram2dcontour\"}], \"mesh3d\": [{\"colorbar\": {\"outlinewidth\": 0, \"ticks\": \"\"}, \"type\": \"mesh3d\"}], \"parcoords\": [{\"line\": {\"colorbar\": {\"outlinewidth\": 0, \"ticks\": \"\"}}, \"type\": \"parcoords\"}], \"pie\": [{\"automargin\": true, \"type\": \"pie\"}], \"scatter\": [{\"marker\": {\"colorbar\": {\"outlinewidth\": 0, \"ticks\": \"\"}}, \"type\": \"scatter\"}], \"scatter3d\": [{\"line\": {\"colorbar\": {\"outlinewidth\": 0, \"ticks\": \"\"}}, \"marker\": {\"colorbar\": {\"outlinewidth\": 0, \"ticks\": \"\"}}, \"type\": \"scatter3d\"}], \"scattercarpet\": [{\"marker\": {\"colorbar\": {\"outlinewidth\": 0, \"ticks\": \"\"}}, \"type\": \"scattercarpet\"}], \"scattergeo\": [{\"marker\": {\"colorbar\": {\"outlinewidth\": 0, \"ticks\": \"\"}}, \"type\": \"scattergeo\"}], \"scattergl\": [{\"marker\": {\"colorbar\": {\"outlinewidth\": 0, \"ticks\": \"\"}}, \"type\": \"scattergl\"}], \"scattermapbox\": [{\"marker\": {\"colorbar\": {\"outlinewidth\": 0, \"ticks\": \"\"}}, \"type\": \"scattermapbox\"}], \"scatterpolar\": [{\"marker\": {\"colorbar\": {\"outlinewidth\": 0, \"ticks\": \"\"}}, \"type\": \"scatterpolar\"}], \"scatterpolargl\": [{\"marker\": {\"colorbar\": {\"outlinewidth\": 0, \"ticks\": \"\"}}, \"type\": \"scatterpolargl\"}], \"scatterternary\": [{\"marker\": {\"colorbar\": {\"outlinewidth\": 0, \"ticks\": \"\"}}, \"type\": \"scatterternary\"}], \"surface\": [{\"colorbar\": {\"outlinewidth\": 0, \"ticks\": \"\"}, \"colorscale\": [[0.0, \"#0d0887\"], [0.1111111111111111, \"#46039f\"], [0.2222222222222222, \"#7201a8\"], [0.3333333333333333, \"#9c179e\"], [0.4444444444444444, \"#bd3786\"], [0.5555555555555556, \"#d8576b\"], [0.6666666666666666, \"#ed7953\"], [0.7777777777777778, \"#fb9f3a\"], [0.8888888888888888, \"#fdca26\"], [1.0, \"#f0f921\"]], \"type\": \"surface\"}], \"table\": [{\"cells\": {\"fill\": {\"color\": \"#EBF0F8\"}, \"line\": {\"color\": \"white\"}}, \"header\": {\"fill\": {\"color\": \"#C8D4E3\"}, \"line\": {\"color\": \"white\"}}, \"type\": \"table\"}]}, \"layout\": {\"annotationdefaults\": {\"arrowcolor\": \"#2a3f5f\", \"arrowhead\": 0, \"arrowwidth\": 1}, \"coloraxis\": {\"colorbar\": {\"outlinewidth\": 0, \"ticks\": \"\"}}, \"colorscale\": {\"diverging\": [[0, \"#8e0152\"], [0.1, \"#c51b7d\"], [0.2, \"#de77ae\"], [0.3, \"#f1b6da\"], [0.4, \"#fde0ef\"], [0.5, \"#f7f7f7\"], [0.6, \"#e6f5d0\"], [0.7, \"#b8e186\"], [0.8, \"#7fbc41\"], [0.9, \"#4d9221\"], [1, \"#276419\"]], \"sequential\": [[0.0, \"#0d0887\"], [0.1111111111111111, \"#46039f\"], [0.2222222222222222, \"#7201a8\"], [0.3333333333333333, \"#9c179e\"], [0.4444444444444444, \"#bd3786\"], [0.5555555555555556, \"#d8576b\"], [0.6666666666666666, \"#ed7953\"], [0.7777777777777778, \"#fb9f3a\"], [0.8888888888888888, \"#fdca26\"], [1.0, \"#f0f921\"]], \"sequentialminus\": [[0.0, \"#0d0887\"], [0.1111111111111111, \"#46039f\"], [0.2222222222222222, \"#7201a8\"], [0.3333333333333333, \"#9c179e\"], [0.4444444444444444, \"#bd3786\"], [0.5555555555555556, \"#d8576b\"], [0.6666666666666666, \"#ed7953\"], [0.7777777777777778, \"#fb9f3a\"], [0.8888888888888888, \"#fdca26\"], [1.0, \"#f0f921\"]]}, \"colorway\": [\"#636efa\", \"#EF553B\", \"#00cc96\", \"#ab63fa\", \"#FFA15A\", \"#19d3f3\", \"#FF6692\", \"#B6E880\", \"#FF97FF\", \"#FECB52\"], \"font\": {\"color\": \"#2a3f5f\"}, \"geo\": {\"bgcolor\": \"white\", \"lakecolor\": \"white\", \"landcolor\": \"#E5ECF6\", \"showlakes\": true, \"showland\": true, \"subunitcolor\": \"white\"}, \"hoverlabel\": {\"align\": \"left\"}, \"hovermode\": \"closest\", \"mapbox\": {\"style\": \"light\"}, \"paper_bgcolor\": \"white\", \"plot_bgcolor\": \"#E5ECF6\", \"polar\": {\"angularaxis\": {\"gridcolor\": \"white\", \"linecolor\": \"white\", \"ticks\": \"\"}, \"bgcolor\": \"#E5ECF6\", \"radialaxis\": {\"gridcolor\": \"white\", \"linecolor\": \"white\", \"ticks\": \"\"}}, \"scene\": {\"xaxis\": {\"backgroundcolor\": \"#E5ECF6\", \"gridcolor\": \"white\", \"gridwidth\": 2, \"linecolor\": \"white\", \"showbackground\": true, \"ticks\": \"\", \"zerolinecolor\": \"white\"}, \"yaxis\": {\"backgroundcolor\": \"#E5ECF6\", \"gridcolor\": \"white\", \"gridwidth\": 2, \"linecolor\": \"white\", \"showbackground\": true, \"ticks\": \"\", \"zerolinecolor\": \"white\"}, \"zaxis\": {\"backgroundcolor\": \"#E5ECF6\", \"gridcolor\": \"white\", \"gridwidth\": 2, \"linecolor\": \"white\", \"showbackground\": true, \"ticks\": \"\", \"zerolinecolor\": \"white\"}}, \"shapedefaults\": {\"line\": {\"color\": \"#2a3f5f\"}}, \"ternary\": {\"aaxis\": {\"gridcolor\": \"white\", \"linecolor\": \"white\", \"ticks\": \"\"}, \"baxis\": {\"gridcolor\": \"white\", \"linecolor\": \"white\", \"ticks\": \"\"}, \"bgcolor\": \"#E5ECF6\", \"caxis\": {\"gridcolor\": \"white\", \"linecolor\": \"white\", \"ticks\": \"\"}}, \"title\": {\"x\": 0.05}, \"xaxis\": {\"automargin\": true, \"gridcolor\": \"white\", \"linecolor\": \"white\", \"ticks\": \"\", \"title\": {\"standoff\": 15}, \"zerolinecolor\": \"white\", \"zerolinewidth\": 2}, \"yaxis\": {\"automargin\": true, \"gridcolor\": \"white\", \"linecolor\": \"white\", \"ticks\": \"\", \"title\": {\"standoff\": 15}, \"zerolinecolor\": \"white\", \"zerolinewidth\": 2}}}, \"xaxis\": {\"gridwidth\": 2, \"nticks\": 15, \"ticklen\": 5, \"tickmode\": \"auto\", \"title\": {\"text\": \"Daily\"}, \"zeroline\": true}, \"yaxis\": {\"gridwidth\": 2, \"ticklen\": 5}},\n",
       "                        {\"responsive\": true}\n",
       "                    ).then(function(){\n",
       "                            \n",
       "var gd = document.getElementById('adf8d58f-aabd-43e4-9f91-425dab7dd9e0');\n",
       "var x = new MutationObserver(function (mutations, observer) {{\n",
       "        var display = window.getComputedStyle(gd).display;\n",
       "        if (!display || display === 'none') {{\n",
       "            console.log([gd, 'removed!']);\n",
       "            Plotly.purge(gd);\n",
       "            observer.disconnect();\n",
       "        }}\n",
       "}});\n",
       "\n",
       "// Listen for the removal of the full notebook cells\n",
       "var notebookContainer = gd.closest('#notebook-container');\n",
       "if (notebookContainer) {{\n",
       "    x.observe(notebookContainer, {childList: true});\n",
       "}}\n",
       "\n",
       "// Listen for the clearing of the current output cell\n",
       "var outputEl = gd.closest('.output');\n",
       "if (outputEl) {{\n",
       "    x.observe(outputEl, {childList: true});\n",
       "}}\n",
       "\n",
       "                        })\n",
       "                };\n",
       "                });\n",
       "            </script>\n",
       "        </div>"
      ]
     },
     "metadata": {},
     "output_type": "display_data"
    }
   ],
   "source": [
    "### ----------------------------------------------------------------------------------- ###\n",
    "### TRY YOURSELF! THIS IS WHAT WILL HAPPEN WHEN YOU CLICK 'Show Page Conflict' BUTTON   ###\n",
    "### ----------------------------------------------------------------------------------- ###\n",
    "\n",
    "## This is the page you used ##\n",
    "print('The page that is being used:', the_page['title'], f'({abbreviation(languageSelection.value).upper()})')\n",
    "\n",
    "## Continue to use our data from A.2; calculate the Conflict Score definded as above ##\n",
    "conflict_sc = total_actions.conflict.sum() / total_actions.elegibles.sum()\n",
    "print('Page conflict score is:', conflict_sc)\n",
    "\n",
    "## visualization, core visual code lies in ConflictsListener, then the interact function    ##\n",
    "## make it interactive, mode details see:                                                   ##\n",
    "## https://github.com/gesiscss/wikiwho_demo/blob/master/visualization/conflicts_listener.py ##\n",
    "\n",
    "# First check whether the page conflict score is zero\n",
    "if conflict_sc != 0:\n",
    "    # Define a ConflictsListener instance\n",
    "    conflicts_listener = ConflictsListener(total_actions)\n",
    "\n",
    "    # Set parameters\n",
    "    begin_date = total_actions['rev_time'].iloc[0]\n",
    "    end_date = total_actions['rev_time'].iloc[-1]\n",
    "    frequency = 'Daily' # 'Yearly', 'Monthly', 'Daily'\n",
    "    \n",
    "    # The metrics we need:\n",
    "    # ['Total', 'Total_surv_48h', 'Total_persistent', 'Total_stopword_count',\n",
    "    #  'Total Elegible Actions', 'Number of Conflicts', 'Number of Revisions',\n",
    "    #  'Conflict Score', 'Absolute Conflict Score', 'Conflict Ratio', ('None')]\n",
    "    # Note: only 'red_line' has 'None' option.\n",
    "    black_line = 'Conflict Score'\n",
    "    red_line = 'None'\n",
    "    \n",
    "    conflicts_listener.listen(\n",
    "        _range1 = begin_date,\n",
    "        _range2 = end_date,\n",
    "        granularity = frequency,\n",
    "        black = black_line,\n",
    "        red = red_line\n",
    "    )"
   ]
  },
  {
   "cell_type": "markdown",
   "metadata": {},
   "source": [
    "---\n",
    "\n",
    "## B.2 Editor Conflict Score"
   ]
  },
  {
   "cell_type": "markdown",
   "metadata": {},
   "source": [
    "We can also calculate the conflict score for each individual editor. The table below presents the conflict score per editor per month. Same as A.2, the *rev_time* column denotes when this revision is created. If you want to know which tokens a particular editor have conflicts about in that day (row), please click that row. Then another frame containing all conflicting tokens with other relevant metrics will be provided underneath.\n",
    "\n",
    "<details>    \n",
    "    <summary style=\"cursor: pointer;font-weight:bold\">Columns description</summary>\n",
    "\n",
    "The main table:\n",
    "- **editor_id**: the id of the editor that inserted the token (if starts with 0|, it means that the editor is not registered, and the ip is displayed instead\n",
    "- **name**: the name of an editor that performed an action (if nan, it means that for this editor id, no name is found in Edit API)\n",
    "- **conflict**: for an editor in a month, the sum of conflict scores of all actions divided by the number of elegible actions \n",
    "\n",
    "The tokens table:\n",
    "\n",
    "Given editor and year-month:\n",
    "- **token_id**: the id of the token that is being tracked\n",
    "- **string**: the string of the token that is being tracked\n",
    "- **elegibles**: the total number of elegible actions to that token \n",
    "- **conflicts**: the total number of conflicts to that token\n",
    "- **conflict**: for a token, the sum of conflict scores of all actions divided by the number of elegible actions\n",
    "- **revisions**: the total number of the revisions that involve this token\n",
    "- **in_actions**: the total number of the revisions in which the actions are \"in\"s\n",
    "- **out_actions**: the total number of the revisions in which the actions are \"out\"s\n",
    "- **main_opponent**: another editor who has the most conflict with this token, in other words, the main opponent to that token (note: the conflict also likely occurs in another month)\n",
    "\n",
    "</details>"
   ]
  },
  {
   "cell_type": "code",
   "execution_count": 16,
   "metadata": {
    "hide_input": true
   },
   "outputs": [
    {
     "data": {
      "application/vnd.jupyter.widget-view+json": {
       "model_id": "e72b1fbce1a2425e9be3678f8da277d1",
       "version_major": 2,
       "version_minor": 0
      },
      "text/plain": [
       "Button(description=\"Show Editor's Conflicts\", layout=Layout(width='160px'), style=ButtonStyle())"
      ]
     },
     "metadata": {},
     "output_type": "display_data"
    },
    {
     "data": {
      "application/vnd.jupyter.widget-view+json": {
       "model_id": "53d7c58470d1450fab0a86f7b794592b",
       "version_major": 2,
       "version_minor": 0
      },
      "text/plain": [
       "Output()"
      ]
     },
     "metadata": {},
     "output_type": "display_data"
    }
   ],
   "source": [
    "# create and display the button\n",
    "button_b2 = widgets.Button(description=\"Show Editor's Conflicts\", layout=Layout(width='160px'))\n",
    "display(button_b2)\n",
    "\n",
    "def on_click_editor_conflict(b):\n",
    "    with out_b2:\n",
    "        clear_output()\n",
    "        \n",
    "        sources = {\"conflict_manager\": con_manager, \"actions\": actions_exc_stop}\n",
    "        cel = ConflictsEditorListener(sources, editors)\n",
    "        display(md(f\"***Page: {the_page['title']} ({abbreviation(languageSelection.value).upper()})***\"))\n",
    "        cel.listen()\n",
    "        \n",
    "        \n",
    "out_b2 = Output()\n",
    "display(out_b2)\n",
    "\n",
    "# set the event\n",
    "button_b2.on_click(on_click_editor_conflict)\n",
    "\n",
    "# trigger the event with the default value\n",
    "on_click_editor_conflict(button_b2)"
   ]
  },
  {
   "cell_type": "markdown",
   "metadata": {
    "solution2": "hidden",
    "solution2_first": true
   },
   "source": [
    "<span style=\"color: #626262\"> Try yourself! This is what will happen when you click 'Show Editor's Conflicts' button: </span>"
   ]
  },
  {
   "cell_type": "code",
   "execution_count": 17,
   "metadata": {
    "solution2": "hidden"
   },
   "outputs": [
    {
     "name": "stdout",
     "output_type": "stream",
     "text": [
      "The page that is being used: Coronavirus disease 2019 (EN)\n"
     ]
    },
    {
     "data": {
      "application/vnd.jupyter.widget-view+json": {
       "model_id": "768a2ed382014710ad22a76d0393dbb3",
       "version_major": 2,
       "version_minor": 0
      },
      "text/plain": [
       "QgridWidget(grid_options={'fullWidthRows': True, 'syncColumnCellResize': True, 'forceFitColumns': True, 'defau…"
      ]
     },
     "metadata": {},
     "output_type": "display_data"
    },
    {
     "name": "stdout",
     "output_type": "stream",
     "text": [
      "Stored 'conflicts_by_editors' (DataFrame)\n"
     ]
    }
   ],
   "source": [
    "### -------------------------------------------------------------------------------------- ###\n",
    "### TRY YOURSELF! THIS IS WHAT WILL HAPPEN WHEN YOU CLICK 'Show Editor's Conflicts' BUTTON ###\n",
    "### -------------------------------------------------------------------------------------- ###\n",
    "\n",
    "## This is the page you used ##\n",
    "print('The page that is being used:', the_page['title'], f'({abbreviation(languageSelection.value).upper()})')\n",
    "\n",
    "## Continue to use our data from A.2; sum 'conflicts', 'elegibles' and 'conflict' (absolute) up by editors ##\n",
    "conflicts_by_editors = total_actions.groupby(pd.Grouper(\n",
    "                            key='editor_id')).agg({'conflicts': 'sum', 'elegibles': 'sum', 'conflict': 'sum'}).reset_index()\n",
    "\n",
    "## Convert 'conflict' (absolute) to conflict ##\n",
    "conflicts_by_editors['conflict'] = (conflicts_by_editors['conflict'] / conflicts_by_editors['elegibles'])\n",
    "\n",
    "## If there are conflicts, then display it using qgrid ##\n",
    "grabbed_names[\"editor_id\"] = grabbed_names[\"editor_id\"].astype(int)\n",
    "\n",
    "if len(conflicts_by_editors) > 0:    \n",
    "    conflicts_by_editors = grabbed_names[['editor_id', 'name']].merge(conflicts_by_editors.dropna(), \n",
    "                                                    right_index=True, on='editor_id').set_index('editor_id').dropna()\n",
    "    conflicts_by_editors_noid = conflicts_by_editors.set_index('name')[['elegibles', 'conflicts', 'conflict']]\n",
    "    qg_obj = qgrid.show_grid(conflicts_by_editors_noid)\n",
    "    display(qg_obj)\n",
    "else:\n",
    "    display(md(f'**There is no Conflict Scores**')) \n",
    "    conflicts_by_editors = None\n",
    "\n",
    "## Store the variable for the next notebook. ##\n",
    "editors_conflicts = conflicts_by_editors.copy()\n",
    "\n",
    "%store conflicts_by_editors"
   ]
  },
  {
   "cell_type": "markdown",
   "metadata": {},
   "source": [
    "---\n",
    "\n",
    "## B.3 Most frequent conflicting token strings"
   ]
  },
  {
   "cell_type": "markdown",
   "metadata": {},
   "source": [
    "The WordCloud displays the most common conflicting token strings, i.e. words (token strings) \n",
    "with the most actions that have conflict. The size of the token string in the WordCloud indicates frequency \n",
    "of actions.\n",
    "In the controls you can select the *date range*, the type of *action* (insertion or deletion), and the \n",
    "*source*.\n",
    "\n",
    "<details>    \n",
    "    <summary style=\"cursor: pointer;font-weight:bold\">Source description</summary>\n",
    "    \n",
    "-   **Only Conflicts**: use only the actions that are in conflict.\n",
    "-   **Elegible Actions**: use only the actions that can potentially enter into conflict, i.e. actions \n",
    "that have occurred at least twice, e.g. the token x has been inserted twice (which necessarily implies \n",
    "it was remove once), the token x has been deleted twice (which necessarily implies it was inserted twice) \n",
    "-   **All Actions**: use all tokens regardles conflict\n",
    "</details>"
   ]
  },
  {
   "cell_type": "code",
   "execution_count": 18,
   "metadata": {
    "hide_input": true
   },
   "outputs": [
    {
     "data": {
      "application/vnd.jupyter.widget-view+json": {
       "model_id": "d81e62e646644129a9d3874ff7b2ffbb",
       "version_major": 2,
       "version_minor": 0
      },
      "text/plain": [
       "Button(description='Show WordCloud', style=ButtonStyle())"
      ]
     },
     "metadata": {},
     "output_type": "display_data"
    },
    {
     "data": {
      "application/vnd.jupyter.widget-view+json": {
       "model_id": "eb0dec6bb0b443a5b9dd8cf606a8e7f9",
       "version_major": 2,
       "version_minor": 0
      },
      "text/plain": [
       "Output()"
      ]
     },
     "metadata": {},
     "output_type": "display_data"
    }
   ],
   "source": [
    "# create and display the button\n",
    "button2 = widgets.Button(description=\"Show WordCloud\")\n",
    "display(button2)\n",
    "\n",
    "def on_click_wc(b): \n",
    "    global all_content, revisions\n",
    "    with out11:  \n",
    "        clear_output()\n",
    "        revisions_display = revisions.copy()\n",
    "        revisions_display.loc[:, 'rev_time'] = pd.to_datetime(revisions_display['rev_time'])\n",
    "        #clear_output()\n",
    "        display(md(f\"***Page: {the_page['title']} ({abbreviation(languageSelection.value).upper()})***\"))\n",
    "                   \n",
    "        \n",
    "        # listener\n",
    "        sources = {}\n",
    "        listener = WCListener(sources={\n",
    "            \"cm_inc_stop\": con_manager_all,\n",
    "            \"cm_exc_stop\": con_manager\n",
    "        }, lng=abbreviation(languageSelection.value))\n",
    "\n",
    "        # visualization\n",
    "        datepicker_from = widgets.DatePicker(description='Date starts', value=revisions_display['rev_time'].iloc[0], layout=Layout(width='25%'))\n",
    "        datepicker_to = widgets.DatePicker(description='Date ends', value=revisions_display['rev_time'].iloc[-1], layout=Layout(width='25%'))        \n",
    "        \n",
    "        source=Dropdown(options=['All Actions', 'Elegible Actions', 'Only Conflicts'], value='Only Conflicts', description='Source (*)')\n",
    "        action=Dropdown(options=['Both', 'Just Insertions', 'Just Deletions'], value='Both', description='Action')\n",
    "        editor=fixed('All')\n",
    "        \n",
    "        stopwords = widgets.RadioButtons(options=['Not included', 'Included'], value='Not included', description='Stopwords', layout={'width': '50%'})\n",
    "\n",
    "        out = interactive_output(listener.listen, {\n",
    "                 '_range1': datepicker_from,\n",
    "                 '_range2': datepicker_to,\n",
    "                 'source': source,\n",
    "                 'action': action,\n",
    "                 'editor': editor,\n",
    "                 'stopwords': stopwords\n",
    "        })\n",
    "\n",
    "        display(VBox([datepicker_from, datepicker_to, action, source, stopwords, out]))\n",
    "\n",
    "out11 = Output()\n",
    "display(out11)\n",
    "\n",
    "# set the event\n",
    "button2.on_click(on_click_wc)\n",
    "\n",
    "# trigger the event with the default value\n",
    "on_click_wc(button2)"
   ]
  },
  {
   "cell_type": "markdown",
   "metadata": {
    "hide_input": false,
    "solution2": "hidden",
    "solution2_first": true
   },
   "source": [
    "<span style=\"color: #626262\"> Try yourself! This is what will happen when you click 'Show WordCloud' button: </span>"
   ]
  },
  {
   "cell_type": "code",
   "execution_count": 19,
   "metadata": {
    "solution2": "hidden"
   },
   "outputs": [
    {
     "data": {
      "text/markdown": [
       "**Only top 100 most frequent words displayed.**"
      ],
      "text/plain": [
       "<IPython.core.display.Markdown object>"
      ]
     },
     "metadata": {},
     "output_type": "display_data"
    },
    {
     "data": {
      "text/markdown": [
       "### The below token conflicts ocurred in a total of 1131 revisions:"
      ],
      "text/plain": [
       "<IPython.core.display.Markdown object>"
      ]
     },
     "metadata": {},
     "output_type": "display_data"
    },
    {
     "data": {
      "image/png": "[encoded data removed]",
      "text/plain": [
       "<Figure size 1008x504 with 1 Axes>"
      ]
     },
     "metadata": {
      "needs_background": "light"
     },
     "output_type": "display_data"
    },
    {
     "name": "stdout",
     "output_type": "stream",
     "text": [
      "The page that is being used: Coronavirus disease 2019 (EN)\n",
      "Time range from 2020-01-01 to 2020-05-25\n"
     ]
    }
   ],
   "source": [
    "### ------------------------------------------------------------------------------ ###\n",
    "### TRY YOURSELF! THIS IS WHAT WILL HAPPEN WHEN YOU CLICK 'Show WordCloud' BUTTON  ###\n",
    "### ------------------------------------------------------------------------------ ###\n",
    "\n",
    "## WordCloud, core visual code lies in WCListener, then the interact function               ##\n",
    "## make it interactive, mode details see:                                                   ##\n",
    "## https://github.com/gesiscss/wikiwho_demo/blob/master/visualization/wordcloud_listener.py ##\n",
    "# Create a WCListener instance, continue to use our data from B.1\"                          ##\n",
    "wclistener = WCListener(sources={\"cm_inc_stop\": con_manager_all, \"cm_exc_stop\": con_manager}, lng=abbreviation(languageSelection.value))\n",
    "\n",
    "# visualization: you could also perform it by coding!\n",
    "begin_date = date(2020, 1, 1)\n",
    "end_date = date(2020, 5, 25)\n",
    "actions_source='Only Conflicts' # 'Elegible Actions', 'All actions'\n",
    "action_type='Both' # 'Just Insertions', 'Just Deletions'\n",
    "editor='All'\n",
    "stopwords = 'Not included'  # 'Not included', 'Included'\n",
    "\n",
    "wclistener.listen(\n",
    "     _range1=begin_date,\n",
    "     _range2=end_date,\n",
    "     source=actions_source,\n",
    "     action=action_type,\n",
    "     editor=editor,\n",
    "     stopwords=stopwords\n",
    ")\n",
    "\n",
    "## This is the page you used ##,\n",
    "print('The page that is being used:', the_page['title'], f'({abbreviation(languageSelection.value).upper()})')\n",
    "print('Time range from', begin_date.strftime(\"%Y-%m-%d\"), 'to', end_date.strftime(\"%Y-%m-%d\"))"
   ]
  },
  {
   "cell_type": "markdown",
   "metadata": {},
   "source": [
    "## B.4 Conflict score of each singular action"
   ]
  },
  {
   "cell_type": "markdown",
   "metadata": {},
   "source": [
    "In the following table, all the actions that are in conflict are presented, and a conflict score\n",
    "is presented per action. The importance of the conflict can be meassure by considering the seconds t that \n",
    "have passed since the last action on the same token (string) has occured (`time_diff_secs` column). A score to \n",
    "meassure conflict is calculated based on t with the following formula: 1 / log<sub>3600</sub>(t+2). \n",
    "Thus, *undo* actions are weighted higher than the original time in seconds when the *t* is less than an hour.\n",
    "For details, please refer to [Flöck et al, 2017](https://arxiv.org/abs/1703.08244).\n",
    "\n",
    "<details>    \n",
    "    <summary style=\"cursor: pointer;font-weight:bold\">Columns description</summary>\n",
    "\n",
    "- **string**: the string of the token that is being tracked\n",
    "- **order**: numerical variable, shows the order of the conflicting actions in the revision history\n",
    "- **count**: numerical indicator of how often a given token is in the revision history\n",
    "- **token_id**: the id of the token that is being tracked\n",
    "- **rev_id**: the revision id in which the action (insertion or deletion) happen\n",
    "- **editor_name**: the name of an editor that performed an action\n",
    "- **editor_id**: the id of the editor that inserted the token (if starts with **0|**, it means that\n",
    "the editor is not registered, and the ip is displayed instead\n",
    "- **time_diff_secs**: seconds that have passed since the last action on the same token has occured\n",
    "- **conflict**: a score to meassure conflict that is calculated based on the `time_diff_secs` \n",
    "with the following formula: *1 / log<sub>3600</sub>(time_diff_secs + 2)*. For details, please refer to \n",
    "[Flöck et al, 2017](https://arxiv.org/abs/1703.08244)\n",
    "\n",
    "<mark> *Question: Should explain -1 in the rev_id column?* </mark>\n",
    "</details>"
   ]
  },
  {
   "cell_type": "code",
   "execution_count": 20,
   "metadata": {
    "hide_input": true
   },
   "outputs": [
    {
     "data": {
      "application/vnd.jupyter.widget-view+json": {
       "model_id": "2224f0c6d788497ca92c393a7a3d9464",
       "version_major": 2,
       "version_minor": 0
      },
      "text/plain": [
       "Button(description='Show Conflict Score of Each Action', layout=Layout(width='250px'), style=ButtonStyle())"
      ]
     },
     "metadata": {},
     "output_type": "display_data"
    },
    {
     "data": {
      "application/vnd.jupyter.widget-view+json": {
       "model_id": "16f405802f2f4be090864c8336bfc16e",
       "version_major": 2,
       "version_minor": 0
      },
      "text/plain": [
       "Output()"
      ]
     },
     "metadata": {},
     "output_type": "display_data"
    }
   ],
   "source": [
    "# create and display the button\n",
    "button2 = widgets.Button(description=\"Show Conflict Score of Each Action\", layout=Layout(width='250px'))\n",
    "display(button2)\n",
    "\n",
    "def on_click_actions(b):\n",
    "    global conflictaction_listener\n",
    "    with out9:\n",
    "        clear_output()\n",
    "\n",
    "        revisions_for_display = revisions.copy()\n",
    "        revisions_for_display.loc[:, 'rev_time'] = pd.to_datetime(revisions_for_display['rev_time'])\n",
    "        \n",
    "        display(md(f\"***Page: {the_page['title']} ({abbreviation(languageSelection.value).upper()})***\"))\n",
    "        datepicker_from = widgets.DatePicker(description='Date starts', value=revisions_for_display['rev_time'].iloc[0], layout=Layout(width='25%'))\n",
    "        datepicker_to = widgets.DatePicker(description='Date ends', value=revisions_for_display['rev_time'].iloc[-1], layout=Layout(width='25%'))\n",
    "        \n",
    "        conflictaction_listener = ConflictsActionListener(sources={\n",
    "            \"con_manager_all\": con_manager_all,\n",
    "            \"con_manager\": con_manager,\n",
    "            \"Editors\": editors.copy(),\n",
    "            \"Revisions\": revisions_for_display\n",
    "        },lng=abbreviation(languageSelection.value), the_page = the_page)\n",
    "        \n",
    "        stopwords = widgets.RadioButtons(options=['Not included', 'Included'], value='Not included', description='Stopwords', layout={'width': '50%'})\n",
    "        interact(conflictaction_listener.listen, stopwords = stopwords, _range1 = datepicker_from, _range2 = datepicker_to)\n",
    "\n",
    "        \n",
    "                \n",
    "out9 = Output()\n",
    "display(out9)\n",
    "\n",
    "# set the event\n",
    "button2.on_click(on_click_actions)\n",
    "\n",
    "# trigger the event with the default value\n",
    "on_click_actions(button2)"
   ]
  },
  {
   "cell_type": "markdown",
   "metadata": {
    "hide_input": false,
    "solution2": "hidden",
    "solution2_first": true
   },
   "source": [
    "<span style=\"color: #626262\"> Try yourself! This is what will happen when you click 'Show Conflict Score of Each Action' button: </span>"
   ]
  },
  {
   "cell_type": "code",
   "execution_count": 21,
   "metadata": {
    "solution2": "hidden"
   },
   "outputs": [
    {
     "name": "stdout",
     "output_type": "stream",
     "text": [
      "The page that is being used: Coronavirus disease 2019 (EN)\n"
     ]
    },
    {
     "data": {
      "application/vnd.jupyter.widget-view+json": {
       "model_id": "3bf076ff52344829a7b38ac68e96e09c",
       "version_major": 2,
       "version_minor": 0
      },
      "text/plain": [
       "QgridWidget(grid_options={'fullWidthRows': True, 'syncColumnCellResize': True, 'forceFitColumns': True, 'defau…"
      ]
     },
     "metadata": {},
     "output_type": "display_data"
    },
    {
     "name": "stdout",
     "output_type": "stream",
     "text": [
      "Stored 'conflict_calculator' (ConflictManager)\n"
     ]
    }
   ],
   "source": [
    "### --------------------------------------------------------------------------------------------------- ###\n",
    "### TRY YOURSELF! THIS IS WHAT WILL HAPPEN WHEN YOU CLICK 'Show Conflict Score of Each Action' BUTTON   ###\n",
    "### --------------------------------------------------------------------------------------------------- ###\n",
    "\n",
    "include_stopwords = False  # \"True\", \"False\"\n",
    "if include_stopwords:   \n",
    "    conflict_calculator = cm_inc\n",
    "else:\n",
    "    conflict_calculator = cm_noinc\n",
    "\n",
    "\n",
    "#merging together 2 dataframes on editor_id\n",
    "conf_actions = conflict_calculator.conflicts.copy()\n",
    "editor_names = grabbed_names.copy()\n",
    "\n",
    "conf_actions = conf_actions.rename(columns={\"editor\":'editor_id'})\n",
    "editor_names['editor_id'] = editor_names['editor_id'].astype(str)\n",
    "conf_actions['editor_id'] = conf_actions['editor_id'].astype(str)\n",
    "conflicts_merged = editor_names[['editor_id', 'name']].merge(conf_actions, right_index=True, on='editor_id', how='outer')\n",
    "\n",
    "## This is the page you used ##\n",
    "print('The page that is being used:', the_page['title'], f'({abbreviation(languageSelection.value).upper()})')\n",
    "\n",
    "## Display the tokens, the difference in seconds and its corresponding conflict score                 ##\n",
    "## Pandas.Series.dt: https://pandas.pydata.org/pandas-docs/stable/reference/api/pandas.Series.dt.html ##\n",
    "token_conflicts = conflicts_merged[conflicts_merged['token'].notnull()].copy()\n",
    "token_conflicts['time_diff_secs'] = token_conflicts['time_diff'].dt.total_seconds()\n",
    "\n",
    "## Display using qgrid ##\n",
    "if len(token_conflicts) > 0:\n",
    "    tokens_grid_show = token_conflicts[[\n",
    "        'action', 'token', 'token_id', 'rev_id', \n",
    "        'editor_id', 'name', 'time_diff_secs', 'conflict']].rename(columns={\n",
    "        'name': 'editor_name'}).sort_values('conflict', ascending=False)\n",
    "    tokens_grid_show['token_id'] = tokens_grid_show['token_id'].astype(str)\n",
    "    tokens_grid_show['rev_id'] = tokens_grid_show['rev_id'].astype(str)\n",
    "    tokens_grid_show.set_index('token_id', inplace=True)\n",
    "    display(qgrid.show_grid(tokens_grid_show))\n",
    "else:\n",
    "    display(md(f'**There are no conflicting tokens in this page.**'))\n",
    "    display(HTML(f'<a href=\"{get_previous_notebook()}\" target=\"_blank\">Go back to the previous workbook</a>'))\n",
    "    \n",
    "# Store the variable for the next notebook.\n",
    "%store conflict_calculator"
   ]
  },
  {
   "cell_type": "markdown",
   "metadata": {},
   "source": [
    "---\n",
    "# C. Talk\n",
    "\n",
    "## C.1 How are revisions in talk section spread over time?\n",
    "\n",
    "The Talk page activity represents the number of revisions on the Talk page of the Wikipedia article extracted by WikiWho API. \n",
    "\n",
    "In the controls you can select the *date range* and the *granularity*"
   ]
  },
  {
   "cell_type": "code",
   "execution_count": 22,
   "metadata": {
    "hide_input": true
   },
   "outputs": [
    {
     "data": {
      "application/vnd.jupyter.widget-view+json": {
       "model_id": "a526f8e49ec049bab7d2feea2e54bbcf",
       "version_major": 2,
       "version_minor": 0
      },
      "text/plain": [
       "Button(description='Load Talks', layout=Layout(width='160px'), style=ButtonStyle())"
      ]
     },
     "metadata": {},
     "output_type": "display_data"
    },
    {
     "data": {
      "application/vnd.jupyter.widget-view+json": {
       "model_id": "6bfa45f418c04ee19ac2e689d953637c",
       "version_major": 2,
       "version_minor": 0
      },
      "text/plain": [
       "Output()"
      ]
     },
     "metadata": {},
     "output_type": "display_data"
    }
   ],
   "source": [
    "button_t = widgets.Button(description=\"Load Talks\", layout=Layout(width='160px'))\n",
    "display(button_t)\n",
    "\n",
    "def on_click_details(b):\n",
    "    global talk_content \n",
    "    with out_t:\n",
    "        clear_output()\n",
    "        display(md(f\"***Page: {the_page['title']} ({abbreviation(languageSelection.value).upper()})***\"))\n",
    "\n",
    "        #Initiate a Wikipedia instance\n",
    "        wikipediadv_instance = WikipediaDV(WikipediaAPI(lng=abbreviation(languageSelection.value)))\n",
    "        \n",
    "        #Get content of revisions on talk page\n",
    "        talk_content = wikipediadv_instance.get_talk_content(the_talk_page[\"page_id\"])\n",
    "        \n",
    "        #convert to datetime format\n",
    "        talk_content['year_month'] = pd.to_datetime(talk_content['timestamp'])\n",
    "\n",
    "        \n",
    "        # Define a TalksListener instance\n",
    "        talks_listener = TalksListener(talk_content)\n",
    "\n",
    "        # Visualization\n",
    "        datepicker_from = widgets.DatePicker(description='Date starts', value=talk_content['year_month'].iloc[-1], layout=Layout(width='25%'))\n",
    "        datepicker_to = widgets.DatePicker(description='Date ends', value=talk_content['year_month'].iloc[0], layout=Layout(width='25%'))\n",
    "\n",
    "        interact(talks_listener.listen,\n",
    "            begin = datepicker_from,\n",
    "            end = datepicker_to,\n",
    "            granularity = Dropdown(options=['Monthly', 'Yearly', 'Daily'], value='Monthly')\n",
    "        )\n",
    "\n",
    "out_t = Output()\n",
    "display(out_t)\n",
    "\n",
    "# set the event\n",
    "button_t.on_click(on_click_details)\n",
    "\n",
    "# trigger the event with the default value\n",
    "on_click_details(button_t)"
   ]
  },
  {
   "cell_type": "markdown",
   "metadata": {
    "solution2": "hidden",
    "solution2_first": true
   },
   "source": [
    "<span style=\"color: #626262\"> Try yourself! This is what will happen when you click 'Load Talks' button: </span>"
   ]
  },
  {
   "cell_type": "code",
   "execution_count": 23,
   "metadata": {
    "solution2": "hidden"
   },
   "outputs": [
    {
     "name": "stdout",
     "output_type": "stream",
     "text": [
      "The page that is being used: Talk:Coronavirus disease 2019\n",
      "Time range from 2005-03-01 to 2015-07-04\n"
     ]
    },
    {
     "data": {
      "text/html": [
       "        <script type=\"text/javascript\">\n",
       "        window.PlotlyConfig = {MathJaxConfig: 'local'};\n",
       "        if (window.MathJax) {MathJax.Hub.Config({SVG: {font: \"STIX-Web\"}});}\n",
       "        if (typeof require !== 'undefined') {\n",
       "        require.undef(\"plotly\");\n",
       "        requirejs.config({\n",
       "            paths: {\n",
       "                'plotly': ['https://cdn.plot.ly/plotly-latest.min']\n",
       "            }\n",
       "        });\n",
       "        require(['plotly'], function(Plotly) {\n",
       "            window._Plotly = Plotly;\n",
       "        });\n",
       "        }\n",
       "        </script>\n",
       "        "
      ]
     },
     "metadata": {},
     "output_type": "display_data"
    },
    {
     "data": {
      "application/vnd.plotly.v1+json": {
       "config": {
        "linkText": "Export to plot.ly",
        "plotlyServerURL": "https://plot.ly",
        "showLink": false
       },
       "data": [
        {
         "hovertemplate": "%{x}<extra>%{y}</extra>",
         "marker": {
          "color": "rgba(0, 0, 0, 1)"
         },
         "type": "scatter",
         "x": [],
         "y": []
        }
       ],
       "layout": {
        "barmode": "group",
        "hovermode": "closest",
        "legend": {
         "x": 0.5,
         "y": 1.2
        },
        "showlegend": false,
        "template": {
         "data": {
          "bar": [
           {
            "error_x": {
             "color": "#2a3f5f"
            },
            "error_y": {
             "color": "#2a3f5f"
            },
            "marker": {
             "line": {
              "color": "#E5ECF6",
              "width": 0.5
             }
            },
            "type": "bar"
           }
          ],
          "barpolar": [
           {
            "marker": {
             "line": {
              "color": "#E5ECF6",
              "width": 0.5
             }
            },
            "type": "barpolar"
           }
          ],
          "carpet": [
           {
            "aaxis": {
             "endlinecolor": "#2a3f5f",
             "gridcolor": "white",
             "linecolor": "white",
             "minorgridcolor": "white",
             "startlinecolor": "#2a3f5f"
            },
            "baxis": {
             "endlinecolor": "#2a3f5f",
             "gridcolor": "white",
             "linecolor": "white",
             "minorgridcolor": "white",
             "startlinecolor": "#2a3f5f"
            },
            "type": "carpet"
           }
          ],
          "choropleth": [
           {
            "colorbar": {
             "outlinewidth": 0,
             "ticks": ""
            },
            "type": "choropleth"
           }
          ],
          "contour": [
           {
            "colorbar": {
             "outlinewidth": 0,
             "ticks": ""
            },
            "colorscale": [
             [
              0,
              "#0d0887"
             ],
             [
              0.1111111111111111,
              "#46039f"
             ],
             [
              0.2222222222222222,
              "#7201a8"
             ],
             [
              0.3333333333333333,
              "#9c179e"
             ],
             [
              0.4444444444444444,
              "#bd3786"
             ],
             [
              0.5555555555555556,
              "#d8576b"
             ],
             [
              0.6666666666666666,
              "#ed7953"
             ],
             [
              0.7777777777777778,
              "#fb9f3a"
             ],
             [
              0.8888888888888888,
              "#fdca26"
             ],
             [
              1,
              "#f0f921"
             ]
            ],
            "type": "contour"
           }
          ],
          "contourcarpet": [
           {
            "colorbar": {
             "outlinewidth": 0,
             "ticks": ""
            },
            "type": "contourcarpet"
           }
          ],
          "heatmap": [
           {
            "colorbar": {
             "outlinewidth": 0,
             "ticks": ""
            },
            "colorscale": [
             [
              0,
              "#0d0887"
             ],
             [
              0.1111111111111111,
              "#46039f"
             ],
             [
              0.2222222222222222,
              "#7201a8"
             ],
             [
              0.3333333333333333,
              "#9c179e"
             ],
             [
              0.4444444444444444,
              "#bd3786"
             ],
             [
              0.5555555555555556,
              "#d8576b"
             ],
             [
              0.6666666666666666,
              "#ed7953"
             ],
             [
              0.7777777777777778,
              "#fb9f3a"
             ],
             [
              0.8888888888888888,
              "#fdca26"
             ],
             [
              1,
              "#f0f921"
             ]
            ],
            "type": "heatmap"
           }
          ],
          "heatmapgl": [
           {
            "colorbar": {
             "outlinewidth": 0,
             "ticks": ""
            },
            "colorscale": [
             [
              0,
              "#0d0887"
             ],
             [
              0.1111111111111111,
              "#46039f"
             ],
             [
              0.2222222222222222,
              "#7201a8"
             ],
             [
              0.3333333333333333,
              "#9c179e"
             ],
             [
              0.4444444444444444,
              "#bd3786"
             ],
             [
              0.5555555555555556,
              "#d8576b"
             ],
             [
              0.6666666666666666,
              "#ed7953"
             ],
             [
              0.7777777777777778,
              "#fb9f3a"
             ],
             [
              0.8888888888888888,
              "#fdca26"
             ],
             [
              1,
              "#f0f921"
             ]
            ],
            "type": "heatmapgl"
           }
          ],
          "histogram": [
           {
            "marker": {
             "colorbar": {
              "outlinewidth": 0,
              "ticks": ""
             }
            },
            "type": "histogram"
           }
          ],
          "histogram2d": [
           {
            "colorbar": {
             "outlinewidth": 0,
             "ticks": ""
            },
            "colorscale": [
             [
              0,
              "#0d0887"
             ],
             [
              0.1111111111111111,
              "#46039f"
             ],
             [
              0.2222222222222222,
              "#7201a8"
             ],
             [
              0.3333333333333333,
              "#9c179e"
             ],
             [
              0.4444444444444444,
              "#bd3786"
             ],
             [
              0.5555555555555556,
              "#d8576b"
             ],
             [
              0.6666666666666666,
              "#ed7953"
             ],
             [
              0.7777777777777778,
              "#fb9f3a"
             ],
             [
              0.8888888888888888,
              "#fdca26"
             ],
             [
              1,
              "#f0f921"
             ]
            ],
            "type": "histogram2d"
           }
          ],
          "histogram2dcontour": [
           {
            "colorbar": {
             "outlinewidth": 0,
             "ticks": ""
            },
            "colorscale": [
             [
              0,
              "#0d0887"
             ],
             [
              0.1111111111111111,
              "#46039f"
             ],
             [
              0.2222222222222222,
              "#7201a8"
             ],
             [
              0.3333333333333333,
              "#9c179e"
             ],
             [
              0.4444444444444444,
              "#bd3786"
             ],
             [
              0.5555555555555556,
              "#d8576b"
             ],
             [
              0.6666666666666666,
              "#ed7953"
             ],
             [
              0.7777777777777778,
              "#fb9f3a"
             ],
             [
              0.8888888888888888,
              "#fdca26"
             ],
             [
              1,
              "#f0f921"
             ]
            ],
            "type": "histogram2dcontour"
           }
          ],
          "mesh3d": [
           {
            "colorbar": {
             "outlinewidth": 0,
             "ticks": ""
            },
            "type": "mesh3d"
           }
          ],
          "parcoords": [
           {
            "line": {
             "colorbar": {
              "outlinewidth": 0,
              "ticks": ""
             }
            },
            "type": "parcoords"
           }
          ],
          "pie": [
           {
            "automargin": true,
            "type": "pie"
           }
          ],
          "scatter": [
           {
            "marker": {
             "colorbar": {
              "outlinewidth": 0,
              "ticks": ""
             }
            },
            "type": "scatter"
           }
          ],
          "scatter3d": [
           {
            "line": {
             "colorbar": {
              "outlinewidth": 0,
              "ticks": ""
             }
            },
            "marker": {
             "colorbar": {
              "outlinewidth": 0,
              "ticks": ""
             }
            },
            "type": "scatter3d"
           }
          ],
          "scattercarpet": [
           {
            "marker": {
             "colorbar": {
              "outlinewidth": 0,
              "ticks": ""
             }
            },
            "type": "scattercarpet"
           }
          ],
          "scattergeo": [
           {
            "marker": {
             "colorbar": {
              "outlinewidth": 0,
              "ticks": ""
             }
            },
            "type": "scattergeo"
           }
          ],
          "scattergl": [
           {
            "marker": {
             "colorbar": {
              "outlinewidth": 0,
              "ticks": ""
             }
            },
            "type": "scattergl"
           }
          ],
          "scattermapbox": [
           {
            "marker": {
             "colorbar": {
              "outlinewidth": 0,
              "ticks": ""
             }
            },
            "type": "scattermapbox"
           }
          ],
          "scatterpolar": [
           {
            "marker": {
             "colorbar": {
              "outlinewidth": 0,
              "ticks": ""
             }
            },
            "type": "scatterpolar"
           }
          ],
          "scatterpolargl": [
           {
            "marker": {
             "colorbar": {
              "outlinewidth": 0,
              "ticks": ""
             }
            },
            "type": "scatterpolargl"
           }
          ],
          "scatterternary": [
           {
            "marker": {
             "colorbar": {
              "outlinewidth": 0,
              "ticks": ""
             }
            },
            "type": "scatterternary"
           }
          ],
          "surface": [
           {
            "colorbar": {
             "outlinewidth": 0,
             "ticks": ""
            },
            "colorscale": [
             [
              0,
              "#0d0887"
             ],
             [
              0.1111111111111111,
              "#46039f"
             ],
             [
              0.2222222222222222,
              "#7201a8"
             ],
             [
              0.3333333333333333,
              "#9c179e"
             ],
             [
              0.4444444444444444,
              "#bd3786"
             ],
             [
              0.5555555555555556,
              "#d8576b"
             ],
             [
              0.6666666666666666,
              "#ed7953"
             ],
             [
              0.7777777777777778,
              "#fb9f3a"
             ],
             [
              0.8888888888888888,
              "#fdca26"
             ],
             [
              1,
              "#f0f921"
             ]
            ],
            "type": "surface"
           }
          ],
          "table": [
           {
            "cells": {
             "fill": {
              "color": "#EBF0F8"
             },
             "line": {
              "color": "white"
             }
            },
            "header": {
             "fill": {
              "color": "#C8D4E3"
             },
             "line": {
              "color": "white"
             }
            },
            "type": "table"
           }
          ]
         },
         "layout": {
          "annotationdefaults": {
           "arrowcolor": "#2a3f5f",
           "arrowhead": 0,
           "arrowwidth": 1
          },
          "coloraxis": {
           "colorbar": {
            "outlinewidth": 0,
            "ticks": ""
           }
          },
          "colorscale": {
           "diverging": [
            [
             0,
             "#8e0152"
            ],
            [
             0.1,
             "#c51b7d"
            ],
            [
             0.2,
             "#de77ae"
            ],
            [
             0.3,
             "#f1b6da"
            ],
            [
             0.4,
             "#fde0ef"
            ],
            [
             0.5,
             "#f7f7f7"
            ],
            [
             0.6,
             "#e6f5d0"
            ],
            [
             0.7,
             "#b8e186"
            ],
            [
             0.8,
             "#7fbc41"
            ],
            [
             0.9,
             "#4d9221"
            ],
            [
             1,
             "#276419"
            ]
           ],
           "sequential": [
            [
             0,
             "#0d0887"
            ],
            [
             0.1111111111111111,
             "#46039f"
            ],
            [
             0.2222222222222222,
             "#7201a8"
            ],
            [
             0.3333333333333333,
             "#9c179e"
            ],
            [
             0.4444444444444444,
             "#bd3786"
            ],
            [
             0.5555555555555556,
             "#d8576b"
            ],
            [
             0.6666666666666666,
             "#ed7953"
            ],
            [
             0.7777777777777778,
             "#fb9f3a"
            ],
            [
             0.8888888888888888,
             "#fdca26"
            ],
            [
             1,
             "#f0f921"
            ]
           ],
           "sequentialminus": [
            [
             0,
             "#0d0887"
            ],
            [
             0.1111111111111111,
             "#46039f"
            ],
            [
             0.2222222222222222,
             "#7201a8"
            ],
            [
             0.3333333333333333,
             "#9c179e"
            ],
            [
             0.4444444444444444,
             "#bd3786"
            ],
            [
             0.5555555555555556,
             "#d8576b"
            ],
            [
             0.6666666666666666,
             "#ed7953"
            ],
            [
             0.7777777777777778,
             "#fb9f3a"
            ],
            [
             0.8888888888888888,
             "#fdca26"
            ],
            [
             1,
             "#f0f921"
            ]
           ]
          },
          "colorway": [
           "#636efa",
           "#EF553B",
           "#00cc96",
           "#ab63fa",
           "#FFA15A",
           "#19d3f3",
           "#FF6692",
           "#B6E880",
           "#FF97FF",
           "#FECB52"
          ],
          "font": {
           "color": "#2a3f5f"
          },
          "geo": {
           "bgcolor": "white",
           "lakecolor": "white",
           "landcolor": "#E5ECF6",
           "showlakes": true,
           "showland": true,
           "subunitcolor": "white"
          },
          "hoverlabel": {
           "align": "left"
          },
          "hovermode": "closest",
          "mapbox": {
           "style": "light"
          },
          "paper_bgcolor": "white",
          "plot_bgcolor": "#E5ECF6",
          "polar": {
           "angularaxis": {
            "gridcolor": "white",
            "linecolor": "white",
            "ticks": ""
           },
           "bgcolor": "#E5ECF6",
           "radialaxis": {
            "gridcolor": "white",
            "linecolor": "white",
            "ticks": ""
           }
          },
          "scene": {
           "xaxis": {
            "backgroundcolor": "#E5ECF6",
            "gridcolor": "white",
            "gridwidth": 2,
            "linecolor": "white",
            "showbackground": true,
            "ticks": "",
            "zerolinecolor": "white"
           },
           "yaxis": {
            "backgroundcolor": "#E5ECF6",
            "gridcolor": "white",
            "gridwidth": 2,
            "linecolor": "white",
            "showbackground": true,
            "ticks": "",
            "zerolinecolor": "white"
           },
           "zaxis": {
            "backgroundcolor": "#E5ECF6",
            "gridcolor": "white",
            "gridwidth": 2,
            "linecolor": "white",
            "showbackground": true,
            "ticks": "",
            "zerolinecolor": "white"
           }
          },
          "shapedefaults": {
           "line": {
            "color": "#2a3f5f"
           }
          },
          "ternary": {
           "aaxis": {
            "gridcolor": "white",
            "linecolor": "white",
            "ticks": ""
           },
           "baxis": {
            "gridcolor": "white",
            "linecolor": "white",
            "ticks": ""
           },
           "bgcolor": "#E5ECF6",
           "caxis": {
            "gridcolor": "white",
            "linecolor": "white",
            "ticks": ""
           }
          },
          "title": {
           "x": 0.05
          },
          "xaxis": {
           "automargin": true,
           "gridcolor": "white",
           "linecolor": "white",
           "ticks": "",
           "title": {
            "standoff": 15
           },
           "zerolinecolor": "white",
           "zerolinewidth": 2
          },
          "yaxis": {
           "automargin": true,
           "gridcolor": "white",
           "linecolor": "white",
           "ticks": "",
           "title": {
            "standoff": 15
           },
           "zerolinecolor": "white",
           "zerolinewidth": 2
          }
         }
        },
        "xaxis": {
         "gridwidth": 2,
         "tickformat": "%b %Y",
         "ticklen": 5,
         "title": {
          "text": "Monthly"
         },
         "zeroline": true
        },
        "yaxis": {
         "gridwidth": 2,
         "ticklen": 5,
         "title": {
          "text": "Comments"
         }
        }
       }
      },
      "text/html": [
       "<div>\n",
       "        \n",
       "        \n",
       "            <div id=\"bc33516c-77e8-4878-9abb-7bcc90cdb52a\" class=\"plotly-graph-div\" style=\"height:525px; width:100%;\"></div>\n",
       "            <script type=\"text/javascript\">\n",
       "                require([\"plotly\"], function(Plotly) {\n",
       "                    window.PLOTLYENV=window.PLOTLYENV || {};\n",
       "                    \n",
       "                if (document.getElementById(\"bc33516c-77e8-4878-9abb-7bcc90cdb52a\")) {\n",
       "                    Plotly.newPlot(\n",
       "                        'bc33516c-77e8-4878-9abb-7bcc90cdb52a',\n",
       "                        [{\"hovertemplate\": \"%{x}<extra>%{y}</extra>\", \"marker\": {\"color\": \"rgba(0, 0, 0, 1)\"}, \"type\": \"scatter\", \"x\": [], \"y\": []}],\n",
       "                        {\"barmode\": \"group\", \"hovermode\": \"closest\", \"legend\": {\"x\": 0.5, \"y\": 1.2}, \"showlegend\": false, \"template\": {\"data\": {\"bar\": [{\"error_x\": {\"color\": \"#2a3f5f\"}, \"error_y\": {\"color\": \"#2a3f5f\"}, \"marker\": {\"line\": {\"color\": \"#E5ECF6\", \"width\": 0.5}}, \"type\": \"bar\"}], \"barpolar\": [{\"marker\": {\"line\": {\"color\": \"#E5ECF6\", \"width\": 0.5}}, \"type\": \"barpolar\"}], \"carpet\": [{\"aaxis\": {\"endlinecolor\": \"#2a3f5f\", \"gridcolor\": \"white\", \"linecolor\": \"white\", \"minorgridcolor\": \"white\", \"startlinecolor\": \"#2a3f5f\"}, \"baxis\": {\"endlinecolor\": \"#2a3f5f\", \"gridcolor\": \"white\", \"linecolor\": \"white\", \"minorgridcolor\": \"white\", \"startlinecolor\": \"#2a3f5f\"}, \"type\": \"carpet\"}], \"choropleth\": [{\"colorbar\": {\"outlinewidth\": 0, \"ticks\": \"\"}, \"type\": \"choropleth\"}], \"contour\": [{\"colorbar\": {\"outlinewidth\": 0, \"ticks\": \"\"}, \"colorscale\": [[0.0, \"#0d0887\"], [0.1111111111111111, \"#46039f\"], [0.2222222222222222, \"#7201a8\"], [0.3333333333333333, \"#9c179e\"], [0.4444444444444444, \"#bd3786\"], [0.5555555555555556, \"#d8576b\"], [0.6666666666666666, \"#ed7953\"], [0.7777777777777778, \"#fb9f3a\"], [0.8888888888888888, \"#fdca26\"], [1.0, \"#f0f921\"]], \"type\": \"contour\"}], \"contourcarpet\": [{\"colorbar\": {\"outlinewidth\": 0, \"ticks\": \"\"}, \"type\": \"contourcarpet\"}], \"heatmap\": [{\"colorbar\": {\"outlinewidth\": 0, \"ticks\": \"\"}, \"colorscale\": [[0.0, \"#0d0887\"], [0.1111111111111111, \"#46039f\"], [0.2222222222222222, \"#7201a8\"], [0.3333333333333333, \"#9c179e\"], [0.4444444444444444, \"#bd3786\"], [0.5555555555555556, \"#d8576b\"], [0.6666666666666666, \"#ed7953\"], [0.7777777777777778, \"#fb9f3a\"], [0.8888888888888888, \"#fdca26\"], [1.0, \"#f0f921\"]], \"type\": \"heatmap\"}], \"heatmapgl\": [{\"colorbar\": {\"outlinewidth\": 0, \"ticks\": \"\"}, \"colorscale\": [[0.0, \"#0d0887\"], [0.1111111111111111, \"#46039f\"], [0.2222222222222222, \"#7201a8\"], [0.3333333333333333, \"#9c179e\"], [0.4444444444444444, \"#bd3786\"], [0.5555555555555556, \"#d8576b\"], [0.6666666666666666, \"#ed7953\"], [0.7777777777777778, \"#fb9f3a\"], [0.8888888888888888, \"#fdca26\"], [1.0, \"#f0f921\"]], \"type\": \"heatmapgl\"}], \"histogram\": [{\"marker\": {\"colorbar\": {\"outlinewidth\": 0, \"ticks\": \"\"}}, \"type\": \"histogram\"}], \"histogram2d\": [{\"colorbar\": {\"outlinewidth\": 0, \"ticks\": \"\"}, \"colorscale\": [[0.0, \"#0d0887\"], [0.1111111111111111, \"#46039f\"], [0.2222222222222222, \"#7201a8\"], [0.3333333333333333, \"#9c179e\"], [0.4444444444444444, \"#bd3786\"], [0.5555555555555556, \"#d8576b\"], [0.6666666666666666, \"#ed7953\"], [0.7777777777777778, \"#fb9f3a\"], [0.8888888888888888, \"#fdca26\"], [1.0, \"#f0f921\"]], \"type\": \"histogram2d\"}], \"histogram2dcontour\": [{\"colorbar\": {\"outlinewidth\": 0, \"ticks\": \"\"}, \"colorscale\": [[0.0, \"#0d0887\"], [0.1111111111111111, \"#46039f\"], [0.2222222222222222, \"#7201a8\"], [0.3333333333333333, \"#9c179e\"], [0.4444444444444444, \"#bd3786\"], [0.5555555555555556, \"#d8576b\"], [0.6666666666666666, \"#ed7953\"], [0.7777777777777778, \"#fb9f3a\"], [0.8888888888888888, \"#fdca26\"], [1.0, \"#f0f921\"]], \"type\": \"histogram2dcontour\"}], \"mesh3d\": [{\"colorbar\": {\"outlinewidth\": 0, \"ticks\": \"\"}, \"type\": \"mesh3d\"}], \"parcoords\": [{\"line\": {\"colorbar\": {\"outlinewidth\": 0, \"ticks\": \"\"}}, \"type\": \"parcoords\"}], \"pie\": [{\"automargin\": true, \"type\": \"pie\"}], \"scatter\": [{\"marker\": {\"colorbar\": {\"outlinewidth\": 0, \"ticks\": \"\"}}, \"type\": \"scatter\"}], \"scatter3d\": [{\"line\": {\"colorbar\": {\"outlinewidth\": 0, \"ticks\": \"\"}}, \"marker\": {\"colorbar\": {\"outlinewidth\": 0, \"ticks\": \"\"}}, \"type\": \"scatter3d\"}], \"scattercarpet\": [{\"marker\": {\"colorbar\": {\"outlinewidth\": 0, \"ticks\": \"\"}}, \"type\": \"scattercarpet\"}], \"scattergeo\": [{\"marker\": {\"colorbar\": {\"outlinewidth\": 0, \"ticks\": \"\"}}, \"type\": \"scattergeo\"}], \"scattergl\": [{\"marker\": {\"colorbar\": {\"outlinewidth\": 0, \"ticks\": \"\"}}, \"type\": \"scattergl\"}], \"scattermapbox\": [{\"marker\": {\"colorbar\": {\"outlinewidth\": 0, \"ticks\": \"\"}}, \"type\": \"scattermapbox\"}], \"scatterpolar\": [{\"marker\": {\"colorbar\": {\"outlinewidth\": 0, \"ticks\": \"\"}}, \"type\": \"scatterpolar\"}], \"scatterpolargl\": [{\"marker\": {\"colorbar\": {\"outlinewidth\": 0, \"ticks\": \"\"}}, \"type\": \"scatterpolargl\"}], \"scatterternary\": [{\"marker\": {\"colorbar\": {\"outlinewidth\": 0, \"ticks\": \"\"}}, \"type\": \"scatterternary\"}], \"surface\": [{\"colorbar\": {\"outlinewidth\": 0, \"ticks\": \"\"}, \"colorscale\": [[0.0, \"#0d0887\"], [0.1111111111111111, \"#46039f\"], [0.2222222222222222, \"#7201a8\"], [0.3333333333333333, \"#9c179e\"], [0.4444444444444444, \"#bd3786\"], [0.5555555555555556, \"#d8576b\"], [0.6666666666666666, \"#ed7953\"], [0.7777777777777778, \"#fb9f3a\"], [0.8888888888888888, \"#fdca26\"], [1.0, \"#f0f921\"]], \"type\": \"surface\"}], \"table\": [{\"cells\": {\"fill\": {\"color\": \"#EBF0F8\"}, \"line\": {\"color\": \"white\"}}, \"header\": {\"fill\": {\"color\": \"#C8D4E3\"}, \"line\": {\"color\": \"white\"}}, \"type\": \"table\"}]}, \"layout\": {\"annotationdefaults\": {\"arrowcolor\": \"#2a3f5f\", \"arrowhead\": 0, \"arrowwidth\": 1}, \"coloraxis\": {\"colorbar\": {\"outlinewidth\": 0, \"ticks\": \"\"}}, \"colorscale\": {\"diverging\": [[0, \"#8e0152\"], [0.1, \"#c51b7d\"], [0.2, \"#de77ae\"], [0.3, \"#f1b6da\"], [0.4, \"#fde0ef\"], [0.5, \"#f7f7f7\"], [0.6, \"#e6f5d0\"], [0.7, \"#b8e186\"], [0.8, \"#7fbc41\"], [0.9, \"#4d9221\"], [1, \"#276419\"]], \"sequential\": [[0.0, \"#0d0887\"], [0.1111111111111111, \"#46039f\"], [0.2222222222222222, \"#7201a8\"], [0.3333333333333333, \"#9c179e\"], [0.4444444444444444, \"#bd3786\"], [0.5555555555555556, \"#d8576b\"], [0.6666666666666666, \"#ed7953\"], [0.7777777777777778, \"#fb9f3a\"], [0.8888888888888888, \"#fdca26\"], [1.0, \"#f0f921\"]], \"sequentialminus\": [[0.0, \"#0d0887\"], [0.1111111111111111, \"#46039f\"], [0.2222222222222222, \"#7201a8\"], [0.3333333333333333, \"#9c179e\"], [0.4444444444444444, \"#bd3786\"], [0.5555555555555556, \"#d8576b\"], [0.6666666666666666, \"#ed7953\"], [0.7777777777777778, \"#fb9f3a\"], [0.8888888888888888, \"#fdca26\"], [1.0, \"#f0f921\"]]}, \"colorway\": [\"#636efa\", \"#EF553B\", \"#00cc96\", \"#ab63fa\", \"#FFA15A\", \"#19d3f3\", \"#FF6692\", \"#B6E880\", \"#FF97FF\", \"#FECB52\"], \"font\": {\"color\": \"#2a3f5f\"}, \"geo\": {\"bgcolor\": \"white\", \"lakecolor\": \"white\", \"landcolor\": \"#E5ECF6\", \"showlakes\": true, \"showland\": true, \"subunitcolor\": \"white\"}, \"hoverlabel\": {\"align\": \"left\"}, \"hovermode\": \"closest\", \"mapbox\": {\"style\": \"light\"}, \"paper_bgcolor\": \"white\", \"plot_bgcolor\": \"#E5ECF6\", \"polar\": {\"angularaxis\": {\"gridcolor\": \"white\", \"linecolor\": \"white\", \"ticks\": \"\"}, \"bgcolor\": \"#E5ECF6\", \"radialaxis\": {\"gridcolor\": \"white\", \"linecolor\": \"white\", \"ticks\": \"\"}}, \"scene\": {\"xaxis\": {\"backgroundcolor\": \"#E5ECF6\", \"gridcolor\": \"white\", \"gridwidth\": 2, \"linecolor\": \"white\", \"showbackground\": true, \"ticks\": \"\", \"zerolinecolor\": \"white\"}, \"yaxis\": {\"backgroundcolor\": \"#E5ECF6\", \"gridcolor\": \"white\", \"gridwidth\": 2, \"linecolor\": \"white\", \"showbackground\": true, \"ticks\": \"\", \"zerolinecolor\": \"white\"}, \"zaxis\": {\"backgroundcolor\": \"#E5ECF6\", \"gridcolor\": \"white\", \"gridwidth\": 2, \"linecolor\": \"white\", \"showbackground\": true, \"ticks\": \"\", \"zerolinecolor\": \"white\"}}, \"shapedefaults\": {\"line\": {\"color\": \"#2a3f5f\"}}, \"ternary\": {\"aaxis\": {\"gridcolor\": \"white\", \"linecolor\": \"white\", \"ticks\": \"\"}, \"baxis\": {\"gridcolor\": \"white\", \"linecolor\": \"white\", \"ticks\": \"\"}, \"bgcolor\": \"#E5ECF6\", \"caxis\": {\"gridcolor\": \"white\", \"linecolor\": \"white\", \"ticks\": \"\"}}, \"title\": {\"x\": 0.05}, \"xaxis\": {\"automargin\": true, \"gridcolor\": \"white\", \"linecolor\": \"white\", \"ticks\": \"\", \"title\": {\"standoff\": 15}, \"zerolinecolor\": \"white\", \"zerolinewidth\": 2}, \"yaxis\": {\"automargin\": true, \"gridcolor\": \"white\", \"linecolor\": \"white\", \"ticks\": \"\", \"title\": {\"standoff\": 15}, \"zerolinecolor\": \"white\", \"zerolinewidth\": 2}}}, \"xaxis\": {\"gridwidth\": 2, \"tickformat\": \"%b %Y\", \"ticklen\": 5, \"title\": {\"text\": \"Monthly\"}, \"zeroline\": true}, \"yaxis\": {\"gridwidth\": 2, \"ticklen\": 5, \"title\": {\"text\": \"Comments\"}}},\n",
       "                        {\"responsive\": true}\n",
       "                    ).then(function(){\n",
       "                            \n",
       "var gd = document.getElementById('bc33516c-77e8-4878-9abb-7bcc90cdb52a');\n",
       "var x = new MutationObserver(function (mutations, observer) {{\n",
       "        var display = window.getComputedStyle(gd).display;\n",
       "        if (!display || display === 'none') {{\n",
       "            console.log([gd, 'removed!']);\n",
       "            Plotly.purge(gd);\n",
       "            observer.disconnect();\n",
       "        }}\n",
       "}});\n",
       "\n",
       "// Listen for the removal of the full notebook cells\n",
       "var notebookContainer = gd.closest('#notebook-container');\n",
       "if (notebookContainer) {{\n",
       "    x.observe(notebookContainer, {childList: true});\n",
       "}}\n",
       "\n",
       "// Listen for the clearing of the current output cell\n",
       "var outputEl = gd.closest('.output');\n",
       "if (outputEl) {{\n",
       "    x.observe(outputEl, {childList: true});\n",
       "}}\n",
       "\n",
       "                        })\n",
       "                };\n",
       "                });\n",
       "            </script>\n",
       "        </div>"
      ]
     },
     "metadata": {},
     "output_type": "display_data"
    }
   ],
   "source": [
    "### -------------------------------------------------------------------------- ###\n",
    "### TRY YOURSELF! THIS IS WHAT WILL HAPPEN WHEN YOU CLICK 'Load Talks' BUTTON  ###\n",
    "### -------------------------------------------------------------------------- ###\n",
    "\n",
    "## This is the page you used ##\n",
    "print('The page that is being used:', the_talk_page['title'])\n",
    "\n",
    "#Initiate a Wikipedia instance\n",
    "wikipediadv_instance = WikipediaDV(WikipediaAPI(lng=abbreviation(languageSelection.value)))\n",
    "\n",
    "#Get content of revisions on talk page\n",
    "talk_content = wikipediadv_instance.get_talk_content(the_talk_page[\"page_id\"])\n",
    "\n",
    "#convert to datetime format\n",
    "talk_content['year_month'] = pd.to_datetime(talk_content['timestamp'])\n",
    "\n",
    "\n",
    "# Define a TalksListener instance\n",
    "talks_listener = TalksListener(talk_content)\n",
    "\n",
    "# Visualization\n",
    "begin_date = date(2005, 3, 1)\n",
    "end_date = date(2015, 7, 4)\n",
    "granularity = 'Monthly'\n",
    "\n",
    "print('Time range from', begin_date.strftime(\"%Y-%m-%d\"), 'to', end_date.strftime(\"%Y-%m-%d\"))\n",
    "talks_listener.listen(\n",
    "    begin = begin_date,\n",
    "    end = end_date,\n",
    "    granularity = granularity)"
   ]
  },
  {
   "cell_type": "markdown",
   "metadata": {},
   "source": [
    "## C.2 What are the most revisions about?\n",
    "\n",
    "It is also possible to review what are the talks about by subsections, under which revisions happened. The table below shows the topic of each revision, sorted by date. Although most of the times users change the content of the talk page, sometimes revisions include actions like signing a comment, deleting or reversing revisions. These actions are not presented in the table.\n",
    "\n",
    "<details>    \n",
    "    <summary style=\"cursor: pointer;font-weight:bold\">Columns description</summary>\n",
    "\n",
    "- **topic**: the string topic extracted from revision content\n",
    "- **revid**: the revision id in which the action happened\n",
    "- **user**: the id or ip address of the editor that inserted the token\n",
    "- **year_month**: timestamp when the revision took place\n",
    "- **action_type**: type of the action made in a revision (new topic added or topic edited)\n",
    "\n",
    "</details>\n",
    "\n",
    "The graph illustrates revisions by topics spread over time.\n",
    "\n",
    "In the controls for the graph you can select the *date range* and the *granularity*"
   ]
  },
  {
   "cell_type": "code",
   "execution_count": 24,
   "metadata": {
    "hide_input": true
   },
   "outputs": [
    {
     "data": {
      "application/vnd.jupyter.widget-view+json": {
       "model_id": "14edb5e76de8419d95f8d414ea7146ef",
       "version_major": 2,
       "version_minor": 0
      },
      "text/plain": [
       "Button(description='Load Topics', layout=Layout(width='160px'), style=ButtonStyle())"
      ]
     },
     "metadata": {},
     "output_type": "display_data"
    },
    {
     "data": {
      "application/vnd.jupyter.widget-view+json": {
       "model_id": "e38136ca77824a408a4009dc8c5b9012",
       "version_major": 2,
       "version_minor": 0
      },
      "text/plain": [
       "Output()"
      ]
     },
     "metadata": {},
     "output_type": "display_data"
    }
   ],
   "source": [
    "button_to = widgets.Button(description=\"Load Topics\", layout=Layout(width='160px'))\n",
    "display(button_to)\n",
    "\n",
    "def on_click_topics(b):\n",
    "    global topics_listener, topic_df\n",
    "    with out_to:\n",
    "        clear_output()\n",
    "        display(md(f\"***Page: {the_talk_page['title']} ({abbreviation(languageSelection.value).upper()})***\"))\n",
    "\n",
    "        topics_listener = TopicsListener(talk_content)\n",
    "\n",
    "        #get a dataframe with topics and action_types\n",
    "        wikipediadv_ins = WikipediaDV(WikipediaAPI(lng=abbreviation(languageSelection.value)))\n",
    "        topic_df = topics_listener.extract_topics(wikipediadv_ins)\n",
    "        \n",
    "                   \n",
    "        #adding transcluded content\n",
    "        tr_row = talk_content[talk_content['comment'].str.match(r'Transcluding GA review')==True]\n",
    "        if len(tr_row)>0:\n",
    "            wikipedia_dv = WikipediaDV(WikipediaAPI(lng=abbreviation(languageSelection.value)))\n",
    "            transcluded_page = wikipedia_dv.get_page(the_talk_page['title'] +'/GA1')\n",
    "            transcluded_talk_content = wikipedia_dv.get_talk_content(transcluded_page[\"page_id\"])\n",
    "            transcluded_talk_content['year_month'] = pd.to_datetime(transcluded_talk_content['timestamp'])\n",
    "            tr_topics_listener = TopicsListener(transcluded_talk_content)\n",
    "            transcluded_topic_df = tr_topics_listener.translusion(wikipedia_dv).set_index('topics')\n",
    "            topics_listener.topic_df = topic_df.append(transcluded_topic_df).sort_values(by='year_month', ascending = False)\n",
    "        if len(topic_df) == 0:\n",
    "            display(md(\"There is no topics here!\"))\n",
    "        else:        \n",
    "            display(qgrid.show_grid(topics_listener.topic_df))\n",
    "\n",
    "            # Visualization\n",
    "            datepicker_from = widgets.DatePicker(description='Date starts', value=talk_content['year_month'].iloc[-1], layout=Layout(width='25%'))\n",
    "            datepicker_to = widgets.DatePicker(description='Date ends', value=talk_content['year_month'].iloc[0], layout=Layout(width='25%'))\n",
    "\n",
    "            interact(topics_listener.listen,\n",
    "                begin = datepicker_from,\n",
    "                end = datepicker_to,\n",
    "                granularity = Dropdown(options=['Monthly', 'Yearly', 'Daily'], value='Monthly')\n",
    "            )\n",
    "\n",
    "out_to = Output()\n",
    "display(out_to)\n",
    "\n",
    "# set the event\n",
    "button_to.on_click(on_click_topics)\n",
    "\n",
    "# trigger the event with the default value\n",
    "on_click_topics(button_to)"
   ]
  },
  {
   "cell_type": "markdown",
   "metadata": {
    "solution2": "hidden",
    "solution2_first": true
   },
   "source": [
    "<span style=\"color: #626262\"> Try yourself! This is what will happen when you click 'Load Topics' button: </span>"
   ]
  },
  {
   "cell_type": "code",
   "execution_count": 25,
   "metadata": {
    "solution2": "hidden"
   },
   "outputs": [
    {
     "name": "stdout",
     "output_type": "stream",
     "text": [
      "The page that is being used: Talk:Coronavirus disease 2019\n",
      "Time range from 2020-04-30 to 2020-05-25\n"
     ]
    },
    {
     "data": {
      "application/vnd.jupyter.widget-view+json": {
       "model_id": "56689e0d547e40b7b123cbe728bf2472",
       "version_major": 2,
       "version_minor": 0
      },
      "text/plain": [
       "QgridWidget(grid_options={'fullWidthRows': True, 'syncColumnCellResize': True, 'forceFitColumns': True, 'defau…"
      ]
     },
     "metadata": {},
     "output_type": "display_data"
    },
    {
     "data": {
      "text/html": [
       "        <script type=\"text/javascript\">\n",
       "        window.PlotlyConfig = {MathJaxConfig: 'local'};\n",
       "        if (window.MathJax) {MathJax.Hub.Config({SVG: {font: \"STIX-Web\"}});}\n",
       "        if (typeof require !== 'undefined') {\n",
       "        require.undef(\"plotly\");\n",
       "        requirejs.config({\n",
       "            paths: {\n",
       "                'plotly': ['https://cdn.plot.ly/plotly-latest.min']\n",
       "            }\n",
       "        });\n",
       "        require(['plotly'], function(Plotly) {\n",
       "            window._Plotly = Plotly;\n",
       "        });\n",
       "        }\n",
       "        </script>\n",
       "        "
      ]
     },
     "metadata": {},
     "output_type": "display_data"
    },
    {
     "data": {
      "application/vnd.plotly.v1+json": {
       "config": {
        "linkText": "Export to plot.ly",
        "plotlyServerURL": "https://plot.ly",
        "showLink": false
       },
       "data": [
        {
         "name": " RfC on whether we should include a primary study on cough distance ",
         "type": "bar",
         "x": [
          "2020-05"
         ],
         "y": [
          38
         ]
        },
        {
         "name": " Implementation ",
         "type": "bar",
         "x": [
          "2020-05"
         ],
         "y": [
          38
         ]
        },
        {
         "name": " Discretionary sanctions on the use of preprints ",
         "type": "bar",
         "x": [
          "2020-05"
         ],
         "y": [
          28
         ]
        },
        {
         "name": " Gangelt study ",
         "type": "bar",
         "x": [
          "2020-05"
         ],
         "y": [
          25
         ]
        },
        {
         "name": " vitamin D ",
         "type": "bar",
         "x": [
          "2020-05"
         ],
         "y": [
          18
         ]
        },
        {
         "name": " Header for WP:MEDRS says “. . best treated with common sense, and occasional exceptions may apply. . ” ",
         "type": "bar",
         "x": [
          "2020-05"
         ],
         "y": [
          13
         ]
        },
        {
         "name": " First second third and fourth sentences of second paragraph ",
         "type": "bar",
         "x": [
          "2020-05"
         ],
         "y": [
          10
         ]
        },
        {
         "name": " People lose their sense of taste ",
         "type": "bar",
         "x": [
          "2020-05"
         ],
         "y": [
          9
         ]
        },
        {
         "name": " Removal of cited statement concerning materials used in retention study ",
         "type": "bar",
         "x": [
          "2020-05"
         ],
         "y": [
          9
         ]
        },
        {
         "name": " Tobacco and nicotine ",
         "type": "bar",
         "x": [
          "2020-05"
         ],
         "y": [
          9
         ]
        }
       ],
       "layout": {
        "barmode": "group",
        "hovermode": "closest",
        "legend": {
         "x": 0,
         "y": 2
        },
        "showlegend": true,
        "template": {
         "data": {
          "bar": [
           {
            "error_x": {
             "color": "#2a3f5f"
            },
            "error_y": {
             "color": "#2a3f5f"
            },
            "marker": {
             "line": {
              "color": "#E5ECF6",
              "width": 0.5
             }
            },
            "type": "bar"
           }
          ],
          "barpolar": [
           {
            "marker": {
             "line": {
              "color": "#E5ECF6",
              "width": 0.5
             }
            },
            "type": "barpolar"
           }
          ],
          "carpet": [
           {
            "aaxis": {
             "endlinecolor": "#2a3f5f",
             "gridcolor": "white",
             "linecolor": "white",
             "minorgridcolor": "white",
             "startlinecolor": "#2a3f5f"
            },
            "baxis": {
             "endlinecolor": "#2a3f5f",
             "gridcolor": "white",
             "linecolor": "white",
             "minorgridcolor": "white",
             "startlinecolor": "#2a3f5f"
            },
            "type": "carpet"
           }
          ],
          "choropleth": [
           {
            "colorbar": {
             "outlinewidth": 0,
             "ticks": ""
            },
            "type": "choropleth"
           }
          ],
          "contour": [
           {
            "colorbar": {
             "outlinewidth": 0,
             "ticks": ""
            },
            "colorscale": [
             [
              0,
              "#0d0887"
             ],
             [
              0.1111111111111111,
              "#46039f"
             ],
             [
              0.2222222222222222,
              "#7201a8"
             ],
             [
              0.3333333333333333,
              "#9c179e"
             ],
             [
              0.4444444444444444,
              "#bd3786"
             ],
             [
              0.5555555555555556,
              "#d8576b"
             ],
             [
              0.6666666666666666,
              "#ed7953"
             ],
             [
              0.7777777777777778,
              "#fb9f3a"
             ],
             [
              0.8888888888888888,
              "#fdca26"
             ],
             [
              1,
              "#f0f921"
             ]
            ],
            "type": "contour"
           }
          ],
          "contourcarpet": [
           {
            "colorbar": {
             "outlinewidth": 0,
             "ticks": ""
            },
            "type": "contourcarpet"
           }
          ],
          "heatmap": [
           {
            "colorbar": {
             "outlinewidth": 0,
             "ticks": ""
            },
            "colorscale": [
             [
              0,
              "#0d0887"
             ],
             [
              0.1111111111111111,
              "#46039f"
             ],
             [
              0.2222222222222222,
              "#7201a8"
             ],
             [
              0.3333333333333333,
              "#9c179e"
             ],
             [
              0.4444444444444444,
              "#bd3786"
             ],
             [
              0.5555555555555556,
              "#d8576b"
             ],
             [
              0.6666666666666666,
              "#ed7953"
             ],
             [
              0.7777777777777778,
              "#fb9f3a"
             ],
             [
              0.8888888888888888,
              "#fdca26"
             ],
             [
              1,
              "#f0f921"
             ]
            ],
            "type": "heatmap"
           }
          ],
          "heatmapgl": [
           {
            "colorbar": {
             "outlinewidth": 0,
             "ticks": ""
            },
            "colorscale": [
             [
              0,
              "#0d0887"
             ],
             [
              0.1111111111111111,
              "#46039f"
             ],
             [
              0.2222222222222222,
              "#7201a8"
             ],
             [
              0.3333333333333333,
              "#9c179e"
             ],
             [
              0.4444444444444444,
              "#bd3786"
             ],
             [
              0.5555555555555556,
              "#d8576b"
             ],
             [
              0.6666666666666666,
              "#ed7953"
             ],
             [
              0.7777777777777778,
              "#fb9f3a"
             ],
             [
              0.8888888888888888,
              "#fdca26"
             ],
             [
              1,
              "#f0f921"
             ]
            ],
            "type": "heatmapgl"
           }
          ],
          "histogram": [
           {
            "marker": {
             "colorbar": {
              "outlinewidth": 0,
              "ticks": ""
             }
            },
            "type": "histogram"
           }
          ],
          "histogram2d": [
           {
            "colorbar": {
             "outlinewidth": 0,
             "ticks": ""
            },
            "colorscale": [
             [
              0,
              "#0d0887"
             ],
             [
              0.1111111111111111,
              "#46039f"
             ],
             [
              0.2222222222222222,
              "#7201a8"
             ],
             [
              0.3333333333333333,
              "#9c179e"
             ],
             [
              0.4444444444444444,
              "#bd3786"
             ],
             [
              0.5555555555555556,
              "#d8576b"
             ],
             [
              0.6666666666666666,
              "#ed7953"
             ],
             [
              0.7777777777777778,
              "#fb9f3a"
             ],
             [
              0.8888888888888888,
              "#fdca26"
             ],
             [
              1,
              "#f0f921"
             ]
            ],
            "type": "histogram2d"
           }
          ],
          "histogram2dcontour": [
           {
            "colorbar": {
             "outlinewidth": 0,
             "ticks": ""
            },
            "colorscale": [
             [
              0,
              "#0d0887"
             ],
             [
              0.1111111111111111,
              "#46039f"
             ],
             [
              0.2222222222222222,
              "#7201a8"
             ],
             [
              0.3333333333333333,
              "#9c179e"
             ],
             [
              0.4444444444444444,
              "#bd3786"
             ],
             [
              0.5555555555555556,
              "#d8576b"
             ],
             [
              0.6666666666666666,
              "#ed7953"
             ],
             [
              0.7777777777777778,
              "#fb9f3a"
             ],
             [
              0.8888888888888888,
              "#fdca26"
             ],
             [
              1,
              "#f0f921"
             ]
            ],
            "type": "histogram2dcontour"
           }
          ],
          "mesh3d": [
           {
            "colorbar": {
             "outlinewidth": 0,
             "ticks": ""
            },
            "type": "mesh3d"
           }
          ],
          "parcoords": [
           {
            "line": {
             "colorbar": {
              "outlinewidth": 0,
              "ticks": ""
             }
            },
            "type": "parcoords"
           }
          ],
          "pie": [
           {
            "automargin": true,
            "type": "pie"
           }
          ],
          "scatter": [
           {
            "marker": {
             "colorbar": {
              "outlinewidth": 0,
              "ticks": ""
             }
            },
            "type": "scatter"
           }
          ],
          "scatter3d": [
           {
            "line": {
             "colorbar": {
              "outlinewidth": 0,
              "ticks": ""
             }
            },
            "marker": {
             "colorbar": {
              "outlinewidth": 0,
              "ticks": ""
             }
            },
            "type": "scatter3d"
           }
          ],
          "scattercarpet": [
           {
            "marker": {
             "colorbar": {
              "outlinewidth": 0,
              "ticks": ""
             }
            },
            "type": "scattercarpet"
           }
          ],
          "scattergeo": [
           {
            "marker": {
             "colorbar": {
              "outlinewidth": 0,
              "ticks": ""
             }
            },
            "type": "scattergeo"
           }
          ],
          "scattergl": [
           {
            "marker": {
             "colorbar": {
              "outlinewidth": 0,
              "ticks": ""
             }
            },
            "type": "scattergl"
           }
          ],
          "scattermapbox": [
           {
            "marker": {
             "colorbar": {
              "outlinewidth": 0,
              "ticks": ""
             }
            },
            "type": "scattermapbox"
           }
          ],
          "scatterpolar": [
           {
            "marker": {
             "colorbar": {
              "outlinewidth": 0,
              "ticks": ""
             }
            },
            "type": "scatterpolar"
           }
          ],
          "scatterpolargl": [
           {
            "marker": {
             "colorbar": {
              "outlinewidth": 0,
              "ticks": ""
             }
            },
            "type": "scatterpolargl"
           }
          ],
          "scatterternary": [
           {
            "marker": {
             "colorbar": {
              "outlinewidth": 0,
              "ticks": ""
             }
            },
            "type": "scatterternary"
           }
          ],
          "surface": [
           {
            "colorbar": {
             "outlinewidth": 0,
             "ticks": ""
            },
            "colorscale": [
             [
              0,
              "#0d0887"
             ],
             [
              0.1111111111111111,
              "#46039f"
             ],
             [
              0.2222222222222222,
              "#7201a8"
             ],
             [
              0.3333333333333333,
              "#9c179e"
             ],
             [
              0.4444444444444444,
              "#bd3786"
             ],
             [
              0.5555555555555556,
              "#d8576b"
             ],
             [
              0.6666666666666666,
              "#ed7953"
             ],
             [
              0.7777777777777778,
              "#fb9f3a"
             ],
             [
              0.8888888888888888,
              "#fdca26"
             ],
             [
              1,
              "#f0f921"
             ]
            ],
            "type": "surface"
           }
          ],
          "table": [
           {
            "cells": {
             "fill": {
              "color": "#EBF0F8"
             },
             "line": {
              "color": "white"
             }
            },
            "header": {
             "fill": {
              "color": "#C8D4E3"
             },
             "line": {
              "color": "white"
             }
            },
            "type": "table"
           }
          ]
         },
         "layout": {
          "annotationdefaults": {
           "arrowcolor": "#2a3f5f",
           "arrowhead": 0,
           "arrowwidth": 1
          },
          "coloraxis": {
           "colorbar": {
            "outlinewidth": 0,
            "ticks": ""
           }
          },
          "colorscale": {
           "diverging": [
            [
             0,
             "#8e0152"
            ],
            [
             0.1,
             "#c51b7d"
            ],
            [
             0.2,
             "#de77ae"
            ],
            [
             0.3,
             "#f1b6da"
            ],
            [
             0.4,
             "#fde0ef"
            ],
            [
             0.5,
             "#f7f7f7"
            ],
            [
             0.6,
             "#e6f5d0"
            ],
            [
             0.7,
             "#b8e186"
            ],
            [
             0.8,
             "#7fbc41"
            ],
            [
             0.9,
             "#4d9221"
            ],
            [
             1,
             "#276419"
            ]
           ],
           "sequential": [
            [
             0,
             "#0d0887"
            ],
            [
             0.1111111111111111,
             "#46039f"
            ],
            [
             0.2222222222222222,
             "#7201a8"
            ],
            [
             0.3333333333333333,
             "#9c179e"
            ],
            [
             0.4444444444444444,
             "#bd3786"
            ],
            [
             0.5555555555555556,
             "#d8576b"
            ],
            [
             0.6666666666666666,
             "#ed7953"
            ],
            [
             0.7777777777777778,
             "#fb9f3a"
            ],
            [
             0.8888888888888888,
             "#fdca26"
            ],
            [
             1,
             "#f0f921"
            ]
           ],
           "sequentialminus": [
            [
             0,
             "#0d0887"
            ],
            [
             0.1111111111111111,
             "#46039f"
            ],
            [
             0.2222222222222222,
             "#7201a8"
            ],
            [
             0.3333333333333333,
             "#9c179e"
            ],
            [
             0.4444444444444444,
             "#bd3786"
            ],
            [
             0.5555555555555556,
             "#d8576b"
            ],
            [
             0.6666666666666666,
             "#ed7953"
            ],
            [
             0.7777777777777778,
             "#fb9f3a"
            ],
            [
             0.8888888888888888,
             "#fdca26"
            ],
            [
             1,
             "#f0f921"
            ]
           ]
          },
          "colorway": [
           "#636efa",
           "#EF553B",
           "#00cc96",
           "#ab63fa",
           "#FFA15A",
           "#19d3f3",
           "#FF6692",
           "#B6E880",
           "#FF97FF",
           "#FECB52"
          ],
          "font": {
           "color": "#2a3f5f"
          },
          "geo": {
           "bgcolor": "white",
           "lakecolor": "white",
           "landcolor": "#E5ECF6",
           "showlakes": true,
           "showland": true,
           "subunitcolor": "white"
          },
          "hoverlabel": {
           "align": "left"
          },
          "hovermode": "closest",
          "mapbox": {
           "style": "light"
          },
          "paper_bgcolor": "white",
          "plot_bgcolor": "#E5ECF6",
          "polar": {
           "angularaxis": {
            "gridcolor": "white",
            "linecolor": "white",
            "ticks": ""
           },
           "bgcolor": "#E5ECF6",
           "radialaxis": {
            "gridcolor": "white",
            "linecolor": "white",
            "ticks": ""
           }
          },
          "scene": {
           "xaxis": {
            "backgroundcolor": "#E5ECF6",
            "gridcolor": "white",
            "gridwidth": 2,
            "linecolor": "white",
            "showbackground": true,
            "ticks": "",
            "zerolinecolor": "white"
           },
           "yaxis": {
            "backgroundcolor": "#E5ECF6",
            "gridcolor": "white",
            "gridwidth": 2,
            "linecolor": "white",
            "showbackground": true,
            "ticks": "",
            "zerolinecolor": "white"
           },
           "zaxis": {
            "backgroundcolor": "#E5ECF6",
            "gridcolor": "white",
            "gridwidth": 2,
            "linecolor": "white",
            "showbackground": true,
            "ticks": "",
            "zerolinecolor": "white"
           }
          },
          "shapedefaults": {
           "line": {
            "color": "#2a3f5f"
           }
          },
          "ternary": {
           "aaxis": {
            "gridcolor": "white",
            "linecolor": "white",
            "ticks": ""
           },
           "baxis": {
            "gridcolor": "white",
            "linecolor": "white",
            "ticks": ""
           },
           "bgcolor": "#E5ECF6",
           "caxis": {
            "gridcolor": "white",
            "linecolor": "white",
            "ticks": ""
           }
          },
          "title": {
           "x": 0.05
          },
          "xaxis": {
           "automargin": true,
           "gridcolor": "white",
           "linecolor": "white",
           "ticks": "",
           "title": {
            "standoff": 15
           },
           "zerolinecolor": "white",
           "zerolinewidth": 2
          },
          "yaxis": {
           "automargin": true,
           "gridcolor": "white",
           "linecolor": "white",
           "ticks": "",
           "title": {
            "standoff": 15
           },
           "zerolinecolor": "white",
           "zerolinewidth": 2
          }
         }
        },
        "xaxis": {
         "categoryorder": "category ascending",
         "gridwidth": 2,
         "nticks": 15,
         "tickangle": 30,
         "ticklen": 5,
         "tickmode": "auto",
         "title": {
          "text": "Monthly"
         },
         "type": "category",
         "zeroline": true
        },
        "yaxis": {
         "gridwidth": 2,
         "ticklen": 5,
         "title": {
          "text": "Revisions"
         }
        }
       }
      },
      "text/html": [
       "<div>\n",
       "        \n",
       "        \n",
       "            <div id=\"3cb23e6e-a1b7-4441-92c3-58ea8871c47f\" class=\"plotly-graph-div\" style=\"height:525px; width:100%;\"></div>\n",
       "            <script type=\"text/javascript\">\n",
       "                require([\"plotly\"], function(Plotly) {\n",
       "                    window.PLOTLYENV=window.PLOTLYENV || {};\n",
       "                    \n",
       "                if (document.getElementById(\"3cb23e6e-a1b7-4441-92c3-58ea8871c47f\")) {\n",
       "                    Plotly.newPlot(\n",
       "                        '3cb23e6e-a1b7-4441-92c3-58ea8871c47f',\n",
       "                        [{\"name\": \" RfC on whether we should include a primary study on cough distance \", \"type\": \"bar\", \"x\": [\"2020-05\"], \"y\": [38]}, {\"name\": \" Implementation \", \"type\": \"bar\", \"x\": [\"2020-05\"], \"y\": [38]}, {\"name\": \" Discretionary sanctions on the use of preprints \", \"type\": \"bar\", \"x\": [\"2020-05\"], \"y\": [28]}, {\"name\": \" Gangelt study \", \"type\": \"bar\", \"x\": [\"2020-05\"], \"y\": [25]}, {\"name\": \" vitamin D \", \"type\": \"bar\", \"x\": [\"2020-05\"], \"y\": [18]}, {\"name\": \" Header for WP:MEDRS says \\u201c. . best treated with common sense, and occasional exceptions may apply. . \\u201d \", \"type\": \"bar\", \"x\": [\"2020-05\"], \"y\": [13]}, {\"name\": \" First second third and fourth sentences of second paragraph \", \"type\": \"bar\", \"x\": [\"2020-05\"], \"y\": [10]}, {\"name\": \" People lose their sense of taste \", \"type\": \"bar\", \"x\": [\"2020-05\"], \"y\": [9]}, {\"name\": \" Removal of cited statement concerning materials used in retention study \", \"type\": \"bar\", \"x\": [\"2020-05\"], \"y\": [9]}, {\"name\": \" Tobacco and nicotine \", \"type\": \"bar\", \"x\": [\"2020-05\"], \"y\": [9]}],\n",
       "                        {\"barmode\": \"group\", \"hovermode\": \"closest\", \"legend\": {\"x\": 0, \"y\": 2}, \"showlegend\": true, \"template\": {\"data\": {\"bar\": [{\"error_x\": {\"color\": \"#2a3f5f\"}, \"error_y\": {\"color\": \"#2a3f5f\"}, \"marker\": {\"line\": {\"color\": \"#E5ECF6\", \"width\": 0.5}}, \"type\": \"bar\"}], \"barpolar\": [{\"marker\": {\"line\": {\"color\": \"#E5ECF6\", \"width\": 0.5}}, \"type\": \"barpolar\"}], \"carpet\": [{\"aaxis\": {\"endlinecolor\": \"#2a3f5f\", \"gridcolor\": \"white\", \"linecolor\": \"white\", \"minorgridcolor\": \"white\", \"startlinecolor\": \"#2a3f5f\"}, \"baxis\": {\"endlinecolor\": \"#2a3f5f\", \"gridcolor\": \"white\", \"linecolor\": \"white\", \"minorgridcolor\": \"white\", \"startlinecolor\": \"#2a3f5f\"}, \"type\": \"carpet\"}], \"choropleth\": [{\"colorbar\": {\"outlinewidth\": 0, \"ticks\": \"\"}, \"type\": \"choropleth\"}], \"contour\": [{\"colorbar\": {\"outlinewidth\": 0, \"ticks\": \"\"}, \"colorscale\": [[0.0, \"#0d0887\"], [0.1111111111111111, \"#46039f\"], [0.2222222222222222, \"#7201a8\"], [0.3333333333333333, \"#9c179e\"], [0.4444444444444444, \"#bd3786\"], [0.5555555555555556, \"#d8576b\"], [0.6666666666666666, \"#ed7953\"], [0.7777777777777778, \"#fb9f3a\"], [0.8888888888888888, \"#fdca26\"], [1.0, \"#f0f921\"]], \"type\": \"contour\"}], \"contourcarpet\": [{\"colorbar\": {\"outlinewidth\": 0, \"ticks\": \"\"}, \"type\": \"contourcarpet\"}], \"heatmap\": [{\"colorbar\": {\"outlinewidth\": 0, \"ticks\": \"\"}, \"colorscale\": [[0.0, \"#0d0887\"], [0.1111111111111111, \"#46039f\"], [0.2222222222222222, \"#7201a8\"], [0.3333333333333333, \"#9c179e\"], [0.4444444444444444, \"#bd3786\"], [0.5555555555555556, \"#d8576b\"], [0.6666666666666666, \"#ed7953\"], [0.7777777777777778, \"#fb9f3a\"], [0.8888888888888888, \"#fdca26\"], [1.0, \"#f0f921\"]], \"type\": \"heatmap\"}], \"heatmapgl\": [{\"colorbar\": {\"outlinewidth\": 0, \"ticks\": \"\"}, \"colorscale\": [[0.0, \"#0d0887\"], [0.1111111111111111, \"#46039f\"], [0.2222222222222222, \"#7201a8\"], [0.3333333333333333, \"#9c179e\"], [0.4444444444444444, \"#bd3786\"], [0.5555555555555556, \"#d8576b\"], [0.6666666666666666, \"#ed7953\"], [0.7777777777777778, \"#fb9f3a\"], [0.8888888888888888, \"#fdca26\"], [1.0, \"#f0f921\"]], \"type\": \"heatmapgl\"}], \"histogram\": [{\"marker\": {\"colorbar\": {\"outlinewidth\": 0, \"ticks\": \"\"}}, \"type\": \"histogram\"}], \"histogram2d\": [{\"colorbar\": {\"outlinewidth\": 0, \"ticks\": \"\"}, \"colorscale\": [[0.0, \"#0d0887\"], [0.1111111111111111, \"#46039f\"], [0.2222222222222222, \"#7201a8\"], [0.3333333333333333, \"#9c179e\"], [0.4444444444444444, \"#bd3786\"], [0.5555555555555556, \"#d8576b\"], [0.6666666666666666, \"#ed7953\"], [0.7777777777777778, \"#fb9f3a\"], [0.8888888888888888, \"#fdca26\"], [1.0, \"#f0f921\"]], \"type\": \"histogram2d\"}], \"histogram2dcontour\": [{\"colorbar\": {\"outlinewidth\": 0, \"ticks\": \"\"}, \"colorscale\": [[0.0, \"#0d0887\"], [0.1111111111111111, \"#46039f\"], [0.2222222222222222, \"#7201a8\"], [0.3333333333333333, \"#9c179e\"], [0.4444444444444444, \"#bd3786\"], [0.5555555555555556, \"#d8576b\"], [0.6666666666666666, \"#ed7953\"], [0.7777777777777778, \"#fb9f3a\"], [0.8888888888888888, \"#fdca26\"], [1.0, \"#f0f921\"]], \"type\": \"histogram2dcontour\"}], \"mesh3d\": [{\"colorbar\": {\"outlinewidth\": 0, \"ticks\": \"\"}, \"type\": \"mesh3d\"}], \"parcoords\": [{\"line\": {\"colorbar\": {\"outlinewidth\": 0, \"ticks\": \"\"}}, \"type\": \"parcoords\"}], \"pie\": [{\"automargin\": true, \"type\": \"pie\"}], \"scatter\": [{\"marker\": {\"colorbar\": {\"outlinewidth\": 0, \"ticks\": \"\"}}, \"type\": \"scatter\"}], \"scatter3d\": [{\"line\": {\"colorbar\": {\"outlinewidth\": 0, \"ticks\": \"\"}}, \"marker\": {\"colorbar\": {\"outlinewidth\": 0, \"ticks\": \"\"}}, \"type\": \"scatter3d\"}], \"scattercarpet\": [{\"marker\": {\"colorbar\": {\"outlinewidth\": 0, \"ticks\": \"\"}}, \"type\": \"scattercarpet\"}], \"scattergeo\": [{\"marker\": {\"colorbar\": {\"outlinewidth\": 0, \"ticks\": \"\"}}, \"type\": \"scattergeo\"}], \"scattergl\": [{\"marker\": {\"colorbar\": {\"outlinewidth\": 0, \"ticks\": \"\"}}, \"type\": \"scattergl\"}], \"scattermapbox\": [{\"marker\": {\"colorbar\": {\"outlinewidth\": 0, \"ticks\": \"\"}}, \"type\": \"scattermapbox\"}], \"scatterpolar\": [{\"marker\": {\"colorbar\": {\"outlinewidth\": 0, \"ticks\": \"\"}}, \"type\": \"scatterpolar\"}], \"scatterpolargl\": [{\"marker\": {\"colorbar\": {\"outlinewidth\": 0, \"ticks\": \"\"}}, \"type\": \"scatterpolargl\"}], \"scatterternary\": [{\"marker\": {\"colorbar\": {\"outlinewidth\": 0, \"ticks\": \"\"}}, \"type\": \"scatterternary\"}], \"surface\": [{\"colorbar\": {\"outlinewidth\": 0, \"ticks\": \"\"}, \"colorscale\": [[0.0, \"#0d0887\"], [0.1111111111111111, \"#46039f\"], [0.2222222222222222, \"#7201a8\"], [0.3333333333333333, \"#9c179e\"], [0.4444444444444444, \"#bd3786\"], [0.5555555555555556, \"#d8576b\"], [0.6666666666666666, \"#ed7953\"], [0.7777777777777778, \"#fb9f3a\"], [0.8888888888888888, \"#fdca26\"], [1.0, \"#f0f921\"]], \"type\": \"surface\"}], \"table\": [{\"cells\": {\"fill\": {\"color\": \"#EBF0F8\"}, \"line\": {\"color\": \"white\"}}, \"header\": {\"fill\": {\"color\": \"#C8D4E3\"}, \"line\": {\"color\": \"white\"}}, \"type\": \"table\"}]}, \"layout\": {\"annotationdefaults\": {\"arrowcolor\": \"#2a3f5f\", \"arrowhead\": 0, \"arrowwidth\": 1}, \"coloraxis\": {\"colorbar\": {\"outlinewidth\": 0, \"ticks\": \"\"}}, \"colorscale\": {\"diverging\": [[0, \"#8e0152\"], [0.1, \"#c51b7d\"], [0.2, \"#de77ae\"], [0.3, \"#f1b6da\"], [0.4, \"#fde0ef\"], [0.5, \"#f7f7f7\"], [0.6, \"#e6f5d0\"], [0.7, \"#b8e186\"], [0.8, \"#7fbc41\"], [0.9, \"#4d9221\"], [1, \"#276419\"]], \"sequential\": [[0.0, \"#0d0887\"], [0.1111111111111111, \"#46039f\"], [0.2222222222222222, \"#7201a8\"], [0.3333333333333333, \"#9c179e\"], [0.4444444444444444, \"#bd3786\"], [0.5555555555555556, \"#d8576b\"], [0.6666666666666666, \"#ed7953\"], [0.7777777777777778, \"#fb9f3a\"], [0.8888888888888888, \"#fdca26\"], [1.0, \"#f0f921\"]], \"sequentialminus\": [[0.0, \"#0d0887\"], [0.1111111111111111, \"#46039f\"], [0.2222222222222222, \"#7201a8\"], [0.3333333333333333, \"#9c179e\"], [0.4444444444444444, \"#bd3786\"], [0.5555555555555556, \"#d8576b\"], [0.6666666666666666, \"#ed7953\"], [0.7777777777777778, \"#fb9f3a\"], [0.8888888888888888, \"#fdca26\"], [1.0, \"#f0f921\"]]}, \"colorway\": [\"#636efa\", \"#EF553B\", \"#00cc96\", \"#ab63fa\", \"#FFA15A\", \"#19d3f3\", \"#FF6692\", \"#B6E880\", \"#FF97FF\", \"#FECB52\"], \"font\": {\"color\": \"#2a3f5f\"}, \"geo\": {\"bgcolor\": \"white\", \"lakecolor\": \"white\", \"landcolor\": \"#E5ECF6\", \"showlakes\": true, \"showland\": true, \"subunitcolor\": \"white\"}, \"hoverlabel\": {\"align\": \"left\"}, \"hovermode\": \"closest\", \"mapbox\": {\"style\": \"light\"}, \"paper_bgcolor\": \"white\", \"plot_bgcolor\": \"#E5ECF6\", \"polar\": {\"angularaxis\": {\"gridcolor\": \"white\", \"linecolor\": \"white\", \"ticks\": \"\"}, \"bgcolor\": \"#E5ECF6\", \"radialaxis\": {\"gridcolor\": \"white\", \"linecolor\": \"white\", \"ticks\": \"\"}}, \"scene\": {\"xaxis\": {\"backgroundcolor\": \"#E5ECF6\", \"gridcolor\": \"white\", \"gridwidth\": 2, \"linecolor\": \"white\", \"showbackground\": true, \"ticks\": \"\", \"zerolinecolor\": \"white\"}, \"yaxis\": {\"backgroundcolor\": \"#E5ECF6\", \"gridcolor\": \"white\", \"gridwidth\": 2, \"linecolor\": \"white\", \"showbackground\": true, \"ticks\": \"\", \"zerolinecolor\": \"white\"}, \"zaxis\": {\"backgroundcolor\": \"#E5ECF6\", \"gridcolor\": \"white\", \"gridwidth\": 2, \"linecolor\": \"white\", \"showbackground\": true, \"ticks\": \"\", \"zerolinecolor\": \"white\"}}, \"shapedefaults\": {\"line\": {\"color\": \"#2a3f5f\"}}, \"ternary\": {\"aaxis\": {\"gridcolor\": \"white\", \"linecolor\": \"white\", \"ticks\": \"\"}, \"baxis\": {\"gridcolor\": \"white\", \"linecolor\": \"white\", \"ticks\": \"\"}, \"bgcolor\": \"#E5ECF6\", \"caxis\": {\"gridcolor\": \"white\", \"linecolor\": \"white\", \"ticks\": \"\"}}, \"title\": {\"x\": 0.05}, \"xaxis\": {\"automargin\": true, \"gridcolor\": \"white\", \"linecolor\": \"white\", \"ticks\": \"\", \"title\": {\"standoff\": 15}, \"zerolinecolor\": \"white\", \"zerolinewidth\": 2}, \"yaxis\": {\"automargin\": true, \"gridcolor\": \"white\", \"linecolor\": \"white\", \"ticks\": \"\", \"title\": {\"standoff\": 15}, \"zerolinecolor\": \"white\", \"zerolinewidth\": 2}}}, \"xaxis\": {\"categoryorder\": \"category ascending\", \"gridwidth\": 2, \"nticks\": 15, \"tickangle\": 30, \"ticklen\": 5, \"tickmode\": \"auto\", \"title\": {\"text\": \"Monthly\"}, \"type\": \"category\", \"zeroline\": true}, \"yaxis\": {\"gridwidth\": 2, \"ticklen\": 5, \"title\": {\"text\": \"Revisions\"}}},\n",
       "                        {\"responsive\": true}\n",
       "                    ).then(function(){\n",
       "                            \n",
       "var gd = document.getElementById('3cb23e6e-a1b7-4441-92c3-58ea8871c47f');\n",
       "var x = new MutationObserver(function (mutations, observer) {{\n",
       "        var display = window.getComputedStyle(gd).display;\n",
       "        if (!display || display === 'none') {{\n",
       "            console.log([gd, 'removed!']);\n",
       "            Plotly.purge(gd);\n",
       "            observer.disconnect();\n",
       "        }}\n",
       "}});\n",
       "\n",
       "// Listen for the removal of the full notebook cells\n",
       "var notebookContainer = gd.closest('#notebook-container');\n",
       "if (notebookContainer) {{\n",
       "    x.observe(notebookContainer, {childList: true});\n",
       "}}\n",
       "\n",
       "// Listen for the clearing of the current output cell\n",
       "var outputEl = gd.closest('.output');\n",
       "if (outputEl) {{\n",
       "    x.observe(outputEl, {childList: true});\n",
       "}}\n",
       "\n",
       "                        })\n",
       "                };\n",
       "                });\n",
       "            </script>\n",
       "        </div>"
      ]
     },
     "metadata": {},
     "output_type": "display_data"
    }
   ],
   "source": [
    "### --------------------------------------------------------------------------- ###\n",
    "### TRY YOURSELF! THIS IS WHAT WILL HAPPEN WHEN YOU CLICK 'Show Topics' BUTTON  ###\n",
    "### --------------------------------------------------------------------------- ###\n",
    "\n",
    "## This is the page you used ##\n",
    "print('The page that is being used:', the_talk_page['title'])\n",
    "print(f\"Time range from {talk_content['year_month'].iloc[-1].date()} to {talk_content['year_month'].iloc[0].date()}\")\n",
    "\n",
    "#initiate a topics listener\n",
    "topics_listener = TopicsListener(talk_content)\n",
    "\n",
    "#get a dataframe with topics and action_types\n",
    "wikipediadv_ins = WikipediaDV(WikipediaAPI(lng=abbreviation(languageSelection.value)))\n",
    "topic_df = topics_listener.extract_topics(wikipediadv_ins)\n",
    "if len(topic_df) == 0:\n",
    "    print(\"There is no topics here!\")\n",
    "else:\n",
    "    display(qgrid.show_grid(topic_df))\n",
    "\n",
    "    # Visualization\n",
    "    begin_date = talk_content['year_month'].iloc[-1]  # date(xxxx.xx.xx)\n",
    "    end_date = talk_content['year_month'].iloc[0]  # date(xxxx.xx.xx)\n",
    "    granularity = 'Monthly'\n",
    "\n",
    "    topics_listener.listen(\n",
    "        begin = begin_date,\n",
    "        end = end_date,\n",
    "        granularity = granularity)"
   ]
  },
  {
   "cell_type": "code",
   "execution_count": 27,
   "metadata": {
    "hide_input": true
   },
   "outputs": [
    {
     "data": {
      "text/html": [
       "<a href=\"3. Using WikiWho to analyze an editor in the context of a page.ipynb\" target=\"_blank\">Go to next workbook</a>"
      ],
      "text/plain": [
       "<IPython.core.display.HTML object>"
      ]
     },
     "metadata": {},
     "output_type": "display_data"
    },
    {
     "data": {
      "text/html": [
       "\n",
       "<script>\n",
       "document.getElementById('notebook').scrollIntoView();\n",
       "</script>\n"
      ],
      "text/plain": [
       "<IPython.core.display.HTML object>"
      ]
     },
     "metadata": {},
     "output_type": "display_data"
    },
    {
     "data": {
      "application/javascript": [
       "\n",
       "document.getElementsByClassName(\"ui-state-default slick-header-column slick-header-sortable\")[1].setAttribute(\"style\", \"width: 141px\");\n",
       "document.getElementsByClassName(\"ui-state-default slick-header-column slick-header-sortable\")[2].setAttribute(\"style\", \"width: 141px\");\n",
       "document.getElementsByClassName(\"ui-state-default slick-header-column slick-header-sortable\")[4].setAttribute(\"style\", \"width: 158px\");\n",
       "document.getElementsByClassName(\"ui-state-default slick-header-column slick-header-sortable\")[5].setAttribute(\"style\", \"width: 141px\");\n",
       "document.getElementsByClassName(\"ui-state-default slick-header-column slick-header-sortable\")[6].setAttribute(\"style\", \"width: 141px\");\n",
       "document.getElementsByClassName(\"ui-state-default slick-header-column slick-header-sortable\")[7].setAttribute(\"style\", \"width: 155px\");\n",
       "document.getElementsByClassName(\"ui-state-default slick-header-column slick-header-sortable\")[8].setAttribute(\"style\", \"width: 141px\");\n",
       "document.getElementsByClassName(\"ui-state-default slick-header-column slick-header-sortable\")[10].setAttribute(\"style\", \"width: 171px\");\n"
      ],
      "text/plain": [
       "<IPython.core.display.Javascript object>"
      ]
     },
     "metadata": {},
     "output_type": "display_data"
    }
   ],
   "source": [
    "lng_selected = abbreviation(languageSelection.value)\n",
    "calculator = con_manager\n",
    "%store agg_actions\n",
    "%store calculator\n",
    "%store editors_conflicts\n",
    "%store lng_selected\n",
    "\n",
    "clear_output()\n",
    "if len(editors_conflicts) > 0:\n",
    "    display(HTML(f'<a href=\"{get_next_notebook()}\" target=\"_blank\">Go to next workbook</a>'))\n",
    "else:\n",
    "    display(HTML(f'<a href=\"{get_previous_notebook()}\" target=\"_blank\">Go back to the previous workbook</a>'))\n",
    "\n",
    "scroll_to_top = \"\"\"\n",
    "<script>\n",
    "document.getElementById('notebook').scrollIntoView();\n",
    "</script>\n",
    "\"\"\"\n",
    "\n",
    "display(HTML(scroll_to_top))\n",
    "\n",
    "header_len = \"\"\"\n",
    "document.getElementsByClassName(\"ui-state-default slick-header-column slick-header-sortable\")[1].setAttribute(\"style\", \"width: 141px\");\n",
    "document.getElementsByClassName(\"ui-state-default slick-header-column slick-header-sortable\")[2].setAttribute(\"style\", \"width: 141px\");\n",
    "document.getElementsByClassName(\"ui-state-default slick-header-column slick-header-sortable\")[4].setAttribute(\"style\", \"width: 158px\");\n",
    "document.getElementsByClassName(\"ui-state-default slick-header-column slick-header-sortable\")[5].setAttribute(\"style\", \"width: 141px\");\n",
    "document.getElementsByClassName(\"ui-state-default slick-header-column slick-header-sortable\")[6].setAttribute(\"style\", \"width: 141px\");\n",
    "document.getElementsByClassName(\"ui-state-default slick-header-column slick-header-sortable\")[7].setAttribute(\"style\", \"width: 155px\");\n",
    "document.getElementsByClassName(\"ui-state-default slick-header-column slick-header-sortable\")[8].setAttribute(\"style\", \"width: 141px\");\n",
    "document.getElementsByClassName(\"ui-state-default slick-header-column slick-header-sortable\")[10].setAttribute(\"style\", \"width: 171px\");\n",
    "\"\"\"\n",
    "\n",
    "display(Javascript(header_len))"
   ]
  }
 ],
 "metadata": {
  "hide_input": false,
  "kernel_info": {
   "name": "python3"
  },
  "kernelspec": {
   "display_name": "Python 3",
   "language": "python",
   "name": "python3"
  },
  "language_info": {
   "codemirror_mode": {
    "name": "ipython",
    "version": 3
   },
   "file_extension": ".py",
   "mimetype": "text/x-python",
   "name": "python",
   "nbconvert_exporter": "python",
   "pygments_lexer": "ipython3",
   "version": "3.8.2"
  },
  "nteract": {
   "version": "0.14.4"
  }
 },
 "nbformat": 4,
 "nbformat_minor": 2
}
