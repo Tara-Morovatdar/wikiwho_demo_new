{
 "cells": [
  {
   "cell_type": "markdown",
   "metadata": {
    "hideCode": false,
    "hidePrompt": false,
    "hide_input": false
   },
   "source": [
    "\n",
    "\n",
    "Welcome!\n",
    "\n",
    "You have just opened a collection of notebooks that lets you inspect the evolution of the revision history of a Wikipedia article, up to now (From the English language edition). It also allows you to highlight **article- or word-specific conflicts as well as the productivity of any given editor.** \n",
    "\n",
    "Specifically, for the notebooks after this initial one, it interfaces with the API of a specialized service called [WikiWho](www.wikiwho.net), which provides fine-grained change information about the tokens (words) in an article. \n",
    "\n",
    "It is written in a way that you can **explore it like a Web app, without interacting with the code behind it**, or - if you choose to - click on \"edit app\" in the Juypter navigation bar and play around with the code yourself. \n",
    "\n",
    "The default introduction example is the article \"The Camp of the Saints\" (a novel), which we recommend to start with. You can enter/search an article of your choice and explore it as well. \n",
    "\n",
    "Let's first get live data of some general statistics from Wikipedias own API and a service called Xtools:"
   ]
  },
  {
   "cell_type": "code",
   "execution_count": 1,
   "metadata": {
    "scrolled": true
   },
   "outputs": [
    {
     "data": {
      "application/vnd.jupyter.widget-view+json": {
       "model_id": "31fcbc060ea141a5900c0025cf0e711b",
       "version_major": 2,
       "version_minor": 0
      },
      "text/plain": [
       "Button(button_style='success', description='Modules Imported', style=ButtonStyle())"
      ]
     },
     "metadata": {},
     "output_type": "display_data"
    },
    {
     "data": {
      "application/vnd.jupyter.widget-view+json": {
       "model_id": "8850bd2a826543d88bb5f9123e85db22",
       "version_major": 2,
       "version_minor": 0
      },
      "text/plain": [
       "Output()"
      ]
     },
     "metadata": {},
     "output_type": "display_data"
    }
   ],
   "source": [
    "from IPython.display import display\n",
    "from ipywidgets import widgets, Output\n",
    "from toggle import hide_toggle2\n",
    "\n",
    "# design the button\n",
    "toggle_modules = widgets.Button(description='Modules Imported', button_style='success')\n",
    "display(toggle_modules)\n",
    "\n",
    "# cell show/hide to play around with\n",
    "def hide_modules(b):\n",
    "    with out1:\n",
    "        clear_output()\n",
    "        display(hide_toggle2(for_next=True))\n",
    "        \n",
    "        \n",
    "out1 = Output()\n",
    "display(out1)\n",
    "\n",
    "toggle_modules.on_click(hide_modules)"
   ]
  },
  {
   "cell_type": "code",
   "execution_count": 2,
   "metadata": {
    "hideCode": false,
    "hideOutput": false,
    "hidePrompt": false,
    "hide_input": true
   },
   "outputs": [],
   "source": [
    "## IMPORT MODULES ##\n",
    "# for display\n",
    "from IPython.display import display, Markdown as md, clear_output, Javascript, HTML\n",
    "from ipywidgets import widgets, Output\n",
    "import urllib\n",
    "\n",
    "# for data process\n",
    "import pandas as pd\n",
    "\n",
    "# for visualization\n",
    "from visualization.views_listener import ViewsListener\n",
    "from ipywidgets import interact, interactive\n",
    "from ipywidgets.widgets import Dropdown\n",
    "\n",
    "# APIs\n",
    "from external.wikipedia import WikipediaDV, WikipediaAPI\n",
    "from external.wikimedia import WikiMediaDV, WikiMediaAPI\n",
    "from external.xtools import XtoolsAPI, XtoolsDV\n",
    "\n",
    "# toggle cells\n",
    "from toggle import hide_toggle, hide_toggle2, hide_cell\n",
    "\n",
    "# show codes and wrapper as Markdown\n",
    "from to_markdown import code_to_md, wrapper_to_md\n",
    "\n",
    "## SOME EXTENTIONS ##\n",
    "#%load_ext autoreload\n",
    "%reload_ext autoreload\n",
    "%autoreload 2\n",
    "%store -r the_page\n",
    "\n",
    "if 'the_page' not in locals():\n",
    "    import pickle\n",
    "    print(\"Loading default data...\")\n",
    "    the_page = pickle.load(open(\"data/the_page.p\",'rb'))"
   ]
  },
  {
   "cell_type": "markdown",
   "metadata": {
    "hideCode": false,
    "hidePrompt": false,
    "hide_input": false
   },
   "source": [
    "---\n",
    "\n",
    "# A. Basic Info from Wikipedia\n",
    "\n",
    "***Search for an article on the English Wikipedia***"
   ]
  },
  {
   "cell_type": "code",
   "execution_count": 3,
   "metadata": {},
   "outputs": [
    {
     "data": {
      "text/html": [
       "<style> div.prompt{display: none} </style>"
      ],
      "text/plain": [
       "<IPython.core.display.HTML object>"
      ]
     },
     "metadata": {},
     "output_type": "display_data"
    },
    {
     "data": {
      "text/html": [
       "\n",
       "                <script>\n",
       "                    var code_show=true;\n",
       "                    function code_toggle() {\n",
       "                    $('div.prompt').hide(); // always hide prompt\n",
       "\n",
       "                    if (code_show){\n",
       "                        $('div.input').hide();\n",
       "                    } else {\n",
       "                        $('div.input').show();\n",
       "                    }\n",
       "                    code_show = !code_show\n",
       "                    }\n",
       "                    $( document ).ready(code_toggle);\n",
       "                </script>\n",
       "            "
      ],
      "text/plain": [
       "<IPython.core.display.HTML object>"
      ]
     },
     "metadata": {},
     "output_type": "display_data"
    }
   ],
   "source": [
    "# Hide all cell prompts.\n",
    "display(HTML('<style> div.prompt{display: none} </style>'))\n",
    "\n",
    "# Hide all input cells.\n",
    "hide_cell(hide_code=True)"
   ]
  },
  {
   "cell_type": "code",
   "execution_count": 4,
   "metadata": {
    "hideCode": false,
    "hideOutput": false,
    "hidePrompt": false,
    "hide_input": true,
    "scrolled": false
   },
   "outputs": [
    {
     "data": {
      "application/vnd.jupyter.widget-view+json": {
       "model_id": "8c24cd70a9e54a1496730ae8de868c00",
       "version_major": 2,
       "version_minor": 0
      },
      "text/plain": [
       "Text(value='Kassel', description='Page title:')"
      ]
     },
     "metadata": {},
     "output_type": "display_data"
    },
    {
     "data": {
      "text/markdown": [
       "e.g. *The Camp of the Saints*"
      ],
      "text/plain": [
       "<IPython.core.display.Markdown object>"
      ]
     },
     "metadata": {},
     "output_type": "display_data"
    },
    {
     "data": {
      "application/vnd.jupyter.widget-view+json": {
       "model_id": "119463ff126c4ff0a7b7084075964577",
       "version_major": 2,
       "version_minor": 0
      },
      "text/plain": [
       "Button(description='Search', style=ButtonStyle())"
      ]
     },
     "metadata": {},
     "output_type": "display_data"
    },
    {
     "data": {
      "application/vnd.jupyter.widget-view+json": {
       "model_id": "ae22068478d14b5d967e0871c62fab25",
       "version_major": 2,
       "version_minor": 0
      },
      "text/plain": [
       "Output()"
      ]
     },
     "metadata": {},
     "output_type": "display_data"
    }
   ],
   "source": [
    "wikipedia_dv = WikipediaDV(WikipediaAPI(domain='en.wikipedia.org'))\n",
    "\n",
    "# the method that listens to the click event\n",
    "def on_button_clicked(b):\n",
    "    global the_page\n",
    "    \n",
    "    # use the out widget so the output is overwritten when two or more\n",
    "    # searches are performed\n",
    "    with out:\n",
    "        try:\n",
    "            # query wikipedia\n",
    "            search_result = wikipedia_dv.search_page(searchTerm.value)\n",
    "            the_page = wikipedia_dv.get_page(search_result)\n",
    "            %store the_page\n",
    "            clear_output()\n",
    "            display(the_page.to_frame('value'))\n",
    "            display(md(f'You selected:'))\n",
    "            display(the_page['title'])\n",
    "            display(Javascript('Jupyter.notebook.execute_cells([8])'))\n",
    "\n",
    "        except:\n",
    "            clear_output()\n",
    "            display(md(f'The page title *\"{searchTerm.value}\"* was not found'))\n",
    "            display(Javascript('Jupyter.notebook.execute_cells([8])'))\n",
    "\n",
    "# by default display the last search\n",
    "try:\n",
    "    searchTerm = widgets.Text(the_page['title'], description='Page title:')\n",
    "except:\n",
    "    searchTerm = widgets.Text(\"The Camp of the Saints\", description='Page title:')\n",
    "\n",
    "display(searchTerm)\n",
    "\n",
    "# create and display the button    \n",
    "button = widgets.Button(description=\"Search\")\n",
    "example = md(\"e.g. *The Camp of the Saints*\")\n",
    "display(example, button)\n",
    "\n",
    "# the output widget is used to remove the output after the search field\n",
    "out = Output()\n",
    "display(out)\n",
    "\n",
    "# set the event\n",
    "button.on_click(on_button_clicked)\n",
    "\n",
    "# trigger the event with the default value\n",
    "on_button_clicked(button)"
   ]
  },
  {
   "cell_type": "code",
   "execution_count": 5,
   "metadata": {
    "hideCode": false,
    "hidePrompt": false,
    "hide_input": true
   },
   "outputs": [
    {
     "data": {
      "application/vnd.jupyter.widget-view+json": {
       "model_id": "13f600408a3c4907b64532f35cf7a6ff",
       "version_major": 2,
       "version_minor": 0
      },
      "text/plain": [
       "Output()"
      ]
     },
     "metadata": {},
     "output_type": "display_data"
    },
    {
     "data": {
      "application/vnd.jupyter.widget-view+json": {
       "model_id": "60ae8aee84384c4187a7d827f23a2564",
       "version_major": 2,
       "version_minor": 0
      },
      "text/plain": [
       "Button(button_style='success', description='Show/Hide The Code', style=ButtonStyle())"
      ]
     },
     "metadata": {},
     "output_type": "display_data"
    }
   ],
   "source": [
    "# design the button\n",
    "toggle_cell = widgets.Button(description='Show/Hide The Code', button_style='success')\n",
    "\n",
    "# cell show/hide to play around with\n",
    "def hide_search(b):\n",
    "    with out2:\n",
    "        display(hide_toggle2(for_next_next=True))\n",
    "        clear_output()\n",
    "        \n",
    "out2 = Output()\n",
    "display(out2)\n",
    "\n",
    "toggle_cell.on_click(hide_search)\n",
    "display(toggle_cell)"
   ]
  },
  {
   "cell_type": "code",
   "execution_count": 6,
   "metadata": {},
   "outputs": [
    {
     "data": {
      "text/html": [
       "\n",
       "                        <script>\n",
       "                            $('div.cell.code_cell.rendered.selected').next().find('div.output').hide()\n",
       "                        </script>\n",
       "                    "
      ],
      "text/plain": [
       "<IPython.core.display.HTML object>"
      ]
     },
     "metadata": {},
     "output_type": "display_data"
    },
    {
     "data": {
      "application/javascript": [
       "Jupyter.notebook.execute_cells([18])"
      ],
      "text/plain": [
       "<IPython.core.display.Javascript object>"
      ]
     },
     "metadata": {},
     "output_type": "display_data"
    }
   ],
   "source": [
    "# hide the tutorial code output\n",
    "html_searchbutton = \"\"\"\n",
    "                        <script>\n",
    "                            $('div.cell.code_cell.rendered.selected').next().find('div.output').hide()\n",
    "                        </script>\n",
    "                    \"\"\"\n",
    "display(HTML(html_searchbutton))\n",
    "\n",
    "# hide next tutorial output\n",
    "display(Javascript('Jupyter.notebook.execute_cells([18])'))"
   ]
  },
  {
   "cell_type": "code",
   "execution_count": null,
   "metadata": {
    "hideCode": false,
    "hideOutput": false,
    "hidePrompt": true,
    "hide_input": false
   },
   "outputs": [],
   "source": [
    "## TRY YOURSELF! THIS IS WHAT WILL HAPPEN WHEN YOU CLICK 'Search' BUTTON ##\n",
    "\n",
    "# the page you are interested in\n",
    "page_title = the_page['title']\n",
    "\n",
    "# query wikipedia using WikiWho API, more details please see:\n",
    "# https://github.com/gesiscss/wikiwho_demo/blob/master/external/wikipedia.py\n",
    "# https://github.com/gesiscss/wikiwho_demo/blob/master/external/api.py\n",
    "wikipedia_dv = WikipediaDV(WikipediaAPI(domain='en.wikipedia.org')) # create an instance\n",
    "search_result = wikipedia_dv.search_page(page_title)\n",
    "url = f\"{wikipedia_dv.api.base}action=opensearch&search={urllib.parse.quote_plus(page_title)}&limit=1&namespace=0&format=json\"\n",
    "print(\"The page that was found:\", search_result)\n",
    "print('The raw data can be found in:', url)\n",
    "\n",
    "\n",
    "\n",
    "# values of the found page\n",
    "the_page = wikipedia_dv.get_page(search_result)\n",
    "print('Page id:', the_page['page_id'])"
   ]
  },
  {
   "cell_type": "markdown",
   "metadata": {
    "hideCode": false,
    "hidePrompt": false,
    "hide_input": true
   },
   "source": [
    "If this is correct, load the data and set this as the article to explore."
   ]
  },
  {
   "cell_type": "code",
   "execution_count": 8,
   "metadata": {
    "hideCode": false,
    "hidePrompt": false,
    "hide_input": true,
    "scrolled": true
   },
   "outputs": [
    {
     "data": {
      "application/vnd.jupyter.widget-view+json": {
       "model_id": "a4a12909334947578b580e8fe456b42d",
       "version_major": 2,
       "version_minor": 0
      },
      "text/plain": [
       "Button(button_style='info', description='Load data', style=ButtonStyle())"
      ]
     },
     "metadata": {},
     "output_type": "display_data"
    }
   ],
   "source": [
    "def run_below(ev):\n",
    "    display(Javascript('IPython.notebook.execute_cells_below()'))\n",
    "    \n",
    "button = widgets.Button(description=\"Load data\", button_style='info', min_width=500)\n",
    "button.on_click(run_below)\n",
    "display(button)"
   ]
  },
  {
   "cell_type": "code",
   "execution_count": 9,
   "metadata": {},
   "outputs": [
    {
     "data": {
      "application/vnd.jupyter.widget-view+json": {
       "model_id": "b3ee071776f9411d94c7f405589f0aa2",
       "version_major": 2,
       "version_minor": 0
      },
      "text/plain": [
       "Output()"
      ]
     },
     "metadata": {},
     "output_type": "display_data"
    },
    {
     "data": {
      "application/vnd.jupyter.widget-view+json": {
       "model_id": "5387221fedc649eabf7509dec3e091df",
       "version_major": 2,
       "version_minor": 0
      },
      "text/plain": [
       "Button(button_style='success', description='Show/Hide The Code', style=ButtonStyle())"
      ]
     },
     "metadata": {},
     "output_type": "display_data"
    }
   ],
   "source": [
    "# design the button\n",
    "toggle_load = widgets.Button(description='Show/Hide The Code', button_style='success')\n",
    "\n",
    "# cell show/hide to play around with\n",
    "def hide_load(b):\n",
    "    with out3:\n",
    "        display(hide_toggle2(for_next=True))\n",
    "        clear_output()\n",
    "        \n",
    "out3 = Output()\n",
    "display(out3)\n",
    "\n",
    "toggle_load.on_click(hide_load)\n",
    "display(toggle_load)"
   ]
  },
  {
   "cell_type": "code",
   "execution_count": 10,
   "metadata": {},
   "outputs": [
    {
     "data": {
      "application/javascript": [
       "IPython.notebook.execute_cells_below()"
      ],
      "text/plain": [
       "<IPython.core.display.Javascript object>"
      ]
     },
     "metadata": {},
     "output_type": "display_data"
    }
   ],
   "source": [
    "## TRY YOURSELF! THIS IS WHAT WILL HAPPEN WHEN YOU CLICK 'Load data' BUTTON ##\n",
    "\n",
    "# run all the cells below\n",
    "display(Javascript('IPython.notebook.execute_cells_below()'))"
   ]
  },
  {
   "cell_type": "markdown",
   "metadata": {
    "hideCode": false,
    "hidePrompt": false
   },
   "source": [
    "---\n",
    "\n",
    "# B. General Statistics\n",
    "\n",
    "Provided through the Xtools API (1)"
   ]
  },
  {
   "cell_type": "code",
   "execution_count": 11,
   "metadata": {
    "hideCode": false,
    "hidePrompt": false,
    "hide_input": true
   },
   "outputs": [
    {
     "data": {
      "text/markdown": [
       "***Page: Kassel***"
      ],
      "text/plain": [
       "<IPython.core.display.Markdown object>"
      ]
     },
     "metadata": {},
     "output_type": "display_data"
    }
   ],
   "source": [
    "display(md(f\"***Page: {the_page['title']}***\"))"
   ]
  },
  {
   "cell_type": "code",
   "execution_count": 12,
   "metadata": {
    "hideCode": false,
    "hidePrompt": false,
    "hide_input": true,
    "scrolled": false
   },
   "outputs": [
    {
     "data": {
      "text/html": [
       "<div>\n",
       "<style scoped>\n",
       "    .dataframe tbody tr th:only-of-type {\n",
       "        vertical-align: middle;\n",
       "    }\n",
       "\n",
       "    .dataframe tbody tr th {\n",
       "        vertical-align: top;\n",
       "    }\n",
       "\n",
       "    .dataframe thead th {\n",
       "        text-align: right;\n",
       "    }\n",
       "</style>\n",
       "<table border=\"1\" class=\"dataframe\">\n",
       "  <thead>\n",
       "    <tr style=\"text-align: right;\">\n",
       "      <th></th>\n",
       "      <th>value</th>\n",
       "    </tr>\n",
       "  </thead>\n",
       "  <tbody>\n",
       "    <tr>\n",
       "      <td>Project name</td>\n",
       "      <td>en.wikipedia.org</td>\n",
       "    </tr>\n",
       "    <tr>\n",
       "      <td>Page name</td>\n",
       "      <td>Kassel</td>\n",
       "    </tr>\n",
       "    <tr>\n",
       "      <td>Watchers (2)</td>\n",
       "      <td>86</td>\n",
       "    </tr>\n",
       "    <tr>\n",
       "      <td>Page Views (per 30 days)</td>\n",
       "      <td>11441</td>\n",
       "    </tr>\n",
       "    <tr>\n",
       "      <td>Revisions</td>\n",
       "      <td>732</td>\n",
       "    </tr>\n",
       "    <tr>\n",
       "      <td>Editors</td>\n",
       "      <td>457</td>\n",
       "    </tr>\n",
       "    <tr>\n",
       "      <td>minor_edits</td>\n",
       "      <td>234</td>\n",
       "    </tr>\n",
       "    <tr>\n",
       "      <td>Creator of the page</td>\n",
       "      <td>217.81.167.51</td>\n",
       "    </tr>\n",
       "    <tr>\n",
       "      <td>Creation Date</td>\n",
       "      <td>2002-02-27</td>\n",
       "    </tr>\n",
       "    <tr>\n",
       "      <td>Creation revision id</td>\n",
       "      <td>19653</td>\n",
       "    </tr>\n",
       "    <tr>\n",
       "      <td>Last modified</td>\n",
       "      <td>2019-10-17 20:59</td>\n",
       "    </tr>\n",
       "    <tr>\n",
       "      <td>Last revision id</td>\n",
       "      <td>921779506</td>\n",
       "    </tr>\n",
       "    <tr>\n",
       "      <td>Content Assessment (3)</td>\n",
       "      <td>Start</td>\n",
       "    </tr>\n",
       "  </tbody>\n",
       "</table>\n",
       "</div>"
      ],
      "text/plain": [
       "                                     value\n",
       "Project name              en.wikipedia.org\n",
       "Page name                           Kassel\n",
       "Watchers (2)                            86\n",
       "Page Views (per 30 days)             11441\n",
       "Revisions                              732\n",
       "Editors                                457\n",
       "minor_edits                            234\n",
       "Creator of the page          217.81.167.51\n",
       "Creation Date                   2002-02-27\n",
       "Creation revision id                 19653\n",
       "Last modified             2019-10-17 20:59\n",
       "Last revision id                 921779506\n",
       "Content Assessment (3)               Start"
      ]
     },
     "metadata": {},
     "output_type": "display_data"
    }
   ],
   "source": [
    "xtools_api = XtoolsAPI(project = 'en.wikipedia.org')\n",
    "xtools_dv = XtoolsDV(xtools_api)\n",
    "page_info = xtools_dv.get_page_info(the_page['title'])\n",
    "page_info['assessment'] = page_info['assessment']['value']\n",
    "\n",
    "page_info = page_info.to_frame('value').rename(index={\n",
    "    'project': 'Project name',\n",
    "    'page': 'Page name',\n",
    "    'watchers': 'Watchers (2)',    'pageviews': f\"Page Views (per {page_info['pageviews_offset']} days)\",\n",
    "    'revisions': 'Revisions',\n",
    "    'editors': 'Editors',\n",
    "    'author': 'Creator of the page',\n",
    "    'created_at': 'Creation Date',\n",
    "    'created_rev_id': 'Creation revision id',\n",
    "    'modified_at': 'Last modified',\n",
    "    'last_edit_id': 'Last revision id',\n",
    "    'assessment': 'Content Assessment (3)',\n",
    "}).drop(index = ['pageviews_offset', 'author_editcount', 'secs_since_last_edit','elapsed_time'])\n",
    "\n",
    "display(page_info)"
   ]
  },
  {
   "cell_type": "markdown",
   "metadata": {
    "hideCode": false,
    "hidePrompt": false
   },
   "source": [
    "<sup>**(1)** *A community-built service for article statistics at xtools.wmflabs.org* **(2)** *Users that added this page to their watchlist.* **(3)** *See [Wikipedia Content Assessment](https://en.wikipedia.org/wiki/Wikipedia:Content_assessment)*</sup>\n"
   ]
  },
  {
   "cell_type": "code",
   "execution_count": 13,
   "metadata": {},
   "outputs": [
    {
     "data": {
      "application/vnd.jupyter.widget-view+json": {
       "model_id": "ea9b976de735497dae55d60a9f923e38",
       "version_major": 2,
       "version_minor": 0
      },
      "text/plain": [
       "Output()"
      ]
     },
     "metadata": {},
     "output_type": "display_data"
    },
    {
     "data": {
      "application/vnd.jupyter.widget-view+json": {
       "model_id": "21d699832e6448d3a037133c05b0fe86",
       "version_major": 2,
       "version_minor": 0
      },
      "text/plain": [
       "Button(button_style='success', description='Show/Hide The Code', style=ButtonStyle())"
      ]
     },
     "metadata": {},
     "output_type": "display_data"
    }
   ],
   "source": [
    "# design the button\n",
    "toggle_xtools = widgets.Button(description='Show/Hide The Code', button_style='success')\n",
    "\n",
    "# cell show/hide to play around with\n",
    "def hide_xtools(b):\n",
    "    with out4:\n",
    "        display(hide_toggle2(for_next_next=True))\n",
    "        clear_output()\n",
    "        \n",
    "out4 = Output()\n",
    "display(out4)\n",
    "\n",
    "toggle_xtools.on_click(hide_xtools)\n",
    "display(toggle_xtools)"
   ]
  },
  {
   "cell_type": "code",
   "execution_count": null,
   "metadata": {},
   "outputs": [],
   "source": [
    "# hide the tutorial code output\n",
    "html_searchbutton = \"\"\"\n",
    "                        <script>\n",
    "                            $('div.cell.code_cell.rendered.selected').next().find('div.input').hide()\n",
    "                            $('div.cell.code_cell.rendered.selected').next().find('div.output').hide()\n",
    "                        </script>\n",
    "                    \"\"\"\n",
    "display(HTML(html_searchbutton))"
   ]
  },
  {
   "cell_type": "code",
   "execution_count": null,
   "metadata": {},
   "outputs": [],
   "source": [
    "## TRY YOURSELF! THIS IS HOW XTOOLS API TO GET THE PAGE. ##\n",
    "\n",
    "# define a xtools instance, more details see:\n",
    "# https://github.com/gesiscss/wikiwho_demo/blob/master/external/xtools.py\n",
    "# https://github.com/gesiscss/wikiwho_demo/blob/master/external/api.py\n",
    "xtools_api = XtoolsAPI(project = 'en.wikipedia.org')\n",
    "xtools_dv = XtoolsDV(xtools_api)\n",
    "\n",
    "# the page you are insterested in\n",
    "print('The page that was found:', the_page['title'])\n",
    "\n",
    "# get the page info through the xtools method get_page_info()\n",
    "page_info = xtools_dv.get_page_info(the_page['title'])\n",
    "\n",
    "# raw data url\n",
    "url = f\"{xtools_dv.api.base}page/articleinfo/{xtools_dv.api.project}/\" + urllib.parse.quote(the_page['title'])\n",
    "print(\"Raw data can be found in:\", url)\n",
    "\n",
    "# which info are going to be demonstrated\n",
    "print('The project url:', page_info['project'])\n",
    "print('The page of interest:', page_info['page'])\n",
    "print('How many users added this page to their watchlist:', page_info['watchers'])\n",
    "print('Pageviews per 30 days:', page_info['pageviews'])\n",
    "print('Revisions of the page in total:', page_info['revisions'])\n",
    "print('Number of editors in total:', page_info['editors'])\n",
    "print('Minor edits of the page in total:', page_info['minor_edits'])\n",
    "print('The creator of the page:', page_info['author'])\n",
    "print('Creation date and revision ID:', page_info['created_at'], 'and', page_info['created_rev_id'])\n",
    "print('Last modify date and revision ID:', page_info['modified_at'], 'and', page_info['last_edit_id'])\n",
    "print('Content Assessment:', page_info['assessment']['value'])"
   ]
  },
  {
   "cell_type": "markdown",
   "metadata": {
    "hideCode": false,
    "hidePrompt": false
   },
   "source": [
    "---\n",
    "\n",
    "# C. Page Views\n",
    "\n",
    "Provided through the Wikimedia API"
   ]
  },
  {
   "cell_type": "code",
   "execution_count": null,
   "metadata": {
    "hideCode": false,
    "hidePrompt": false,
    "hide_input": true,
    "scrolled": true
   },
   "outputs": [],
   "source": [
    "display(md(f\"***Page: {the_page['title']}***\"))"
   ]
  },
  {
   "cell_type": "code",
   "execution_count": 111,
   "metadata": {
    "hideCode": false,
    "hidePrompt": false,
    "hide_input": true,
    "scrolled": false
   },
   "outputs": [
    {
     "data": {
      "application/vnd.jupyter.widget-view+json": {
       "model_id": "7932fcfddce34dfda08ac6caccd73137",
       "version_major": 2,
       "version_minor": 0
      },
      "text/plain": [
       "interactive(children=(Dropdown(description='begin', options=(Timestamp('2015-07-01 00:00:00'), Timestamp('2015…"
      ]
     },
     "metadata": {},
     "output_type": "display_data"
    },
    {
     "data": {
      "text/html": [
       "<div>\n",
       "<style scoped>\n",
       "    .dataframe tbody tr th:only-of-type {\n",
       "        vertical-align: middle;\n",
       "    }\n",
       "\n",
       "    .dataframe tbody tr th {\n",
       "        vertical-align: top;\n",
       "    }\n",
       "\n",
       "    .dataframe thead th {\n",
       "        text-align: right;\n",
       "    }\n",
       "</style>\n",
       "<table border=\"1\" class=\"dataframe\">\n",
       "  <thead>\n",
       "    <tr style=\"text-align: right;\">\n",
       "      <th></th>\n",
       "      <th>Value</th>\n",
       "    </tr>\n",
       "  </thead>\n",
       "  <tbody>\n",
       "    <tr>\n",
       "      <td>Total views</td>\n",
       "      <td>741108</td>\n",
       "    </tr>\n",
       "    <tr>\n",
       "      <td>Max views period</td>\n",
       "      <td>20553</td>\n",
       "    </tr>\n",
       "    <tr>\n",
       "      <td>Min views period</td>\n",
       "      <td>8658</td>\n",
       "    </tr>\n",
       "    <tr>\n",
       "      <td>Average views</td>\n",
       "      <td>8658</td>\n",
       "    </tr>\n",
       "  </tbody>\n",
       "</table>\n",
       "</div>"
      ],
      "text/plain": [
       "                   Value\n",
       "Total views       741108\n",
       "Max views period   20553\n",
       "Min views period    8658\n",
       "Average views       8658"
      ]
     },
     "execution_count": 111,
     "metadata": {},
     "output_type": "execute_result"
    }
   ],
   "source": [
    "# Query request\n",
    "wikimedia_api = WikiMediaAPI(project='en.wikipedia')\n",
    "wikimedia_dv = WikiMediaDV(wikimedia_api)\n",
    "views = wikimedia_dv.get_pageviews(the_page['title'], 'daily')\n",
    "\n",
    "# Visualization\n",
    "listener = ViewsListener(views)\n",
    "inter_func = interact(listener.listen, \n",
    "                     begin=Dropdown(options=views.timestamp),\n",
    "                     end=Dropdown(options=views.timestamp.sort_values(ascending=False)),\n",
    "                     granularity=Dropdown(options=['Yearly', 'Monthly', 'Weekly', 'Daily'], value='Monthly'))\n",
    "\n",
    "inter_func\n",
    "# The df_plotted keeps a reference to the plotted data above\n",
    "pageviews_agg = listener.df_plotted['views'].agg({\n",
    "                    'Total views': sum,\n",
    "                    'Max views period': max,\n",
    "                    'Min views period': min,\n",
    "                    'Average views': min,}).to_frame('Value')\n",
    "\n",
    "pageviews_agg"
   ]
  },
  {
   "cell_type": "code",
   "execution_count": 119,
   "metadata": {},
   "outputs": [
    {
     "name": "stdout",
     "output_type": "stream",
     "text": [
      "The page that was found: Kassel\n",
      "Raw data can be found in: https://wikimedia.org/api/rest_v1/metrics/pageviews/per-article/en.wikipedia/all-access/all-agents/Kassel/Monthly/2015-07-19%2000%3A00%3A00/2019-11-19%2000%3A00%3A00\n",
      "Granularity: Monthly\n",
      "Start date: 2015-07-19 00:00:00\n",
      "End date: 2019-11-19 00:00:00\n",
      "Total views of this page: 741108\n",
      "Max views during the selected period: 20553\n",
      "Min views during the selected period: 8658\n",
      "Average views during the selected period: 8658\n"
     ]
    }
   ],
   "source": [
    "## TRY YOURSELF! THIS IS THE DATA USED FOR PAGEVIEWS VISUALIZATION.##\n",
    "\n",
    "# define a WikiMediaAPI instance, more details see:\n",
    "# https://github.com/gesiscss/wikiwho_demo/blob/master/external/wikimedia.py\n",
    "# https://github.com/gesiscss/wikiwho_demo/blob/master/external/api.py\n",
    "wikimedia_api = WikiMediaAPI(project='en.wikipedia')\n",
    "wikimedia_dv = WikiMediaDV(wikimedia_api)\n",
    "\n",
    "# page of insterest\n",
    "print('The page that was found:', the_page['title'])\n",
    "\n",
    "# url of raw data\n",
    "granularity = inter_func.widget.kwargs['granularity']\n",
    "start = inter_func.widget.kwargs['begin']\n",
    "end = inter_func.widget.kwargs['end']\n",
    "\n",
    "url = (f'{wikimedia_dv.api.base}metrics/pageviews/per-article/'\n",
    "       f\"{wikimedia_dv.api.project}/all-access/all-agents/{urllib.parse.quote(the_page['title'])}/{granularity}\"\n",
    "       f\"/{urllib.parse.quote(str(start))}/{urllib.parse.quote(str(end))}\")\n",
    "print('Raw data can be found in:', url)\n",
    "\n",
    "# time range you selected\n",
    "print('Granularity:', granularity)\n",
    "print('Start date:', start)\n",
    "print('End date:', end)\n",
    "\n",
    "# pageviews aggregation data: pageviews_agg\n",
    "print('Total views of this page:', pageviews_agg['Value']['Total views'])\n",
    "print('Max views during the selected period:', pageviews_agg['Value']['Max views period'])\n",
    "print('Min views during the selected period:', pageviews_agg['Value']['Min views period'])\n",
    "print('Average views during the selected period:', pageviews_agg['Value']['Average views'])"
   ]
  },
  {
   "cell_type": "markdown",
   "metadata": {
    "hideCode": false,
    "hidePrompt": false
   },
   "source": [
    "\n",
    "After we have no seen some general statistics of the article and the views it attracted, we will go on to take a look at what specific kinds of changes by which editors it was subject to over time. \n",
    "\n",
    "Click below to go to the next notebook. You can later come back to this notebook and simply enter another article name to start the process over with that new article. "
   ]
  },
  {
   "cell_type": "code",
   "execution_count": null,
   "metadata": {
    "hideCode": false,
    "hideOutput": false,
    "hidePrompt": false,
    "hide_input": false
   },
   "outputs": [],
   "source": [
    "# from utils.notebooks import get_next_notebook\n",
    "# from IPython.display import HTML\n",
    "# display(HTML(f'<a href=\"{get_next_notebook()}\" target=\"_blank\">Go to next workbook</a>'))"
   ]
  },
  {
   "cell_type": "code",
   "execution_count": null,
   "metadata": {
    "hide_input": false
   },
   "outputs": [],
   "source": [
    "# Run turorial cells and hide their outputs by default.\n",
    "display(Javascript('Jupyter.notebook.execute_cells([7])'))\n",
    "\n",
    "#hide_cell(hide_code=False)\n",
    "hide_toggle()"
   ]
  }
 ],
 "metadata": {
  "hide_code_all_hidden": false,
  "hide_input": false,
  "kernel_info": {
   "name": "python3"
  },
  "kernelspec": {
   "display_name": "Python 3",
   "language": "python",
   "name": "python3"
  },
  "language_info": {
   "codemirror_mode": {
    "name": "ipython",
    "version": 3
   },
   "file_extension": ".py",
   "mimetype": "text/x-python",
   "name": "python",
   "nbconvert_exporter": "python",
   "pygments_lexer": "ipython3",
   "version": "3.7.3"
  },
  "nteract": {
   "version": "0.14.4"
  }
 },
 "nbformat": 4,
 "nbformat_minor": 2
}
